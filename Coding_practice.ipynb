{
  "cells": [
    {
      "cell_type": "markdown",
      "metadata": {
        "id": "view-in-github",
        "colab_type": "text"
      },
      "source": [
        "<a href=\"https://colab.research.google.com/github/Quintinlf/Quintinlf/blob/main/Coding_practice.ipynb\" target=\"_parent\"><img src=\"https://colab.research.google.com/assets/colab-badge.svg\" alt=\"Open In Colab\"/></a>"
      ]
    },
    {
      "cell_type": "markdown",
      "metadata": {
        "id": "ImY_udUlvJdu"
      },
      "source": [
        "# Data Analysis"
      ]
    },
    {
      "cell_type": "code",
      "execution_count": null,
      "metadata": {
        "id": "eDmg14kU5Ohh"
      },
      "outputs": [],
      "source": [
        "#Rn I am watching free coding shit. After I finish it I want to either choose to enroll (zerotopandas.com)\n",
        "#Regardless I want to ask chatgpt ideas on projects to make based off of it to add to my github account\n",
        "#I will do the course here in colab and do the actual project in visual studio's with git."
      ]
    },
    {
      "cell_type": "markdown",
      "metadata": {
        "id": "AAhHWA2q_Ifd"
      },
      "source": [
        "## Assignment 1"
      ]
    },
    {
      "cell_type": "code",
      "execution_count": null,
      "metadata": {
        "id": "WFct0AUp-IzZ"
      },
      "outputs": [],
      "source": [
        "name = \"quintin\""
      ]
    },
    {
      "cell_type": "code",
      "execution_count": null,
      "metadata": {
        "id": "NvgScZ5f-i3z"
      },
      "outputs": [],
      "source": [
        "age = 20"
      ]
    },
    {
      "cell_type": "code",
      "execution_count": null,
      "metadata": {
        "id": "Q226GWnp-pfv"
      },
      "outputs": [],
      "source": [
        "has_android_phone = \"has android\""
      ]
    },
    {
      "cell_type": "code",
      "execution_count": null,
      "metadata": {
        "colab": {
          "base_uri": "https://localhost:8080/"
        },
        "id": "MWE08psd-rUN",
        "outputId": "bf0c71ac-8832-49df-d092-61bfff7ce08f"
      },
      "outputs": [
        {
          "data": {
            "text/plain": [
              "('quintin', 20, 'has android')"
            ]
          },
          "execution_count": 26,
          "metadata": {},
          "output_type": "execute_result"
        }
      ],
      "source": [
        "name, age, has_android_phone"
      ]
    },
    {
      "cell_type": "markdown",
      "metadata": {
        "id": "Rz4fkizO-wkt"
      },
      "source": [
        "**Q4: Create a dictionary `person` with keys `\"Name\"`, `\"Age\"`, `\"HasAndroidPhone\"` and values using the variables defined above.**"
      ]
    },
    {
      "cell_type": "code",
      "execution_count": null,
      "metadata": {
        "id": "mbb590PB-wHE"
      },
      "outputs": [],
      "source": [
        "#This is what a dictionary is, so now we know\n",
        "person = {\n",
        "    \"Name\": name,\n",
        "    \"Age\": age,\n",
        "    \"Has an Android\": has_android_phone\n",
        "}"
      ]
    },
    {
      "cell_type": "markdown",
      "metadata": {
        "id": "z7RQbqtB-3P5"
      },
      "source": [
        "Let's use the `person` dictionary to print a nice message."
      ]
    },
    {
      "cell_type": "code",
      "execution_count": null,
      "metadata": {
        "colab": {
          "base_uri": "https://localhost:8080/"
        },
        "id": "XPbZUXEf-v5e",
        "outputId": "e86f73dd-bbad-4736-ba81-49885792eb6e"
      },
      "outputs": [
        {
          "name": "stdout",
          "output_type": "stream",
          "text": [
            "quintin is aged 20, and owns an Android phone.\n"
          ]
        }
      ],
      "source": [
        "#Notice here how we inserted the variables into the print statement, in a similar, yet different way than mine\n",
        "print(\"{} is aged {}, and owns an {}.\".format(\n",
        "    person[\"Name\"],\n",
        "    person[\"Age\"],\n",
        "    \"Android phone\" if person[\"Has an Android\"] else \"iPhone\"\n",
        "))"
      ]
    },
    {
      "cell_type": "markdown",
      "metadata": {
        "id": "k7SpyEr4--cO"
      },
      "source": [
        "**Q4b (Optional): Use a `for` loop to display the `type` of each value stored against each key in `person`.**\n",
        "\n",
        "Here's the expected output for the key `\"Name\"`:\n",
        "\n",
        "```\n",
        "The key \"Name\" has the value \"Derek\" of the type \"<class 'str'>\"\n",
        "```"
      ]
    },
    {
      "cell_type": "code",
      "execution_count": null,
      "metadata": {
        "colab": {
          "base_uri": "https://localhost:8080/"
        },
        "id": "5SoGjy2h--Ch",
        "outputId": "ec53056b-55fe-4264-e7a4-1b5a7e41e046"
      },
      "outputs": [
        {
          "name": "stdout",
          "output_type": "stream",
          "text": [
            "key: Name, value: quintin\n",
            "key: Age, value: 20\n",
            "key: Has an Android, value: has android\n"
          ]
        }
      ],
      "source": [
        "# So basically what this does is take the value that we defined in the dictionary and then it brings up the values assigned to the variables\n",
        "for key, value in person.items():\n",
        "  print(f\"key: {key}, value: {value}\")"
      ]
    },
    {
      "cell_type": "markdown",
      "metadata": {
        "id": "13E7M8RI_SPX"
      },
      "source": [
        "## Problem 2 - Working with Lists\n",
        "\n",
        "**Q5: Create a list containing the following 3 elements:**\n",
        "\n",
        "* your favorite color\n",
        "* the number of pets you have\n",
        "* a boolean value describing whether you have previous programming experience"
      ]
    },
    {
      "cell_type": "code",
      "execution_count": null,
      "metadata": {
        "id": "GYNK9dJ4_TlJ"
      },
      "outputs": [],
      "source": [
        "my_list = [\"black\", 1, True]"
      ]
    },
    {
      "cell_type": "code",
      "execution_count": null,
      "metadata": {
        "colab": {
          "base_uri": "https://localhost:8080/"
        },
        "id": "ypEj3cc__Xb3",
        "outputId": "2b488994-61a2-4b43-88b0-986254520380"
      },
      "outputs": [
        {
          "data": {
            "text/plain": [
              "['black', 1, True]"
            ]
          },
          "execution_count": 31,
          "metadata": {},
          "output_type": "execute_result"
        }
      ],
      "source": [
        "my_list"
      ]
    },
    {
      "cell_type": "markdown",
      "metadata": {
        "id": "Dl3Dy1DQ_Zyx"
      },
      "source": [
        "**Q6: Complete the following `print` and `if` statements by accessing the appropriate elements from `my_list`.**\n",
        "\n",
        "*Hint*: Use the list indexing notation `[]`."
      ]
    },
    {
      "cell_type": "code",
      "execution_count": null,
      "metadata": {
        "colab": {
          "base_uri": "https://localhost:8080/"
        },
        "id": "S6IHvgJn_ZDC",
        "outputId": "6e82ec41-a75b-4e17-eddc-6340dfd19753"
      },
      "outputs": [
        {
          "name": "stdout",
          "output_type": "stream",
          "text": [
            "My favorite color is black\n"
          ]
        }
      ],
      "source": [
        "#BAsically this shows that when you have a list you can use index's to reference\n",
        "# them, starting from 0, so black = 0, but if in my_list I made 1 the first thing,\n",
        "# then 1 would be index 0\n",
        "print('My favorite color is', my_list[0])"
      ]
    },
    {
      "cell_type": "code",
      "execution_count": null,
      "metadata": {
        "colab": {
          "base_uri": "https://localhost:8080/"
        },
        "id": "WhPlzlJo_k31",
        "outputId": "8c4d8f10-6077-4ecc-d5e9-d5405fa3cde6"
      },
      "outputs": [
        {
          "name": "stdout",
          "output_type": "stream",
          "text": [
            "I have 1 pet(s).\n"
          ]
        }
      ],
      "source": [
        "#basically you use format when you insert it not directly, if that makes sense?\n",
        "print('I have {} pet(s).'.format(my_list[1]))"
      ]
    },
    {
      "cell_type": "code",
      "execution_count": null,
      "metadata": {
        "colab": {
          "base_uri": "https://localhost:8080/"
        },
        "id": "soD7OYHf_o7v",
        "outputId": "29d21d90-8d7b-4a3f-d802-8e8de4eb0d9e"
      },
      "outputs": [
        {
          "name": "stdout",
          "output_type": "stream",
          "text": [
            "I have previous programming experience\n"
          ]
        }
      ],
      "source": [
        "if my_list[2] == True :\n",
        "    print(\"I have previous programming experience\")\n",
        "else:\n",
        "    print(\"I do not have previous programming experience\")"
      ]
    },
    {
      "cell_type": "markdown",
      "metadata": {
        "id": "lhhV2a2y_rQS"
      },
      "source": [
        "**Q7: Add your favorite single digit number to the end of the list using the appropriate list method.**"
      ]
    },
    {
      "cell_type": "code",
      "execution_count": null,
      "metadata": {
        "colab": {
          "base_uri": "https://localhost:8080/"
        },
        "id": "AozNTzLI_sLw",
        "outputId": "916a0a81-49a3-42b5-f40f-7098216259c8"
      },
      "outputs": [
        {
          "data": {
            "text/plain": [
              "['black', 1, True, 7]"
            ]
          },
          "execution_count": 35,
          "metadata": {},
          "output_type": "execute_result"
        }
      ],
      "source": [
        "#append adds things to an already established list\n",
        "my_list.append(7)\n",
        "my_list"
      ]
    },
    {
      "cell_type": "markdown",
      "metadata": {
        "id": "nUm3dpF__wr0"
      },
      "source": [
        "**Q8: Remove the first element of the list, using the appropriate list method.**\n",
        "\n",
        "*Hint*: Check out methods of list here: https://www.w3schools.com/python/python_ref_list.asp"
      ]
    },
    {
      "cell_type": "code",
      "execution_count": null,
      "metadata": {
        "colab": {
          "base_uri": "https://localhost:8080/"
        },
        "id": "BXmJi18V_y-L",
        "outputId": "15a756d2-ac6e-4a26-f3b7-7b8ed944642a"
      },
      "outputs": [
        {
          "data": {
            "text/plain": [
              "[1, True, 7]"
            ]
          },
          "execution_count": 36,
          "metadata": {},
          "output_type": "execute_result"
        }
      ],
      "source": [
        "#this is how you get rid of shit in an already established list, but you can also do .remove(black) instead of .pop(0)\n",
        "my_list.pop(0)\n",
        "my_list"
      ]
    },
    {
      "cell_type": "markdown",
      "metadata": {
        "id": "o9yPhTmQ_35e"
      },
      "source": [
        "**Q9: Complete the `print` statement below to display the number of elements in `my_list`.**"
      ]
    },
    {
      "cell_type": "code",
      "execution_count": null,
      "metadata": {
        "colab": {
          "base_uri": "https://localhost:8080/"
        },
        "id": "M6jYMESt_448",
        "outputId": "b3cb1387-8dc8-4d26-b33c-df7d3e76c50b"
      },
      "outputs": [
        {
          "name": "stdout",
          "output_type": "stream",
          "text": [
            "The list has 3 elements.\n"
          ]
        }
      ],
      "source": [
        "#You already know len, but it basically shows how many elements are in a list\n",
        "print(\"The list has {} elements.\".format(len(my_list)))"
      ]
    },
    {
      "cell_type": "markdown",
      "metadata": {
        "id": "-aJKtFEn_7CY"
      },
      "source": [
        "## Problem 3 - Conditions and loops\n",
        "\n",
        "**Q10: Calculate and display the sum of all the numbers divisible by 7 between 18 and 534 i.e. `21+28+35+...+525+532`**.\n",
        "\n",
        "*Hint*: One way to do this is to loop over a `range` using `for` and use an `if` statement inside it."
      ]
    },
    {
      "cell_type": "code",
      "execution_count": null,
      "metadata": {
        "id": "_qzL0mjA_-ds"
      },
      "outputs": [],
      "source": [
        "# store the final answer in this variable\n",
        "sum_of_numbers = 0\n",
        "\n",
        "# perform the calculation here\n",
        "#What this does is takes the numbers within the range, sees how many of them are divisibile by 7, with a remainder of 0, then adds them all to the sum of number variable\n",
        "for num in range(18, 534):\n",
        "  if num % 7 == 0:\n",
        "    sum_of_numbers += num"
      ]
    },
    {
      "cell_type": "code",
      "execution_count": null,
      "metadata": {
        "colab": {
          "base_uri": "https://localhost:8080/"
        },
        "id": "kC7dyDMxADj8",
        "outputId": "ee50a776-0f3c-4f64-8dd5-cc55a7f2aadc"
      },
      "outputs": [
        {
          "name": "stdout",
          "output_type": "stream",
          "text": [
            "The sum of all the numbers divisible by 7 between 18 and 534 is 20461\n"
          ]
        }
      ],
      "source": [
        "print('The sum of all the numbers divisible by 7 between 18 and 534 is', sum_of_numbers)"
      ]
    },
    {
      "cell_type": "markdown",
      "metadata": {
        "id": "0oUE5nOfAIPq"
      },
      "source": [
        "## Problem 4 - Flying to the Bahamas\n",
        "\n",
        "**Q11: A travel company wants to fly a plane to the Bahamas. Flying the plane costs 5000 dollars. So far, 29 people have signed up for the trip. If the company charges 200 dollars per ticket, what is the profit made by the company?**\n",
        "\n",
        "Fill in values or arithmetic expressions for the variables below."
      ]
    },
    {
      "cell_type": "code",
      "execution_count": null,
      "metadata": {
        "id": "gnt_zAdtAGbo"
      },
      "outputs": [],
      "source": [
        "cost_of_flying_plane = 5000"
      ]
    },
    {
      "cell_type": "code",
      "execution_count": null,
      "metadata": {
        "id": "wl-ZmLLJAMaI"
      },
      "outputs": [],
      "source": [
        "number_of_passengers = 29"
      ]
    },
    {
      "cell_type": "code",
      "execution_count": null,
      "metadata": {
        "id": "Oofy5jUiAMLO"
      },
      "outputs": [],
      "source": [
        "price_of_ticket = 200"
      ]
    },
    {
      "cell_type": "code",
      "execution_count": null,
      "metadata": {
        "id": "sVhXW7gKAMBD"
      },
      "outputs": [],
      "source": [
        "profit = (price_of_ticket * number_of_passengers) - cost_of_flying_plane"
      ]
    },
    {
      "cell_type": "code",
      "execution_count": null,
      "metadata": {
        "colab": {
          "base_uri": "https://localhost:8080/"
        },
        "id": "fvQxd3jxAL2S",
        "outputId": "5a305d14-70ac-4e8a-c883-cbeadf448744"
      },
      "outputs": [
        {
          "name": "stdout",
          "output_type": "stream",
          "text": [
            "The company makes of a profit of 800 dollars\n"
          ]
        }
      ],
      "source": [
        "print('The company makes of a profit of {} dollars'.format(profit))"
      ]
    },
    {
      "cell_type": "markdown",
      "metadata": {
        "id": "0b7tQlK0AUct"
      },
      "source": [
        "**Q11b (Optional): Out of the 29 people who took the flight, only 12 buy tickets to return from the Bahamas on the same plane. If the flying the plane back also costs 5000 dollars, and does the company make an overall profit or loss? The company charges the same fee of 200 dollars per ticket for the return flight.**\n",
        "\n",
        "Use an `if` statement to display the result."
      ]
    },
    {
      "cell_type": "code",
      "execution_count": null,
      "metadata": {
        "colab": {
          "base_uri": "https://localhost:8080/"
        },
        "id": "sJPdt4JIAYiR",
        "outputId": "c082e945-8d95-4056-fae7-75d679078b49"
      },
      "outputs": [
        {
          "name": "stdout",
          "output_type": "stream",
          "text": [
            "The company makes an overall profit of 800 dollars\n"
          ]
        }
      ],
      "source": [
        "# this is optional\n",
        "if profit >= 0:\n",
        "    print(\"The company makes an overall profit of {} dollars\".format(profit))\n",
        "else:\n",
        "    print(\"The company makes an overall loss of {} dollars\".format(profit))"
      ]
    },
    {
      "cell_type": "markdown",
      "metadata": {
        "id": "6dhjxSi8AcAC"
      },
      "source": [
        "## Problem 5 - Twitter Sentiment Analysis\n",
        "\n",
        "Are your ready to perform some *Data Analysis with Python*? In this problem, we'll analyze some fictional tweets and find out whether the overall sentiment of Twitter users is happy or sad. This is a simplified version of an important real world problem called *sentiment analysis*.\n",
        "\n",
        "Before we begin, we need a list of tweets to analyze. We're picking a small number of tweets here, but the exact same analysis can also be done for thousands, or even millions of tweets. The collection of data that we perform analysis on is often called a *dataset*."
      ]
    },
    {
      "cell_type": "code",
      "execution_count": null,
      "metadata": {
        "id": "XAOE19EFAeBr"
      },
      "outputs": [],
      "source": [
        "tweets = [\n",
        "    \"Wow, what a great day today!! #sunshine\",\n",
        "    \"I feel sad about the things going on around us. #covid19\",\n",
        "    \"I'm really excited to learn Python with @JovianML #zerotopandas\",\n",
        "    \"This is a really nice song. #linkinpark\",\n",
        "    \"The python programming language is useful for data science\",\n",
        "    \"Why do bad things happen to me?\",\n",
        "    \"Apple announces the release of the new iPhone 12. Fans are excited.\",\n",
        "    \"Spent my day with family!! #happy\",\n",
        "    \"Check out my blog post on common string operations in Python. #zerotopandas\",\n",
        "    \"Freecodecamp has great coding tutorials. #skillup\"\n",
        "]"
      ]
    },
    {
      "cell_type": "code",
      "execution_count": null,
      "metadata": {
        "colab": {
          "base_uri": "https://localhost:8080/"
        },
        "id": "q2aLDCapAhp3",
        "outputId": "974a4b6b-89c3-42b1-a7c8-f194e03f71ee"
      },
      "outputs": [
        {
          "name": "stdout",
          "output_type": "stream",
          "text": [
            "10\n"
          ]
        }
      ],
      "source": [
        "number_of_tweets = print(len(tweets))"
      ]
    },
    {
      "cell_type": "markdown",
      "metadata": {
        "id": "0xcPOKJ6AlQa"
      },
      "source": [
        "Let's create two lists of words: `happy_words` and `sad_words`. We will use these to check if a tweet is happy or sad."
      ]
    },
    {
      "cell_type": "code",
      "execution_count": null,
      "metadata": {
        "id": "JOgvnwUPAkFJ"
      },
      "outputs": [],
      "source": [
        "happy_words = ['great', 'excited', 'happy', 'nice', 'wonderful', 'amazing', 'good', 'best']"
      ]
    },
    {
      "cell_type": "code",
      "execution_count": null,
      "metadata": {
        "id": "uqpTZlSaAnh0"
      },
      "outputs": [],
      "source": [
        "sad_words = ['sad', 'bad', 'tragic', 'unhappy', 'worst']"
      ]
    },
    {
      "cell_type": "markdown",
      "metadata": {
        "id": "EC54ZqOyAp8l"
      },
      "source": [
        "To identify whether a tweet is happy, we can simply check if contains any of the words from `happy_words`. Here's an example:"
      ]
    },
    {
      "cell_type": "code",
      "execution_count": null,
      "metadata": {
        "id": "AOMrgJYbAtm_"
      },
      "outputs": [],
      "source": [
        "sample_tweet = tweets[0]"
      ]
    },
    {
      "cell_type": "code",
      "execution_count": null,
      "metadata": {
        "colab": {
          "base_uri": "https://localhost:8080/"
        },
        "id": "6Ene3KzLAu7Z",
        "outputId": "cad8326b-8961-4ca9-855f-c13c878a7bed"
      },
      "outputs": [
        {
          "data": {
            "application/vnd.google.colaboratory.intrinsic+json": {
              "type": "string"
            },
            "text/plain": [
              "'Wow, what a great day today!! #sunshine'"
            ]
          },
          "execution_count": 51,
          "metadata": {},
          "output_type": "execute_result"
        }
      ],
      "source": [
        "sample_tweet"
      ]
    },
    {
      "cell_type": "code",
      "execution_count": null,
      "metadata": {
        "id": "6bwB94PaAweP"
      },
      "outputs": [],
      "source": [
        "is_tweet_happy = False\n",
        "\n",
        "# Get a word from happy_words\n",
        "for word in happy_words:\n",
        "    # Check if the tweet contains the word\n",
        "    if word in sample_tweet:\n",
        "        # Word found! Mark the tweet as happy\n",
        "        is_tweet_happy = True"
      ]
    },
    {
      "cell_type": "markdown",
      "metadata": {
        "id": "W0LD3itpAyXa"
      },
      "source": [
        "Do you understand what we're doing above?\n",
        "\n",
        "> For each word in the list of happy words, we check if is a part of the selected tweet. If the word is indded a part of the tweet, we set the variable `is_tweet_happy` to `True`."
      ]
    },
    {
      "cell_type": "code",
      "execution_count": null,
      "metadata": {
        "id": "F7u-_ea8AzPh"
      },
      "outputs": [],
      "source": [
        "is_tweet_happy = True"
      ]
    },
    {
      "cell_type": "markdown",
      "metadata": {
        "id": "0Ccq3u33A22-"
      },
      "source": [
        "**Q13: Determine the number of tweets in the dataset that can be classified as happy.**\n",
        "\n",
        "*Hint*: You'll need to use a loop inside another loop to do this. Use the code from the example shown above."
      ]
    },
    {
      "cell_type": "code",
      "execution_count": null,
      "metadata": {
        "id": "bxP8Gx3iA3h1"
      },
      "outputs": [],
      "source": [
        "# store the final answer in this variable\n",
        "number_of_happy_tweets = 0\n",
        "# store the final answer in this variable\n",
        "for tweet in tweets:\n",
        "  for word in happy_words:\n",
        "    if word in tweet:\n",
        "      number_of_happy_tweets += 1"
      ]
    },
    {
      "cell_type": "code",
      "execution_count": null,
      "metadata": {
        "colab": {
          "base_uri": "https://localhost:8080/"
        },
        "id": "D5yIj4djA5v5",
        "outputId": "393e0e3a-c82c-4c58-eb13-9465fc296699"
      },
      "outputs": [
        {
          "name": "stdout",
          "output_type": "stream",
          "text": [
            "Number of happy tweets: 6\n"
          ]
        }
      ],
      "source": [
        "print(\"Number of happy tweets:\", number_of_happy_tweets)"
      ]
    },
    {
      "cell_type": "markdown",
      "metadata": {
        "id": "sjmEiLr2A72p"
      },
      "source": [
        "**Q14: What fraction of the total number of tweets are happy?**\n",
        "\n",
        "For example, if 2 out of 10 tweets are happy, then the answer is `2/10` i.e. `0.2`."
      ]
    },
    {
      "cell_type": "code",
      "execution_count": null,
      "metadata": {
        "colab": {
          "base_uri": "https://localhost:8080/"
        },
        "id": "CgL-UwTRA-oR",
        "outputId": "c35906d9-fcff-4798-f19f-2d0ba8680dfb"
      },
      "outputs": [
        {
          "data": {
            "text/plain": [
              "0.6"
            ]
          },
          "execution_count": 56,
          "metadata": {},
          "output_type": "execute_result"
        }
      ],
      "source": [
        "happy_fraction = (number_of_happy_tweets / len(tweets))\n",
        "happy_fraction"
      ]
    },
    {
      "cell_type": "code",
      "execution_count": null,
      "metadata": {
        "id": "AD4vZMkFBAod"
      },
      "outputs": [],
      "source": [
        "#To identify whether a tweet is sad, we can simply check if contains any of the words from `sad_words`.\n",
        "\n",
        "#**Q15: Determine the number of tweets in the dataset that can be classified as sad.**"
      ]
    },
    {
      "cell_type": "markdown",
      "metadata": {
        "id": "S9ZeNbNZBDHr"
      },
      "source": [
        "To identify whether a tweet is sad, we can simply check if contains any of the words from `sad_words`.\n",
        "\n",
        "**Q15: Determine the number of tweets in the dataset that can be classified as sad.**"
      ]
    },
    {
      "cell_type": "code",
      "execution_count": null,
      "metadata": {
        "id": "5HHwMkEoBEwW"
      },
      "outputs": [],
      "source": [
        "# store the final answer in this variable\n",
        "number_of_sad_tweets = 0\n",
        "\n",
        "# perform the calculations here\n",
        "for tweet in tweets:\n",
        "  for word in sad_words:\n",
        "    if word in tweet:\n",
        "      number_of_sad_tweets += 1"
      ]
    },
    {
      "cell_type": "code",
      "execution_count": null,
      "metadata": {
        "colab": {
          "base_uri": "https://localhost:8080/"
        },
        "id": "oROCgrAWBHXv",
        "outputId": "0be8a50d-b28b-4eb5-edc3-271a94bbbcd7"
      },
      "outputs": [
        {
          "name": "stdout",
          "output_type": "stream",
          "text": [
            "Number of sad tweets: 2\n"
          ]
        }
      ],
      "source": [
        "print(\"Number of sad tweets:\", number_of_sad_tweets)"
      ]
    },
    {
      "cell_type": "markdown",
      "metadata": {
        "id": "a4sDauS3BLrl"
      },
      "source": [
        "Great work, even with some basic analysis, we already know a lot about the sentiment of the tweets given to us. Let us now define a metric called \"sentiment score\", to summarize the overall sentiment of the tweets.\n",
        "\n",
        "**Q16b (Optional): Calculate the sentiment score, which is defined as the difference betweek the fraction of happy tweets and the fraction of sad tweets.**"
      ]
    },
    {
      "cell_type": "code",
      "execution_count": null,
      "metadata": {
        "id": "0JbSlKZCBLRO"
      },
      "outputs": [],
      "source": [
        "sentiment_score = happy_fraction - (number_of_sad_tweets / len(tweets))"
      ]
    },
    {
      "cell_type": "code",
      "execution_count": null,
      "metadata": {
        "colab": {
          "base_uri": "https://localhost:8080/"
        },
        "id": "X8vR95ccBO1z",
        "outputId": "7b240fc6-f381-4565-fd3b-f690a2b3c5db"
      },
      "outputs": [
        {
          "name": "stdout",
          "output_type": "stream",
          "text": [
            "The sentiment score for the given tweets is 40.0\n"
          ]
        }
      ],
      "source": [
        "print(\"The sentiment score for the given tweets is\", (sentiment_score * 100) )"
      ]
    },
    {
      "cell_type": "markdown",
      "metadata": {
        "id": "QkJdTKhaBQrL"
      },
      "source": [
        "In a real world scenario, we could calculate & record the sentiment score for all the tweets sent out every day. This information can be used to plot a graph and study the trends in the changing sentiment of the world. The following graph was creating using the Python data visualization library `matplotlib`, which we'll cover later in the course.\n",
        "\n",
        "<img src=\"https://i.imgur.com/6CCIwCb.png\" style=\"width:400px\">\n",
        "\n",
        "What does the sentiment score represent? Based on the value of the sentiment score, can you identify if the overall sentiment of the dataset is happy or sad?\n",
        "\n",
        "**Q16c (Optional): Display whether the overall sentiment of the given dataset of tweets is happy or sad, using the sentiment score.**"
      ]
    },
    {
      "cell_type": "code",
      "execution_count": null,
      "metadata": {
        "colab": {
          "base_uri": "https://localhost:8080/"
        },
        "id": "E6xMsABRBRnB",
        "outputId": "5956f07e-d1b5-40f3-e869-f7df2b034607"
      },
      "outputs": [
        {
          "name": "stdout",
          "output_type": "stream",
          "text": [
            "The overall sentiment is happy\n"
          ]
        }
      ],
      "source": [
        "if sentiment_score > 0:\n",
        "    print(\"The overall sentiment is happy\")\n",
        "else:\n",
        "    print(\"The overall sentiment is sad\")"
      ]
    },
    {
      "cell_type": "markdown",
      "metadata": {
        "id": "KSC7Zq6hBWwF"
      },
      "source": [
        "Finally, it's also important to track how many tweets are neutral i.e. neither happy nor sad. If a large fraction of tweets are marked neutral, maybe we need to improve our lists of happy and sad words.\n",
        "\n",
        "**Q16d (Optional): What is the fraction of tweets that are neutral i.e. neither happy nor sad.**"
      ]
    },
    {
      "cell_type": "code",
      "execution_count": null,
      "metadata": {
        "id": "AFChhQQTBXl_"
      },
      "outputs": [],
      "source": [
        "# store the final answer in this variable\n",
        "number_of_neutral_tweets = 0\n",
        "\n",
        "# perform the calculation here\n",
        "for tweet in tweets:\n",
        "  is_neutral = True\n",
        "\n",
        "  for word in happy_words:\n",
        "    if word in tweet:\n",
        "      is_neutral = False\n",
        "      break\n",
        "  if is_neutral:\n",
        "    for word in sad_words:\n",
        "      if word in tweet:\n",
        "        is_neutral = False\n",
        "  if is_neutral:\n",
        "    number_of_neutral_tweets += 1"
      ]
    },
    {
      "cell_type": "code",
      "execution_count": null,
      "metadata": {
        "id": "hxbRvo7xBZx_"
      },
      "outputs": [],
      "source": [
        "neutral_fraction = number_of_neutral_tweets / len(tweets)"
      ]
    },
    {
      "cell_type": "code",
      "execution_count": null,
      "metadata": {
        "colab": {
          "base_uri": "https://localhost:8080/"
        },
        "id": "TVQgN5OHBbLj",
        "outputId": "c250f039-51a0-4a9b-9a78-2194a957e83f"
      },
      "outputs": [
        {
          "name": "stdout",
          "output_type": "stream",
          "text": [
            "The fraction of neutral tweets is 0.2\n"
          ]
        }
      ],
      "source": [
        "print('The fraction of neutral tweets is', neutral_fraction)"
      ]
    },
    {
      "cell_type": "markdown",
      "metadata": {
        "id": "Sc7u-1OBBdeX"
      },
      "source": [
        "Ponder upon these questions and try some experiments to hone your skills further:\n",
        "\n",
        "* What are the limitations of our approach? When will it go wrong or give incorrect results?\n",
        "* How can we improve our approach to address the limitations?\n",
        "* What are some other questions you would like to ask, given a list of tweets?\n",
        "* Try collecting some real tweets from your Twitter timeline and repeat this analysis. Do the results make sense?\n",
        "\n",
        "**IMPORTANT NOTE**: If you want to try out these experiments, please create a new notebook using the \"New Notebook\" button on your Jovian.ml profile, to avoid making unintended changes to your assignment submission notebook."
      ]
    },
    {
      "cell_type": "markdown",
      "metadata": {
        "id": "jNMg7EPZvXuB"
      },
      "source": []
    },
    {
      "cell_type": "markdown",
      "metadata": {
        "id": "LdCp0d0VOwf9"
      },
      "source": [
        "##Assignment 2"
      ]
    },
    {
      "cell_type": "code",
      "execution_count": null,
      "metadata": {
        "colab": {
          "base_uri": "https://localhost:8080/"
        },
        "id": "Ni7A468z0W2r",
        "outputId": "dd1cc1d6-94b0-46f4-998c-ac259f000903"
      },
      "outputs": [
        {
          "name": "stdout",
          "output_type": "stream",
          "text": [
            "Requirement already satisfied: numpy in /usr/local/lib/python3.11/dist-packages (1.26.4)\n"
          ]
        }
      ],
      "source": [
        "!pip install numpy"
      ]
    },
    {
      "cell_type": "code",
      "execution_count": null,
      "metadata": {
        "id": "QYDkXgEn0cFn"
      },
      "outputs": [],
      "source": [
        "import numpy as np"
      ]
    },
    {
      "cell_type": "markdown",
      "metadata": {
        "id": "A1d5JRY6OzHk"
      },
      "source": [
        "##1. Array Creation\n",
        "\n",
        "Create a 1D NumPy array with values from 1 to 10.\n",
        "Hint: Use np.arange()."
      ]
    },
    {
      "cell_type": "code",
      "execution_count": null,
      "metadata": {
        "colab": {
          "base_uri": "https://localhost:8080/"
        },
        "id": "LUl5s8MtPTg0",
        "outputId": "f6b31dde-da7a-4773-b552-e4f49d50dd1d"
      },
      "outputs": [
        {
          "name": "stdout",
          "output_type": "stream",
          "text": [
            "[ 1  2  3  4  5  6  7  8  9 10]\n"
          ]
        }
      ],
      "source": [
        "#basically what happens here is when you use arange the last number should be one more than the last number you want on the array, this is called exclusive. vs 1 which is inclusive\n",
        "array_1_to_10 = np.arange(1, 11)\n",
        "print(array_1_to_10)"
      ]
    },
    {
      "cell_type": "markdown",
      "metadata": {
        "id": "le229r_zPX6y"
      },
      "source": [
        "Create a 2D array (3 rows, 4 columns) filled with random integers between 10 and 50.\n",
        "Hint: Use np.random.randint()."
      ]
    },
    {
      "cell_type": "code",
      "execution_count": null,
      "metadata": {
        "colab": {
          "base_uri": "https://localhost:8080/"
        },
        "id": "8XHs3kNJPca4",
        "outputId": "65ae1563-cddd-4882-8e45-f974b473c110"
      },
      "outputs": [
        {
          "name": "stdout",
          "output_type": "stream",
          "text": [
            "[[49 40 42 12]\n",
            " [18 45 32 42]\n",
            " [37 10 33 31]]\n"
          ]
        }
      ],
      "source": [
        "# if we were working with decimals we would use .rand() for values from a normal standard distribution we would use randn()\n",
        "#the np.random creates various different tools that you can use, like rand, randn, randint, normal, choice, shuffle\n",
        "#randint stands for random integer, so this basically says to choose random integers from 10-50 in a 3x4 column\n",
        "array_2D = np.random.randint(10, 51, size=(3, 4))\n",
        "print(array_2D)"
      ]
    },
    {
      "cell_type": "markdown",
      "metadata": {
        "id": "KKazuXdJPdYs"
      },
      "source": [
        "Create a 3x3 identity matrix.\n",
        "Hint: Use np.eye()."
      ]
    },
    {
      "cell_type": "code",
      "execution_count": null,
      "metadata": {
        "colab": {
          "base_uri": "https://localhost:8080/"
        },
        "id": "Kr39mzubPhLB",
        "outputId": "18fef9fc-2788-4988-8903-152be33ee00d"
      },
      "outputs": [
        {
          "name": "stdout",
          "output_type": "stream",
          "text": [
            "[[1. 0. 0.]\n",
            " [0. 1. 0.]\n",
            " [0. 0. 1.]]\n"
          ]
        }
      ],
      "source": [
        "#This basically creates a 3 by 3 fuck shit with the number 1 spanning in different places in each array. if you did 4 it would be 4x4. This is for linear algebra\n",
        "# 1 stands for the diagonal values (I assume vetors) while the 0 is all the other possible values\n",
        "array_3_x_3 = np.eye(3)\n",
        "print(array_3_x_3)"
      ]
    },
    {
      "cell_type": "markdown",
      "metadata": {
        "id": "04Z1CvOQPgnl"
      },
      "source": [
        "##2. Array Indexing and Slicing\n",
        "\n",
        "Extract all even numbers from the 1D array you created in Task 1.1."
      ]
    },
    {
      "cell_type": "code",
      "execution_count": null,
      "metadata": {
        "colab": {
          "base_uri": "https://localhost:8080/"
        },
        "id": "-hoEQjahPmkn",
        "outputId": "53af4340-bc13-4860-a4f2-80d949dec8e2"
      },
      "outputs": [
        {
          "name": "stdout",
          "output_type": "stream",
          "text": [
            "original array:  [ 1  2  3  4  5  6  7  8  9 10]\n",
            "even array:  [ 2  4  6  8 10]\n"
          ]
        }
      ],
      "source": [
        "# this is a vectorized operation , that means that it works on the entire list/array all at once.\n",
        "# from that array_1_to_10[array_1_to_10 % 2 == 0] is saying to access array_1_to_10, then within that check the entire array, and collect the values divisible by 2, sans a remainder\n",
        "even_numbers = array_1_to_10[array_1_to_10 % 2 == 0]\n",
        "print(\"original array: \", array_1_to_10)\n",
        "print(\"even array: \", even_numbers)"
      ]
    },
    {
      "cell_type": "markdown",
      "metadata": {
        "id": "NCxY09SDPnFU"
      },
      "source": [
        "From the 2D array in Task 1.2:\n",
        "\n",
        "Extract the second row.\n",
        "\n",
        "\n",
        "\n",
        "Extract all elements in the last column.\n",
        "\n",
        "Extract the subarray containing the first 2 rows and first 3 columns."
      ]
    },
    {
      "cell_type": "code",
      "execution_count": null,
      "metadata": {
        "colab": {
          "base_uri": "https://localhost:8080/"
        },
        "id": "XuWpFxL7P411",
        "outputId": "d1a94850-8c1f-4df7-c4ab-a8068e73c32b"
      },
      "outputs": [
        {
          "name": "stdout",
          "output_type": "stream",
          "text": [
            "second row:  [18 45 32 42]\n",
            "Last Column [12 42 31]\n",
            "Subarray:  [[49 40 42]\n",
            " [18 45 32]]\n"
          ]
        }
      ],
      "source": [
        "#what this does was first print the second row, 1 is the second row, 0 is the first row.\n",
        "#Then it chose a verticle column, -1 is the number of the last one, and the : means to choose it from all 4 rows\n",
        "# The sub array feels odd, but wjat it does is it chooses the first 2 rows and then only keeps 3/4 values from each row.\n",
        "\n",
        "second_row =  array_2D[1]\n",
        "print(\"second row: \", second_row)\n",
        "last_column = array_2D[:, -1]\n",
        "print(\"Last Column\", last_column)\n",
        "subarray = array_2D[:2, :3]\n",
        "print(\"Subarray: \", subarray)"
      ]
    },
    {
      "cell_type": "markdown",
      "metadata": {
        "id": "1stM8Tz8P5bM"
      },
      "source": [
        "Modify the first row of the 2D array (Task 1.2) to be all 99s."
      ]
    },
    {
      "cell_type": "code",
      "execution_count": null,
      "metadata": {
        "colab": {
          "base_uri": "https://localhost:8080/"
        },
        "id": "2QX-4gxOP9GK",
        "outputId": "db9c4eab-9263-4eb5-fd58-65d7dfb0b7cf"
      },
      "outputs": [
        {
          "name": "stdout",
          "output_type": "stream",
          "text": [
            "[[99 99 99 99]\n",
            " [18 45 32 42]\n",
            " [37 10 33 31]]\n"
          ]
        }
      ],
      "source": [
        "#what this does, I feel yk, but just in cas, it takes array 2, the first row is 0, so it takes row 1 of array 2 and manually makes them all equal to 99.\n",
        "array_2D[0] = [99, 99, 99, 99]\n",
        "print(array_2D)"
      ]
    },
    {
      "cell_type": "markdown",
      "metadata": {
        "id": "RTxyKh-HP9v5"
      },
      "source": [
        "##3. Array Operations\n",
        "\n",
        "Create two 1D arrays:\n",
        "\n",
        "a = [1, 2, 3, 4]\n",
        "\n",
        "b = [5, 6, 7, 8]\n",
        "\n",
        "Perform the following:\n",
        "\n",
        "Add a and b.\n",
        "\n",
        "Multiply a and b element-wise.\n",
        "\n",
        "Raise a to the power of 2."
      ]
    },
    {
      "cell_type": "code",
      "execution_count": null,
      "metadata": {
        "colab": {
          "base_uri": "https://localhost:8080/"
        },
        "id": "tLw508HWQD57",
        "outputId": "3f432c4c-1968-410d-c2d0-1ef6f2a40f78"
      },
      "outputs": [
        {
          "name": "stdout",
          "output_type": "stream",
          "text": [
            "Added Array:  [ 6  8 10 12]\n",
            "Multiplied Array:  [ 5 12 21 32]\n",
            "A raised:  [ 1  4  9 16]\n"
          ]
        }
      ],
      "source": [
        "a = np.array([1, 2, 3, 4])\n",
        "b = np.array([5, 6, 7, 8])\n",
        "added_array = (a + b)\n",
        "multiplied_array = (a * b)\n",
        "a_raised = a ** 2\n",
        "print(\"Added Array: \", added_array)\n",
        "print(\"Multiplied Array: \", multiplied_array)\n",
        "print(\"A raised: \", a_raised)"
      ]
    },
    {
      "cell_type": "markdown",
      "metadata": {
        "id": "jTIC7sYlQDam"
      },
      "source": [
        "Compute the dot product of a and b.\n",
        "Hint: Use np.dot()."
      ]
    },
    {
      "cell_type": "code",
      "execution_count": null,
      "metadata": {
        "colab": {
          "base_uri": "https://localhost:8080/"
        },
        "id": "jHZo4O6NQbBd",
        "outputId": "68c2d521-86fc-400b-a427-3ef347f3dc2d"
      },
      "outputs": [
        {
          "name": "stdout",
          "output_type": "stream",
          "text": [
            "Dot Product:  70\n"
          ]
        }
      ],
      "source": [
        "#what this basically does is (a1 * b1) + (a2 * b2).... I will likely be using this in my Q.M. work\n",
        "dot_product = np.dot(a, b)\n",
        "print(\"Dot Product: \", dot_product)"
      ]
    },
    {
      "cell_type": "markdown",
      "metadata": {
        "id": "cMlhTqiKQblY"
      },
      "source": [
        "##4. Broadcasting\n",
        "\n",
        "Create a 3x3 array with values from 1 to 9.\n",
        "Hint: Use np.arange() and reshape()."
      ]
    },
    {
      "cell_type": "code",
      "execution_count": null,
      "metadata": {
        "colab": {
          "base_uri": "https://localhost:8080/"
        },
        "id": "a17174AWQtm-",
        "outputId": "7e3ba04b-be1d-4cb6-da8d-77bf28ca5c4d"
      },
      "outputs": [
        {
          "name": "stdout",
          "output_type": "stream",
          "text": [
            "broadcast array:  [1 2 3 4 5 6 7 8 9]\n",
            "3x3 array:  [[1 2 3]\n",
            " [4 5 6]\n",
            " [7 8 9]]\n"
          ]
        }
      ],
      "source": [
        "#what you have to do is create an array with arrange, then use the variable name.reshape(3, 3)\n",
        "broadcast_array = np.arange(1, 10)\n",
        "three_by_three_array = broadcast_array.reshape(3, 3)\n",
        "print(\"broadcast array: \", broadcast_array)\n",
        "print(\"3x3 array: \", three_by_three_array)"
      ]
    },
    {
      "cell_type": "markdown",
      "metadata": {
        "id": "SWMIDrv8QuIl"
      },
      "source": [
        "Add 10 to every element in the array using broadcasting."
      ]
    },
    {
      "cell_type": "code",
      "execution_count": null,
      "metadata": {
        "colab": {
          "base_uri": "https://localhost:8080/"
        },
        "id": "JsSNtHQAQxL5",
        "outputId": "a2e18213-93a7-46ea-9b9b-049c1147798e"
      },
      "outputs": [
        {
          "name": "stdout",
          "output_type": "stream",
          "text": [
            "Ten Plus Array:  [[11 12 13]\n",
            " [14 15 16]\n",
            " [17 18 19]]\n"
          ]
        }
      ],
      "source": [
        "#broadcasting is just adding or subtracting to an already established array, notice how each one has +10 to it\n",
        "ten_plus_array = three_by_three_array + 10\n",
        "print(\"Ten Plus Array: \", ten_plus_array)"
      ]
    },
    {
      "cell_type": "markdown",
      "metadata": {
        "id": "4G3BIehqQxz-"
      },
      "source": [
        "Multiply each row of the array by [1, 2, 3] using broadcasting."
      ]
    },
    {
      "cell_type": "code",
      "execution_count": null,
      "metadata": {
        "colab": {
          "base_uri": "https://localhost:8080/"
        },
        "id": "P-X2cltVQ06a",
        "outputId": "0e633339-d86b-4644-c6b7-d8431a54b098"
      },
      "outputs": [
        {
          "name": "stdout",
          "output_type": "stream",
          "text": [
            "Times one:  [1 2 3]\n",
            "Times two:  [ 8 10 12]\n",
            "times three:  [21 24 27]\n"
          ]
        }
      ],
      "source": [
        "multiply_one = three_by_three_array[0] * 1\n",
        "multiply_two = three_by_three_array[1] * 2\n",
        "multiply_three = three_by_three_array[2] * 3\n",
        "\n",
        "print(\"Times one: \", multiply_one)\n",
        "print(\"Times two: \", multiply_two)\n",
        "print(\"times three: \", multiply_three)"
      ]
    },
    {
      "cell_type": "markdown",
      "metadata": {
        "id": "sEUD8A9wQ1j-"
      },
      "source": [
        "##5. Mathematical and Statistical Functions\n",
        "\n",
        "For the array [3, 6, 9, 12, 15],\n",
        "\n",
        " calculate:\n",
        "The sum of all elements.\n",
        "\n",
        "The mean and standard deviation.\n",
        "\n",
        "The maximum and minimum values, and their indices."
      ]
    },
    {
      "cell_type": "code",
      "execution_count": null,
      "metadata": {
        "colab": {
          "base_uri": "https://localhost:8080/"
        },
        "id": "uLPyU4EhQ95I",
        "outputId": "02f13cc4-f718-4127-9f69-9b13025ff1cf"
      },
      "outputs": [
        {
          "name": "stdout",
          "output_type": "stream",
          "text": [
            "array:  [ 3  6  9 12 15]\n",
            "mean:  9.0\n",
            "deviation:  4.242640687119285\n",
            "max:  15\n",
            "min 3\n",
            "min index:  0\n",
            "max index:  4\n",
            "sum:  45\n"
          ]
        }
      ],
      "source": [
        "#yk how to do most of this tbh, the only new thing was the index, the np.argmax/min. it shows where the min and max value are in the the array.\n",
        "#ex the minimum value is the 0th value in the array, the max is the 4th value, etc.\n",
        "\n",
        "array = np.arange(1, 6)\n",
        "math_stats_array = array * 3\n",
        "mean = np.mean(math_stats_array)\n",
        "standard_dev = np.std(math_stats_array)\n",
        "sum = np.sum(math_stats_array)\n",
        "min = np.min(math_stats_array)\n",
        "max = np.max(math_stats_array)\n",
        "min_index = np.argmin(math_stats_array)\n",
        "max_index = np.argmax(math_stats_array)\n",
        "\n",
        "print(\"array: \", math_stats_array)\n",
        "print(\"mean: \", mean)\n",
        "print(\"deviation: \", standard_dev)\n",
        "print(\"max: \", max)\n",
        "print(\"min\", min)\n",
        "print(\"min index: \", min_index)\n",
        "print(\"max index: \", max_index)\n",
        "print(\"sum: \", sum)"
      ]
    },
    {
      "cell_type": "markdown",
      "metadata": {
        "id": "aIe6H3_vQ-s-"
      },
      "source": [
        "For a 4x4 array filled with random integers between 1 and 100, calculate:\n",
        "\n",
        "The sum of each row and each column.\n",
        "\n",
        "The overall mean of the array."
      ]
    },
    {
      "cell_type": "code",
      "execution_count": null,
      "metadata": {
        "colab": {
          "base_uri": "https://localhost:8080/"
        },
        "id": "Q9Az_9bnRBZ2",
        "outputId": "50180203-21fa-43fb-c918-653e14dcde11"
      },
      "outputs": [
        {
          "name": "stdout",
          "output_type": "stream",
          "text": [
            "array:  [[90 51 37 80]\n",
            " [41 65 78 94]\n",
            " [59 13 24 33]\n",
            " [47 32 48 69]]\n",
            "sum of row: [258 278 129 196]\n",
            "sum of columns:  [237 161 187 276]\n",
            "mean of array:  53.8125\n"
          ]
        }
      ],
      "source": [
        "# so what happens here is we get the array, we know how to do that. a row is horizontal, a column is verticle\n",
        "#the 0 axis is a column, a 1 axis is a row\n",
        "array = np.random.randint(1, 101, size=(4, 4))\n",
        "sum_of_rows = np.sum(array, axis= 1)\n",
        "sum_of_columns = np.sum(array, axis= 0)\n",
        "mean_of_array = np.mean(array)\n",
        "\n",
        "print(\"array: \", array)\n",
        "print(\"sum of row:\", sum_of_rows)\n",
        "print(\"sum of columns: \", sum_of_columns)\n",
        "print(\"mean of array: \", mean_of_array)"
      ]
    },
    {
      "cell_type": "markdown",
      "metadata": {
        "id": "6uqPIwxlRB9q"
      },
      "source": [
        "##6. Logical Operations\n",
        "\n",
        "Create an array [1, 3, 5, 7, 9, 11, 13]. Check which elements are greater than 5.\n",
        "Hint: Use a comparison operator."
      ]
    },
    {
      "cell_type": "code",
      "execution_count": null,
      "metadata": {
        "colab": {
          "base_uri": "https://localhost:8080/"
        },
        "id": "3B0UQF60RI99",
        "outputId": "56943323-4000-43d8-bf09-99cc9420bb40"
      },
      "outputs": [
        {
          "name": "stdout",
          "output_type": "stream",
          "text": [
            "[ 7  9 11 13]\n"
          ]
        }
      ],
      "source": [
        "#apperantly you can extract the odd values by doing a ,2\n",
        "array = np.arange(1, 14, 2)\n",
        "greater_than_five = array[array > 5]\n",
        "print(greater_than_five)"
      ]
    },
    {
      "cell_type": "markdown",
      "metadata": {
        "id": "5RDg526WRJXK"
      },
      "source": [
        "Count how many elements are greater than 5 in the array above."
      ]
    },
    {
      "cell_type": "code",
      "execution_count": null,
      "metadata": {
        "colab": {
          "base_uri": "https://localhost:8080/"
        },
        "id": "Pb0syMjpRNOr",
        "outputId": "fa71150d-7006-49a9-dd18-99870ce0da3d"
      },
      "outputs": [
        {
          "data": {
            "text/plain": [
              "4"
            ]
          },
          "execution_count": 82,
          "metadata": {},
          "output_type": "execute_result"
        }
      ],
      "source": [
        "len(greater_than_five)"
      ]
    },
    {
      "cell_type": "markdown",
      "metadata": {
        "id": "MfG5bMA6RNvE"
      },
      "source": [
        "Replace all odd numbers in the array [1, 2, 3, 4, 5, 6] with -1."
      ]
    },
    {
      "cell_type": "code",
      "execution_count": null,
      "metadata": {
        "colab": {
          "base_uri": "https://localhost:8080/"
        },
        "id": "wNp5jEAbRRIW",
        "outputId": "d3510c0a-f194-4915-bf23-3231554ec6aa"
      },
      "outputs": [
        {
          "name": "stdout",
          "output_type": "stream",
          "text": [
            "[-1 -1 -1 -1 -1 -1 -1]\n"
          ]
        }
      ],
      "source": [
        "array[array % 2 != 0] = -1\n",
        "print(array)"
      ]
    },
    {
      "cell_type": "markdown",
      "metadata": {
        "id": "rzh9RAnURRv_"
      },
      "source": [
        "##7. Reshaping and Stacking\n",
        "\n",
        "Reshape the 1D array\n",
        "[1, 2, 3, 4, 5, 6, 7, 8] into a 2x4 matrix."
      ]
    },
    {
      "cell_type": "code",
      "execution_count": null,
      "metadata": {
        "colab": {
          "base_uri": "https://localhost:8080/"
        },
        "id": "q3BL7-5dRX56",
        "outputId": "0aa80e3b-a194-4fbf-a7ad-dce8dc3eb829"
      },
      "outputs": [
        {
          "name": "stdout",
          "output_type": "stream",
          "text": [
            "[[1 2 3 4]\n",
            " [5 6 7 8]]\n"
          ]
        }
      ],
      "source": [
        "#here we get the numbers 1-8, then 2 is verticle and 4 is horozontal\n",
        "array = np.arange(1, 9)\n",
        "array_two_four = array.reshape(2, 4)\n",
        "print(array_two_four)"
      ]
    },
    {
      "cell_type": "markdown",
      "metadata": {
        "id": "zDwtsvFfRYZA"
      },
      "source": [
        "Create two arrays:\n",
        "\n",
        "c = [[1, 2], [3, 4]]\n",
        "\n",
        "d = [[5, 6], [7, 8]]\n",
        "\n",
        "Perform the following:\n",
        "\n",
        "Stack c and d vertically.\n",
        "\n",
        "Stack c and d horizontally."
      ]
    },
    {
      "cell_type": "code",
      "execution_count": null,
      "metadata": {
        "colab": {
          "base_uri": "https://localhost:8080/"
        },
        "id": "JrsVoAeoRhm7",
        "outputId": "071a7956-ad91-45e4-8f06-e53c9ef77bef"
      },
      "outputs": [
        {
          "name": "stdout",
          "output_type": "stream",
          "text": [
            "verticle stack:  [[1 2]\n",
            " [3 4]\n",
            " [5 6]\n",
            " [7 8]]\n",
            "horizontal stack:  [[1 2 5 6]\n",
            " [3 4 7 8]]\n"
          ]
        }
      ],
      "source": [
        "#i actually cant rationalize this in a simple way, but take this in tbh.\n",
        "c = np.array([[1, 2], [3, 4]])\n",
        "d = np.array([[5, 6], [7, 8]])\n",
        "verticle_stack = np.vstack((c, d))\n",
        "print(\"verticle stack: \", verticle_stack)\n",
        "horizontal_stack = np.hstack((c, d))\n",
        "print(\"horizontal stack: \", horizontal_stack)"
      ]
    },
    {
      "cell_type": "markdown",
      "metadata": {
        "id": "-MC3aJmHRoMp"
      },
      "source": [
        "##8. Bonus Challenge\n",
        "\n",
        "Create a 5x5 array filled with random integers between 0 and 20."
      ]
    },
    {
      "cell_type": "code",
      "execution_count": null,
      "metadata": {
        "colab": {
          "base_uri": "https://localhost:8080/"
        },
        "id": "UYWpv9D1RrZd",
        "outputId": "c6dde288-4c0c-436e-f77a-6e187ff93cd1"
      },
      "outputs": [
        {
          "name": "stdout",
          "output_type": "stream",
          "text": [
            "array:  [[11  4 20 17 17]\n",
            " [16 12 10 18 18]\n",
            " [16 16  7  7  7]\n",
            " [ 8 16 14 13 13]\n",
            " [ 7  3 18 15 10]]\n"
          ]
        }
      ],
      "source": [
        "array = np.random.randint(0, 21, size=(5, 5))\n",
        "print(\"array: \", array)"
      ]
    },
    {
      "cell_type": "markdown",
      "metadata": {
        "id": "iNuGlvMXovK1"
      },
      "source": [
        "Replace all values less than 10 with 0, and all values greater than or equal to 10 with 1.\n",
        "\n",
        "\n",
        "Hint: Use logical operations and broadcasting."
      ]
    },
    {
      "cell_type": "code",
      "execution_count": null,
      "metadata": {
        "colab": {
          "base_uri": "https://localhost:8080/"
        },
        "id": "Vdo4B5cgowDy",
        "outputId": "24a1b0cc-d227-4123-f976-26e859f758a1"
      },
      "outputs": [
        {
          "name": "stdout",
          "output_type": "stream",
          "text": [
            "modified array:  [[1 0 1 1 1]\n",
            " [1 1 1 1 1]\n",
            " [1 1 0 0 0]\n",
            " [0 1 1 1 1]\n",
            " [0 0 1 1 1]]\n"
          ]
        }
      ],
      "source": [
        "#so this is kinda weird, we are saying if the array is less than (<) 10 then replace it (,) with 0, otherwise (,) replace it with one\n",
        "different_array = np.where(array < 10, 0, 1)\n",
        "print(\"modified array: \", different_array)"
      ]
    },
    {
      "cell_type": "markdown",
      "metadata": {
        "id": "ck_S7TUcRwKG"
      },
      "source": [
        "##Real-World Problem: Data Analysis for a Small Business Scenario\n",
        "\n",
        "You are helping a small business analyze sales data for better decision-making. The business owner has provided you with the following information for the past week:\n",
        "\n",
        "Daily Sales Data (number of products sold):\n",
        "[120, 150, 100, 90, 180, 200, 140]\n",
        "\n",
        "Product Prices (in dollars):\n",
        "[10, 20, 15, 25, 30, 5, 40]\n",
        "\n",
        "Daily Operating Costs (in dollars):\n",
        "[800, 950, 750, 700, 1200, 1300, 1000]\n",
        "\n",
        "Your task is to use NumPy to analyze the data and provide insights to the business owner."
      ]
    },
    {
      "cell_type": "code",
      "execution_count": null,
      "metadata": {
        "id": "JCP7lg-ts-8s"
      },
      "outputs": [],
      "source": [
        "daily_sales = np.array([120, 150, 100, 90, 180, 200, 140])\n",
        "product_prices = np.array([10, 20, 15, 25, 30, 5, 40])\n",
        "daily_operating_costs = np.array([800, 950, 750, 700, 1200, 1300, 1000])"
      ]
    },
    {
      "cell_type": "markdown",
      "metadata": {
        "id": "nbLn4bZ8SNsV"
      },
      "source": [
        "Tasks\n",
        "\n",
        "**1. Total Revenue Calculation**\n",
        "\n",
        "Calculate the revenue for each day by multiplying the daily sales with the product prices.\n",
        "Find the total revenue for the week.\n"
      ]
    },
    {
      "cell_type": "code",
      "execution_count": null,
      "metadata": {
        "colab": {
          "base_uri": "https://localhost:8080/"
        },
        "id": "L0bxQGy8ST3q",
        "outputId": "7e4f0fbd-3cfe-425e-f8bf-49bd9539861b"
      },
      "outputs": [
        {
          "name": "stdout",
          "output_type": "stream",
          "text": [
            "the revenue of the week is  19950\n",
            "the daily revenue is  [1200 3000 1500 2250 5400 1000 5600]\n"
          ]
        }
      ],
      "source": [
        "daily_revenue = daily_sales * product_prices\n",
        "revenue_of_week = np.sum(daily_revenue)\n",
        "print(\"the revenue of the week is \", revenue_of_week)\n",
        "print(\"the daily revenue is \", daily_revenue)"
      ]
    },
    {
      "cell_type": "markdown",
      "metadata": {
        "id": "TSCWSf2VSUZN"
      },
      "source": [
        "**2. Profit Analysis**\n",
        "\n",
        "Calculate the profit for each day by subtracting the daily operating costs from the daily revenue.\n",
        "Identify the most profitable day and the least profitable day.\n"
      ]
    },
    {
      "cell_type": "code",
      "execution_count": null,
      "metadata": {
        "colab": {
          "base_uri": "https://localhost:8080/"
        },
        "id": "WVieuRxGSbzK",
        "outputId": "5f423932-2a50-43f1-821a-1ed54c26dc97"
      },
      "outputs": [
        {
          "name": "stdout",
          "output_type": "stream",
          "text": [
            "profit each day  [ 400 2050  750 1550 4200 -300 4600]\n",
            "most profit made was $ 4600\n",
            "the most profitable day was day 7\n",
            "the least profit made was $ -300\n",
            "the least profitable day was day  6\n"
          ]
        }
      ],
      "source": [
        "profit_for_each_day = daily_revenue - daily_operating_costs\n",
        "print(\"profit each day \", profit_for_each_day)\n",
        "\n",
        "most_profit_made = np.max(profit_for_each_day)\n",
        "most_profitable_day = np.argmax(profit_for_each_day)\n",
        "print(\"most profit made was $\", most_profit_made)\n",
        "print(\"the most profitable day was day\", most_profitable_day + 1)\n",
        "\n",
        "least_profit = np.min(profit_for_each_day)\n",
        "least_profitable_day = np.argmin(profit_for_each_day)\n",
        "print(\"the least profit made was $\", least_profit)\n",
        "print(\"the least profitable day was day \", least_profitable_day + 1)\n"
      ]
    },
    {
      "cell_type": "markdown",
      "metadata": {
        "id": "m4EtpfcBScTu"
      },
      "source": [
        "**3. Cost Efficiency**\n",
        "\n",
        "Calculate the cost per product sold for each day.\n",
        "Find which day had the lowest cost per product sold"
      ]
    },
    {
      "cell_type": "code",
      "execution_count": null,
      "metadata": {
        "colab": {
          "base_uri": "https://localhost:8080/"
        },
        "id": "4ECJECHfSgnJ",
        "outputId": "7045d979-248d-4b3a-b3b4-69f684e4bb34"
      },
      "outputs": [
        {
          "name": "stdout",
          "output_type": "stream",
          "text": [
            "the cost per product sold each day was [6.66666667 6.33333333 7.5        7.77777778 6.66666667 6.5\n",
            " 7.14285714]\n",
            "the lowest cost per product sold was $ 6.333333333333333\n",
            "the day with the lowest cost per product sold was day 2\n"
          ]
        }
      ],
      "source": [
        "cost_per_product = daily_operating_costs / daily_sales\n",
        "print(\"the cost per product sold each day was\", cost_per_product)\n",
        "lowest_cost_per_product_sold = np.min(cost_per_product)\n",
        "print(\"the lowest cost per product sold was $\", lowest_cost_per_product_sold)\n",
        "day_with_lowest_cost_per_product_sold = np.argmin(cost_per_product)\n",
        "print(\"the day with the lowest cost per product sold was day\", day_with_lowest_cost_per_product_sold + 1)"
      ]
    },
    {
      "cell_type": "markdown",
      "metadata": {
        "id": "VQ5pygxoShCl"
      },
      "source": [
        "**4. Revenue Growth**\n",
        "\n",
        "Calculate the percentage growth in revenue from one day to the next.\n",
        "Identify the day with the highest revenue growth."
      ]
    },
    {
      "cell_type": "code",
      "execution_count": null,
      "metadata": {
        "colab": {
          "base_uri": "https://localhost:8080/"
        },
        "id": "4lFzrzpgSmPS",
        "outputId": "27cddba2-bcb0-41cf-d7e4-2a5708045d47"
      },
      "outputs": [
        {
          "name": "stdout",
          "output_type": "stream",
          "text": [
            "the revenue growth is [150.         -50.          50.         140.         -81.48148148\n",
            " 460.        ]\n",
            "the highest growth was $459.99999999999994\n",
            "the day with the highest growth was day 7\n"
          ]
        }
      ],
      "source": [
        "#we have to do a -1 bc we cant subtract anything from the last day, np.diff shows the difference in days, ex a1-a2, a2-a3, a3-a4, etc\n",
        "revenue_growth = np.diff(daily_revenue) / daily_revenue[:-1] * 100\n",
        "highest_growth = np.max(revenue_growth)\n",
        "#we have to do a -1 bc we cant subtract anything from the last day, np.diff shows the difference in days, ex a1-a2, a2-a3, a3-a4, etc\n",
        "revenue_growth = np.diff(daily_revenue) / daily_revenue[:-1] * 100\n",
        "highest_growth = np.max(revenue_growth)\n",
        "day_with_highest_growth = np.argmax(revenue_growth) + 2\n",
        "\n",
        "print(f\"the revenue growth is {revenue_growth}\")\n",
        "print(f\"the highest growth was ${highest_growth}\")\n",
        "print(f\"the day with the highest growth was day {day_with_highest_growth}\")"
      ]
    },
    {
      "cell_type": "markdown",
      "metadata": {
        "id": "v9iPLMpdSmyz"
      },
      "source": [
        "**5. Sales Goal**\n",
        "\n",
        "The business wants to set a daily sales goal of at least 150 products.\n",
        "\n",
        "Use a logical operation to identify which days met or exceeded this goal.\n",
        "Count how many days met the goal.\n"
      ]
    },
    {
      "cell_type": "code",
      "execution_count": null,
      "metadata": {
        "colab": {
          "base_uri": "https://localhost:8080/"
        },
        "id": "mcMxs2QESr5G",
        "outputId": "c0d95906-2545-4da7-aa94-783bc6df314e"
      },
      "outputs": [
        {
          "name": "stdout",
          "output_type": "stream",
          "text": [
            "days that met or exceeded sales goal  [False  True False False  True  True False]\n",
            "number of days that met or exceeded sales goal  3\n"
          ]
        }
      ],
      "source": [
        "sales_goal = 150\n",
        "met_sales_goal = daily_sales >= sales_goal\n",
        "days_met_goal = np.sum(met_sales_goal)\n",
        "\n",
        "print(\"days that met or exceeded sales goal \", met_sales_goal)\n",
        "print(\"number of days that met or exceeded sales goal \", days_met_goal)"
      ]
    },
    {
      "cell_type": "markdown",
      "metadata": {
        "id": "Q4yf0lVwSrYN"
      },
      "source": [
        "**6. Bonus Challenge: Price Adjustment Simulation**\n",
        "\n",
        "If the business increases all product prices by 10%, calculate the new daily revenue for each day.\n",
        "Determine the difference in total weekly revenue compared to the original prices."
      ]
    },
    {
      "cell_type": "code",
      "execution_count": null,
      "metadata": {
        "colab": {
          "base_uri": "https://localhost:8080/"
        },
        "id": "2HC6pokcAjyn",
        "outputId": "d312915a-6782-48b5-b5cf-82f4136eb8ab"
      },
      "outputs": [
        {
          "name": "stdout",
          "output_type": "stream",
          "text": [
            "Original daily revenue:  [1200 3000 1500 2250 5400 1000 5600]\n",
            "New daily revenue after price adjustment:  [1320. 3300. 1650. 2475. 5940. 1100. 6160.]\n",
            "Original total weekly revenue:  19950\n",
            "New total weekly revenue after price adjustment:  21945.0\n",
            "Difference in total weekly revenue: $ 1995.0\n"
          ]
        }
      ],
      "source": [
        "new_product_prices = product_prices * 1.10\n",
        "original_daily_revenue = daily_sales * product_prices\n",
        "new_daily_revenue = daily_sales * new_product_prices\n",
        "original_weekly_revenue = np.sum(original_daily_revenue)\n",
        "new_weekly_revenue = np.sum(new_daily_revenue)\n",
        "\n",
        "# Calculate the difference in total weekly revenue\n",
        "revenue_difference = new_weekly_revenue - original_weekly_revenue\n",
        "\n",
        "# Print the results\n",
        "print(\"Original daily revenue: \", original_daily_revenue)\n",
        "print(\"New daily revenue after price adjustment: \", new_daily_revenue)\n",
        "print(\"Original total weekly revenue: \", original_weekly_revenue)\n",
        "print(\"New total weekly revenue after price adjustment: \", new_weekly_revenue)\n",
        "print(\"Difference in total weekly revenue: $\", revenue_difference)"
      ]
    },
    {
      "cell_type": "markdown",
      "metadata": {
        "id": "OQNjYbvs9R_M"
      },
      "source": [
        "##Assignment 3"
      ]
    },
    {
      "cell_type": "code",
      "execution_count": null,
      "metadata": {
        "id": "7iCI5TzDb7VK"
      },
      "outputs": [],
      "source": [
        "import pandas as pd\n",
        "import os\n"
      ]
    },
    {
      "cell_type": "code",
      "execution_count": null,
      "metadata": {
        "colab": {
          "base_uri": "https://localhost:8080/"
        },
        "id": "2OL3Yze9m1bC",
        "outputId": "735b0488-967d-4dc8-bf08-26134f271216"
      },
      "outputs": [
        {
          "data": {
            "application/vnd.google.colaboratory.intrinsic+json": {
              "type": "string"
            },
            "text/plain": [
              "'/mnt/data/sample_data.csv'"
            ]
          },
          "execution_count": 96,
          "metadata": {},
          "output_type": "execute_result"
        }
      ],
      "source": [
        "data = {\n",
        "    \"Name\": [\"Alice\", \"Bob\", \"Carol\", \"David\", \"Eve\"],\n",
        "    \"Age\": [30, 35, 40, 45, 50],\n",
        "    \"Department\": [\"Engineering\", \"Marketing\", \"HR\", \"Finance\", \"IT\"],\n",
        "    \"Salary\": [80000, 75000, 65000, 70000, 90000]\n",
        "}\n",
        "\n",
        "df_sample = pd.DataFrame(data)\n",
        "\n",
        "file_path = \"/mnt/data/sample_data.csv\"\n",
        "# Create the directory if it doesn't exist\n",
        "os.makedirs(os.path.dirname(file_path), exist_ok=True)\n",
        "df_sample.to_csv(file_path, index=False)\n",
        "file_path"
      ]
    },
    {
      "cell_type": "code",
      "execution_count": null,
      "metadata": {
        "id": "D1E1NNvH1ULy"
      },
      "outputs": [],
      "source": [
        "data2 = {\n",
        "    \"Name\": [\"Alice\", \"Bob\", \"David\", \"Eve\", \"George\"],\n",
        "    \"City\": [\"New York\", \"Los Angeles\", \"Chicago\", \"Houston\", \"Miami\"],\n",
        "    \"Experience\": [5, 10, 8, 15, 12]\n",
        "}\n",
        "df_sample2 = pd.DataFrame(data2)\n",
        "\n",
        "file_path2 = \"/mnt/data/second_sample_data.csv\"\n",
        "df_sample2.to_csv(file_path2, index=False)"
      ]
    },
    {
      "cell_type": "markdown",
      "metadata": {
        "id": "B-0LqtPTb-UA"
      },
      "source": [
        "### Exercise 1: Reading and Writing CSV Data with Pandas\n",
        "\n",
        "1.1 Read a CSV file into a DataFrame\n",
        "\n",
        "Replace 'your_file.csv' with an actual CSV file path"
      ]
    },
    {
      "cell_type": "code",
      "execution_count": null,
      "metadata": {
        "id": "ch2smaj8cOAH"
      },
      "outputs": [],
      "source": [
        "data_frame = pd.read_csv(file_path)"
      ]
    },
    {
      "cell_type": "markdown",
      "metadata": {
        "id": "mMk3pLBYcPup"
      },
      "source": [
        "### 1.2 Write DataFrame to a CSV file"
      ]
    },
    {
      "cell_type": "code",
      "execution_count": null,
      "metadata": {
        "colab": {
          "base_uri": "https://localhost:8080/"
        },
        "id": "GUZJ9HZ_cTVx",
        "outputId": "eda16cc1-abd8-4f21-fdb4-5c9f699068a3"
      },
      "outputs": [
        {
          "name": "stdout",
          "output_type": "stream",
          "text": [
            "DataFrame has been written to output 'output_file.csv'\n"
          ]
        }
      ],
      "source": [
        "#basically what I did here was take the data adn turn it into an \"excel sheet\" and me setting the index to fals is me telling the code that I want the cells of the sheet to be unnumbered\n",
        "data_frame_csv = pd.DataFrame(data)\n",
        "data_frame_csv.to_csv('output_file.csv', index=False)\n",
        "print(\"DataFrame has been written to output 'output_file.csv'\")"
      ]
    },
    {
      "cell_type": "markdown",
      "metadata": {
        "id": "XxFr5CeFcf5M"
      },
      "source": [
        "### Exercise 2: Querying, Filtering, and Sorting DataFrames\n",
        " 2.1 Querying Data: Filter rows based on conditions\n",
        "\n",
        " Example: Select all rows where 'Age' > 30"
      ]
    },
    {
      "cell_type": "code",
      "execution_count": null,
      "metadata": {
        "colab": {
          "base_uri": "https://localhost:8080/"
        },
        "id": "yMjxoat7c00G",
        "outputId": "74676222-b3d9-4e55-fc4e-c30da7bfd46c"
      },
      "outputs": [
        {
          "name": "stdout",
          "output_type": "stream",
          "text": [
            "    Name  Age Department  Salary\n",
            "1    Bob   35  Marketing   75000\n",
            "2  Carol   40         HR   65000\n",
            "3  David   45    Finance   70000\n",
            "4    Eve   50         IT   90000\n"
          ]
        }
      ],
      "source": [
        "#what this does is it calls upon the data csc and then within that calls upon the gae and then after that it chooses all ages that are greater than 30.\n",
        "filtered_data = data_frame_csv[data_frame_csv['Age'] > 30]\n",
        "print(filtered_data)"
      ]
    },
    {
      "cell_type": "markdown",
      "metadata": {
        "id": "VHJWE__lcuX4"
      },
      "source": [
        " 2.2 Sorting Data: Sort data by a column in ascending order"
      ]
    },
    {
      "cell_type": "code",
      "execution_count": null,
      "metadata": {
        "colab": {
          "base_uri": "https://localhost:8080/"
        },
        "id": "fOPw72fwc4Jy",
        "outputId": "e83f2124-d73a-4389-b227-64bbf2c24a8b"
      },
      "outputs": [
        {
          "name": "stdout",
          "output_type": "stream",
          "text": [
            "    Name  Age   Department  Salary\n",
            "0  Alice   30  Engineering   80000\n",
            "1    Bob   35    Marketing   75000\n",
            "2  Carol   40           HR   65000\n",
            "3  David   45      Finance   70000\n",
            "4    Eve   50           IT   90000\n"
          ]
        }
      ],
      "source": [
        "#what this does is it calls the data frame csv and sorts them into values, by name ascending\n",
        "sorted_data = data_frame_csv.sort_values(by= 'Name', ascending=True)\n",
        "print(sorted_data)"
      ]
    },
    {
      "cell_type": "markdown",
      "metadata": {
        "id": "dl4piDj_c41I"
      },
      "source": [
        "2.3 Selecting Specific Columns"
      ]
    },
    {
      "cell_type": "code",
      "execution_count": null,
      "metadata": {
        "colab": {
          "base_uri": "https://localhost:8080/"
        },
        "id": "4Npgch3dj8yG",
        "outputId": "fcff17df-044b-4c1b-bcbf-f33b585916c5"
      },
      "outputs": [
        {
          "name": "stdout",
          "output_type": "stream",
          "text": [
            "    Name  Salary\n",
            "0  Alice   80000\n",
            "1    Bob   75000\n",
            "2  Carol   65000\n",
            "3  David   70000\n",
            "4    Eve   90000\n"
          ]
        }
      ],
      "source": [
        "#what we do here we call on the csv and then from that csv particularly call the names and salary of the individuals\n",
        "selected_column = data_frame_csv[['Name', 'Salary']]\n",
        "print(selected_column)"
      ]
    },
    {
      "cell_type": "markdown",
      "metadata": {
        "id": "WQF6OdoWc8_F"
      },
      "source": []
    },
    {
      "cell_type": "markdown",
      "metadata": {
        "id": "OUIFoK1tdJc4"
      },
      "source": [
        "### Exercise 3: Grouping and Aggregating DataFrames"
      ]
    },
    {
      "cell_type": "markdown",
      "metadata": {
        "id": "PQ24SZO0dQXX"
      },
      "source": [
        "3.1 Grouping Data: Group by 'Category' and calculate mean 'Price'\n",
        "\n"
      ]
    },
    {
      "cell_type": "code",
      "execution_count": null,
      "metadata": {
        "colab": {
          "base_uri": "https://localhost:8080/"
        },
        "id": "mRRBAXSNdP0o",
        "outputId": "ccae0802-ae68-4dd3-a655-a66b4b5576c5"
      },
      "outputs": [
        {
          "name": "stdout",
          "output_type": "stream",
          "text": [
            "Department\n",
            "Engineering    80000.0\n",
            "Finance        70000.0\n",
            "HR             65000.0\n",
            "IT             90000.0\n",
            "Marketing      75000.0\n",
            "Name: Salary, dtype: float64\n"
          ]
        }
      ],
      "source": [
        "group_data = data_frame_csv.groupby('Department')['Salary'].mean()\n",
        "print(group_data)"
      ]
    },
    {
      "cell_type": "markdown",
      "metadata": {
        "id": "CRLCjSLNdTOg"
      },
      "source": [
        "3.2 Aggregating Data: Using multiple aggregation functions"
      ]
    },
    {
      "cell_type": "code",
      "execution_count": null,
      "metadata": {
        "colab": {
          "base_uri": "https://localhost:8080/"
        },
        "id": "7nZLszHLdZvs",
        "outputId": "6eddd241-7895-4c97-a9d8-df99557b2ae6"
      },
      "outputs": [
        {
          "name": "stdout",
          "output_type": "stream",
          "text": [
            "      Age        \n",
            "     mean max min\n",
            "Age              \n",
            "30   30.0  30  30\n",
            "35   35.0  35  35\n",
            "40   40.0  40  40\n",
            "45   45.0  45  45\n",
            "50   50.0  50  50\n"
          ]
        }
      ],
      "source": [
        "aggrated_data = data_frame_csv.groupby('Age').agg(\n",
        "    {'Age' : ['mean', 'max', 'min']}\n",
        "    )\n",
        "print(aggrated_data)"
      ]
    },
    {
      "cell_type": "markdown",
      "metadata": {
        "id": "6WG-dyLudZX_"
      },
      "source": [
        "###Exercise 4: Merging and Joining Data from Multiple Sources"
      ]
    },
    {
      "cell_type": "markdown",
      "metadata": {
        "id": "__cyh8tkdi67"
      },
      "source": [
        "4.1 Merge two dataframes based on a common column\n",
        "\n",
        " Assume this file exists"
      ]
    },
    {
      "cell_type": "code",
      "execution_count": null,
      "metadata": {
        "colab": {
          "base_uri": "https://localhost:8080/"
        },
        "id": "998qSoo72WAY",
        "outputId": "ca08dd1a-a0ac-4812-af39-b6c133ad8c82"
      },
      "outputs": [
        {
          "name": "stdout",
          "output_type": "stream",
          "text": [
            "    Name  Age   Department  Salary         City  Experience\n",
            "0  Alice   30  Engineering   80000     New York           5\n",
            "1    Bob   35    Marketing   75000  Los Angeles          10\n",
            "2  David   45      Finance   70000      Chicago           8\n",
            "3    Eve   50           IT   90000      Houston          15\n"
          ]
        }
      ],
      "source": [
        "# Correct the file path\n",
        "# \"/mnt/data/second_sample_data.csv\" should be correct.\n",
        "\n",
        "data_frame_1 = pd.read_csv(\"/mnt/data/sample_data.csv\")\n",
        "data_frame_2 = pd.read_csv(\"/mnt/data/second_sample_data.csv\")\n",
        "\n",
        "merged_data = data_frame_1.merge(data_frame_2, on='Name', how='inner')\n",
        "print(merged_data)"
      ]
    },
    {
      "cell_type": "markdown",
      "metadata": {
        "id": "UWGkVO36dtqM"
      },
      "source": [
        "4.2 Concatenating DataFrames (stacking them vertically or horizontally)\n",
        "\n",
        "Vertically stack DataFrames"
      ]
    },
    {
      "cell_type": "code",
      "execution_count": null,
      "metadata": {
        "colab": {
          "base_uri": "https://localhost:8080/"
        },
        "id": "gK9rXdtxd6fJ",
        "outputId": "149e8d03-4411-4b0f-9c85-095450545a9e"
      },
      "outputs": [
        {
          "name": "stdout",
          "output_type": "stream",
          "text": [
            "     Name   Age   Department   Salary         City  Experience\n",
            "0   Alice  30.0  Engineering  80000.0          NaN         NaN\n",
            "1     Bob  35.0    Marketing  75000.0          NaN         NaN\n",
            "2   Carol  40.0           HR  65000.0          NaN         NaN\n",
            "3   David  45.0      Finance  70000.0          NaN         NaN\n",
            "4     Eve  50.0           IT  90000.0          NaN         NaN\n",
            "5   Alice   NaN          NaN      NaN     New York         5.0\n",
            "6     Bob   NaN          NaN      NaN  Los Angeles        10.0\n",
            "7   David   NaN          NaN      NaN      Chicago         8.0\n",
            "8     Eve   NaN          NaN      NaN      Houston        15.0\n",
            "9  George   NaN          NaN      NaN        Miami        12.0\n"
          ]
        }
      ],
      "source": [
        "#pd.datafraeme takes the previously established dictionary and then makes it into a 2-d data format\n",
        "#verticle stack is saying to merge df 1 with df2 then to merge them vertically (axis=0), not horozontally(axis=1)\n",
        "#the ignore index gives us that 0-9 thing, if it was false then the numbers would be the og shit from the og data dictionaries\n",
        "df_1 = pd.DataFrame(data)\n",
        "df_2 = pd.DataFrame(data2)\n",
        "verticle_stack = pd.concat([df_1, df_2], axis = 0, ignore_index=True)\n",
        "print(verticle_stack)"
      ]
    },
    {
      "cell_type": "markdown",
      "metadata": {
        "id": "D_Z1HBzpd67C"
      },
      "source": [
        "### Exercise 5: Handling Missing or Invalid Data"
      ]
    },
    {
      "cell_type": "code",
      "execution_count": null,
      "metadata": {
        "id": "6_Sx5v8EeDHj"
      },
      "outputs": [],
      "source": [
        "data = {\n",
        "    \"Name\": [\"Alice\", \"Bob\", \"Carol\", None],\n",
        "    \"Age\": [25, None, 30, 22],\n",
        "    \"Salary\": [50000, 60000, None, 45000]\n",
        "}\n",
        "df = pd.DataFrame(data)"
      ]
    },
    {
      "cell_type": "markdown",
      "metadata": {
        "id": "7jc6IqK4eAxD"
      },
      "source": [
        " 5.1 Checking for missing values"
      ]
    },
    {
      "cell_type": "code",
      "execution_count": null,
      "metadata": {
        "colab": {
          "base_uri": "https://localhost:8080/"
        },
        "id": "-rDmp2hs0inD",
        "outputId": "dc24bccb-3543-48f2-9501-36ac3628a0f3"
      },
      "outputs": [
        {
          "name": "stdout",
          "output_type": "stream",
          "text": [
            "    Name    Age  Salary\n",
            "0  False  False   False\n",
            "1  False   True   False\n",
            "2  False  False    True\n",
            "3   True  False   False\n"
          ]
        }
      ],
      "source": [
        "#the true part means that the value is indeed missing, the false means that it isn't.\n",
        "missing_values =  df.isnull()\n",
        "print(missing_values)"
      ]
    },
    {
      "cell_type": "code",
      "execution_count": null,
      "metadata": {
        "colab": {
          "base_uri": "https://localhost:8080/"
        },
        "id": "wDXeqhO50Tyb",
        "outputId": "571c2fa9-8124-4ea2-ef8c-8f3fd426d5df"
      },
      "outputs": [
        {
          "name": "stdout",
          "output_type": "stream",
          "text": [
            "Name      1\n",
            "Age       1\n",
            "Salary    1\n",
            "dtype: int64\n"
          ]
        }
      ],
      "source": [
        "#what this does is it tells us how many \"trues are in a row\". the dtype stands for data type. int means integer and 64 is the number of bits stored within that data.\n",
        "missing_summary = df.isnull().sum()\n",
        "print(missing_summary)"
      ]
    },
    {
      "cell_type": "code",
      "execution_count": null,
      "metadata": {
        "colab": {
          "base_uri": "https://localhost:8080/"
        },
        "id": "tKTtHBgo0W43",
        "outputId": "c9105ce3-bf98-4e2a-981d-3795269c959c"
      },
      "outputs": [
        {
          "name": "stdout",
          "output_type": "stream",
          "text": [
            "Name      True\n",
            "Age       True\n",
            "Salary    True\n",
            "dtype: bool\n"
          ]
        }
      ],
      "source": [
        "#what this does is gives us a boolean expression for if there is a missing value or not\n",
        "any_missing = df.isnull().any()\n",
        "print(any_missing)"
      ]
    },
    {
      "cell_type": "code",
      "execution_count": null,
      "metadata": {
        "colab": {
          "base_uri": "https://localhost:8080/"
        },
        "id": "MEO8-V3Y0ZNF",
        "outputId": "0e3fccdf-ecb2-4b97-ecd5-c1ae14997eea"
      },
      "outputs": [
        {
          "name": "stdout",
          "output_type": "stream",
          "text": [
            "3\n"
          ]
        }
      ],
      "source": [
        "#what this does is tells us the total number of things that are categorized under none\n",
        "total_missing = df.isnull().sum().sum()\n",
        "print(total_missing)"
      ]
    },
    {
      "cell_type": "code",
      "execution_count": null,
      "metadata": {
        "colab": {
          "base_uri": "https://localhost:8080/"
        },
        "id": "pf1AS5d50cSl",
        "outputId": "70c728c7-6ff4-499d-a2c1-ae4d1a641f02"
      },
      "outputs": [
        {
          "data": {
            "text/html": [
              "<style type=\"text/css\">\n",
              "#T_ca48b_row1_col1, #T_ca48b_row2_col2, #T_ca48b_row3_col0 {\n",
              "  background-color: red;\n",
              "}\n",
              "</style>\n",
              "<table id=\"T_ca48b\" class=\"dataframe\">\n",
              "  <thead>\n",
              "    <tr>\n",
              "      <th class=\"blank level0\" >&nbsp;</th>\n",
              "      <th id=\"T_ca48b_level0_col0\" class=\"col_heading level0 col0\" >Name</th>\n",
              "      <th id=\"T_ca48b_level0_col1\" class=\"col_heading level0 col1\" >Age</th>\n",
              "      <th id=\"T_ca48b_level0_col2\" class=\"col_heading level0 col2\" >Salary</th>\n",
              "    </tr>\n",
              "  </thead>\n",
              "  <tbody>\n",
              "    <tr>\n",
              "      <th id=\"T_ca48b_level0_row0\" class=\"row_heading level0 row0\" >0</th>\n",
              "      <td id=\"T_ca48b_row0_col0\" class=\"data row0 col0\" >Alice</td>\n",
              "      <td id=\"T_ca48b_row0_col1\" class=\"data row0 col1\" >25.000000</td>\n",
              "      <td id=\"T_ca48b_row0_col2\" class=\"data row0 col2\" >50000.000000</td>\n",
              "    </tr>\n",
              "    <tr>\n",
              "      <th id=\"T_ca48b_level0_row1\" class=\"row_heading level0 row1\" >1</th>\n",
              "      <td id=\"T_ca48b_row1_col0\" class=\"data row1 col0\" >Bob</td>\n",
              "      <td id=\"T_ca48b_row1_col1\" class=\"data row1 col1\" >nan</td>\n",
              "      <td id=\"T_ca48b_row1_col2\" class=\"data row1 col2\" >60000.000000</td>\n",
              "    </tr>\n",
              "    <tr>\n",
              "      <th id=\"T_ca48b_level0_row2\" class=\"row_heading level0 row2\" >2</th>\n",
              "      <td id=\"T_ca48b_row2_col0\" class=\"data row2 col0\" >Carol</td>\n",
              "      <td id=\"T_ca48b_row2_col1\" class=\"data row2 col1\" >30.000000</td>\n",
              "      <td id=\"T_ca48b_row2_col2\" class=\"data row2 col2\" >nan</td>\n",
              "    </tr>\n",
              "    <tr>\n",
              "      <th id=\"T_ca48b_level0_row3\" class=\"row_heading level0 row3\" >3</th>\n",
              "      <td id=\"T_ca48b_row3_col0\" class=\"data row3 col0\" >None</td>\n",
              "      <td id=\"T_ca48b_row3_col1\" class=\"data row3 col1\" >22.000000</td>\n",
              "      <td id=\"T_ca48b_row3_col2\" class=\"data row3 col2\" >45000.000000</td>\n",
              "    </tr>\n",
              "  </tbody>\n",
              "</table>\n"
            ],
            "text/plain": [
              "<pandas.io.formats.style.Styler at 0x7cd5843b56d0>"
            ]
          },
          "execution_count": 112,
          "metadata": {},
          "output_type": "execute_result"
        }
      ],
      "source": [
        "#what this does it takes the values that are none and then makes them red so you can visualize that it is null\n",
        "df.style.highlight_null(color= 'red')"
      ]
    },
    {
      "cell_type": "markdown",
      "metadata": {
        "id": "0iRge1MWeDrS"
      },
      "source": [
        "5.2 Filling missing values with a specific value (e.g., 0)"
      ]
    },
    {
      "cell_type": "code",
      "execution_count": null,
      "metadata": {
        "colab": {
          "base_uri": "https://localhost:8080/"
        },
        "id": "GAV8ApCNeQUo",
        "outputId": "361b5543-7abd-4216-de1f-fd63257220a5"
      },
      "outputs": [
        {
          "name": "stdout",
          "output_type": "stream",
          "text": [
            "    Name   Age   Salary\n",
            "0  Alice  25.0  50000.0\n",
            "1    Bob   0.0  60000.0\n",
            "2  Carol  30.0      0.0\n",
            "3      0  22.0  45000.0\n"
          ]
        }
      ],
      "source": [
        "#this is basically saying fill the na's in the df to 0\n",
        "df_filled = df.fillna(0)\n",
        "print(df_filled)"
      ]
    },
    {
      "cell_type": "markdown",
      "metadata": {
        "id": "1OXu-7R-eQ1d"
      },
      "source": [
        "5.3 Dropping rows with missing values"
      ]
    },
    {
      "cell_type": "code",
      "execution_count": null,
      "metadata": {
        "colab": {
          "base_uri": "https://localhost:8080/"
        },
        "id": "sK5cknbMeR9k",
        "outputId": "ae596fb5-081c-4782-b91a-2fdd4116bb3d"
      },
      "outputs": [
        {
          "name": "stdout",
          "output_type": "stream",
          "text": [
            "    Name   Age   Salary\n",
            "0  Alice  25.0  50000.0\n"
          ]
        }
      ],
      "source": [
        "#this is saying that if a value has a 0 at all then drop all the data\n",
        "df_dropped = df.dropna()\n",
        "print(df_dropped)"
      ]
    },
    {
      "cell_type": "markdown",
      "metadata": {
        "id": "HGnHVwhgeT4R"
      },
      "source": [
        "5.4 Replacing invalid values (e.g., replacing negative prices with NaN)"
      ]
    },
    {
      "cell_type": "code",
      "execution_count": null,
      "metadata": {
        "id": "XXQ-gJg7eW9D"
      },
      "outputs": [],
      "source": [
        "data = {\n",
        "    \"Product\": [\"A\", \"B\", \"C\", \"D\"],\n",
        "    \"Price\": [100, -50, 200, -20]\n",
        "}\n",
        "df_1 = pd.DataFrame(data)"
      ]
    },
    {
      "cell_type": "code",
      "execution_count": null,
      "metadata": {
        "colab": {
          "base_uri": "https://localhost:8080/"
        },
        "id": "NnYOwvJmv52t",
        "outputId": "20e610b2-f53c-4fb9-b0bf-51540de55b52"
      },
      "outputs": [
        {
          "name": "stdout",
          "output_type": "stream",
          "text": [
            "0    100.0\n",
            "1      NaN\n",
            "2    200.0\n",
            "3      NaN\n",
            "Name: Price, dtype: float64\n"
          ]
        }
      ],
      "source": [
        "#what this does is replace any negative price with na and then says that the data is a price, and is a float (decimal) with 64 bits of data used\n",
        "df_replace = df_1['Price'].where(df_1['Price'] >= 0, np.nan)\n",
        "print(df_replace)"
      ]
    },
    {
      "cell_type": "markdown",
      "metadata": {
        "id": "bg30NfhAebvm"
      },
      "source": [
        "5.5 Forward fill to replace missing values with previous values"
      ]
    },
    {
      "cell_type": "code",
      "execution_count": null,
      "metadata": {
        "colab": {
          "base_uri": "https://localhost:8080/"
        },
        "id": "2F8hIsWxefiI",
        "outputId": "ea7f78c8-6ee2-4953-a085-28871f07635e"
      },
      "outputs": [
        {
          "name": "stdout",
          "output_type": "stream",
          "text": [
            "    Name   Age   Salary\n",
            "0  Alice  25.0  50000.0\n",
            "1    Bob   0.0  60000.0\n",
            "2  Carol  30.0      0.0\n",
            "3      0  22.0  45000.0\n"
          ]
        }
      ],
      "source": [
        "df_forward_fill = df.ffill()\n",
        "print(df_filled)"
      ]
    },
    {
      "cell_type": "markdown",
      "metadata": {
        "id": "FSZ2UpJ2fEGH"
      },
      "source": [
        "## Real-World Exercise: Chemical Engineering - Tracking Reaction Rates in a Lab Experiment"
      ]
    },
    {
      "cell_type": "markdown",
      "metadata": {
        "id": "W5iFQFKjfNjc"
      },
      "source": [
        "Scenario:\n",
        "You are analyzing the results of a chemical experiment to determine the rate of reaction over time. The data includes measurements taken at different time intervals, including temperature, concentration, and rate of reaction. The goal is to analyze the relationship between the concentration and the rate of reaction, and clean any missing or erroneous data.\n",
        "\n",
        "You have two CSV files:\n",
        "\n",
        "experiment_data.csv: Contains the main data (time, concentration, temperature, and reaction rate).\n",
        "\n",
        "temperature_conditions.csv: Contains additional information about the experimental setup (temperature conditions for each experiment)."
      ]
    },
    {
      "cell_type": "markdown",
      "metadata": {
        "id": "WtfsxldifeS2"
      },
      "source": [
        "### Step 1: Load the data from CSV **files**"
      ]
    },
    {
      "cell_type": "code",
      "execution_count": null,
      "metadata": {
        "id": "ms8BO5I36Rck"
      },
      "outputs": [],
      "source": [
        "import io"
      ]
    },
    {
      "cell_type": "code",
      "execution_count": null,
      "metadata": {
        "colab": {
          "base_uri": "https://localhost:8080/"
        },
        "id": "4b3TFtj6507O",
        "outputId": "6a4b6700-c6c2-4b4b-9574-a727ccb628eb"
      },
      "outputs": [
        {
          "name": "stdout",
          "output_type": "stream",
          "text": [
            "    experiment_id  time  concentration  temperature  reaction_rate\n",
            "0               1     0          0.100           25         0.0100\n",
            "1               1    10          0.090           25         0.0090\n",
            "2               1    20          0.080           25         0.0080\n",
            "3               1    30          0.070           25         0.0070\n",
            "4               2     0          0.200           30         0.0200\n",
            "5               2    10          0.180           30         0.0180\n",
            "6               2    20          0.160           30         0.0160\n",
            "7               2    30          0.140           30         0.0140\n",
            "8               3     0          0.150           35         0.0150\n",
            "9               3    10          0.135           35         0.0135\n",
            "10              3    20          0.120           35         0.0120\n",
            "11              3    30          0.105           35         0.0105\n"
          ]
        }
      ],
      "source": [
        "# Define the CSV string\n",
        "experiment_csv = \"\"\"experiment_id,time,concentration,temperature,reaction_rate\n",
        "1,0,0.1,25,0.01\n",
        "1,10,0.09,25,0.009\n",
        "1,20,0.08,25,0.008\n",
        "1,30,0.07,25,0.007\n",
        "2,0,0.2,30,0.02\n",
        "2,10,0.18,30,0.018\n",
        "2,20,0.16,30,0.016\n",
        "2,30,0.14,30,0.014\n",
        "3,0,0.15,35,0.015\n",
        "3,10,0.135,35,0.0135\n",
        "3,20,0.12,35,0.012\n",
        "3,30,0.105,35,0.0105\"\"\"\n",
        "\n",
        "# Now you can use the 'experiment_csv' variable to load data into pandas\n",
        "# For example:\n",
        "# import io\n",
        "experiment_data = pd.read_csv(io.StringIO(experiment_csv))\n",
        "print(experiment_data)"
      ]
    },
    {
      "cell_type": "code",
      "execution_count": null,
      "metadata": {
        "colab": {
          "base_uri": "https://localhost:8080/"
        },
        "id": "qpJ7Th3a8PjV",
        "outputId": "f536d0d5-3770-44a8-8b65-7d9fdb9dd657"
      },
      "outputs": [
        {
          "name": "stdout",
          "output_type": "stream",
          "text": [
            "   experiment_id temperature_condition\n",
            "0              1      Room Temperature\n",
            "1              2  Elevated Temperature\n",
            "2              3      High Temperature\n"
          ]
        }
      ],
      "source": [
        "temp_csv = \"\"\"experiment_id,temperature_condition\n",
        "1,Room Temperature\n",
        "2,Elevated Temperature\n",
        "3,High Temperature\"\"\"\n",
        "\n",
        "# Load temperature conditions data into pandas\n",
        "temperature_conditions = pd.read_csv(io.StringIO(temp_csv))\n",
        "\n",
        "# Display the DataFrame\n",
        "print(temperature_conditions)"
      ]
    },
    {
      "cell_type": "markdown",
      "metadata": {
        "id": "wy1Vd-lgflY7"
      },
      "source": [
        "##Step 2: Inspect the data"
      ]
    },
    {
      "cell_type": "code",
      "execution_count": null,
      "metadata": {
        "colab": {
          "base_uri": "https://localhost:8080/"
        },
        "id": "oB2ppPN-fvwf",
        "outputId": "42cdb6e3-0215-4daf-f0ab-39ed0661b371"
      },
      "outputs": [
        {
          "name": "stdout",
          "output_type": "stream",
          "text": [
            "   experiment_id  time  concentration  temperature  reaction_rate\n",
            "0              1     0           0.10           25          0.010\n",
            "1              1    10           0.09           25          0.009\n",
            "2              1    20           0.08           25          0.008\n",
            "3              1    30           0.07           25          0.007\n",
            "4              2     0           0.20           30          0.020\n",
            "   experiment_id temperature_condition\n",
            "0              1      Room Temperature\n",
            "1              2  Elevated Temperature\n",
            "2              3      High Temperature\n",
            "<class 'pandas.core.frame.DataFrame'>\n",
            "RangeIndex: 12 entries, 0 to 11\n",
            "Data columns (total 5 columns):\n",
            " #   Column         Non-Null Count  Dtype  \n",
            "---  ------         --------------  -----  \n",
            " 0   experiment_id  12 non-null     int64  \n",
            " 1   time           12 non-null     int64  \n",
            " 2   concentration  12 non-null     float64\n",
            " 3   temperature    12 non-null     int64  \n",
            " 4   reaction_rate  12 non-null     float64\n",
            "dtypes: float64(2), int64(3)\n",
            "memory usage: 612.0 bytes\n",
            "None\n",
            "<class 'pandas.core.frame.DataFrame'>\n",
            "RangeIndex: 3 entries, 0 to 2\n",
            "Data columns (total 2 columns):\n",
            " #   Column                 Non-Null Count  Dtype \n",
            "---  ------                 --------------  ----- \n",
            " 0   experiment_id          3 non-null      int64 \n",
            " 1   temperature_condition  3 non-null      object\n",
            "dtypes: int64(1), object(1)\n",
            "memory usage: 180.0+ bytes\n",
            "None\n"
          ]
        }
      ],
      "source": [
        "#this checks the actual structure of the data. inspecting the first 5 rows and the data type/non-null data values\n",
        "#head() shows the first 5 rows so that we can get a feel for the type of data that we are working with\n",
        "#info shows columns data types and non-null values\n",
        "print(experiment_data.head())\n",
        "print(temperature_conditions.head())\n",
        "\n",
        "print(experiment_data.info())\n",
        "print(temperature_conditions.info())"
      ]
    },
    {
      "cell_type": "code",
      "execution_count": null,
      "metadata": {
        "colab": {
          "base_uri": "https://localhost:8080/"
        },
        "id": "mtIXnTAB4jIg",
        "outputId": "c92ad2c6-5baf-4702-c74f-63eb69c6a789"
      },
      "outputs": [
        {
          "name": "stdout",
          "output_type": "stream",
          "text": [
            "experiment_id    0\n",
            "time             0\n",
            "concentration    0\n",
            "temperature      0\n",
            "reaction_rate    0\n",
            "dtype: int64\n",
            "experiment_id            0\n",
            "temperature_condition    0\n",
            "dtype: int64\n"
          ]
        }
      ],
      "source": [
        "#this simply tells us how many values within the dataset are null\n",
        "print(experiment_data.isnull().sum())\n",
        "print(temperature_conditions.isnull().sum())"
      ]
    },
    {
      "cell_type": "code",
      "execution_count": null,
      "metadata": {
        "colab": {
          "base_uri": "https://localhost:8080/"
        },
        "id": "Yj6mK2TW4NMs",
        "outputId": "26633145-c943-4ce1-8ee5-11ea2a2089ba"
      },
      "outputs": [
        {
          "name": "stdout",
          "output_type": "stream",
          "text": [
            "0\n",
            "0\n"
          ]
        }
      ],
      "source": [
        "#This basically checks if any values within the data set has been doubles\n",
        "print(experiment_data.duplicated().sum())\n",
        "print(temperature_conditions.duplicated().sum())"
      ]
    },
    {
      "cell_type": "code",
      "execution_count": null,
      "metadata": {
        "colab": {
          "base_uri": "https://localhost:8080/"
        },
        "id": "A7KhnzFrEi7N",
        "outputId": "b29b7b6a-687d-4329-c4ca-c12b72ca25bb"
      },
      "outputs": [
        {
          "name": "stdout",
          "output_type": "stream",
          "text": [
            "expirement:         experiment_id       time  concentration  temperature  reaction_rate\n",
            "count      12.000000  12.000000      12.000000    12.000000      12.000000\n",
            "mean        2.000000  15.000000       0.127500    30.000000       0.012750\n",
            "std         0.852803  11.677484       0.040536     4.264014       0.004054\n",
            "min         1.000000   0.000000       0.070000    25.000000       0.007000\n",
            "25%         1.000000   7.500000       0.097500    25.000000       0.009750\n",
            "50%         2.000000  15.000000       0.127500    30.000000       0.012750\n",
            "75%         3.000000  22.500000       0.152500    35.000000       0.015250\n",
            "max         3.000000  30.000000       0.200000    35.000000       0.020000\n",
            "temp:         experiment_id\n",
            "count            3.0\n",
            "mean             2.0\n",
            "std              1.0\n",
            "min              1.0\n",
            "25%              1.5\n",
            "50%              2.0\n",
            "75%              2.5\n",
            "max              3.0\n"
          ]
        }
      ],
      "source": [
        "#the count shows how many non-zero values are in the data set. The mean tells us the mean values of each one\n",
        "# the std tells us how spread out the data is, the 25% tells us what values are in the 25%tile, same with 50 and 75,\n",
        "#the min tells us which value was the min and max tells us which was the max\n",
        "print(\"expirement: \", experiment_data.describe())\n",
        "print(\"temp: \", temperature_conditions.describe())"
      ]
    },
    {
      "cell_type": "code",
      "execution_count": null,
      "metadata": {
        "colab": {
          "base_uri": "https://localhost:8080/"
        },
        "id": "SJft4ZibFnRv",
        "outputId": "e59831bc-bd44-4753-f0de-0e79c001e4c4"
      },
      "outputs": [
        {
          "data": {
            "image/png": "[encoded data removed]",
            "text/plain": [
              "<Figure size 1000x600 with 6 Axes>"
            ]
          },
          "metadata": {},
          "output_type": "display_data"
        },
        {
          "data": {
            "text/html": [
              "<div style=\"max-width:800px; border: 1px solid var(--colab-border-color);\"><style>\n",
              "      pre.function-repr-contents {\n",
              "        overflow-x: auto;\n",
              "        padding: 8px 12px;\n",
              "        max-height: 500px;\n",
              "      }\n",
              "\n",
              "      pre.function-repr-contents.function-repr-contents-collapsed {\n",
              "        cursor: pointer;\n",
              "        max-height: 100px;\n",
              "      }\n",
              "    </style>\n",
              "    <pre style=\"white-space: initial; background:\n",
              "         var(--colab-secondary-surface-color); padding: 8px 12px;\n",
              "         border-bottom: 1px solid var(--colab-border-color);\"><b>matplotlib.pyplot.show</b><br/>def show(*args, **kwargs) -&gt; None</pre><pre class=\"function-repr-contents function-repr-contents-collapsed\" style=\"\"><a class=\"filepath\" style=\"display:none\" href=\"#\">/usr/local/lib/python3.11/dist-packages/matplotlib/pyplot.py</a>Display all open figures.\n",
              "\n",
              "Parameters\n",
              "----------\n",
              "block : bool, optional\n",
              "    Whether to wait for all figures to be closed before returning.\n",
              "\n",
              "    If `True` block and run the GUI main loop until all figure windows\n",
              "    are closed.\n",
              "\n",
              "    If `False` ensure that all figure windows are displayed and return\n",
              "    immediately.  In this case, you are responsible for ensuring\n",
              "    that the event loop is running to have responsive figures.\n",
              "\n",
              "    Defaults to True in non-interactive mode and to False in interactive\n",
              "    mode (see `.pyplot.isinteractive`).\n",
              "\n",
              "See Also\n",
              "--------\n",
              "ion : Enable interactive mode, which shows / updates the figure after\n",
              "      every plotting command, so that calling ``show()`` is not necessary.\n",
              "ioff : Disable interactive mode.\n",
              "savefig : Save the figure to an image file instead of showing it on screen.\n",
              "\n",
              "Notes\n",
              "-----\n",
              "**Saving figures to file and showing a window at the same time**\n",
              "\n",
              "If you want an image file as well as a user interface window, use\n",
              "`.pyplot.savefig` before `.pyplot.show`. At the end of (a blocking)\n",
              "``show()`` the figure is closed and thus unregistered from pyplot. Calling\n",
              "`.pyplot.savefig` afterwards would save a new and thus empty figure. This\n",
              "limitation of command order does not apply if the show is non-blocking or\n",
              "if you keep a reference to the figure and use `.Figure.savefig`.\n",
              "\n",
              "**Auto-show in jupyter notebooks**\n",
              "\n",
              "The jupyter backends (activated via ``%matplotlib inline``,\n",
              "``%matplotlib notebook``, or ``%matplotlib widget``), call ``show()`` at\n",
              "the end of every cell by default. Thus, you usually don&#x27;t have to call it\n",
              "explicitly there.</pre>\n",
              "      <script>\n",
              "      if (google.colab.kernel.accessAllowed && google.colab.files && google.colab.files.view) {\n",
              "        for (const element of document.querySelectorAll('.filepath')) {\n",
              "          element.style.display = 'block'\n",
              "          element.onclick = (event) => {\n",
              "            event.preventDefault();\n",
              "            event.stopPropagation();\n",
              "            google.colab.files.view(element.textContent, 569);\n",
              "          };\n",
              "        }\n",
              "      }\n",
              "      for (const element of document.querySelectorAll('.function-repr-contents')) {\n",
              "        element.onclick = (event) => {\n",
              "          event.preventDefault();\n",
              "          event.stopPropagation();\n",
              "          element.classList.toggle('function-repr-contents-collapsed');\n",
              "        };\n",
              "      }\n",
              "      </script>\n",
              "      </div>"
            ],
            "text/plain": [
              "<function matplotlib.pyplot.show(close=None, block=None)>"
            ]
          },
          "execution_count": 125,
          "metadata": {},
          "output_type": "execute_result"
        },
        {
          "data": {
            "image/png": "[encoded data removed]",
            "text/plain": [
              "<Figure size 640x480 with 1 Axes>"
            ]
          },
          "metadata": {},
          "output_type": "display_data"
        }
      ],
      "source": [
        "import matplotlib.pyplot as plt\n",
        "import seaborn as sns\n",
        "\n",
        "experiment_data.hist(bins=10, figsize=(10, 6))\n",
        "plt.tight_layout()\n",
        "plt.show()\n",
        "\n",
        "sns.scatterplot(data=experiment_data, x='concentration', y='reaction_rate')\n",
        "plt.title('Concentration vs Reaction Rate')\n",
        "plt.xlabel('Concentration (mol/L)')\n",
        "plt.ylabel('Reaction rate (mol/L)/s')\n",
        "plt.tight_layout()\n",
        "plt.show"
      ]
    },
    {
      "cell_type": "markdown",
      "metadata": {
        "id": "77TLnGcKfwQE"
      },
      "source": [
        "### Step 3: Merge the two datasets on a common column (e.g., 'experiment_id')"
      ]
    },
    {
      "cell_type": "code",
      "execution_count": null,
      "metadata": {
        "id": "V526eJzEoQpm"
      },
      "outputs": [],
      "source": [
        "merged_data = experiment_data.merge(temperature_conditions, on='experiment_id', how='inner')"
      ]
    },
    {
      "cell_type": "markdown",
      "metadata": {
        "id": "hKsEh1xhf6RF"
      },
      "source": [
        "### Step 4: Handle missing or invalid data"
      ]
    },
    {
      "cell_type": "markdown",
      "metadata": {
        "id": "V_BfFsW_gFBD"
      },
      "source": [
        "4.1: Check for missing values in the merged DataFrame"
      ]
    },
    {
      "cell_type": "code",
      "execution_count": null,
      "metadata": {
        "colab": {
          "base_uri": "https://localhost:8080/"
        },
        "id": "CX044slbgHOq",
        "outputId": "331c4024-f89a-4d73-8820-23cdea3f0400"
      },
      "outputs": [
        {
          "name": "stdout",
          "output_type": "stream",
          "text": [
            "experiment_id            0\n",
            "time                     0\n",
            "concentration            0\n",
            "temperature              0\n",
            "reaction_rate            0\n",
            "temperature_condition    0\n",
            "dtype: int64\n"
          ]
        }
      ],
      "source": [
        "print(merged_data.isnull().sum())"
      ]
    },
    {
      "cell_type": "markdown",
      "metadata": {
        "id": "FPH9a7QPgIOD"
      },
      "source": [
        "4.2: Fill missing temperature values with the average temperature"
      ]
    },
    {
      "cell_type": "code",
      "execution_count": null,
      "metadata": {
        "colab": {
          "base_uri": "https://localhost:8080/"
        },
        "id": "x_zOHQ6qskRK",
        "outputId": "a71aee06-2589-444f-94a7-b2607a3bf198"
      },
      "outputs": [
        {
          "name": "stdout",
          "output_type": "stream",
          "text": [
            "0\n",
            "0     25\n",
            "1     25\n",
            "2     25\n",
            "3     25\n",
            "4     30\n",
            "5     30\n",
            "6     30\n",
            "7     30\n",
            "8     35\n",
            "9     35\n",
            "10    35\n",
            "11    35\n",
            "Name: temperature, dtype: int64\n"
          ]
        }
      ],
      "source": [
        "#there should be 0 data sets that are null, but we are going to go through with this just in case you are given a dataset that is null so yk wassup\n",
        "print(merged_data['temperature'].isnull().sum())\n",
        "merged_data['temperature'] = merged_data['temperature'].fillna(np.nan)\n",
        "print(merged_data['temperature'])"
      ]
    },
    {
      "cell_type": "code",
      "execution_count": null,
      "metadata": {
        "colab": {
          "base_uri": "https://localhost:8080/"
        },
        "id": "iewSciVPvNgS",
        "outputId": "8858b99d-a5c9-48e0-9b17-4f7208d864f7"
      },
      "outputs": [
        {
          "name": "stdout",
          "output_type": "stream",
          "text": [
            "0     25\n",
            "1     25\n",
            "2     25\n",
            "3     25\n",
            "4     30\n",
            "5     30\n",
            "6     30\n",
            "7     30\n",
            "8     35\n",
            "9     35\n",
            "10    35\n",
            "11    35\n",
            "Name: temperature, dtype: int64\n"
          ]
        }
      ],
      "source": [
        "#this says to check the merged data and check the condition of notnull if true then its fine, if false then it will be replaced with the temperature mean\n",
        "merged_data['temperature'] = merged_data['temperature'].where(merged_data['temperature'].notnull(), merged_data['temperature'].mean())\n",
        "print(merged_data['temperature'])"
      ]
    },
    {
      "cell_type": "markdown",
      "metadata": {
        "id": "j66yLtqIgPCx"
      },
      "source": [
        "4.3: Replace negative concentrations or reaction rates with NaN (invalid data)"
      ]
    },
    {
      "cell_type": "code",
      "execution_count": null,
      "metadata": {
        "colab": {
          "base_uri": "https://localhost:8080/"
        },
        "id": "B-fkv0imgWIl",
        "outputId": "25eceec2-cbb2-4c3c-9f19-a58de4461ed6"
      },
      "outputs": [
        {
          "data": {
            "text/html": [
              "<div>\n",
              "<style scoped>\n",
              "    .dataframe tbody tr th:only-of-type {\n",
              "        vertical-align: middle;\n",
              "    }\n",
              "\n",
              "    .dataframe tbody tr th {\n",
              "        vertical-align: top;\n",
              "    }\n",
              "\n",
              "    .dataframe thead th {\n",
              "        text-align: right;\n",
              "    }\n",
              "</style>\n",
              "<table border=\"1\" class=\"dataframe\">\n",
              "  <thead>\n",
              "    <tr style=\"text-align: right;\">\n",
              "      <th></th>\n",
              "      <th>reaction_rate</th>\n",
              "    </tr>\n",
              "  </thead>\n",
              "  <tbody>\n",
              "    <tr>\n",
              "      <th>0</th>\n",
              "      <td>0.0100</td>\n",
              "    </tr>\n",
              "    <tr>\n",
              "      <th>1</th>\n",
              "      <td>0.0090</td>\n",
              "    </tr>\n",
              "    <tr>\n",
              "      <th>2</th>\n",
              "      <td>0.0080</td>\n",
              "    </tr>\n",
              "    <tr>\n",
              "      <th>3</th>\n",
              "      <td>0.0070</td>\n",
              "    </tr>\n",
              "    <tr>\n",
              "      <th>4</th>\n",
              "      <td>0.0200</td>\n",
              "    </tr>\n",
              "    <tr>\n",
              "      <th>5</th>\n",
              "      <td>0.0180</td>\n",
              "    </tr>\n",
              "    <tr>\n",
              "      <th>6</th>\n",
              "      <td>0.0160</td>\n",
              "    </tr>\n",
              "    <tr>\n",
              "      <th>7</th>\n",
              "      <td>0.0140</td>\n",
              "    </tr>\n",
              "    <tr>\n",
              "      <th>8</th>\n",
              "      <td>0.0150</td>\n",
              "    </tr>\n",
              "    <tr>\n",
              "      <th>9</th>\n",
              "      <td>0.0135</td>\n",
              "    </tr>\n",
              "    <tr>\n",
              "      <th>10</th>\n",
              "      <td>0.0120</td>\n",
              "    </tr>\n",
              "    <tr>\n",
              "      <th>11</th>\n",
              "      <td>0.0105</td>\n",
              "    </tr>\n",
              "  </tbody>\n",
              "</table>\n",
              "</div><br><label><b>dtype:</b> float64</label>"
            ],
            "text/plain": [
              "0     0.0100\n",
              "1     0.0090\n",
              "2     0.0080\n",
              "3     0.0070\n",
              "4     0.0200\n",
              "5     0.0180\n",
              "6     0.0160\n",
              "7     0.0140\n",
              "8     0.0150\n",
              "9     0.0135\n",
              "10    0.0120\n",
              "11    0.0105\n",
              "Name: reaction_rate, dtype: float64"
            ]
          },
          "execution_count": 130,
          "metadata": {},
          "output_type": "execute_result"
        }
      ],
      "source": [
        "merged_data['reaction_rate'].where(merged_data['reaction_rate'] < 0,  merged_data['reaction_rate'].fillna(np.nan))"
      ]
    },
    {
      "cell_type": "markdown",
      "metadata": {
        "id": "gJQaff4ggWig"
      },
      "source": [
        " 4.4: Drop rows with missing reaction rate values"
      ]
    },
    {
      "cell_type": "code",
      "execution_count": null,
      "metadata": {
        "id": "-8EZsvhExjni"
      },
      "outputs": [],
      "source": [
        "#so the special thing I did here was make reaction rates a subset. This is bc drop.na is a dataframe thing, so it needs to work on the entire dataframe, not just on a particular thing, do do it on a particular thing, use subset\n",
        "#merged_data['reaction_rate'] = merged_data['reaction_rate'].isnull()\n",
        "#merged_data = merged_data.dropna(subset=['reaction_rate'])"
      ]
    },
    {
      "cell_type": "markdown",
      "metadata": {
        "id": "JC-DULIygcfq"
      },
      "source": [
        "##Step 5: Analyze the data"
      ]
    },
    {
      "cell_type": "markdown",
      "metadata": {
        "id": "qhx5H0Eagi-p"
      },
      "source": [
        "5.1: Group the data by temperature condition and calculate the mean reaction rate"
      ]
    },
    {
      "cell_type": "code",
      "execution_count": null,
      "metadata": {
        "colab": {
          "base_uri": "https://localhost:8080/"
        },
        "id": "fmDPK3rJ1b3B",
        "outputId": "d9199ed7-4728-4cef-f99d-0ebef511ee93"
      },
      "outputs": [
        {
          "data": {
            "text/html": [
              "<div>\n",
              "<style scoped>\n",
              "    .dataframe tbody tr th:only-of-type {\n",
              "        vertical-align: middle;\n",
              "    }\n",
              "\n",
              "    .dataframe tbody tr th {\n",
              "        vertical-align: top;\n",
              "    }\n",
              "\n",
              "    .dataframe thead th {\n",
              "        text-align: right;\n",
              "    }\n",
              "</style>\n",
              "<table border=\"1\" class=\"dataframe\">\n",
              "  <thead>\n",
              "    <tr style=\"text-align: right;\">\n",
              "      <th></th>\n",
              "      <th>reaction_rate</th>\n",
              "    </tr>\n",
              "    <tr>\n",
              "      <th>temperature_condition</th>\n",
              "      <th></th>\n",
              "    </tr>\n",
              "  </thead>\n",
              "  <tbody>\n",
              "    <tr>\n",
              "      <th>Elevated Temperature</th>\n",
              "      <td>0.01700</td>\n",
              "    </tr>\n",
              "    <tr>\n",
              "      <th>High Temperature</th>\n",
              "      <td>0.01275</td>\n",
              "    </tr>\n",
              "    <tr>\n",
              "      <th>Room Temperature</th>\n",
              "      <td>0.00850</td>\n",
              "    </tr>\n",
              "  </tbody>\n",
              "</table>\n",
              "</div><br><label><b>dtype:</b> float64</label>"
            ],
            "text/plain": [
              "temperature_condition\n",
              "Elevated Temperature    0.01700\n",
              "High Temperature        0.01275\n",
              "Room Temperature        0.00850\n",
              "Name: reaction_rate, dtype: float64"
            ]
          },
          "execution_count": 132,
          "metadata": {},
          "output_type": "execute_result"
        }
      ],
      "source": [
        "#what this does is it groups the data with groupby() so it groups reaction rate with respect to teperature and gets the mean\n",
        "#This numbers should be 0 because of the pervious line merged_data['reaction_rate'] = merged_data['reaction_rate'].isnull()\n",
        "mean_reaction_rate_by_temp = merged_data.groupby('temperature_condition')['reaction_rate'].mean()\n",
        "mean_reaction_rate_by_temp"
      ]
    },
    {
      "cell_type": "markdown",
      "metadata": {
        "id": "0k-6N6xIgmIl"
      },
      "source": [
        "5.2: Sort the data by reaction rate to find the highest rate"
      ]
    },
    {
      "cell_type": "code",
      "execution_count": null,
      "metadata": {
        "colab": {
          "base_uri": "https://localhost:8080/"
        },
        "id": "Fe8xpDfcgq4R",
        "outputId": "4bf8ebe8-1bd0-4a9e-a050-1459058f641e"
      },
      "outputs": [
        {
          "data": {
            "text/html": [
              "<div>\n",
              "<style scoped>\n",
              "    .dataframe tbody tr th:only-of-type {\n",
              "        vertical-align: middle;\n",
              "    }\n",
              "\n",
              "    .dataframe tbody tr th {\n",
              "        vertical-align: top;\n",
              "    }\n",
              "\n",
              "    .dataframe thead th {\n",
              "        text-align: right;\n",
              "    }\n",
              "</style>\n",
              "<table border=\"1\" class=\"dataframe\">\n",
              "  <thead>\n",
              "    <tr style=\"text-align: right;\">\n",
              "      <th></th>\n",
              "      <th>reaction_rate</th>\n",
              "    </tr>\n",
              "    <tr>\n",
              "      <th>temperature_condition</th>\n",
              "      <th></th>\n",
              "    </tr>\n",
              "  </thead>\n",
              "  <tbody>\n",
              "    <tr>\n",
              "      <th>Elevated Temperature</th>\n",
              "      <td>0.01700</td>\n",
              "    </tr>\n",
              "    <tr>\n",
              "      <th>High Temperature</th>\n",
              "      <td>0.01275</td>\n",
              "    </tr>\n",
              "    <tr>\n",
              "      <th>Room Temperature</th>\n",
              "      <td>0.00850</td>\n",
              "    </tr>\n",
              "  </tbody>\n",
              "</table>\n",
              "</div><br><label><b>dtype:</b> float64</label>"
            ],
            "text/plain": [
              "temperature_condition\n",
              "Elevated Temperature    0.01700\n",
              "High Temperature        0.01275\n",
              "Room Temperature        0.00850\n",
              "Name: reaction_rate, dtype: float64"
            ]
          },
          "execution_count": 137,
          "metadata": {},
          "output_type": "execute_result"
        }
      ],
      "source": [
        "#So what this does is it takes the reaction rates and then sorts them and then makes it so that the biggest value is on top\n",
        "sorted_rates = mean_reaction_rate_by_temp.sort_values(ascending=False)\n",
        "sorted_rates"
      ]
    },
    {
      "cell_type": "markdown",
      "metadata": {
        "id": "51ajNjvogrXR"
      },
      "source": [
        "###Step 6: Visualize the results (optional, but useful for analysis)"
      ]
    },
    {
      "cell_type": "markdown",
      "metadata": {
        "id": "vGSScLFvgyWV"
      },
      "source": [
        "6.1: Plot reaction rate vs. concentration"
      ]
    },
    {
      "cell_type": "code",
      "execution_count": null,
      "metadata": {
        "colab": {
          "base_uri": "https://localhost:8080/"
        },
        "id": "qEm2wc_eg2pY",
        "outputId": "9de53148-318a-4380-803c-dbaa37c07261"
      },
      "outputs": [
        {
          "data": {
            "text/html": [
              "<div style=\"max-width:800px; border: 1px solid var(--colab-border-color);\"><style>\n",
              "      pre.function-repr-contents {\n",
              "        overflow-x: auto;\n",
              "        padding: 8px 12px;\n",
              "        max-height: 500px;\n",
              "      }\n",
              "\n",
              "      pre.function-repr-contents.function-repr-contents-collapsed {\n",
              "        cursor: pointer;\n",
              "        max-height: 100px;\n",
              "      }\n",
              "    </style>\n",
              "    <pre style=\"white-space: initial; background:\n",
              "         var(--colab-secondary-surface-color); padding: 8px 12px;\n",
              "         border-bottom: 1px solid var(--colab-border-color);\"><b>matplotlib.pyplot.show</b><br/>def show(*args, **kwargs) -&gt; None</pre><pre class=\"function-repr-contents function-repr-contents-collapsed\" style=\"\"><a class=\"filepath\" style=\"display:none\" href=\"#\">/usr/local/lib/python3.11/dist-packages/matplotlib/pyplot.py</a>Display all open figures.\n",
              "\n",
              "Parameters\n",
              "----------\n",
              "block : bool, optional\n",
              "    Whether to wait for all figures to be closed before returning.\n",
              "\n",
              "    If `True` block and run the GUI main loop until all figure windows\n",
              "    are closed.\n",
              "\n",
              "    If `False` ensure that all figure windows are displayed and return\n",
              "    immediately.  In this case, you are responsible for ensuring\n",
              "    that the event loop is running to have responsive figures.\n",
              "\n",
              "    Defaults to True in non-interactive mode and to False in interactive\n",
              "    mode (see `.pyplot.isinteractive`).\n",
              "\n",
              "See Also\n",
              "--------\n",
              "ion : Enable interactive mode, which shows / updates the figure after\n",
              "      every plotting command, so that calling ``show()`` is not necessary.\n",
              "ioff : Disable interactive mode.\n",
              "savefig : Save the figure to an image file instead of showing it on screen.\n",
              "\n",
              "Notes\n",
              "-----\n",
              "**Saving figures to file and showing a window at the same time**\n",
              "\n",
              "If you want an image file as well as a user interface window, use\n",
              "`.pyplot.savefig` before `.pyplot.show`. At the end of (a blocking)\n",
              "``show()`` the figure is closed and thus unregistered from pyplot. Calling\n",
              "`.pyplot.savefig` afterwards would save a new and thus empty figure. This\n",
              "limitation of command order does not apply if the show is non-blocking or\n",
              "if you keep a reference to the figure and use `.Figure.savefig`.\n",
              "\n",
              "**Auto-show in jupyter notebooks**\n",
              "\n",
              "The jupyter backends (activated via ``%matplotlib inline``,\n",
              "``%matplotlib notebook``, or ``%matplotlib widget``), call ``show()`` at\n",
              "the end of every cell by default. Thus, you usually don&#x27;t have to call it\n",
              "explicitly there.</pre>\n",
              "      <script>\n",
              "      if (google.colab.kernel.accessAllowed && google.colab.files && google.colab.files.view) {\n",
              "        for (const element of document.querySelectorAll('.filepath')) {\n",
              "          element.style.display = 'block'\n",
              "          element.onclick = (event) => {\n",
              "            event.preventDefault();\n",
              "            event.stopPropagation();\n",
              "            google.colab.files.view(element.textContent, 569);\n",
              "          };\n",
              "        }\n",
              "      }\n",
              "      for (const element of document.querySelectorAll('.function-repr-contents')) {\n",
              "        element.onclick = (event) => {\n",
              "          event.preventDefault();\n",
              "          event.stopPropagation();\n",
              "          element.classList.toggle('function-repr-contents-collapsed');\n",
              "        };\n",
              "      }\n",
              "      </script>\n",
              "      </div>"
            ],
            "text/plain": [
              "<function matplotlib.pyplot.show(close=None, block=None)>"
            ]
          },
          "execution_count": 142,
          "metadata": {},
          "output_type": "execute_result"
        },
        {
          "data": {
            "image/png": "[encoded data removed]",
            "text/plain": [
              "<Figure size 640x480 with 1 Axes>"
            ]
          },
          "metadata": {},
          "output_type": "display_data"
        }
      ],
      "source": [
        "#so what this does is it makes a scatterplot, says that the data is from the experiment data, dataset, then it assigns which values are x and which are y\n",
        "#It then creates the title and labels the axis' obviously\n",
        "sns.scatterplot(data=experiment_data, x='concentration', y='reaction_rate')\n",
        "plt.title('Concentration vs Reaction Rate')\n",
        "plt.xlabel('Concentration (mol/L)')\n",
        "plt.ylabel('Reaction rate (mol/L)/s')\n",
        "plt.show"
      ]
    },
    {
      "cell_type": "markdown",
      "metadata": {
        "id": "RXR4_WcNg2HD"
      },
      "source": [
        "6.2: Plot the mean reaction rate by temperature condition"
      ]
    },
    {
      "cell_type": "code",
      "execution_count": null,
      "metadata": {
        "colab": {
          "base_uri": "https://localhost:8080/"
        },
        "id": "v9wZ318mhIg6",
        "outputId": "170e6429-1927-401b-c41f-4b98c8dff728"
      },
      "outputs": [
        {
          "data": {
            "image/png": "[encoded data removed]",
            "text/plain": [
              "<Figure size 640x480 with 1 Axes>"
            ]
          },
          "metadata": {},
          "output_type": "display_data"
        },
        {
          "data": {
            "text/html": [
              "<div style=\"max-width:800px; border: 1px solid var(--colab-border-color);\"><style>\n",
              "      pre.function-repr-contents {\n",
              "        overflow-x: auto;\n",
              "        padding: 8px 12px;\n",
              "        max-height: 500px;\n",
              "      }\n",
              "\n",
              "      pre.function-repr-contents.function-repr-contents-collapsed {\n",
              "        cursor: pointer;\n",
              "        max-height: 100px;\n",
              "      }\n",
              "    </style>\n",
              "    <pre style=\"white-space: initial; background:\n",
              "         var(--colab-secondary-surface-color); padding: 8px 12px;\n",
              "         border-bottom: 1px solid var(--colab-border-color);\"><b>matplotlib.pyplot.show</b><br/>def show(*args, **kwargs) -&gt; None</pre><pre class=\"function-repr-contents function-repr-contents-collapsed\" style=\"\"><a class=\"filepath\" style=\"display:none\" href=\"#\">/usr/local/lib/python3.11/dist-packages/matplotlib/pyplot.py</a>Display all open figures.\n",
              "\n",
              "Parameters\n",
              "----------\n",
              "block : bool, optional\n",
              "    Whether to wait for all figures to be closed before returning.\n",
              "\n",
              "    If `True` block and run the GUI main loop until all figure windows\n",
              "    are closed.\n",
              "\n",
              "    If `False` ensure that all figure windows are displayed and return\n",
              "    immediately.  In this case, you are responsible for ensuring\n",
              "    that the event loop is running to have responsive figures.\n",
              "\n",
              "    Defaults to True in non-interactive mode and to False in interactive\n",
              "    mode (see `.pyplot.isinteractive`).\n",
              "\n",
              "See Also\n",
              "--------\n",
              "ion : Enable interactive mode, which shows / updates the figure after\n",
              "      every plotting command, so that calling ``show()`` is not necessary.\n",
              "ioff : Disable interactive mode.\n",
              "savefig : Save the figure to an image file instead of showing it on screen.\n",
              "\n",
              "Notes\n",
              "-----\n",
              "**Saving figures to file and showing a window at the same time**\n",
              "\n",
              "If you want an image file as well as a user interface window, use\n",
              "`.pyplot.savefig` before `.pyplot.show`. At the end of (a blocking)\n",
              "``show()`` the figure is closed and thus unregistered from pyplot. Calling\n",
              "`.pyplot.savefig` afterwards would save a new and thus empty figure. This\n",
              "limitation of command order does not apply if the show is non-blocking or\n",
              "if you keep a reference to the figure and use `.Figure.savefig`.\n",
              "\n",
              "**Auto-show in jupyter notebooks**\n",
              "\n",
              "The jupyter backends (activated via ``%matplotlib inline``,\n",
              "``%matplotlib notebook``, or ``%matplotlib widget``), call ``show()`` at\n",
              "the end of every cell by default. Thus, you usually don&#x27;t have to call it\n",
              "explicitly there.</pre>\n",
              "      <script>\n",
              "      if (google.colab.kernel.accessAllowed && google.colab.files && google.colab.files.view) {\n",
              "        for (const element of document.querySelectorAll('.filepath')) {\n",
              "          element.style.display = 'block'\n",
              "          element.onclick = (event) => {\n",
              "            event.preventDefault();\n",
              "            event.stopPropagation();\n",
              "            google.colab.files.view(element.textContent, 569);\n",
              "          };\n",
              "        }\n",
              "      }\n",
              "      for (const element of document.querySelectorAll('.function-repr-contents')) {\n",
              "        element.onclick = (event) => {\n",
              "          event.preventDefault();\n",
              "          event.stopPropagation();\n",
              "          element.classList.toggle('function-repr-contents-collapsed');\n",
              "        };\n",
              "      }\n",
              "      </script>\n",
              "      </div>"
            ],
            "text/plain": [
              "<function matplotlib.pyplot.show(close=None, block=None)>"
            ]
          },
          "execution_count": 148,
          "metadata": {},
          "output_type": "execute_result"
        },
        {
          "data": {
            "image/png": "[encoded data removed]",
            "text/plain": [
              "<Figure size 640x480 with 1 Axes>"
            ]
          },
          "metadata": {},
          "output_type": "display_data"
        }
      ],
      "source": [
        "#so what this soes is it first takes the reaction rate temp thingy and then takes it from just a string(text)/variable and then turns it into an index with which data can be extrapolated and plotted\n",
        "#it then takes the dataset and chooses where to get the x and y values and I already understand everything else.\n",
        "mean_reaction_rate_by_temp = mean_reaction_rate_by_temp.reset_index()\n",
        "\n",
        "sns.scatterplot(data=mean_reaction_rate_by_temp, x='temperature_condition', y='reaction_rate')\n",
        "plt.title('Mean reaction rate by temperature')\n",
        "plt.xlabel('Temperature (C°)')\n",
        "plt.ylabel('Reaction rate (mol/L)/s')\n",
        "plt.show()\n",
        "plt.ylabel('Reaction rate (mol/L)/s')\n",
        "plt.show"
      ]
    },
    {
      "cell_type": "markdown",
      "metadata": {
        "id": "qaEPm7OOhMZp"
      },
      "source": [
        " Step 7: Save the cleaned data to a new CSV file"
      ]
    },
    {
      "cell_type": "code",
      "execution_count": null,
      "metadata": {
        "colab": {
          "base_uri": "https://localhost:8080/"
        },
        "id": "1SsVh-5CTG-L",
        "outputId": "f1d39dbc-dd25-476f-d01c-d886c8575714"
      },
      "outputs": [
        {
          "name": "stdout",
          "output_type": "stream",
          "text": [
            "cleaned data saved to cleaned_experiment_data.csv\n"
          ]
        }
      ],
      "source": [
        "#it is merged data bc in step 4 that was the name that we gave it, however in 5 we analyzed it.\n",
        "merged_data.to_csv('cleaned_experiment_data.csv', index=False)\n",
        "print(\"cleaned data saved to cleaned_experiment_data.csv\")"
      ]
    },
    {
      "cell_type": "markdown",
      "source": [
        "# Monte Carlo Simulation"
      ],
      "metadata": {
        "id": "H_RfkYSnzUE_"
      }
    },
    {
      "cell_type": "markdown",
      "source": [
        "##Basics"
      ],
      "metadata": {
        "id": "5LS3bivIO7PI"
      }
    },
    {
      "cell_type": "code",
      "source": [
        "#scipy is a library for science shit and can do things like numerical integration, optimization, signal processing, etc.\n",
        "#sympy is for symbolic mathmatics\n",
        "#science plots creates publication style science plots\n",
        "#plt.style.use is used for the apperance of the plot\n",
        "#science is so that the font of the plot looks like those you'd see in science publications\n",
        "#notebook is so that it looks good while working in the notebook\n",
        "!pip install SciencePlots"
      ],
      "metadata": {
        "colab": {
          "base_uri": "https://localhost:8080/"
        },
        "id": "_Bd8jzlRP5az",
        "outputId": "50c807a5-a6a6-4e73-f589-4ef0b7076685",
        "collapsed": true
      },
      "execution_count": null,
      "outputs": [
        {
          "output_type": "stream",
          "name": "stdout",
          "text": [
            "Collecting SciencePlots\n",
            "  Downloading SciencePlots-2.1.1-py3-none-any.whl.metadata (11 kB)\n",
            "Requirement already satisfied: matplotlib in /usr/local/lib/python3.11/dist-packages (from SciencePlots) (3.10.0)\n",
            "Requirement already satisfied: contourpy>=1.0.1 in /usr/local/lib/python3.11/dist-packages (from matplotlib->SciencePlots) (1.3.1)\n",
            "Requirement already satisfied: cycler>=0.10 in /usr/local/lib/python3.11/dist-packages (from matplotlib->SciencePlots) (0.12.1)\n",
            "Requirement already satisfied: fonttools>=4.22.0 in /usr/local/lib/python3.11/dist-packages (from matplotlib->SciencePlots) (4.55.7)\n",
            "Requirement already satisfied: kiwisolver>=1.3.1 in /usr/local/lib/python3.11/dist-packages (from matplotlib->SciencePlots) (1.4.8)\n",
            "Requirement already satisfied: numpy>=1.23 in /usr/local/lib/python3.11/dist-packages (from matplotlib->SciencePlots) (1.26.4)\n",
            "Requirement already satisfied: packaging>=20.0 in /usr/local/lib/python3.11/dist-packages (from matplotlib->SciencePlots) (24.2)\n",
            "Requirement already satisfied: pillow>=8 in /usr/local/lib/python3.11/dist-packages (from matplotlib->SciencePlots) (11.1.0)\n",
            "Requirement already satisfied: pyparsing>=2.3.1 in /usr/local/lib/python3.11/dist-packages (from matplotlib->SciencePlots) (3.2.1)\n",
            "Requirement already satisfied: python-dateutil>=2.7 in /usr/local/lib/python3.11/dist-packages (from matplotlib->SciencePlots) (2.8.2)\n",
            "Requirement already satisfied: six>=1.5 in /usr/local/lib/python3.11/dist-packages (from python-dateutil>=2.7->matplotlib->SciencePlots) (1.17.0)\n",
            "Downloading SciencePlots-2.1.1-py3-none-any.whl (16 kB)\n",
            "Installing collected packages: SciencePlots\n",
            "Successfully installed SciencePlots-2.1.1\n"
          ]
        }
      ]
    },
    {
      "cell_type": "code",
      "source": [
        "import matplotlib.pyplot as plt\n",
        "import numpy as np\n",
        "import scipy as sp\n",
        "import sympy as smp\n",
        "import scienceplots\n",
        "plt.style.use(['science','notebook']) # or plt.style.use('science')"
      ],
      "metadata": {
        "id": "-XPsuKKcgPc0"
      },
      "execution_count": null,
      "outputs": []
    },
    {
      "cell_type": "markdown",
      "source": [
        "The purpose of Monte Carlo is to simulate a real life experiment that depends on randomness to some extent.\n",
        "\n",
        "* Counting number of radioactive decays from some radioactive source in a time interval $\\Delta t$. The random variable here number of counts $N$ (positive integer) and follows a **Poisson** probability mass function.\n",
        "\n",
        "$$f(x) = \\frac{e^{-\\lambda} \\lambda^x}{x!}$$\n",
        "\n",
        "* Determining the energy of detected particles in a detector cell in the ATLAS calorimeter in a time interval $\\Delta t$. The random variable here is energy $E$ (positive real number) and the corresponding probability density function is.\n",
        "\n",
        "$$f(x) = F_1e^{-\\sqrt{x/E_1}} + F_2e^{-\\sqrt{x/E_2}}$$\n",
        "\n",
        "* Determining the distance a particle travels through matter before it completely decays. The random variable here is distance $X$ and a really simple probability density function model might be\n",
        "\n",
        "$$f(x) = \\frac{x_0}{x^2} \\hspace{10mm} x \\geq x_0$$\n",
        "\n",
        "* **Estimating a value for $\\pi$**\n",
        "\n",
        "For most cases this boils down into two steps\n",
        "\n",
        "\n",
        "#### 2: Use These Random Variables to Conduct Some Experiment\n"
      ],
      "metadata": {
        "id": "SyfAUhVlaoIj"
      }
    },
    {
      "cell_type": "markdown",
      "source": [
        "## 1: Generate Random Variables According to a Distribution\n",
        "###invertng the cdf analytically\n",
        "\n",
        "**Theorem**: If a random variable $X$ has a CDF of $F(x)$ then the variable $F^{-1}(U)$, where $U$ is a random uniform variable between 0 and 1, also has CDF $F(x)$\n",
        "\n",
        "$$X \\sim F(x) \\implies F^{-1}(U) \\sim F(x)$$\n",
        "\n",
        "**Example**: The exponential distribution is\n",
        "\n",
        "$$f(x) = \\lambda e^{-\\lambda x} \\implies F(x) = 1-e^{-\\lambda x}$$"
      ],
      "metadata": {
        "id": "eEadoyo-cilX"
      }
    },
    {
      "cell_type": "code",
      "source": [
        "#Since that monte carlo works with random shits we first we need to generate random variables ofc.\n",
        "#CDF = cumulative desnsity function. the integral from - infinity to x. f and F are equal.\n",
        "#linspace creates evenly spaced numbers from 0 to 3, and evenly spaces them between 100 things. Since that we are just creating random variables\n",
        "x = np.linspace(0, 3, 100)\n",
        "#this is saying that lambda is equal to 2. and that F(x) is theintegral of f(x) so it says f = lambda times e(np.exp) raised to the -2x\n",
        "#then F = 1 - e to the -2x\n",
        "f = 2*np.exp(-2*x)\n",
        "F = 1-np.exp(-2*x)"
      ],
      "metadata": {
        "id": "2meUSTgvansn"
      },
      "execution_count": null,
      "outputs": []
    },
    {
      "cell_type": "markdown",
      "source": [
        "plot"
      ],
      "metadata": {
        "id": "nvnXWjavclcR"
      }
    },
    {
      "cell_type": "code",
      "source": [
        "plt.figure(figsize=(8, 3))\n",
        "#what this does is it plots c and f, and label is what gives us those labels in the top right. What the r'$...$'do is put it in LaTex format\n",
        "#however they are completely unnecessary here so you don't need to put them if you don't want to\n",
        "plt.plot(x, f, label=r'$f(x)$')\n",
        "plt.plot(x, F, label=r'$F(x)$')\n",
        "plt.legend()\n",
        "plt.xlabel('$x$', fontsize=20)\n",
        "plt.show"
      ],
      "metadata": {
        "id": "-QgqrrQzcwBP",
        "colab": {
          "base_uri": "https://localhost:8080/",
          "height": 485
        },
        "outputId": "511098c4-f6ee-49fa-f031-4abad2948425"
      },
      "execution_count": null,
      "outputs": [
        {
          "output_type": "execute_result",
          "data": {
            "text/plain": [
              "<function matplotlib.pyplot.show(close=None, block=None)>"
            ],
            "text/html": [
              "<div style=\"max-width:800px; border: 1px solid var(--colab-border-color);\"><style>\n",
              "      pre.function-repr-contents {\n",
              "        overflow-x: auto;\n",
              "        padding: 8px 12px;\n",
              "        max-height: 500px;\n",
              "      }\n",
              "\n",
              "      pre.function-repr-contents.function-repr-contents-collapsed {\n",
              "        cursor: pointer;\n",
              "        max-height: 100px;\n",
              "      }\n",
              "    </style>\n",
              "    <pre style=\"white-space: initial; background:\n",
              "         var(--colab-secondary-surface-color); padding: 8px 12px;\n",
              "         border-bottom: 1px solid var(--colab-border-color);\"><b>matplotlib.pyplot.show</b><br/>def show(*args, **kwargs) -&gt; None</pre><pre class=\"function-repr-contents function-repr-contents-collapsed\" style=\"\"><a class=\"filepath\" style=\"display:none\" href=\"#\">/usr/local/lib/python3.11/dist-packages/matplotlib/pyplot.py</a>Display all open figures.\n",
              "\n",
              "Parameters\n",
              "----------\n",
              "block : bool, optional\n",
              "    Whether to wait for all figures to be closed before returning.\n",
              "\n",
              "    If `True` block and run the GUI main loop until all figure windows\n",
              "    are closed.\n",
              "\n",
              "    If `False` ensure that all figure windows are displayed and return\n",
              "    immediately.  In this case, you are responsible for ensuring\n",
              "    that the event loop is running to have responsive figures.\n",
              "\n",
              "    Defaults to True in non-interactive mode and to False in interactive\n",
              "    mode (see `.pyplot.isinteractive`).\n",
              "\n",
              "See Also\n",
              "--------\n",
              "ion : Enable interactive mode, which shows / updates the figure after\n",
              "      every plotting command, so that calling ``show()`` is not necessary.\n",
              "ioff : Disable interactive mode.\n",
              "savefig : Save the figure to an image file instead of showing it on screen.\n",
              "\n",
              "Notes\n",
              "-----\n",
              "**Saving figures to file and showing a window at the same time**\n",
              "\n",
              "If you want an image file as well as a user interface window, use\n",
              "`.pyplot.savefig` before `.pyplot.show`. At the end of (a blocking)\n",
              "``show()`` the figure is closed and thus unregistered from pyplot. Calling\n",
              "`.pyplot.savefig` afterwards would save a new and thus empty figure. This\n",
              "limitation of command order does not apply if the show is non-blocking or\n",
              "if you keep a reference to the figure and use `.Figure.savefig`.\n",
              "\n",
              "**Auto-show in jupyter notebooks**\n",
              "\n",
              "The jupyter backends (activated via ``%matplotlib inline``,\n",
              "``%matplotlib notebook``, or ``%matplotlib widget``), call ``show()`` at\n",
              "the end of every cell by default. Thus, you usually don&#x27;t have to call it\n",
              "explicitly there.</pre>\n",
              "      <script>\n",
              "      if (google.colab.kernel.accessAllowed && google.colab.files && google.colab.files.view) {\n",
              "        for (const element of document.querySelectorAll('.filepath')) {\n",
              "          element.style.display = 'block'\n",
              "          element.onclick = (event) => {\n",
              "            event.preventDefault();\n",
              "            event.stopPropagation();\n",
              "            google.colab.files.view(element.textContent, 569);\n",
              "          };\n",
              "        }\n",
              "      }\n",
              "      for (const element of document.querySelectorAll('.function-repr-contents')) {\n",
              "        element.onclick = (event) => {\n",
              "          event.preventDefault();\n",
              "          event.stopPropagation();\n",
              "          element.classList.toggle('function-repr-contents-collapsed');\n",
              "        };\n",
              "      }\n",
              "      </script>\n",
              "      </div>"
            ]
          },
          "metadata": {},
          "execution_count": 4
        },
        {
          "output_type": "display_data",
          "data": {
            "text/plain": [
              "<Figure size 800x300 with 1 Axes>"
            ],
            "image/png": "[encoded data removed]"
          },
          "metadata": {}
        }
      ]
    },
    {
      "cell_type": "markdown",
      "source": [
        "Using $F[F^{-1}(x)]=x$ We get\n",
        "\n",
        "$$1-e^{-\\lambda F^{-1}(x)} = x \\implies \\boxed{F^{-1}(x) = -\\frac{\\ln(1-x)}{\\lambda}}$$\n",
        "\n",
        "So if we evaluate a bunch of random uniform variables $U$ and evaluate $F^{-1}(U)$, they should be distributed according to $f(x)$ above"
      ],
      "metadata": {
        "id": "Pe8SJ3XWcxit"
      }
    },
    {
      "cell_type": "code",
      "source": [
        "#this creates a bunch of random uniform variables\n",
        "Us = np.random.rand(10000)"
      ],
      "metadata": {
        "id": "DOb1_KNoc1iz"
      },
      "execution_count": null,
      "outputs": []
    },
    {
      "cell_type": "code",
      "source": [
        "Us = np.random.rand(10000)\n",
        "#this just follows the problem above, f inverse of u, u=x = log(1-U)/lambda. lambda = 2\n",
        "F_inv_U = -np.log(1-Us)/2"
      ],
      "metadata": {
        "id": "mwqDSEx8c2FG"
      },
      "execution_count": null,
      "outputs": []
    },
    {
      "cell_type": "markdown",
      "source": [
        "Lets plot these and see if they really are distributed according to $f(x)$"
      ],
      "metadata": {
        "id": "DpcoJ5sYc21u"
      }
    },
    {
      "cell_type": "code",
      "source": [
        "plt.figure(figsize=(8, 3))\n",
        "plt.plot(x, f, label=r'$f(x)$')\n",
        "#the norm density makes it so that the area under the curve of it is equal to 1. which helps when comparing it to probability functions\n",
        "#the bins divides the data into 100 bins, so those red things is 100\n",
        "plt.hist(F_inv_U, histtype='step', color='red', density='norm', bins=100, label='$F^{-1}(u)$')\n",
        "plt.xlabel('$x$', fontsize=20)\n",
        "plt.legend()\n",
        "plt.show"
      ],
      "metadata": {
        "id": "xdtC0E3jdCHa",
        "colab": {
          "base_uri": "https://localhost:8080/",
          "height": 485
        },
        "outputId": "60324f36-f7b4-41c5-e752-1262084ddfb3"
      },
      "execution_count": null,
      "outputs": [
        {
          "output_type": "execute_result",
          "data": {
            "text/plain": [
              "<function matplotlib.pyplot.show(close=None, block=None)>"
            ],
            "text/html": [
              "<div style=\"max-width:800px; border: 1px solid var(--colab-border-color);\"><style>\n",
              "      pre.function-repr-contents {\n",
              "        overflow-x: auto;\n",
              "        padding: 8px 12px;\n",
              "        max-height: 500px;\n",
              "      }\n",
              "\n",
              "      pre.function-repr-contents.function-repr-contents-collapsed {\n",
              "        cursor: pointer;\n",
              "        max-height: 100px;\n",
              "      }\n",
              "    </style>\n",
              "    <pre style=\"white-space: initial; background:\n",
              "         var(--colab-secondary-surface-color); padding: 8px 12px;\n",
              "         border-bottom: 1px solid var(--colab-border-color);\"><b>matplotlib.pyplot.show</b><br/>def show(*args, **kwargs) -&gt; None</pre><pre class=\"function-repr-contents function-repr-contents-collapsed\" style=\"\"><a class=\"filepath\" style=\"display:none\" href=\"#\">/usr/local/lib/python3.11/dist-packages/matplotlib/pyplot.py</a>Display all open figures.\n",
              "\n",
              "Parameters\n",
              "----------\n",
              "block : bool, optional\n",
              "    Whether to wait for all figures to be closed before returning.\n",
              "\n",
              "    If `True` block and run the GUI main loop until all figure windows\n",
              "    are closed.\n",
              "\n",
              "    If `False` ensure that all figure windows are displayed and return\n",
              "    immediately.  In this case, you are responsible for ensuring\n",
              "    that the event loop is running to have responsive figures.\n",
              "\n",
              "    Defaults to True in non-interactive mode and to False in interactive\n",
              "    mode (see `.pyplot.isinteractive`).\n",
              "\n",
              "See Also\n",
              "--------\n",
              "ion : Enable interactive mode, which shows / updates the figure after\n",
              "      every plotting command, so that calling ``show()`` is not necessary.\n",
              "ioff : Disable interactive mode.\n",
              "savefig : Save the figure to an image file instead of showing it on screen.\n",
              "\n",
              "Notes\n",
              "-----\n",
              "**Saving figures to file and showing a window at the same time**\n",
              "\n",
              "If you want an image file as well as a user interface window, use\n",
              "`.pyplot.savefig` before `.pyplot.show`. At the end of (a blocking)\n",
              "``show()`` the figure is closed and thus unregistered from pyplot. Calling\n",
              "`.pyplot.savefig` afterwards would save a new and thus empty figure. This\n",
              "limitation of command order does not apply if the show is non-blocking or\n",
              "if you keep a reference to the figure and use `.Figure.savefig`.\n",
              "\n",
              "**Auto-show in jupyter notebooks**\n",
              "\n",
              "The jupyter backends (activated via ``%matplotlib inline``,\n",
              "``%matplotlib notebook``, or ``%matplotlib widget``), call ``show()`` at\n",
              "the end of every cell by default. Thus, you usually don&#x27;t have to call it\n",
              "explicitly there.</pre>\n",
              "      <script>\n",
              "      if (google.colab.kernel.accessAllowed && google.colab.files && google.colab.files.view) {\n",
              "        for (const element of document.querySelectorAll('.filepath')) {\n",
              "          element.style.display = 'block'\n",
              "          element.onclick = (event) => {\n",
              "            event.preventDefault();\n",
              "            event.stopPropagation();\n",
              "            google.colab.files.view(element.textContent, 569);\n",
              "          };\n",
              "        }\n",
              "      }\n",
              "      for (const element of document.querySelectorAll('.function-repr-contents')) {\n",
              "        element.onclick = (event) => {\n",
              "          event.preventDefault();\n",
              "          event.stopPropagation();\n",
              "          element.classList.toggle('function-repr-contents-collapsed');\n",
              "        };\n",
              "      }\n",
              "      </script>\n",
              "      </div>"
            ]
          },
          "metadata": {},
          "execution_count": 7
        },
        {
          "output_type": "display_data",
          "data": {
            "text/plain": [
              "<Figure size 800x300 with 1 Axes>"
            ],
            "image/png": "[encoded data removed]"
          },
          "metadata": {}
        }
      ]
    },
    {
      "cell_type": "markdown",
      "source": [
        "## 1.2 Using a Search Sort Algorithm"
      ],
      "metadata": {
        "id": "W4V69WEPdGU1"
      }
    },
    {
      "cell_type": "markdown",
      "source": [
        "Sometimes $F(x)$ isn't invertible analystically. BUT\n",
        "\n",
        "* $F(x)$ is always increasing with $x$\n",
        "\n",
        "So it is necessarily invertible (there just might not be a formula for it).\n",
        "\n",
        "$$f(x) = F_1e^{-\\sqrt{x/E_1}} + F_2e^{-\\sqrt{x/E_2}}$$"
      ],
      "metadata": {
        "id": "GKK7y2oXdNxu"
      }
    },
    {
      "cell_type": "markdown",
      "source": [
        "get parameters and actual numerical values"
      ],
      "metadata": {
        "id": "o20oGfUodWzh"
      }
    },
    {
      "source": [
        "#This creates variable for us to use, smp.symbols creates symbolic variables\n",
        "#real=True means treat the variables as true numbers and assume theyre positive\n",
        "x, y, F1, F2, E1, E2 = smp.symbols('x y F_1 F_2 E_1 E_2', real=True, positive=True)\n",
        "fs = F1*smp.exp(-smp.sqrt(x/E1)) + F2*smp.exp(-smp.sqrt(x/E2))\n",
        "\n",
        "# this says integrate fs with respect to x, within the integration bounds of 0 to y\n",
        "# .doit() is showing that we actually want it calculated, not just printed\n",
        "Fs = smp.integrate(fs, (x,0,y)).doit() #the s in fs means symbolic\n",
        "\n",
        "#smp.lambdify takes this from sympy to numpy. taking it from symbolic to something that can be literally worked with.\n",
        "#so these variables fn and Fn make the variables y x and blah real and numerically operable\n",
        "Fn = smp.lambdify((y, E1, E2, F1, F2), Fs) # Lambdify with respect to y\n",
        "fn = smp.lambdify((x, E1, E2, F1, F2), fs) #the n in fn means numerical\n",
        "\n",
        "#we are assigning numerical values to the variables\n",
        "E1 = E2 = 0.2\n",
        "F1 = 1.3\n",
        "F2 = 1.4\n",
        "#evenly spaced numbers between 0 and 5 split within 1000 values\n",
        "x_num = np.linspace(0, 5, 1000)  # Numerical values for x\n",
        "f = fn(x_num, E1, E2, F1, F2)\n",
        "F = Fn(x_num, E1, E2, F1, F2) # Use x_num here as well"
      ],
      "cell_type": "code",
      "metadata": {
        "id": "T50eDH0VcKgz"
      },
      "execution_count": null,
      "outputs": []
    },
    {
      "cell_type": "markdown",
      "source": [
        "plot"
      ],
      "metadata": {
        "id": "SnANv1XDdhyv"
      }
    },
    {
      "cell_type": "code",
      "source": [
        "#you got this on lock lwk\n",
        "plt.figure(figsize=(8, 3))\n",
        "plt.plot(x_num, f, label=r'$f(x)$')\n",
        "plt.plot(x_num, F, label=r'$F(x)$')\n",
        "plt.xlabel('$x$', fontsize=20)\n",
        "plt.legend()\n",
        "plt.show"
      ],
      "metadata": {
        "id": "SbERUnLtdcXG",
        "colab": {
          "base_uri": "https://localhost:8080/",
          "height": 485
        },
        "outputId": "7fc20a03-0819-4c9e-eb20-d3f4944acdf3"
      },
      "execution_count": null,
      "outputs": [
        {
          "output_type": "execute_result",
          "data": {
            "text/plain": [
              "<function matplotlib.pyplot.show(close=None, block=None)>"
            ],
            "text/html": [
              "<div style=\"max-width:800px; border: 1px solid var(--colab-border-color);\"><style>\n",
              "      pre.function-repr-contents {\n",
              "        overflow-x: auto;\n",
              "        padding: 8px 12px;\n",
              "        max-height: 500px;\n",
              "      }\n",
              "\n",
              "      pre.function-repr-contents.function-repr-contents-collapsed {\n",
              "        cursor: pointer;\n",
              "        max-height: 100px;\n",
              "      }\n",
              "    </style>\n",
              "    <pre style=\"white-space: initial; background:\n",
              "         var(--colab-secondary-surface-color); padding: 8px 12px;\n",
              "         border-bottom: 1px solid var(--colab-border-color);\"><b>matplotlib.pyplot.show</b><br/>def show(*args, **kwargs) -&gt; None</pre><pre class=\"function-repr-contents function-repr-contents-collapsed\" style=\"\"><a class=\"filepath\" style=\"display:none\" href=\"#\">/usr/local/lib/python3.11/dist-packages/matplotlib/pyplot.py</a>Display all open figures.\n",
              "\n",
              "Parameters\n",
              "----------\n",
              "block : bool, optional\n",
              "    Whether to wait for all figures to be closed before returning.\n",
              "\n",
              "    If `True` block and run the GUI main loop until all figure windows\n",
              "    are closed.\n",
              "\n",
              "    If `False` ensure that all figure windows are displayed and return\n",
              "    immediately.  In this case, you are responsible for ensuring\n",
              "    that the event loop is running to have responsive figures.\n",
              "\n",
              "    Defaults to True in non-interactive mode and to False in interactive\n",
              "    mode (see `.pyplot.isinteractive`).\n",
              "\n",
              "See Also\n",
              "--------\n",
              "ion : Enable interactive mode, which shows / updates the figure after\n",
              "      every plotting command, so that calling ``show()`` is not necessary.\n",
              "ioff : Disable interactive mode.\n",
              "savefig : Save the figure to an image file instead of showing it on screen.\n",
              "\n",
              "Notes\n",
              "-----\n",
              "**Saving figures to file and showing a window at the same time**\n",
              "\n",
              "If you want an image file as well as a user interface window, use\n",
              "`.pyplot.savefig` before `.pyplot.show`. At the end of (a blocking)\n",
              "``show()`` the figure is closed and thus unregistered from pyplot. Calling\n",
              "`.pyplot.savefig` afterwards would save a new and thus empty figure. This\n",
              "limitation of command order does not apply if the show is non-blocking or\n",
              "if you keep a reference to the figure and use `.Figure.savefig`.\n",
              "\n",
              "**Auto-show in jupyter notebooks**\n",
              "\n",
              "The jupyter backends (activated via ``%matplotlib inline``,\n",
              "``%matplotlib notebook``, or ``%matplotlib widget``), call ``show()`` at\n",
              "the end of every cell by default. Thus, you usually don&#x27;t have to call it\n",
              "explicitly there.</pre>\n",
              "      <script>\n",
              "      if (google.colab.kernel.accessAllowed && google.colab.files && google.colab.files.view) {\n",
              "        for (const element of document.querySelectorAll('.filepath')) {\n",
              "          element.style.display = 'block'\n",
              "          element.onclick = (event) => {\n",
              "            event.preventDefault();\n",
              "            event.stopPropagation();\n",
              "            google.colab.files.view(element.textContent, 569);\n",
              "          };\n",
              "        }\n",
              "      }\n",
              "      for (const element of document.querySelectorAll('.function-repr-contents')) {\n",
              "        element.onclick = (event) => {\n",
              "          event.preventDefault();\n",
              "          event.stopPropagation();\n",
              "          element.classList.toggle('function-repr-contents-collapsed');\n",
              "        };\n",
              "      }\n",
              "      </script>\n",
              "      </div>"
            ]
          },
          "metadata": {},
          "execution_count": 32
        },
        {
          "output_type": "display_data",
          "data": {
            "text/plain": [
              "<Figure size 800x300 with 1 Axes>"
            ],
            "image/png": "[encoded data removed]"
          },
          "metadata": {}
        }
      ]
    },
    {
      "cell_type": "markdown",
      "source": [
        "Clearly $F(x)$ is always increasing but inverting that formula would be a real pain. How can we approximate $F^{-1}(x)$ given he information we have?"
      ],
      "metadata": {
        "id": "FdoJiizEdSQ1"
      }
    },
    {
      "cell_type": "code",
      "source": [
        "#np.searchsorted finds the right x value to plug into Us in order to get it's inverse\n",
        "F_inv_Us = x_num[np.searchsorted(F[:-1], Us)]"
      ],
      "metadata": {
        "id": "MMpgBtsldnkx"
      },
      "execution_count": null,
      "outputs": []
    },
    {
      "cell_type": "markdown",
      "source": [
        "plot"
      ],
      "metadata": {
        "id": "HxyQ_iIsdoch"
      }
    },
    {
      "cell_type": "code",
      "source": [
        "plt.figure(figsize=(8, 3))\n",
        "plt.plot(x_num, f, label=r'$f(x)$')\n",
        "plt.hist(F_inv_Us, histtype='step', color='red', density='norm', bins=100, label='$F^[-1] (U)$')\n",
        "plt.xlabel('$x$', fontsize=20)\n",
        "plt.xlim(0, 2)\n",
        "plt.legend()\n",
        "plt.show()"
      ],
      "metadata": {
        "id": "VXsJDEt6dp1L",
        "colab": {
          "base_uri": "https://localhost:8080/",
          "height": 316
        },
        "outputId": "68b2afd9-71a2-4513-9aeb-5b392bdc0d0c"
      },
      "execution_count": null,
      "outputs": [
        {
          "output_type": "display_data",
          "data": {
            "text/plain": [
              "<Figure size 800x300 with 1 Axes>"
            ],
            "image/png": "[encoded data removed]"
          },
          "metadata": {}
        }
      ]
    },
    {
      "cell_type": "markdown",
      "source": [
        "## 1.3 Built In Random Variables"
      ],
      "metadata": {
        "id": "B9QbQQYadseY"
      }
    },
    {
      "cell_type": "code",
      "source": [
        "#np.random ofc mk=akes random numbers, rayleigh is to generate those numbers in a rayleigh distribution.\n",
        "#rayleigh is often used for heights winds speeds, signal strengths etc.\n",
        "r = np.random.rayleigh(size=1000)"
      ],
      "metadata": {
        "id": "dcAo5Drwdt7b"
      },
      "execution_count": null,
      "outputs": []
    },
    {
      "cell_type": "markdown",
      "source": [
        "plot"
      ],
      "metadata": {
        "id": "9V5vpOeqdvF6"
      }
    },
    {
      "cell_type": "code",
      "source": [
        "#This creates a histogram from the r variable\n",
        "plt.hist(r, bins=100)\n",
        "plt.show()"
      ],
      "metadata": {
        "id": "upgoz6zCdwJk",
        "colab": {
          "base_uri": "https://localhost:8080/",
          "height": 513
        },
        "outputId": "f98efb35-d965-4031-ffd9-857623d05ec8"
      },
      "execution_count": null,
      "outputs": [
        {
          "output_type": "display_data",
          "data": {
            "text/plain": [
              "<Figure size 800x600 with 1 Axes>"
            ],
            "image/png": "[encoded data removed]"
          },
          "metadata": {}
        }
      ]
    },
    {
      "cell_type": "markdown",
      "source": [
        "many other functions too:"
      ],
      "metadata": {
        "id": "00T3gzkpdzHc"
      }
    },
    {
      "cell_type": "code",
      "source": [
        "#this gives you the type of distributions that np can do\n",
        "np.random?"
      ],
      "metadata": {
        "id": "JejCmjRrd1L3"
      },
      "execution_count": null,
      "outputs": []
    },
    {
      "cell_type": "markdown",
      "source": [
        "## 2: Use These Random Variables To Conduct an Experiment"
      ],
      "metadata": {
        "id": "l1M1YnX1d4cS"
      }
    },
    {
      "cell_type": "markdown",
      "source": [
        "* The amount of particles that enter a detector in 10s is a random variable $X$ with distribution\n",
        "\n",
        "$$f(x) = \\frac{e^{-\\lambda} \\lambda^x}{x!}$$\n",
        "\n",
        "* The energy deposited by each particle is a random variable $E$ with distribution\n",
        "\n",
        "$$g(x) = F_1e^{-\\sqrt{x/E_1}} + F_2e^{-\\sqrt{x/E_2}}$$"
      ],
      "metadata": {
        "id": "90dIeJdZd_oe"
      }
    },
    {
      "cell_type": "markdown",
      "source": [
        "The parameters are\n",
        "* $\\lambda = 4$\n",
        "* $F_1=1.3$ GeV$^{-1}$\n",
        "* $F_2=1.4$ GeV$^{-1}$\n",
        "* $E_1=0.1$ GeV\n",
        "* $E_2=0.2$ GeV"
      ],
      "metadata": {
        "id": "MQ3FzWfHeC3t"
      }
    },
    {
      "cell_type": "markdown",
      "source": [
        "Simulate the energy in the detector over 100000 experiments of 10 seconds each. Plot the distribution"
      ],
      "metadata": {
        "id": "pUtKxepQeF7Q"
      }
    },
    {
      "cell_type": "code",
      "source": [
        "N = 100000 #this is the iteration, how many times the simulation will be runned in the experiment\n",
        "X = np.random.poisson(lam=4, size=N) #poisson is a distribution type lam=4 means that lambda = 4. and size tells how many random numbers to be generated\n",
        "x = np.linspace(0, 5, 1000)\n",
        "F = Fn(x, E1, E2, F1, F2) #Fn is a cumulative distribution that has already been defines\n",
        "Us = np.random.rand(X.sum()) #x.sum generates the sum of all the numbers in the poisson distribution\n",
        "E = x[np.searchsorted(F[:-1], Us)]"
      ],
      "metadata": {
        "id": "aRL0Cgihd7CW"
      },
      "execution_count": null,
      "outputs": []
    },
    {
      "cell_type": "markdown",
      "source": [
        "Get a net sum of how many particles were detected total after $n$ experiments:"
      ],
      "metadata": {
        "id": "8v4h7wJ7eHM7"
      }
    },
    {
      "cell_type": "code",
      "source": [
        "#x.cumsum is the number or particles calculated in the X variable\n",
        "#np.insert inserts a 0 at the beginning of the indez of the cumulative sum, this is bc in the first experiment there should be 0 particles detected\n",
        "#-1 removes the last number of the array, its not needed here but still\n",
        "idx = np.insert(X.cumsum(), 0, 0)[:-1]\n",
        "#this prints the first 10 elements of the index\n",
        "idx[0:10]\n",
        "#this is useful for accessing and analyzing energies of particles grouped by experiment\n",
        "#the numbers are the total particles detected"
      ],
      "metadata": {
        "id": "FCAVdQ22eMvG",
        "colab": {
          "base_uri": "https://localhost:8080/"
        },
        "outputId": "8b1c7291-debf-40f2-c69e-70a1d26e42b1"
      },
      "execution_count": null,
      "outputs": [
        {
          "output_type": "execute_result",
          "data": {
            "text/plain": [
              "array([ 0,  2,  4,  4, 10, 12, 15, 16, 21, 25])"
            ]
          },
          "metadata": {},
          "execution_count": 58
        }
      ]
    },
    {
      "cell_type": "markdown",
      "source": [
        "use these values to sum energies for each experiment"
      ],
      "metadata": {
        "id": "pMins6O5eRNV"
      }
    },
    {
      "cell_type": "code",
      "source": [
        "#E is a variable that we choose arbitrarily but it stands for energy, so this is saying get\n",
        "#me the energy of the first 10 particles.\n",
        "E[0:10]"
      ],
      "metadata": {
        "id": "aRVxE_lTeUrI",
        "colab": {
          "base_uri": "https://localhost:8080/"
        },
        "outputId": "bf45b578-7e5f-485f-9429-d9a32bdfdec3"
      },
      "execution_count": null,
      "outputs": [
        {
          "output_type": "execute_result",
          "data": {
            "text/plain": [
              "array([0.31531532, 0.04504505, 0.11011011, 0.35535536, 0.68068068,\n",
              "       0.28528529, 1.77677678, 1.42142142, 0.03003003, 0.32532533])"
            ]
          },
          "metadata": {},
          "execution_count": 59
        }
      ]
    },
    {
      "cell_type": "code",
      "source": [
        "#I cant' undertand this in its full complexity but its kind of like summation notation pero it can work with arbitrary numeros\n",
        "E_10s = np.add.reduceat(E, idx)"
      ],
      "metadata": {
        "id": "EBTV7PervsZY"
      },
      "execution_count": null,
      "outputs": []
    },
    {
      "cell_type": "markdown",
      "source": [
        "plot"
      ],
      "metadata": {
        "id": "J5tjzd6zeXAd"
      }
    },
    {
      "cell_type": "code",
      "source": [
        "plt.figure(figsize=(5, 3))\n",
        "plt.hist(E_10s, bins=100)\n",
        "plt.xlabel('Energy [GeV]', fontsize=20)\n",
        "plt.ylabel('# Occurences')\n",
        "plt.show"
      ],
      "metadata": {
        "id": "M4SviRC4eYgl",
        "colab": {
          "base_uri": "https://localhost:8080/",
          "height": 485
        },
        "outputId": "6d18d65c-b34e-40c9-9702-a94045e9d610"
      },
      "execution_count": null,
      "outputs": [
        {
          "output_type": "execute_result",
          "data": {
            "text/plain": [
              "<function matplotlib.pyplot.show(close=None, block=None)>"
            ],
            "text/html": [
              "<div style=\"max-width:800px; border: 1px solid var(--colab-border-color);\"><style>\n",
              "      pre.function-repr-contents {\n",
              "        overflow-x: auto;\n",
              "        padding: 8px 12px;\n",
              "        max-height: 500px;\n",
              "      }\n",
              "\n",
              "      pre.function-repr-contents.function-repr-contents-collapsed {\n",
              "        cursor: pointer;\n",
              "        max-height: 100px;\n",
              "      }\n",
              "    </style>\n",
              "    <pre style=\"white-space: initial; background:\n",
              "         var(--colab-secondary-surface-color); padding: 8px 12px;\n",
              "         border-bottom: 1px solid var(--colab-border-color);\"><b>matplotlib.pyplot.show</b><br/>def show(*args, **kwargs) -&gt; None</pre><pre class=\"function-repr-contents function-repr-contents-collapsed\" style=\"\"><a class=\"filepath\" style=\"display:none\" href=\"#\">/usr/local/lib/python3.11/dist-packages/matplotlib/pyplot.py</a>Display all open figures.\n",
              "\n",
              "Parameters\n",
              "----------\n",
              "block : bool, optional\n",
              "    Whether to wait for all figures to be closed before returning.\n",
              "\n",
              "    If `True` block and run the GUI main loop until all figure windows\n",
              "    are closed.\n",
              "\n",
              "    If `False` ensure that all figure windows are displayed and return\n",
              "    immediately.  In this case, you are responsible for ensuring\n",
              "    that the event loop is running to have responsive figures.\n",
              "\n",
              "    Defaults to True in non-interactive mode and to False in interactive\n",
              "    mode (see `.pyplot.isinteractive`).\n",
              "\n",
              "See Also\n",
              "--------\n",
              "ion : Enable interactive mode, which shows / updates the figure after\n",
              "      every plotting command, so that calling ``show()`` is not necessary.\n",
              "ioff : Disable interactive mode.\n",
              "savefig : Save the figure to an image file instead of showing it on screen.\n",
              "\n",
              "Notes\n",
              "-----\n",
              "**Saving figures to file and showing a window at the same time**\n",
              "\n",
              "If you want an image file as well as a user interface window, use\n",
              "`.pyplot.savefig` before `.pyplot.show`. At the end of (a blocking)\n",
              "``show()`` the figure is closed and thus unregistered from pyplot. Calling\n",
              "`.pyplot.savefig` afterwards would save a new and thus empty figure. This\n",
              "limitation of command order does not apply if the show is non-blocking or\n",
              "if you keep a reference to the figure and use `.Figure.savefig`.\n",
              "\n",
              "**Auto-show in jupyter notebooks**\n",
              "\n",
              "The jupyter backends (activated via ``%matplotlib inline``,\n",
              "``%matplotlib notebook``, or ``%matplotlib widget``), call ``show()`` at\n",
              "the end of every cell by default. Thus, you usually don&#x27;t have to call it\n",
              "explicitly there.</pre>\n",
              "      <script>\n",
              "      if (google.colab.kernel.accessAllowed && google.colab.files && google.colab.files.view) {\n",
              "        for (const element of document.querySelectorAll('.filepath')) {\n",
              "          element.style.display = 'block'\n",
              "          element.onclick = (event) => {\n",
              "            event.preventDefault();\n",
              "            event.stopPropagation();\n",
              "            google.colab.files.view(element.textContent, 569);\n",
              "          };\n",
              "        }\n",
              "      }\n",
              "      for (const element of document.querySelectorAll('.function-repr-contents')) {\n",
              "        element.onclick = (event) => {\n",
              "          event.preventDefault();\n",
              "          event.stopPropagation();\n",
              "          element.classList.toggle('function-repr-contents-collapsed');\n",
              "        };\n",
              "      }\n",
              "      </script>\n",
              "      </div>"
            ]
          },
          "metadata": {},
          "execution_count": 61
        },
        {
          "output_type": "display_data",
          "data": {
            "text/plain": [
              "<Figure size 500x300 with 1 Axes>"
            ],
            "image/png": "[encoded data removed]"
          },
          "metadata": {}
        }
      ]
    },
    {
      "cell_type": "markdown",
      "source": [
        "This distribution is very interesting, and probably doesn't have a name, but it helps us with our experimental planning"
      ],
      "metadata": {
        "id": "ye3JEVYfeZPK"
      }
    },
    {
      "cell_type": "code",
      "source": [
        "np.sum(E_10s>7.5)/len(E_10s)"
      ],
      "metadata": {
        "id": "rUdJwe4eegFj",
        "colab": {
          "base_uri": "https://localhost:8080/"
        },
        "outputId": "e8e60518-5ba0-4664-b4dc-d9fa6329ae96"
      },
      "execution_count": null,
      "outputs": [
        {
          "output_type": "execute_result",
          "data": {
            "text/plain": [
              "0.05243"
            ]
          },
          "metadata": {},
          "execution_count": 57
        }
      ]
    },
    {
      "cell_type": "markdown",
      "source": [
        "So 5% of the time we expect more than 7.5GeV of energy to be deposited in the detector within 10s. This mght be useful when planning for resources, such as requirements for detecting this much energy!"
      ],
      "metadata": {
        "id": "2k6D_M0zelE9"
      }
    },
    {
      "cell_type": "markdown",
      "metadata": {
        "id": "xd1pS9lWhAv_"
      },
      "source": [
        "# Astronomy practice"
      ]
    },
    {
      "cell_type": "markdown",
      "metadata": {
        "id": "sNbYdUflhGGw"
      },
      "source": [
        "###Exercise 1: Basic Cosmological Parameters\n",
        "Goal: Understand and create cosmological models using AstronomyCalc.\n",
        "\n",
        "Install the AstronomyCalc package (or a similar package if this is a mock example).\n",
        "Using the example in the article, create a function to define cosmological parameters. Use at least the following models:\n",
        "Einstein-de Sitter universe\n",
        "de Sitter universe\n",
        "Planck universe (from CMB observations)\n",
        "Write a script to print the defined parameters for each model."
      ]
    },
    {
      "cell_type": "code",
      "execution_count": null,
      "metadata": {
        "colab": {
          "base_uri": "https://localhost:8080/"
        },
        "collapsed": true,
        "id": "67JeUr9IhPVJ",
        "outputId": "3e3db1c4-ece7-4c13-e08a-af62abaf499d"
      },
      "outputs": [
        {
          "output_type": "stream",
          "name": "stdout",
          "text": [
            "Collecting AstronomyCalc\n",
            "  Downloading AstronomyCalc-1.0.2-py3-none-any.whl.metadata (4.7 kB)\n",
            "Requirement already satisfied: numpy in /usr/local/lib/python3.11/dist-packages (from AstronomyCalc) (1.26.4)\n",
            "Requirement already satisfied: scipy in /usr/local/lib/python3.11/dist-packages (from AstronomyCalc) (1.13.1)\n",
            "Requirement already satisfied: matplotlib in /usr/local/lib/python3.11/dist-packages (from AstronomyCalc) (3.10.0)\n",
            "Requirement already satisfied: pytest in /usr/local/lib/python3.11/dist-packages (from AstronomyCalc) (8.3.4)\n",
            "Requirement already satisfied: astropy in /usr/local/lib/python3.11/dist-packages (from AstronomyCalc) (6.1.7)\n",
            "Collecting astroML (from AstronomyCalc)\n",
            "  Downloading astroML-1.0.2.post1-py3-none-any.whl.metadata (7.4 kB)\n",
            "Requirement already satisfied: pandas in /usr/local/lib/python3.11/dist-packages (from AstronomyCalc) (2.2.2)\n",
            "Collecting emcee (from AstronomyCalc)\n",
            "  Downloading emcee-3.1.6-py2.py3-none-any.whl.metadata (3.0 kB)\n",
            "Collecting corner (from AstronomyCalc)\n",
            "  Downloading corner-2.2.3-py3-none-any.whl.metadata (2.2 kB)\n",
            "Collecting wget (from AstronomyCalc)\n",
            "  Downloading wget-3.2.zip (10 kB)\n",
            "  Preparing metadata (setup.py) ... \u001b[?25l\u001b[?25hdone\n",
            "Requirement already satisfied: joblib in /usr/local/lib/python3.11/dist-packages (from AstronomyCalc) (1.4.2)\n",
            "Requirement already satisfied: tqdm in /usr/local/lib/python3.11/dist-packages (from AstronomyCalc) (4.67.1)\n",
            "Collecting jupyter (from AstronomyCalc)\n",
            "  Downloading jupyter-1.1.1-py2.py3-none-any.whl.metadata (2.0 kB)\n",
            "Requirement already satisfied: scikit-learn>=0.18 in /usr/local/lib/python3.11/dist-packages (from astroML->AstronomyCalc) (1.6.1)\n",
            "Requirement already satisfied: pyerfa>=2.0.1.1 in /usr/local/lib/python3.11/dist-packages (from astropy->AstronomyCalc) (2.0.1.5)\n",
            "Requirement already satisfied: astropy-iers-data>=0.2024.10.28.0.34.7 in /usr/local/lib/python3.11/dist-packages (from astropy->AstronomyCalc) (0.2025.1.27.0.32.44)\n",
            "Requirement already satisfied: PyYAML>=3.13 in /usr/local/lib/python3.11/dist-packages (from astropy->AstronomyCalc) (6.0.2)\n",
            "Requirement already satisfied: packaging>=19.0 in /usr/local/lib/python3.11/dist-packages (from astropy->AstronomyCalc) (24.2)\n",
            "Requirement already satisfied: contourpy>=1.0.1 in /usr/local/lib/python3.11/dist-packages (from matplotlib->AstronomyCalc) (1.3.1)\n",
            "Requirement already satisfied: cycler>=0.10 in /usr/local/lib/python3.11/dist-packages (from matplotlib->AstronomyCalc) (0.12.1)\n",
            "Requirement already satisfied: fonttools>=4.22.0 in /usr/local/lib/python3.11/dist-packages (from matplotlib->AstronomyCalc) (4.55.7)\n",
            "Requirement already satisfied: kiwisolver>=1.3.1 in /usr/local/lib/python3.11/dist-packages (from matplotlib->AstronomyCalc) (1.4.8)\n",
            "Requirement already satisfied: pillow>=8 in /usr/local/lib/python3.11/dist-packages (from matplotlib->AstronomyCalc) (11.1.0)\n",
            "Requirement already satisfied: pyparsing>=2.3.1 in /usr/local/lib/python3.11/dist-packages (from matplotlib->AstronomyCalc) (3.2.1)\n",
            "Requirement already satisfied: python-dateutil>=2.7 in /usr/local/lib/python3.11/dist-packages (from matplotlib->AstronomyCalc) (2.8.2)\n",
            "Requirement already satisfied: notebook in /usr/local/lib/python3.11/dist-packages (from jupyter->AstronomyCalc) (6.5.5)\n",
            "Requirement already satisfied: jupyter-console in /usr/local/lib/python3.11/dist-packages (from jupyter->AstronomyCalc) (6.1.0)\n",
            "Requirement already satisfied: nbconvert in /usr/local/lib/python3.11/dist-packages (from jupyter->AstronomyCalc) (7.16.6)\n",
            "Requirement already satisfied: ipykernel in /usr/local/lib/python3.11/dist-packages (from jupyter->AstronomyCalc) (5.5.6)\n",
            "Requirement already satisfied: ipywidgets in /usr/local/lib/python3.11/dist-packages (from jupyter->AstronomyCalc) (7.7.1)\n",
            "Collecting jupyterlab (from jupyter->AstronomyCalc)\n",
            "  Downloading jupyterlab-4.3.5-py3-none-any.whl.metadata (16 kB)\n",
            "Requirement already satisfied: pytz>=2020.1 in /usr/local/lib/python3.11/dist-packages (from pandas->AstronomyCalc) (2024.2)\n",
            "Requirement already satisfied: tzdata>=2022.7 in /usr/local/lib/python3.11/dist-packages (from pandas->AstronomyCalc) (2025.1)\n",
            "Requirement already satisfied: iniconfig in /usr/local/lib/python3.11/dist-packages (from pytest->AstronomyCalc) (2.0.0)\n",
            "Requirement already satisfied: pluggy<2,>=1.5 in /usr/local/lib/python3.11/dist-packages (from pytest->AstronomyCalc) (1.5.0)\n",
            "Requirement already satisfied: six>=1.5 in /usr/local/lib/python3.11/dist-packages (from python-dateutil>=2.7->matplotlib->AstronomyCalc) (1.17.0)\n",
            "Requirement already satisfied: threadpoolctl>=3.1.0 in /usr/local/lib/python3.11/dist-packages (from scikit-learn>=0.18->astroML->AstronomyCalc) (3.5.0)\n",
            "Requirement already satisfied: ipython-genutils in /usr/local/lib/python3.11/dist-packages (from ipykernel->jupyter->AstronomyCalc) (0.2.0)\n",
            "Requirement already satisfied: ipython>=5.0.0 in /usr/local/lib/python3.11/dist-packages (from ipykernel->jupyter->AstronomyCalc) (7.34.0)\n",
            "Requirement already satisfied: traitlets>=4.1.0 in /usr/local/lib/python3.11/dist-packages (from ipykernel->jupyter->AstronomyCalc) (5.7.1)\n",
            "Requirement already satisfied: jupyter-client in /usr/local/lib/python3.11/dist-packages (from ipykernel->jupyter->AstronomyCalc) (6.1.12)\n",
            "Requirement already satisfied: tornado>=4.2 in /usr/local/lib/python3.11/dist-packages (from ipykernel->jupyter->AstronomyCalc) (6.4.2)\n",
            "Requirement already satisfied: widgetsnbextension~=3.6.0 in /usr/local/lib/python3.11/dist-packages (from ipywidgets->jupyter->AstronomyCalc) (3.6.10)\n",
            "Requirement already satisfied: jupyterlab-widgets>=1.0.0 in /usr/local/lib/python3.11/dist-packages (from ipywidgets->jupyter->AstronomyCalc) (3.0.13)\n",
            "Requirement already satisfied: prompt-toolkit!=3.0.0,!=3.0.1,<3.1.0,>=2.0.0 in /usr/local/lib/python3.11/dist-packages (from jupyter-console->jupyter->AstronomyCalc) (3.0.50)\n",
            "Requirement already satisfied: pygments in /usr/local/lib/python3.11/dist-packages (from jupyter-console->jupyter->AstronomyCalc) (2.18.0)\n",
            "Collecting async-lru>=1.0.0 (from jupyterlab->jupyter->AstronomyCalc)\n",
            "  Downloading async_lru-2.0.4-py3-none-any.whl.metadata (4.5 kB)\n",
            "Requirement already satisfied: httpx>=0.25.0 in /usr/local/lib/python3.11/dist-packages (from jupyterlab->jupyter->AstronomyCalc) (0.28.1)\n",
            "Collecting ipykernel (from jupyter->AstronomyCalc)\n",
            "  Downloading ipykernel-6.29.5-py3-none-any.whl.metadata (6.3 kB)\n",
            "Requirement already satisfied: jinja2>=3.0.3 in /usr/local/lib/python3.11/dist-packages (from jupyterlab->jupyter->AstronomyCalc) (3.1.5)\n",
            "Requirement already satisfied: jupyter-core in /usr/local/lib/python3.11/dist-packages (from jupyterlab->jupyter->AstronomyCalc) (5.7.2)\n",
            "Collecting jupyter-lsp>=2.0.0 (from jupyterlab->jupyter->AstronomyCalc)\n",
            "  Downloading jupyter_lsp-2.2.5-py3-none-any.whl.metadata (1.8 kB)\n",
            "Collecting jupyter-server<3,>=2.4.0 (from jupyterlab->jupyter->AstronomyCalc)\n",
            "  Downloading jupyter_server-2.15.0-py3-none-any.whl.metadata (8.4 kB)\n",
            "Collecting jupyterlab-server<3,>=2.27.1 (from jupyterlab->jupyter->AstronomyCalc)\n",
            "  Downloading jupyterlab_server-2.27.3-py3-none-any.whl.metadata (5.9 kB)\n",
            "Requirement already satisfied: notebook-shim>=0.2 in /usr/local/lib/python3.11/dist-packages (from jupyterlab->jupyter->AstronomyCalc) (0.2.4)\n",
            "Requirement already satisfied: setuptools>=40.8.0 in /usr/local/lib/python3.11/dist-packages (from jupyterlab->jupyter->AstronomyCalc) (75.1.0)\n",
            "Collecting comm>=0.1.1 (from ipykernel->jupyter->AstronomyCalc)\n",
            "  Downloading comm-0.2.2-py3-none-any.whl.metadata (3.7 kB)\n",
            "Requirement already satisfied: debugpy>=1.6.5 in /usr/local/lib/python3.11/dist-packages (from ipykernel->jupyter->AstronomyCalc) (1.8.0)\n",
            "Requirement already satisfied: matplotlib-inline>=0.1 in /usr/local/lib/python3.11/dist-packages (from ipykernel->jupyter->AstronomyCalc) (0.1.7)\n",
            "Requirement already satisfied: nest-asyncio in /usr/local/lib/python3.11/dist-packages (from ipykernel->jupyter->AstronomyCalc) (1.6.0)\n",
            "Requirement already satisfied: psutil in /usr/local/lib/python3.11/dist-packages (from ipykernel->jupyter->AstronomyCalc) (5.9.5)\n",
            "Requirement already satisfied: pyzmq>=24 in /usr/local/lib/python3.11/dist-packages (from ipykernel->jupyter->AstronomyCalc) (24.0.1)\n",
            "Requirement already satisfied: beautifulsoup4 in /usr/local/lib/python3.11/dist-packages (from nbconvert->jupyter->AstronomyCalc) (4.12.3)\n",
            "Requirement already satisfied: bleach!=5.0.0 in /usr/local/lib/python3.11/dist-packages (from bleach[css]!=5.0.0->nbconvert->jupyter->AstronomyCalc) (6.2.0)\n",
            "Requirement already satisfied: defusedxml in /usr/local/lib/python3.11/dist-packages (from nbconvert->jupyter->AstronomyCalc) (0.7.1)\n",
            "Requirement already satisfied: jupyterlab-pygments in /usr/local/lib/python3.11/dist-packages (from nbconvert->jupyter->AstronomyCalc) (0.3.0)\n",
            "Requirement already satisfied: markupsafe>=2.0 in /usr/local/lib/python3.11/dist-packages (from nbconvert->jupyter->AstronomyCalc) (3.0.2)\n",
            "Requirement already satisfied: mistune<4,>=2.0.3 in /usr/local/lib/python3.11/dist-packages (from nbconvert->jupyter->AstronomyCalc) (3.1.1)\n",
            "Requirement already satisfied: nbclient>=0.5.0 in /usr/local/lib/python3.11/dist-packages (from nbconvert->jupyter->AstronomyCalc) (0.10.2)\n",
            "Requirement already satisfied: nbformat>=5.7 in /usr/local/lib/python3.11/dist-packages (from nbconvert->jupyter->AstronomyCalc) (5.10.4)\n",
            "Requirement already satisfied: pandocfilters>=1.4.1 in /usr/local/lib/python3.11/dist-packages (from nbconvert->jupyter->AstronomyCalc) (1.5.1)\n",
            "Requirement already satisfied: argon2-cffi in /usr/local/lib/python3.11/dist-packages (from notebook->jupyter->AstronomyCalc) (23.1.0)\n",
            "Requirement already satisfied: Send2Trash>=1.8.0 in /usr/local/lib/python3.11/dist-packages (from notebook->jupyter->AstronomyCalc) (1.8.3)\n",
            "Requirement already satisfied: terminado>=0.8.3 in /usr/local/lib/python3.11/dist-packages (from notebook->jupyter->AstronomyCalc) (0.18.1)\n",
            "Requirement already satisfied: prometheus-client in /usr/local/lib/python3.11/dist-packages (from notebook->jupyter->AstronomyCalc) (0.21.1)\n",
            "Requirement already satisfied: nbclassic>=0.4.7 in /usr/local/lib/python3.11/dist-packages (from notebook->jupyter->AstronomyCalc) (1.2.0)\n",
            "Requirement already satisfied: webencodings in /usr/local/lib/python3.11/dist-packages (from bleach!=5.0.0->bleach[css]!=5.0.0->nbconvert->jupyter->AstronomyCalc) (0.5.1)\n",
            "Requirement already satisfied: tinycss2<1.5,>=1.1.0 in /usr/local/lib/python3.11/dist-packages (from bleach[css]!=5.0.0->nbconvert->jupyter->AstronomyCalc) (1.4.0)\n",
            "Requirement already satisfied: anyio in /usr/local/lib/python3.11/dist-packages (from httpx>=0.25.0->jupyterlab->jupyter->AstronomyCalc) (3.7.1)\n",
            "Requirement already satisfied: certifi in /usr/local/lib/python3.11/dist-packages (from httpx>=0.25.0->jupyterlab->jupyter->AstronomyCalc) (2024.12.14)\n",
            "Requirement already satisfied: httpcore==1.* in /usr/local/lib/python3.11/dist-packages (from httpx>=0.25.0->jupyterlab->jupyter->AstronomyCalc) (1.0.7)\n",
            "Requirement already satisfied: idna in /usr/local/lib/python3.11/dist-packages (from httpx>=0.25.0->jupyterlab->jupyter->AstronomyCalc) (3.10)\n",
            "Requirement already satisfied: h11<0.15,>=0.13 in /usr/local/lib/python3.11/dist-packages (from httpcore==1.*->httpx>=0.25.0->jupyterlab->jupyter->AstronomyCalc) (0.14.0)\n",
            "Collecting jedi>=0.16 (from ipython>=5.0.0->ipykernel->jupyter->AstronomyCalc)\n",
            "  Downloading jedi-0.19.2-py2.py3-none-any.whl.metadata (22 kB)\n",
            "Requirement already satisfied: decorator in /usr/local/lib/python3.11/dist-packages (from ipython>=5.0.0->ipykernel->jupyter->AstronomyCalc) (4.4.2)\n",
            "Requirement already satisfied: pickleshare in /usr/local/lib/python3.11/dist-packages (from ipython>=5.0.0->ipykernel->jupyter->AstronomyCalc) (0.7.5)\n",
            "Requirement already satisfied: backcall in /usr/local/lib/python3.11/dist-packages (from ipython>=5.0.0->ipykernel->jupyter->AstronomyCalc) (0.2.0)\n",
            "Requirement already satisfied: pexpect>4.3 in /usr/local/lib/python3.11/dist-packages (from ipython>=5.0.0->ipykernel->jupyter->AstronomyCalc) (4.9.0)\n",
            "Requirement already satisfied: platformdirs>=2.5 in /usr/local/lib/python3.11/dist-packages (from jupyter-core->jupyterlab->jupyter->AstronomyCalc) (4.3.6)\n",
            "Collecting jupyter-client (from jupyter-console->jupyter->AstronomyCalc)\n",
            "  Downloading jupyter_client-7.4.9-py3-none-any.whl.metadata (8.5 kB)\n",
            "Collecting jupyter-events>=0.11.0 (from jupyter-server<3,>=2.4.0->jupyterlab->jupyter->AstronomyCalc)\n",
            "  Downloading jupyter_events-0.11.0-py3-none-any.whl.metadata (5.8 kB)\n",
            "Collecting jupyter-server-terminals>=0.4.4 (from jupyter-server<3,>=2.4.0->jupyterlab->jupyter->AstronomyCalc)\n",
            "  Downloading jupyter_server_terminals-0.5.3-py3-none-any.whl.metadata (5.6 kB)\n",
            "Collecting overrides>=5.0 (from jupyter-server<3,>=2.4.0->jupyterlab->jupyter->AstronomyCalc)\n",
            "  Downloading overrides-7.7.0-py3-none-any.whl.metadata (5.8 kB)\n",
            "Requirement already satisfied: websocket-client>=1.7 in /usr/local/lib/python3.11/dist-packages (from jupyter-server<3,>=2.4.0->jupyterlab->jupyter->AstronomyCalc) (1.8.0)\n",
            "Requirement already satisfied: argon2-cffi-bindings in /usr/local/lib/python3.11/dist-packages (from argon2-cffi->notebook->jupyter->AstronomyCalc) (21.2.0)\n",
            "Requirement already satisfied: entrypoints in /usr/local/lib/python3.11/dist-packages (from jupyter-client->jupyter-console->jupyter->AstronomyCalc) (0.4)\n",
            "Requirement already satisfied: babel>=2.10 in /usr/local/lib/python3.11/dist-packages (from jupyterlab-server<3,>=2.27.1->jupyterlab->jupyter->AstronomyCalc) (2.16.0)\n",
            "Collecting json5>=0.9.0 (from jupyterlab-server<3,>=2.27.1->jupyterlab->jupyter->AstronomyCalc)\n",
            "  Downloading json5-0.10.0-py3-none-any.whl.metadata (34 kB)\n",
            "Requirement already satisfied: jsonschema>=4.18.0 in /usr/local/lib/python3.11/dist-packages (from jupyterlab-server<3,>=2.27.1->jupyterlab->jupyter->AstronomyCalc) (4.23.0)\n",
            "Requirement already satisfied: requests>=2.31 in /usr/local/lib/python3.11/dist-packages (from jupyterlab-server<3,>=2.27.1->jupyterlab->jupyter->AstronomyCalc) (2.32.3)\n",
            "Requirement already satisfied: fastjsonschema>=2.15 in /usr/local/lib/python3.11/dist-packages (from nbformat>=5.7->nbconvert->jupyter->AstronomyCalc) (2.21.1)\n",
            "Requirement already satisfied: wcwidth in /usr/local/lib/python3.11/dist-packages (from prompt-toolkit!=3.0.0,!=3.0.1,<3.1.0,>=2.0.0->jupyter-console->jupyter->AstronomyCalc) (0.2.13)\n",
            "Requirement already satisfied: ptyprocess in /usr/local/lib/python3.11/dist-packages (from terminado>=0.8.3->notebook->jupyter->AstronomyCalc) (0.7.0)\n",
            "Requirement already satisfied: soupsieve>1.2 in /usr/local/lib/python3.11/dist-packages (from beautifulsoup4->nbconvert->jupyter->AstronomyCalc) (2.6)\n",
            "Requirement already satisfied: sniffio>=1.1 in /usr/local/lib/python3.11/dist-packages (from anyio->httpx>=0.25.0->jupyterlab->jupyter->AstronomyCalc) (1.3.1)\n",
            "Requirement already satisfied: parso<0.9.0,>=0.8.4 in /usr/local/lib/python3.11/dist-packages (from jedi>=0.16->ipython>=5.0.0->ipykernel->jupyter->AstronomyCalc) (0.8.4)\n",
            "Requirement already satisfied: attrs>=22.2.0 in /usr/local/lib/python3.11/dist-packages (from jsonschema>=4.18.0->jupyterlab-server<3,>=2.27.1->jupyterlab->jupyter->AstronomyCalc) (25.1.0)\n",
            "Requirement already satisfied: jsonschema-specifications>=2023.03.6 in /usr/local/lib/python3.11/dist-packages (from jsonschema>=4.18.0->jupyterlab-server<3,>=2.27.1->jupyterlab->jupyter->AstronomyCalc) (2024.10.1)\n",
            "Requirement already satisfied: referencing>=0.28.4 in /usr/local/lib/python3.11/dist-packages (from jsonschema>=4.18.0->jupyterlab-server<3,>=2.27.1->jupyterlab->jupyter->AstronomyCalc) (0.36.2)\n",
            "Requirement already satisfied: rpds-py>=0.7.1 in /usr/local/lib/python3.11/dist-packages (from jsonschema>=4.18.0->jupyterlab-server<3,>=2.27.1->jupyterlab->jupyter->AstronomyCalc) (0.22.3)\n",
            "Collecting python-json-logger>=2.0.4 (from jupyter-events>=0.11.0->jupyter-server<3,>=2.4.0->jupyterlab->jupyter->AstronomyCalc)\n",
            "  Downloading python_json_logger-3.2.1-py3-none-any.whl.metadata (4.1 kB)\n",
            "Collecting rfc3339-validator (from jupyter-events>=0.11.0->jupyter-server<3,>=2.4.0->jupyterlab->jupyter->AstronomyCalc)\n",
            "  Downloading rfc3339_validator-0.1.4-py2.py3-none-any.whl.metadata (1.5 kB)\n",
            "Collecting rfc3986-validator>=0.1.1 (from jupyter-events>=0.11.0->jupyter-server<3,>=2.4.0->jupyterlab->jupyter->AstronomyCalc)\n",
            "  Downloading rfc3986_validator-0.1.1-py2.py3-none-any.whl.metadata (1.7 kB)\n",
            "Requirement already satisfied: charset-normalizer<4,>=2 in /usr/local/lib/python3.11/dist-packages (from requests>=2.31->jupyterlab-server<3,>=2.27.1->jupyterlab->jupyter->AstronomyCalc) (3.4.1)\n",
            "Requirement already satisfied: urllib3<3,>=1.21.1 in /usr/local/lib/python3.11/dist-packages (from requests>=2.31->jupyterlab-server<3,>=2.27.1->jupyterlab->jupyter->AstronomyCalc) (2.3.0)\n",
            "Requirement already satisfied: cffi>=1.0.1 in /usr/local/lib/python3.11/dist-packages (from argon2-cffi-bindings->argon2-cffi->notebook->jupyter->AstronomyCalc) (1.17.1)\n",
            "Requirement already satisfied: pycparser in /usr/local/lib/python3.11/dist-packages (from cffi>=1.0.1->argon2-cffi-bindings->argon2-cffi->notebook->jupyter->AstronomyCalc) (2.22)\n",
            "Collecting fqdn (from jsonschema[format-nongpl]>=4.18.0->jupyter-events>=0.11.0->jupyter-server<3,>=2.4.0->jupyterlab->jupyter->AstronomyCalc)\n",
            "  Downloading fqdn-1.5.1-py3-none-any.whl.metadata (1.4 kB)\n",
            "Collecting isoduration (from jsonschema[format-nongpl]>=4.18.0->jupyter-events>=0.11.0->jupyter-server<3,>=2.4.0->jupyterlab->jupyter->AstronomyCalc)\n",
            "  Downloading isoduration-20.11.0-py3-none-any.whl.metadata (5.7 kB)\n",
            "Requirement already satisfied: jsonpointer>1.13 in /usr/local/lib/python3.11/dist-packages (from jsonschema[format-nongpl]>=4.18.0->jupyter-events>=0.11.0->jupyter-server<3,>=2.4.0->jupyterlab->jupyter->AstronomyCalc) (3.0.0)\n",
            "Collecting uri-template (from jsonschema[format-nongpl]>=4.18.0->jupyter-events>=0.11.0->jupyter-server<3,>=2.4.0->jupyterlab->jupyter->AstronomyCalc)\n",
            "  Downloading uri_template-1.3.0-py3-none-any.whl.metadata (8.8 kB)\n",
            "Requirement already satisfied: webcolors>=24.6.0 in /usr/local/lib/python3.11/dist-packages (from jsonschema[format-nongpl]>=4.18.0->jupyter-events>=0.11.0->jupyter-server<3,>=2.4.0->jupyterlab->jupyter->AstronomyCalc) (24.11.1)\n",
            "Requirement already satisfied: typing-extensions>=4.4.0 in /usr/local/lib/python3.11/dist-packages (from referencing>=0.28.4->jsonschema>=4.18.0->jupyterlab-server<3,>=2.27.1->jupyterlab->jupyter->AstronomyCalc) (4.12.2)\n",
            "Collecting arrow>=0.15.0 (from isoduration->jsonschema[format-nongpl]>=4.18.0->jupyter-events>=0.11.0->jupyter-server<3,>=2.4.0->jupyterlab->jupyter->AstronomyCalc)\n",
            "  Downloading arrow-1.3.0-py3-none-any.whl.metadata (7.5 kB)\n",
            "Collecting types-python-dateutil>=2.8.10 (from arrow>=0.15.0->isoduration->jsonschema[format-nongpl]>=4.18.0->jupyter-events>=0.11.0->jupyter-server<3,>=2.4.0->jupyterlab->jupyter->AstronomyCalc)\n",
            "  Downloading types_python_dateutil-2.9.0.20241206-py3-none-any.whl.metadata (2.1 kB)\n",
            "Downloading AstronomyCalc-1.0.2-py3-none-any.whl (65.1 MB)\n",
            "\u001b[2K   \u001b[90m━━━━━━━━━━━━━━━━━━━━━━━━━━━━━━━━━━━━━━━━\u001b[0m \u001b[32m65.1/65.1 MB\u001b[0m \u001b[31m5.5 MB/s\u001b[0m eta \u001b[36m0:00:00\u001b[0m\n",
            "\u001b[?25hDownloading astroML-1.0.2.post1-py3-none-any.whl (134 kB)\n",
            "\u001b[2K   \u001b[90m━━━━━━━━━━━━━━━━━━━━━━━━━━━━━━━━━━━━━━━━\u001b[0m \u001b[32m134.3/134.3 kB\u001b[0m \u001b[31m5.3 MB/s\u001b[0m eta \u001b[36m0:00:00\u001b[0m\n",
            "\u001b[?25hDownloading corner-2.2.3-py3-none-any.whl (15 kB)\n",
            "Downloading emcee-3.1.6-py2.py3-none-any.whl (47 kB)\n",
            "\u001b[2K   \u001b[90m━━━━━━━━━━━━━━━━━━━━━━━━━━━━━━━━━━━━━━━━\u001b[0m \u001b[32m47.4/47.4 kB\u001b[0m \u001b[31m2.6 MB/s\u001b[0m eta \u001b[36m0:00:00\u001b[0m\n",
            "\u001b[?25hDownloading jupyter-1.1.1-py2.py3-none-any.whl (2.7 kB)\n",
            "Downloading jupyterlab-4.3.5-py3-none-any.whl (11.7 MB)\n",
            "\u001b[2K   \u001b[90m━━━━━━━━━━━━━━━━━━━━━━━━━━━━━━━━━━━━━━━━\u001b[0m \u001b[32m11.7/11.7 MB\u001b[0m \u001b[31m31.1 MB/s\u001b[0m eta \u001b[36m0:00:00\u001b[0m\n",
            "\u001b[?25hDownloading ipykernel-6.29.5-py3-none-any.whl (117 kB)\n",
            "\u001b[2K   \u001b[90m━━━━━━━━━━━━━━━━━━━━━━━━━━━━━━━━━━━━━━━━\u001b[0m \u001b[32m117.2/117.2 kB\u001b[0m \u001b[31m5.8 MB/s\u001b[0m eta \u001b[36m0:00:00\u001b[0m\n",
            "\u001b[?25hDownloading async_lru-2.0.4-py3-none-any.whl (6.1 kB)\n",
            "Downloading comm-0.2.2-py3-none-any.whl (7.2 kB)\n",
            "Downloading jupyter_lsp-2.2.5-py3-none-any.whl (69 kB)\n",
            "\u001b[2K   \u001b[90m━━━━━━━━━━━━━━━━━━━━━━━━━━━━━━━━━━━━━━━━\u001b[0m \u001b[32m69.1/69.1 kB\u001b[0m \u001b[31m4.8 MB/s\u001b[0m eta \u001b[36m0:00:00\u001b[0m\n",
            "\u001b[?25hDownloading jupyter_server-2.15.0-py3-none-any.whl (385 kB)\n",
            "\u001b[2K   \u001b[90m━━━━━━━━━━━━━━━━━━━━━━━━━━━━━━━━━━━━━━━━\u001b[0m \u001b[32m385.8/385.8 kB\u001b[0m \u001b[31m18.0 MB/s\u001b[0m eta \u001b[36m0:00:00\u001b[0m\n",
            "\u001b[?25hDownloading jupyter_client-7.4.9-py3-none-any.whl (133 kB)\n",
            "\u001b[2K   \u001b[90m━━━━━━━━━━━━━━━━━━━━━━━━━━━━━━━━━━━━━━━━\u001b[0m \u001b[32m133.5/133.5 kB\u001b[0m \u001b[31m5.8 MB/s\u001b[0m eta \u001b[36m0:00:00\u001b[0m\n",
            "\u001b[?25hDownloading jupyterlab_server-2.27.3-py3-none-any.whl (59 kB)\n",
            "\u001b[2K   \u001b[90m━━━━━━━━━━━━━━━━━━━━━━━━━━━━━━━━━━━━━━━━\u001b[0m \u001b[32m59.7/59.7 kB\u001b[0m \u001b[31m2.8 MB/s\u001b[0m eta \u001b[36m0:00:00\u001b[0m\n",
            "\u001b[?25hDownloading jedi-0.19.2-py2.py3-none-any.whl (1.6 MB)\n",
            "\u001b[2K   \u001b[90m━━━━━━━━━━━━━━━━━━━━━━━━━━━━━━━━━━━━━━━━\u001b[0m \u001b[32m1.6/1.6 MB\u001b[0m \u001b[31m25.2 MB/s\u001b[0m eta \u001b[36m0:00:00\u001b[0m\n",
            "\u001b[?25hDownloading json5-0.10.0-py3-none-any.whl (34 kB)\n",
            "Downloading jupyter_events-0.11.0-py3-none-any.whl (19 kB)\n",
            "Downloading jupyter_server_terminals-0.5.3-py3-none-any.whl (13 kB)\n",
            "Downloading overrides-7.7.0-py3-none-any.whl (17 kB)\n",
            "Downloading python_json_logger-3.2.1-py3-none-any.whl (14 kB)\n",
            "Downloading rfc3986_validator-0.1.1-py2.py3-none-any.whl (4.2 kB)\n",
            "Downloading rfc3339_validator-0.1.4-py2.py3-none-any.whl (3.5 kB)\n",
            "Downloading fqdn-1.5.1-py3-none-any.whl (9.1 kB)\n",
            "Downloading isoduration-20.11.0-py3-none-any.whl (11 kB)\n",
            "Downloading uri_template-1.3.0-py3-none-any.whl (11 kB)\n",
            "Downloading arrow-1.3.0-py3-none-any.whl (66 kB)\n",
            "\u001b[2K   \u001b[90m━━━━━━━━━━━━━━━━━━━━━━━━━━━━━━━━━━━━━━━━\u001b[0m \u001b[32m66.4/66.4 kB\u001b[0m \u001b[31m2.3 MB/s\u001b[0m eta \u001b[36m0:00:00\u001b[0m\n",
            "\u001b[?25hDownloading types_python_dateutil-2.9.0.20241206-py3-none-any.whl (14 kB)\n",
            "Building wheels for collected packages: wget\n",
            "  Building wheel for wget (setup.py) ... \u001b[?25l\u001b[?25hdone\n",
            "  Created wheel for wget: filename=wget-3.2-py3-none-any.whl size=9656 sha256=c8037877642ed99a405c2d5a288bd9f9684159c148bd690394e3e6f49c93933e\n",
            "  Stored in directory: /root/.cache/pip/wheels/40/b3/0f/a40dbd1c6861731779f62cc4babcb234387e11d697df70ee97\n",
            "Successfully built wget\n",
            "Installing collected packages: wget, uri-template, types-python-dateutil, rfc3986-validator, rfc3339-validator, python-json-logger, overrides, json5, jedi, fqdn, emcee, comm, async-lru, jupyter-server-terminals, jupyter-client, arrow, isoduration, ipykernel, corner, astroML, jupyter-events, jupyter-server, jupyterlab-server, jupyter-lsp, jupyterlab, jupyter, AstronomyCalc\n",
            "  Attempting uninstall: jupyter-client\n",
            "    Found existing installation: jupyter-client 6.1.12\n",
            "    Uninstalling jupyter-client-6.1.12:\n",
            "      Successfully uninstalled jupyter-client-6.1.12\n",
            "  Attempting uninstall: ipykernel\n",
            "    Found existing installation: ipykernel 5.5.6\n",
            "    Uninstalling ipykernel-5.5.6:\n",
            "      Successfully uninstalled ipykernel-5.5.6\n",
            "  Attempting uninstall: jupyter-server\n",
            "    Found existing installation: jupyter-server 1.24.0\n",
            "    Uninstalling jupyter-server-1.24.0:\n",
            "      Successfully uninstalled jupyter-server-1.24.0\n",
            "\u001b[31mERROR: pip's dependency resolver does not currently take into account all the packages that are installed. This behaviour is the source of the following dependency conflicts.\n",
            "google-colab 1.0.0 requires ipykernel==5.5.6, but you have ipykernel 6.29.5 which is incompatible.\u001b[0m\u001b[31m\n",
            "\u001b[0mSuccessfully installed AstronomyCalc-1.0.2 arrow-1.3.0 astroML-1.0.2.post1 async-lru-2.0.4 comm-0.2.2 corner-2.2.3 emcee-3.1.6 fqdn-1.5.1 ipykernel-6.29.5 isoduration-20.11.0 jedi-0.19.2 json5-0.10.0 jupyter-1.1.1 jupyter-client-7.4.9 jupyter-events-0.11.0 jupyter-lsp-2.2.5 jupyter-server-2.15.0 jupyter-server-terminals-0.5.3 jupyterlab-4.3.5 jupyterlab-server-2.27.3 overrides-7.7.0 python-json-logger-3.2.1 rfc3339-validator-0.1.4 rfc3986-validator-0.1.1 types-python-dateutil-2.9.0.20241206 uri-template-1.3.0 wget-3.2\n"
          ]
        }
      ],
      "source": [
        "!pip install AstronomyCalc"
      ]
    },
    {
      "cell_type": "code",
      "execution_count": null,
      "metadata": {
        "colab": {
          "base_uri": "https://localhost:8080/"
        },
        "id": "LjQbqnId7S4J",
        "outputId": "f5bcdb8d-4c82-407f-fb5c-161778cbc4a7",
        "collapsed": true
      },
      "outputs": [
        {
          "output_type": "stream",
          "name": "stdout",
          "text": [
            "Requirement already satisfied: AstronomyCalc in /usr/local/lib/python3.11/dist-packages (1.0.2)\n",
            "Requirement already satisfied: numpy in /usr/local/lib/python3.11/dist-packages (from AstronomyCalc) (1.26.4)\n",
            "Requirement already satisfied: scipy in /usr/local/lib/python3.11/dist-packages (from AstronomyCalc) (1.13.1)\n",
            "Requirement already satisfied: matplotlib in /usr/local/lib/python3.11/dist-packages (from AstronomyCalc) (3.10.0)\n",
            "Requirement already satisfied: pytest in /usr/local/lib/python3.11/dist-packages (from AstronomyCalc) (8.3.4)\n",
            "Requirement already satisfied: astropy in /usr/local/lib/python3.11/dist-packages (from AstronomyCalc) (6.1.7)\n",
            "Requirement already satisfied: astroML in /usr/local/lib/python3.11/dist-packages (from AstronomyCalc) (1.0.2.post1)\n",
            "Requirement already satisfied: pandas in /usr/local/lib/python3.11/dist-packages (from AstronomyCalc) (2.2.2)\n",
            "Requirement already satisfied: emcee in /usr/local/lib/python3.11/dist-packages (from AstronomyCalc) (3.1.6)\n",
            "Requirement already satisfied: corner in /usr/local/lib/python3.11/dist-packages (from AstronomyCalc) (2.2.3)\n",
            "Requirement already satisfied: wget in /usr/local/lib/python3.11/dist-packages (from AstronomyCalc) (3.2)\n",
            "Requirement already satisfied: joblib in /usr/local/lib/python3.11/dist-packages (from AstronomyCalc) (1.4.2)\n",
            "Requirement already satisfied: tqdm in /usr/local/lib/python3.11/dist-packages (from AstronomyCalc) (4.67.1)\n",
            "Requirement already satisfied: jupyter in /usr/local/lib/python3.11/dist-packages (from AstronomyCalc) (1.1.1)\n",
            "Requirement already satisfied: scikit-learn>=0.18 in /usr/local/lib/python3.11/dist-packages (from astroML->AstronomyCalc) (1.6.1)\n",
            "Requirement already satisfied: pyerfa>=2.0.1.1 in /usr/local/lib/python3.11/dist-packages (from astropy->AstronomyCalc) (2.0.1.5)\n",
            "Requirement already satisfied: astropy-iers-data>=0.2024.10.28.0.34.7 in /usr/local/lib/python3.11/dist-packages (from astropy->AstronomyCalc) (0.2025.1.27.0.32.44)\n",
            "Requirement already satisfied: PyYAML>=3.13 in /usr/local/lib/python3.11/dist-packages (from astropy->AstronomyCalc) (6.0.2)\n",
            "Requirement already satisfied: packaging>=19.0 in /usr/local/lib/python3.11/dist-packages (from astropy->AstronomyCalc) (24.2)\n",
            "Requirement already satisfied: contourpy>=1.0.1 in /usr/local/lib/python3.11/dist-packages (from matplotlib->AstronomyCalc) (1.3.1)\n",
            "Requirement already satisfied: cycler>=0.10 in /usr/local/lib/python3.11/dist-packages (from matplotlib->AstronomyCalc) (0.12.1)\n",
            "Requirement already satisfied: fonttools>=4.22.0 in /usr/local/lib/python3.11/dist-packages (from matplotlib->AstronomyCalc) (4.55.7)\n",
            "Requirement already satisfied: kiwisolver>=1.3.1 in /usr/local/lib/python3.11/dist-packages (from matplotlib->AstronomyCalc) (1.4.8)\n",
            "Requirement already satisfied: pillow>=8 in /usr/local/lib/python3.11/dist-packages (from matplotlib->AstronomyCalc) (11.1.0)\n",
            "Requirement already satisfied: pyparsing>=2.3.1 in /usr/local/lib/python3.11/dist-packages (from matplotlib->AstronomyCalc) (3.2.1)\n",
            "Requirement already satisfied: python-dateutil>=2.7 in /usr/local/lib/python3.11/dist-packages (from matplotlib->AstronomyCalc) (2.8.2)\n",
            "Requirement already satisfied: notebook in /usr/local/lib/python3.11/dist-packages (from jupyter->AstronomyCalc) (6.5.5)\n",
            "Requirement already satisfied: jupyter-console in /usr/local/lib/python3.11/dist-packages (from jupyter->AstronomyCalc) (6.1.0)\n",
            "Requirement already satisfied: nbconvert in /usr/local/lib/python3.11/dist-packages (from jupyter->AstronomyCalc) (7.16.6)\n",
            "Requirement already satisfied: ipykernel in /usr/local/lib/python3.11/dist-packages (from jupyter->AstronomyCalc) (6.29.5)\n",
            "Requirement already satisfied: ipywidgets in /usr/local/lib/python3.11/dist-packages (from jupyter->AstronomyCalc) (7.7.1)\n",
            "Requirement already satisfied: jupyterlab in /usr/local/lib/python3.11/dist-packages (from jupyter->AstronomyCalc) (4.3.5)\n",
            "Requirement already satisfied: pytz>=2020.1 in /usr/local/lib/python3.11/dist-packages (from pandas->AstronomyCalc) (2024.2)\n",
            "Requirement already satisfied: tzdata>=2022.7 in /usr/local/lib/python3.11/dist-packages (from pandas->AstronomyCalc) (2025.1)\n",
            "Requirement already satisfied: iniconfig in /usr/local/lib/python3.11/dist-packages (from pytest->AstronomyCalc) (2.0.0)\n",
            "Requirement already satisfied: pluggy<2,>=1.5 in /usr/local/lib/python3.11/dist-packages (from pytest->AstronomyCalc) (1.5.0)\n",
            "Requirement already satisfied: six>=1.5 in /usr/local/lib/python3.11/dist-packages (from python-dateutil>=2.7->matplotlib->AstronomyCalc) (1.17.0)\n",
            "Requirement already satisfied: threadpoolctl>=3.1.0 in /usr/local/lib/python3.11/dist-packages (from scikit-learn>=0.18->astroML->AstronomyCalc) (3.5.0)\n",
            "Requirement already satisfied: comm>=0.1.1 in /usr/local/lib/python3.11/dist-packages (from ipykernel->jupyter->AstronomyCalc) (0.2.2)\n",
            "Requirement already satisfied: debugpy>=1.6.5 in /usr/local/lib/python3.11/dist-packages (from ipykernel->jupyter->AstronomyCalc) (1.8.0)\n",
            "Requirement already satisfied: ipython>=7.23.1 in /usr/local/lib/python3.11/dist-packages (from ipykernel->jupyter->AstronomyCalc) (7.34.0)\n",
            "Requirement already satisfied: jupyter-client>=6.1.12 in /usr/local/lib/python3.11/dist-packages (from ipykernel->jupyter->AstronomyCalc) (7.4.9)\n",
            "Requirement already satisfied: jupyter-core!=5.0.*,>=4.12 in /usr/local/lib/python3.11/dist-packages (from ipykernel->jupyter->AstronomyCalc) (5.7.2)\n",
            "Requirement already satisfied: matplotlib-inline>=0.1 in /usr/local/lib/python3.11/dist-packages (from ipykernel->jupyter->AstronomyCalc) (0.1.7)\n",
            "Requirement already satisfied: nest-asyncio in /usr/local/lib/python3.11/dist-packages (from ipykernel->jupyter->AstronomyCalc) (1.6.0)\n",
            "Requirement already satisfied: psutil in /usr/local/lib/python3.11/dist-packages (from ipykernel->jupyter->AstronomyCalc) (5.9.5)\n",
            "Requirement already satisfied: pyzmq>=24 in /usr/local/lib/python3.11/dist-packages (from ipykernel->jupyter->AstronomyCalc) (24.0.1)\n",
            "Requirement already satisfied: tornado>=6.1 in /usr/local/lib/python3.11/dist-packages (from ipykernel->jupyter->AstronomyCalc) (6.4.2)\n",
            "Requirement already satisfied: traitlets>=5.4.0 in /usr/local/lib/python3.11/dist-packages (from ipykernel->jupyter->AstronomyCalc) (5.7.1)\n",
            "Requirement already satisfied: ipython-genutils~=0.2.0 in /usr/local/lib/python3.11/dist-packages (from ipywidgets->jupyter->AstronomyCalc) (0.2.0)\n",
            "Requirement already satisfied: widgetsnbextension~=3.6.0 in /usr/local/lib/python3.11/dist-packages (from ipywidgets->jupyter->AstronomyCalc) (3.6.10)\n",
            "Requirement already satisfied: jupyterlab-widgets>=1.0.0 in /usr/local/lib/python3.11/dist-packages (from ipywidgets->jupyter->AstronomyCalc) (3.0.13)\n",
            "Requirement already satisfied: prompt-toolkit!=3.0.0,!=3.0.1,<3.1.0,>=2.0.0 in /usr/local/lib/python3.11/dist-packages (from jupyter-console->jupyter->AstronomyCalc) (3.0.50)\n",
            "Requirement already satisfied: pygments in /usr/local/lib/python3.11/dist-packages (from jupyter-console->jupyter->AstronomyCalc) (2.18.0)\n",
            "Requirement already satisfied: async-lru>=1.0.0 in /usr/local/lib/python3.11/dist-packages (from jupyterlab->jupyter->AstronomyCalc) (2.0.4)\n",
            "Requirement already satisfied: httpx>=0.25.0 in /usr/local/lib/python3.11/dist-packages (from jupyterlab->jupyter->AstronomyCalc) (0.28.1)\n",
            "Requirement already satisfied: jinja2>=3.0.3 in /usr/local/lib/python3.11/dist-packages (from jupyterlab->jupyter->AstronomyCalc) (3.1.5)\n",
            "Requirement already satisfied: jupyter-lsp>=2.0.0 in /usr/local/lib/python3.11/dist-packages (from jupyterlab->jupyter->AstronomyCalc) (2.2.5)\n",
            "Requirement already satisfied: jupyter-server<3,>=2.4.0 in /usr/local/lib/python3.11/dist-packages (from jupyterlab->jupyter->AstronomyCalc) (2.15.0)\n",
            "Requirement already satisfied: jupyterlab-server<3,>=2.27.1 in /usr/local/lib/python3.11/dist-packages (from jupyterlab->jupyter->AstronomyCalc) (2.27.3)\n",
            "Requirement already satisfied: notebook-shim>=0.2 in /usr/local/lib/python3.11/dist-packages (from jupyterlab->jupyter->AstronomyCalc) (0.2.4)\n",
            "Requirement already satisfied: setuptools>=40.8.0 in /usr/local/lib/python3.11/dist-packages (from jupyterlab->jupyter->AstronomyCalc) (75.1.0)\n",
            "Requirement already satisfied: beautifulsoup4 in /usr/local/lib/python3.11/dist-packages (from nbconvert->jupyter->AstronomyCalc) (4.12.3)\n",
            "Requirement already satisfied: bleach!=5.0.0 in /usr/local/lib/python3.11/dist-packages (from bleach[css]!=5.0.0->nbconvert->jupyter->AstronomyCalc) (6.2.0)\n",
            "Requirement already satisfied: defusedxml in /usr/local/lib/python3.11/dist-packages (from nbconvert->jupyter->AstronomyCalc) (0.7.1)\n",
            "Requirement already satisfied: jupyterlab-pygments in /usr/local/lib/python3.11/dist-packages (from nbconvert->jupyter->AstronomyCalc) (0.3.0)\n",
            "Requirement already satisfied: markupsafe>=2.0 in /usr/local/lib/python3.11/dist-packages (from nbconvert->jupyter->AstronomyCalc) (3.0.2)\n",
            "Requirement already satisfied: mistune<4,>=2.0.3 in /usr/local/lib/python3.11/dist-packages (from nbconvert->jupyter->AstronomyCalc) (3.1.1)\n",
            "Requirement already satisfied: nbclient>=0.5.0 in /usr/local/lib/python3.11/dist-packages (from nbconvert->jupyter->AstronomyCalc) (0.10.2)\n",
            "Requirement already satisfied: nbformat>=5.7 in /usr/local/lib/python3.11/dist-packages (from nbconvert->jupyter->AstronomyCalc) (5.10.4)\n",
            "Requirement already satisfied: pandocfilters>=1.4.1 in /usr/local/lib/python3.11/dist-packages (from nbconvert->jupyter->AstronomyCalc) (1.5.1)\n",
            "Requirement already satisfied: argon2-cffi in /usr/local/lib/python3.11/dist-packages (from notebook->jupyter->AstronomyCalc) (23.1.0)\n",
            "Requirement already satisfied: Send2Trash>=1.8.0 in /usr/local/lib/python3.11/dist-packages (from notebook->jupyter->AstronomyCalc) (1.8.3)\n",
            "Requirement already satisfied: terminado>=0.8.3 in /usr/local/lib/python3.11/dist-packages (from notebook->jupyter->AstronomyCalc) (0.18.1)\n",
            "Requirement already satisfied: prometheus-client in /usr/local/lib/python3.11/dist-packages (from notebook->jupyter->AstronomyCalc) (0.21.1)\n",
            "Requirement already satisfied: nbclassic>=0.4.7 in /usr/local/lib/python3.11/dist-packages (from notebook->jupyter->AstronomyCalc) (1.2.0)\n",
            "Requirement already satisfied: webencodings in /usr/local/lib/python3.11/dist-packages (from bleach!=5.0.0->bleach[css]!=5.0.0->nbconvert->jupyter->AstronomyCalc) (0.5.1)\n",
            "Requirement already satisfied: tinycss2<1.5,>=1.1.0 in /usr/local/lib/python3.11/dist-packages (from bleach[css]!=5.0.0->nbconvert->jupyter->AstronomyCalc) (1.4.0)\n",
            "Requirement already satisfied: anyio in /usr/local/lib/python3.11/dist-packages (from httpx>=0.25.0->jupyterlab->jupyter->AstronomyCalc) (3.7.1)\n",
            "Requirement already satisfied: certifi in /usr/local/lib/python3.11/dist-packages (from httpx>=0.25.0->jupyterlab->jupyter->AstronomyCalc) (2024.12.14)\n",
            "Requirement already satisfied: httpcore==1.* in /usr/local/lib/python3.11/dist-packages (from httpx>=0.25.0->jupyterlab->jupyter->AstronomyCalc) (1.0.7)\n",
            "Requirement already satisfied: idna in /usr/local/lib/python3.11/dist-packages (from httpx>=0.25.0->jupyterlab->jupyter->AstronomyCalc) (3.10)\n",
            "Requirement already satisfied: h11<0.15,>=0.13 in /usr/local/lib/python3.11/dist-packages (from httpcore==1.*->httpx>=0.25.0->jupyterlab->jupyter->AstronomyCalc) (0.14.0)\n",
            "Requirement already satisfied: jedi>=0.16 in /usr/local/lib/python3.11/dist-packages (from ipython>=7.23.1->ipykernel->jupyter->AstronomyCalc) (0.19.2)\n",
            "Requirement already satisfied: decorator in /usr/local/lib/python3.11/dist-packages (from ipython>=7.23.1->ipykernel->jupyter->AstronomyCalc) (4.4.2)\n",
            "Requirement already satisfied: pickleshare in /usr/local/lib/python3.11/dist-packages (from ipython>=7.23.1->ipykernel->jupyter->AstronomyCalc) (0.7.5)\n",
            "Requirement already satisfied: backcall in /usr/local/lib/python3.11/dist-packages (from ipython>=7.23.1->ipykernel->jupyter->AstronomyCalc) (0.2.0)\n",
            "Requirement already satisfied: pexpect>4.3 in /usr/local/lib/python3.11/dist-packages (from ipython>=7.23.1->ipykernel->jupyter->AstronomyCalc) (4.9.0)\n",
            "Requirement already satisfied: entrypoints in /usr/local/lib/python3.11/dist-packages (from jupyter-client>=6.1.12->ipykernel->jupyter->AstronomyCalc) (0.4)\n",
            "Requirement already satisfied: platformdirs>=2.5 in /usr/local/lib/python3.11/dist-packages (from jupyter-core!=5.0.*,>=4.12->ipykernel->jupyter->AstronomyCalc) (4.3.6)\n",
            "Requirement already satisfied: jupyter-events>=0.11.0 in /usr/local/lib/python3.11/dist-packages (from jupyter-server<3,>=2.4.0->jupyterlab->jupyter->AstronomyCalc) (0.11.0)\n",
            "Requirement already satisfied: jupyter-server-terminals>=0.4.4 in /usr/local/lib/python3.11/dist-packages (from jupyter-server<3,>=2.4.0->jupyterlab->jupyter->AstronomyCalc) (0.5.3)\n",
            "Requirement already satisfied: overrides>=5.0 in /usr/local/lib/python3.11/dist-packages (from jupyter-server<3,>=2.4.0->jupyterlab->jupyter->AstronomyCalc) (7.7.0)\n",
            "Requirement already satisfied: websocket-client>=1.7 in /usr/local/lib/python3.11/dist-packages (from jupyter-server<3,>=2.4.0->jupyterlab->jupyter->AstronomyCalc) (1.8.0)\n",
            "Requirement already satisfied: argon2-cffi-bindings in /usr/local/lib/python3.11/dist-packages (from argon2-cffi->notebook->jupyter->AstronomyCalc) (21.2.0)\n",
            "Requirement already satisfied: babel>=2.10 in /usr/local/lib/python3.11/dist-packages (from jupyterlab-server<3,>=2.27.1->jupyterlab->jupyter->AstronomyCalc) (2.16.0)\n",
            "Requirement already satisfied: json5>=0.9.0 in /usr/local/lib/python3.11/dist-packages (from jupyterlab-server<3,>=2.27.1->jupyterlab->jupyter->AstronomyCalc) (0.10.0)\n",
            "Requirement already satisfied: jsonschema>=4.18.0 in /usr/local/lib/python3.11/dist-packages (from jupyterlab-server<3,>=2.27.1->jupyterlab->jupyter->AstronomyCalc) (4.23.0)\n",
            "Requirement already satisfied: requests>=2.31 in /usr/local/lib/python3.11/dist-packages (from jupyterlab-server<3,>=2.27.1->jupyterlab->jupyter->AstronomyCalc) (2.32.3)\n",
            "Requirement already satisfied: fastjsonschema>=2.15 in /usr/local/lib/python3.11/dist-packages (from nbformat>=5.7->nbconvert->jupyter->AstronomyCalc) (2.21.1)\n",
            "Requirement already satisfied: wcwidth in /usr/local/lib/python3.11/dist-packages (from prompt-toolkit!=3.0.0,!=3.0.1,<3.1.0,>=2.0.0->jupyter-console->jupyter->AstronomyCalc) (0.2.13)\n",
            "Requirement already satisfied: ptyprocess in /usr/local/lib/python3.11/dist-packages (from terminado>=0.8.3->notebook->jupyter->AstronomyCalc) (0.7.0)\n",
            "Requirement already satisfied: soupsieve>1.2 in /usr/local/lib/python3.11/dist-packages (from beautifulsoup4->nbconvert->jupyter->AstronomyCalc) (2.6)\n",
            "Requirement already satisfied: sniffio>=1.1 in /usr/local/lib/python3.11/dist-packages (from anyio->httpx>=0.25.0->jupyterlab->jupyter->AstronomyCalc) (1.3.1)\n",
            "Requirement already satisfied: parso<0.9.0,>=0.8.4 in /usr/local/lib/python3.11/dist-packages (from jedi>=0.16->ipython>=7.23.1->ipykernel->jupyter->AstronomyCalc) (0.8.4)\n",
            "Requirement already satisfied: attrs>=22.2.0 in /usr/local/lib/python3.11/dist-packages (from jsonschema>=4.18.0->jupyterlab-server<3,>=2.27.1->jupyterlab->jupyter->AstronomyCalc) (25.1.0)\n",
            "Requirement already satisfied: jsonschema-specifications>=2023.03.6 in /usr/local/lib/python3.11/dist-packages (from jsonschema>=4.18.0->jupyterlab-server<3,>=2.27.1->jupyterlab->jupyter->AstronomyCalc) (2024.10.1)\n",
            "Requirement already satisfied: referencing>=0.28.4 in /usr/local/lib/python3.11/dist-packages (from jsonschema>=4.18.0->jupyterlab-server<3,>=2.27.1->jupyterlab->jupyter->AstronomyCalc) (0.36.2)\n",
            "Requirement already satisfied: rpds-py>=0.7.1 in /usr/local/lib/python3.11/dist-packages (from jsonschema>=4.18.0->jupyterlab-server<3,>=2.27.1->jupyterlab->jupyter->AstronomyCalc) (0.22.3)\n",
            "Requirement already satisfied: python-json-logger>=2.0.4 in /usr/local/lib/python3.11/dist-packages (from jupyter-events>=0.11.0->jupyter-server<3,>=2.4.0->jupyterlab->jupyter->AstronomyCalc) (3.2.1)\n",
            "Requirement already satisfied: rfc3339-validator in /usr/local/lib/python3.11/dist-packages (from jupyter-events>=0.11.0->jupyter-server<3,>=2.4.0->jupyterlab->jupyter->AstronomyCalc) (0.1.4)\n",
            "Requirement already satisfied: rfc3986-validator>=0.1.1 in /usr/local/lib/python3.11/dist-packages (from jupyter-events>=0.11.0->jupyter-server<3,>=2.4.0->jupyterlab->jupyter->AstronomyCalc) (0.1.1)\n",
            "Requirement already satisfied: charset-normalizer<4,>=2 in /usr/local/lib/python3.11/dist-packages (from requests>=2.31->jupyterlab-server<3,>=2.27.1->jupyterlab->jupyter->AstronomyCalc) (3.4.1)\n",
            "Requirement already satisfied: urllib3<3,>=1.21.1 in /usr/local/lib/python3.11/dist-packages (from requests>=2.31->jupyterlab-server<3,>=2.27.1->jupyterlab->jupyter->AstronomyCalc) (2.3.0)\n",
            "Requirement already satisfied: cffi>=1.0.1 in /usr/local/lib/python3.11/dist-packages (from argon2-cffi-bindings->argon2-cffi->notebook->jupyter->AstronomyCalc) (1.17.1)\n",
            "Requirement already satisfied: pycparser in /usr/local/lib/python3.11/dist-packages (from cffi>=1.0.1->argon2-cffi-bindings->argon2-cffi->notebook->jupyter->AstronomyCalc) (2.22)\n",
            "Requirement already satisfied: fqdn in /usr/local/lib/python3.11/dist-packages (from jsonschema[format-nongpl]>=4.18.0->jupyter-events>=0.11.0->jupyter-server<3,>=2.4.0->jupyterlab->jupyter->AstronomyCalc) (1.5.1)\n",
            "Requirement already satisfied: isoduration in /usr/local/lib/python3.11/dist-packages (from jsonschema[format-nongpl]>=4.18.0->jupyter-events>=0.11.0->jupyter-server<3,>=2.4.0->jupyterlab->jupyter->AstronomyCalc) (20.11.0)\n",
            "Requirement already satisfied: jsonpointer>1.13 in /usr/local/lib/python3.11/dist-packages (from jsonschema[format-nongpl]>=4.18.0->jupyter-events>=0.11.0->jupyter-server<3,>=2.4.0->jupyterlab->jupyter->AstronomyCalc) (3.0.0)\n",
            "Requirement already satisfied: uri-template in /usr/local/lib/python3.11/dist-packages (from jsonschema[format-nongpl]>=4.18.0->jupyter-events>=0.11.0->jupyter-server<3,>=2.4.0->jupyterlab->jupyter->AstronomyCalc) (1.3.0)\n",
            "Requirement already satisfied: webcolors>=24.6.0 in /usr/local/lib/python3.11/dist-packages (from jsonschema[format-nongpl]>=4.18.0->jupyter-events>=0.11.0->jupyter-server<3,>=2.4.0->jupyterlab->jupyter->AstronomyCalc) (24.11.1)\n",
            "Requirement already satisfied: typing-extensions>=4.4.0 in /usr/local/lib/python3.11/dist-packages (from referencing>=0.28.4->jsonschema>=4.18.0->jupyterlab-server<3,>=2.27.1->jupyterlab->jupyter->AstronomyCalc) (4.12.2)\n",
            "Requirement already satisfied: arrow>=0.15.0 in /usr/local/lib/python3.11/dist-packages (from isoduration->jsonschema[format-nongpl]>=4.18.0->jupyter-events>=0.11.0->jupyter-server<3,>=2.4.0->jupyterlab->jupyter->AstronomyCalc) (1.3.0)\n",
            "Requirement already satisfied: types-python-dateutil>=2.8.10 in /usr/local/lib/python3.11/dist-packages (from arrow>=0.15.0->isoduration->jsonschema[format-nongpl]>=4.18.0->jupyter-events>=0.11.0->jupyter-server<3,>=2.4.0->jupyterlab->jupyter->AstronomyCalc) (2.9.0.20241206)\n"
          ]
        }
      ],
      "source": [
        "pip install --upgrade AstronomyCalc"
      ]
    },
    {
      "cell_type": "code",
      "execution_count": null,
      "metadata": {
        "id": "vRgFTLk0wq_y"
      },
      "outputs": [],
      "source": [
        "import AstronomyCalc as ac"
      ]
    },
    {
      "cell_type": "code",
      "execution_count": null,
      "metadata": {
        "colab": {
          "base_uri": "https://localhost:8080/"
        },
        "id": "wUQiLsVz2Rwt",
        "outputId": "bdd7e727-f357-4964-9359-1b833c86b05c"
      },
      "outputs": [
        {
          "output_type": "stream",
          "name": "stdout",
          "text": [
            "Cosmological parameters for Einstein-de Sitter:\n",
            " H0: 70\n",
            " omega_m: 1.0\n",
            " omega_k: 0.0\n",
            " omega_lambda: 0.0\n",
            "Cosmological parameters for de Sitter:\n",
            " H0: 70\n",
            " omega_m: 0.0\n",
            " omega_k: 0.0\n",
            " omega_lambda: 1.0\n",
            "Cosmological parameters for Planck:\n",
            " H0: 67.4\n",
            " omega_m: 0.315\n",
            " omega_k: 0.0\n",
            " omega_lambda: 0.685\n"
          ]
        }
      ],
      "source": [
        "def define_cosmological_parameters(model_name):\n",
        "  #this is creating a function that works off of the model name\n",
        "  #the triple quotes is convention, this is a doc string and it describes what the function does, what argument it takes in, and what it outputs as a result\n",
        "  \"\"\"Defines cosmological parameters for a given model.\n",
        "\n",
        "  Args:\n",
        "    model_name: The name of the cosmological model.\n",
        "\n",
        "  Returns:\n",
        "    A dictionary containing the cosmological parameters for the specified model.\n",
        "    Returns None if the model is not recognized.\n",
        "  \"\"\"\n",
        "  #this simply just says if the model being used is einstien-de sitter\n",
        "  if model_name == \"Einstein-de Sitter\":\n",
        "    #what this is, is Hubbles constant, it tells the rate of the expansion of the universe and works in kilometers, per second, per megaparsecs(3.26 million light years)\n",
        "    #this tends to range between 67-73 km/s/Mpc. a high H0 means that the expansion is fast, low means its slow\n",
        "    #this constant uses velocity and the distance from the center of the universe\n",
        "    H0 = 70\n",
        "    #what this is, is the mater densitythat is part of the einstien-de sitter. if it is 1 then it is perfect for a flat model universe\n",
        "    #If it is more than 1 then the universe is likely curved\n",
        "    #if it is less than 1 it means that the universe is likely concave. This takes all matter into account, dark, and regular\n",
        "    omega_m = 1.0\n",
        "    #This is the curvature parameter, it shows how curved the universe model is, if it is 0 it is flat\n",
        "    #if it is more than 0 then the model is a sphere, if less then concave\n",
        "    #this value is acutually usually very small, it just explains the geometry of the universe.\n",
        "    omega_k = 0.0\n",
        "    #this is the density of dark matter and what this shows is the impact of dark matter on the model\n",
        "    #if it is 0 it means that dark matter has very little effect on the impact of the universe model\n",
        "    #if it is 1 then it means that dark matter is the prominent force in the universe\n",
        "    #this is important for explaining the acceleration of the universe\n",
        "    omega_lambda = 0.0\n",
        "    #all of these things add up together to make the critical density, which when added should equal 1\n",
        "    #if it is more than 1 then the universe is curved and is a spherical model\n",
        "    #if less than 1 then it is concave\n",
        "\n",
        "    return{\"H0\": H0, \"omega_m\": omega_m, \"omega_k\": omega_k, \"omega_lambda\": omega_lambda} #this makes a library with the name and associated variable\n",
        "\n",
        "  elif model_name == \"de Sitter\":\n",
        "    H0 = 70\n",
        "    omega_m = 0.0\n",
        "    omega_k = 0.0\n",
        "    omega_lambda= 1.0\n",
        "    return{\"H0\": H0, \"omega_m\": omega_m, \"omega_k\": omega_k, \"omega_lambda\": omega_lambda}\n",
        "\n",
        "  elif model_name == \"Planck\":\n",
        "    H0 = 67.4\n",
        "    omega_m = 0.315\n",
        "    omega_k = 0.0\n",
        "    omega_lambda = 0.685\n",
        "    return{\"H0\": H0, \"omega_m\": omega_m, \"omega_k\": omega_k, \"omega_lambda\": omega_lambda}\n",
        "  else:\n",
        "    return None\n",
        "\n",
        "models = [\"Einstein-de Sitter\", \"de Sitter\", \"Planck\"]\n",
        "for model in models:\n",
        "  params = define_cosmological_parameters(model)\n",
        "  if params:\n",
        "    print(f\"Cosmological parameters for {model}:\")\n",
        "#What this does is says within the key(models) take the items within the parameters, and take the item and its associated value and print it\n",
        "    for key, value in params.items():\n",
        "      print(f\" {key}: {value}\")\n",
        "  else:\n",
        "    print(f\"Model '{model}' not recognized :-/ \")\n",
        "\n"
      ]
    },
    {
      "cell_type": "markdown",
      "metadata": {
        "id": "8UbgpNswhQAX"
      },
      "source": [
        "###Exercise 2: Calculate Distances\n",
        "Goal: Use the toolkit to compute comoving and proper distances for different cosmological models.\n",
        "\n",
        "Using the redshift array zarr = np.logspace(-2, 1, 100):\n",
        "Calculate comoving distances for each cosmological model.\n",
        "Calculate proper distances for each cosmological model.\n",
        "Print or save the resulting arrays to observe how they vary with redshift.\n"
      ]
    },
    {
      "cell_type": "code",
      "execution_count": null,
      "metadata": {
        "colab": {
          "base_uri": "https://localhost:8080/"
        },
        "id": "cGsGu6DpMUF4",
        "outputId": "202c5e4c-2843-4850-b629-8ff728b4eca9"
      },
      "outputs": [
        {
          "output_type": "stream",
          "name": "stdout",
          "text": [
            "Requirement already satisfied: numpy in /usr/local/lib/python3.11/dist-packages (1.26.4)\n"
          ]
        }
      ],
      "source": [
        "!pip install numpy"
      ]
    },
    {
      "cell_type": "code",
      "execution_count": null,
      "metadata": {
        "id": "DTSy1AeKMcO0"
      },
      "outputs": [],
      "source": [
        "import numpy as np"
      ]
    },
    {
      "cell_type": "code",
      "source": [
        "#what this is, is it takes the default log base, which is 10, then raises it to the exponents -2 and 1 and organizes it in an array that is 100 columns long\n",
        "#this is redshift array, which is a wavelength of light that is red, the further away the redder it is, the closer the bluer it is\n",
        "zarr = np.logspace(-2, 1, 100)\n",
        "#models was previously defined and says that parameters is the cosmological parameter of the individual models\n",
        "# Loop through each MODEL NAME\n",
        "for model_name in models:  # Use a more descriptive variable name like model_name\n",
        "    params = define_cosmological_parameters(model_name)\n",
        "    if params:\n",
        "      #this creates a cosmological model of an opject with the defined parameters, Hubbles constant\n",
        "    #know that 0 means that this is being calculated for the present day, we have omega matter 0, omega dark energy 0, and omega k(km) 0\n",
        "    #you have now officially created a model, we still need to see comoving distances tho.\n",
        "    #lambdacdm creates a cosmological model\n",
        "        # This part is okay (create models, calculate distances, print results)\n",
        "        cosmo = ac.LambdaCDM(H0=params[\"H0\"], Om0=params[\"omega_m\"], Ode0=params[\"omega_lambda\"])\n",
        "    #cosmo is the previous model,the one from the line before, and takes the redshifting zarr and takes it into account, in association with the comoving distances variable\n",
        "    #this is confusing so what I did was, variable name = cosmo.function of AstronomyCalc(zarr). I just named my variables the same as the tools/functions of the package\n",
        "    #comoving measures 2 distances between points moving distances, without taking expansion into account\n",
        "    #imagine measuring the milky way to andromeda, not taking the expansion of the universe into account\n",
        "    #proper distances does take the moving into account and will therefore give you a slightly different answer\n",
        "        comoving_distances = cosmo.comoving_distance(zarr)\n",
        "         #proper distances had to be manually calculated because there were no functions in AstronomyCalc that does it automatically\n",
        "        proper_distances = comoving_distances / (1 + zarr)\n",
        "\n",
        "        print(f\"Distances for {model_name}: \")\n",
        "        print(\"Comoving distances:\")\n",
        "        print(comoving_distances)\n",
        "        print(\"Proper Distances: \")\n",
        "        print(proper_distances)\n",
        "    else:\n",
        "        print(f\"Model '{model_name}' not recognized :-/\")"
      ],
      "metadata": {
        "colab": {
          "base_uri": "https://localhost:8080/"
        },
        "collapsed": true,
        "id": "4lvhq87R5IYr",
        "outputId": "b96b72ab-c875-4b0a-cc1c-b2c45ca2dde3"
      },
      "execution_count": null,
      "outputs": [
        {
          "output_type": "stream",
          "name": "stdout",
          "text": [
            "Distances for Einstein-de Sitter: \n",
            "Comoving distances:\n",
            "[  42.5089413    45.55647825   48.82062299   52.31649363   56.06022252\n",
            "   60.06901813   64.36122996   68.95641624   73.87541452   79.14041492\n",
            "   84.77503613   90.80440381   97.25523133  104.15590245  111.53655565\n",
            "  119.4291697   127.86764996  136.88791466  146.52798061  156.82804738\n",
            "  167.83057887  179.58038134  192.12467627  205.5131668   219.79809598\n",
            "  235.03429475  251.2792179   268.59296529  287.03828601  306.68056271\n",
            "  327.5877729   349.83042437  373.48146103  398.61613597  425.31184799\n",
            "  453.64793797  483.70544167  515.56679526  549.31549061  585.0356772\n",
            "  622.81170856  662.7276312   704.86661531  749.31032709  796.13824406\n",
            "  845.42691563  897.24917317  951.67329496 1008.76213364 1068.5722151\n",
            " 1131.15282013 1196.54506148 1264.78097106 1335.88261324 1409.86124174\n",
            " 1486.71651816 1566.43581087 1648.9935929  1734.35095659 1822.45526165\n",
            " 1913.23993154 2006.62441011 2102.51428775 2200.80160264 2301.36531854\n",
            " 2404.0719766  2508.77651427 2615.32324018 2723.54694987 2833.2741639\n",
            " 2944.32446654 3056.51192124 3169.6465374  3283.5357622  3397.98597135\n",
            " 3512.80393359 3627.79822514 3742.78057279 3857.56710682 3971.97950811\n",
            " 4085.84603723 4199.00243651 4311.29269964 4422.56970655 4532.69572422\n",
            " 4641.54277685 4748.99289101 4854.93822335 4959.28107992 5061.93383717\n",
            " 5162.81877541 5261.86783598 5359.02231322 5454.23249214 5547.45724247\n",
            " 5638.66357882 5727.82619626 5814.92698945 5899.95456306 5982.90373983] Mpc\n",
            "Proper Distances: \n",
            "[  42.08806069   45.07317339   48.2656849    51.67936625   55.32880824\n",
            "   59.22945589   63.39764217   67.8506202    72.60659368   77.68474464\n",
            "   83.10525786   88.88934101   95.05923961  101.6382455   108.65069774\n",
            "  116.12197423  124.07847269  132.54757902  141.55762112  151.137806\n",
            "  161.31813781  172.12931423  183.60259855  195.76966447  208.66241071\n",
            "  222.31274228  236.75231536  252.01224255  268.12275565  285.11282321\n",
            "  303.00972029  321.8385487   341.62170636  362.37830543  384.12353988\n",
            "  406.86800453  430.61696904  455.36961242  481.11822525  507.84738961\n",
            "  535.53314892  564.14218262  593.63100358  623.94519861  655.01873544\n",
            "  686.77336164  719.11812316  751.94903139  785.14890834  818.58743907\n",
            "  852.12145908  885.59550114  918.84262216  951.68552452  983.93797907\n",
            " 1015.40654846 1045.89259951 1075.19458265 1103.11054554 1129.44083699\n",
            " 1153.99094673 1176.5744179  1197.0157616  1215.15329827 1230.84184846\n",
            " 1243.95519674 1254.38825714 1262.05887561 1266.90921611 1268.90668932\n",
            " 1268.04439832 1264.34109125 1257.84062733 1248.61097826 1236.74280176\n",
            " 1222.34763616 1205.55577519 1186.51388936 1165.38246423 1142.33312745\n",
            " 1117.54593429 1091.20667792 1063.50428382 1034.62834045 1004.76680914\n",
            "  974.10394705  942.8184672   911.08195081  879.0575184   846.89875867\n",
            "  814.74890744  782.74026394  750.99382712  719.61913196  688.71426367\n",
            "  658.36602659  628.65024459  599.63217015  571.36698045  543.90033998] Mpc\n",
            "Distances for de Sitter: \n",
            "Comoving distances:\n",
            "[   42.827494      45.92251802    49.24121082    52.79973634\n",
            "    56.6154266     60.70686621    65.09398279    69.79814409\n",
            "    74.84226207    80.25090443    86.05041436    92.26903876\n",
            "    98.93706587   106.08697277   113.75358359   121.97423907\n",
            "   130.78897848   140.24073463   150.37554293   161.24276568\n",
            "   172.89533242   185.38999779   198.78761792   213.15344684\n",
            "   228.5574543    245.0746666    262.78553194   281.77631231\n",
            "   302.13950363   323.97428622   347.38700789   372.49170191\n",
            "   399.41064243   428.27494      459.22518017   492.41210822\n",
            "   527.99736336   566.15426604   607.06866208   650.93982786\n",
            "   697.98144091   748.42262066   802.50904435   860.50414362\n",
            "   922.69038761   989.3706587   1060.86972774  1137.53583588\n",
            "  1219.74239067  1307.88978481  1402.40734626  1503.7554293\n",
            "  1612.42765676  1728.9533242   1853.89997793  1987.87617922\n",
            "  2131.53446839  2285.57454304  2450.74666597  2627.85531937\n",
            "  2817.76312314  3021.39503633  3239.74286221  3473.87007889\n",
            "  3724.91701911  3994.1064243   4282.7494      4592.2518017\n",
            "  4924.12108219  5279.97363364  5661.54266043  6070.68662079\n",
            "  6509.39827857  6979.81440912  7484.22620662  8025.09044346\n",
            "  8605.0414362   9226.90387607  9893.70658695 10608.69727738\n",
            " 11375.35835876 12197.42390672 13078.89784814 14024.07346259\n",
            " 15037.55429299 16124.27656758 17289.53324204 18538.9997793\n",
            " 19878.7617922  21315.34468393 22855.74543043 24507.46665966\n",
            " 26278.55319367 28177.63123142 30213.95036335 32397.42862207\n",
            " 34738.70078886 37249.17019112 39941.06424302 42827.494     ] Mpc\n",
            "Proper Distances: \n",
            "[  42.40345941   45.43532987   48.68149196   52.15672387   55.87676861\n",
            "   59.85838901   64.11942455   68.67884996   73.55683548   78.77480835\n",
            "   84.3555155    90.32308684   96.70309886  103.52263799  110.81036307\n",
            "  118.59656632  126.91323176  135.79409038  145.2746707   155.39234369\n",
            "  166.18636037  177.69788073  189.96999199  203.04771425  216.9779915\n",
            "  231.80966528  247.59342873  264.38175805  282.22881843  301.19034143\n",
            "  321.32347053  342.68657153  365.33900459  389.34085455  414.75261657\n",
            "  441.63483421  470.04768748  500.05052899  531.70136706  565.05629529\n",
            "  600.16886934  637.08943292  675.86439623  716.53547186  759.13887494\n",
            "  803.70449605  850.25505773  898.80526699  949.36097872 1001.91838643\n",
            " 1056.46325841 1112.97023895 1171.40223492 1231.70990842 1293.83129606\n",
            " 1357.69157419 1423.20298772 1490.26495766 1558.76437892 1628.57611589\n",
            " 1699.56369849 1771.58021611 1844.46940132 1918.06688939 1992.2016345\n",
            " 2066.69745799 2141.3747     2216.05194201 2290.5477655  2364.68251061\n",
            " 2438.27999868 2511.16918389 2583.18570151 2654.17328411 2723.98502108\n",
            " 2792.48444234 2859.54641228 2925.05782581 2988.91810394 3051.03949158\n",
            " 3111.34716508 3169.77916105 3226.28614159 3280.83101357 3333.38842128\n",
            " 3383.94413301 3432.49434227 3479.04490395 3523.61052506 3566.21392814\n",
            " 3606.88500377 3645.65996708 3682.58053066 3717.69310471 3751.04803294\n",
            " 3782.69887101 3812.70171252 3841.11456579 3867.99678343 3893.40854545] Mpc\n",
            "Distances for Planck: \n",
            "Comoving distances:\n",
            "[  44.37430886   47.57294196   51.00150452   54.6764286    58.61530597\n",
            "   62.83696784   67.36156951   72.21068058   77.40738075   82.97636157\n",
            "   88.9440345    95.33864539  102.19039583  109.53157153  117.39667803\n",
            "  125.82258388  134.84867163  144.51699665  154.87245401  165.9629533\n",
            "  177.83960159  190.55689415  204.17291287  218.74953191  234.35263001\n",
            "  251.05230877  268.92311582  288.0442716   308.49989822  330.37924829\n",
            "  353.77693121  378.79313412  405.5338337   434.11099464  464.64274962\n",
            "  497.25355496  532.07431474  569.24246553  608.90201231  651.20350495\n",
            "  696.3039433   744.36659742  795.56072792  850.06119012  908.04790423\n",
            "  969.70517288 1035.22082629 1104.78517529 1178.58975305 1256.82582732\n",
            " 1339.68266806 1427.34555912 1519.99354848 1617.79693931 1720.91453393\n",
            " 1829.49065476 1943.65198019 2063.50424927 2189.12890539 2320.57976607\n",
            " 2457.87982127 2601.01827551 2749.94795729 2904.58322156 3064.79846572\n",
            " 3230.4273658  3401.26291735 3577.05833484 3757.52882701 3942.35422494\n",
            " 4131.18239855 4323.63335916 4519.30391348 4717.77271142 4918.60551726\n",
            " 5121.36053242 5325.59360702 5530.86319523 5736.73493425 5942.78575477\n",
            " 6148.60746064 6353.80974434 6558.02263004 6760.89835845 6962.1127441\n",
            " 7161.36604859 7358.38342059 7552.91495798 7744.73544801 7933.64383978\n",
            " 8119.46250021 8302.03630005 8481.23157175 8656.93497537 8829.05230401\n",
            " 8997.50725516 9162.24018994 9323.20689811 9480.37738354 9633.73468128] Mpc\n",
            "Proper Distances: \n",
            "[  43.93495927   47.0682446    50.42177662   54.01056115   57.85055567\n",
            "   61.95871901   66.35306197   71.05269863   76.07789788   81.45013476\n",
            "   87.19214122   93.32795554   99.88296968  106.88397389  114.35919736\n",
            "  122.33834397  130.85262164  139.93476401  149.61904255  159.94126726\n",
            "  170.93877379  182.65039459  195.11641131  208.37848558  222.47956479\n",
            "  237.4637594   253.37618788  270.26278503  288.1700695   307.14486558\n",
            "  327.23397464  348.48379114  370.93985836  394.64635876  419.64553447\n",
            "  445.97703355  473.67717826  502.77815268  533.3071077   565.28518342\n",
            "  598.72645012  633.63677199  670.01259965  707.83970128  747.09184539\n",
            "  787.7294525   829.69823759  872.92787016  917.33068394  962.80047413\n",
            " 1009.21142528 1056.41721855 1104.25037197 1152.52187092 1201.02114913\n",
            " 1249.51648045 1297.75584036 1345.46829025 1392.36592912 1438.14644368\n",
            " 1482.49626988 1525.09435649 1565.61649432 1603.74014521 1639.14967273\n",
            " 1671.54184588 1700.63145867 1726.15688597 1747.88538195 1765.61792411\n",
            " 1779.19341379 1788.49206559 1793.43784948 1793.99989129 1790.19278463\n",
            " 1782.07581723 1769.75116333 1753.36113716 1733.08463838 1709.13294571\n",
            " 1681.74503066 1651.18256731 1617.72480932 1581.66349265 1543.29790315\n",
            " 1502.93022592 1460.86126825 1417.38662319 1372.79331699 1327.35696194\n",
            " 1281.33941725 1234.98694519 1188.52883688 1142.1764733  1096.12278035\n",
            " 1050.54203323 1005.58996363  961.40412343  918.10446016  875.79406193] Mpc\n"
          ]
        }
      ]
    },
    {
      "cell_type": "markdown",
      "metadata": {
        "id": "CdZTrQAthToT"
      },
      "source": [
        "###Exercise 3: Visualizing Cosmic Distances\n",
        "Goal: Create comparative plots of distances for multiple models.\n",
        "\n",
        "Plot comoving distances vs. redshift for:\n",
        "Einstein-de Sitter\n",
        "de Sitter\n",
        "Planck cosmology\n",
        "Plot proper distances vs. redshift on a separate subplot.\n",
        "Customize your plot with:\n",
        "Titles\n",
        "Axis labels\n",
        "Legends"
      ]
    },
    {
      "cell_type": "code",
      "source": [
        "import matplotlib.pyplot as plt\n",
        "import seaborn as sns"
      ],
      "metadata": {
        "id": "NINgvckZ9nJI"
      },
      "execution_count": null,
      "outputs": []
    },
    {
      "cell_type": "code",
      "source": [
        "#what this does is create a figure, it makes a blank canvas for the graph/plot to be drawn on\n",
        "#12 is the width in inches of the canvas. 6 is the height in inches\n",
        "#so overall this says matplotlib.canvas(canvassize(12in w, 6in h))\n",
        "plt.figure(figsize=(12, 6))\n",
        "#what subplot does is divide the plot/canvas that plt.figure made\n",
        "#the first number is the number of rows in the subplot, the 2nd number is the number of columns in the subplot\n",
        "#the last number is the index, which plot I am making, is it plot 1, plot 2, plot 3, etc\n",
        "#this makes a plot on a 1x2 grid\n",
        "plt.subplot(1, 2, 1)\n",
        "\n",
        "#from the parameters\n",
        "for model_name in models:\n",
        "  #Defines cosmological parameters for a given model. takes in the name of the cosmology model,\n",
        "  #it then spits out a dictionary with the the model and its cosmological parameter, otherise spits out none\n",
        "   params = define_cosmological_parameters(model_name)\n",
        "   if params:\n",
        "    #yk what this does (look at former code)\n",
        "    cosmo = ac.LambdaCDM(H0=params[\"H0\"], Om0=params[\"omega_m\"], Ode0=params[\"omega_lambda\"])\n",
        "    comoving_distances = cosmo.comoving_distance(zarr)\n",
        "    #what this does is it plots zarr vs comoving distance and puts the name as the model name\n",
        "    plt.plot(zarr, comoving_distances)\n",
        "    plt.title('Comoving Distances va Redshift', fontsize=12)\n",
        "    #the value of redshifts is denoted as z corresponding to the fractional change in wavelength (positive for redshifts, negative for blueshifts)\n",
        "    #and by the wavelength ratio 1 + z (which is greater than 1 for redshifts and less than 1 for blueshifts).\n",
        "    plt.xlabel('Redshift (z)', fontsize=10)\n",
        "    #Mpc = km/sec/mega parsecs (~3.26 million light years)\n",
        "    plt.ylabel('Comoving Distances (Mpc)', fontsize=10)\n",
        "    #a legend is just a small thing that tells you what is being graphed\n",
        "    plt.legend(fontsize=8)\n",
        "\n",
        "    plt.subplot(1, 2, 2)\n",
        "    for model_name in models:\n",
        "      params = define_cosmological_parameters(model_name)\n",
        "      if params:\n",
        "        cosmo = ac.LambdaCDM(H0=params[\"H0\"], Om0=params[\"omega_m\"], Ode0=params[\"omega_lambda\"])\n",
        "        #remember that lambdacdm does only comoving distances, which takes moving into account\n",
        "        #it doesn't do proper distances, which is not taking seperation into account, but it has to be calculated manually\n",
        "        #the calculation is this\n",
        "        proper_distances = comoving_distances / (1 + zarr)\n",
        "        plt.plot(zarr, proper_distances, label=model_name)\n",
        "        plt.title('Proper Distances vs. Redshift', fontsize=12)\n",
        "        plt.xlabel('Redshift (z)', fontsize=10)\n",
        "        plt.ylabel('Proper Distances (Mpc)', fontsize=10)\n",
        "        plt.legend(fontsize=8)\n",
        "\n",
        "\n",
        "#tight_layout keeps it from overlaping and the adjust does width and height\n",
        "plt.subplots_adjust(wspace=0.4, hspace=0.3)\n",
        "plt.tight_layout()\n",
        "#this shows the plot you made\n",
        "plt.show()"
      ],
      "metadata": {
        "id": "LHC-syO5-dyt",
        "colab": {
          "base_uri": "https://localhost:8080/",
          "height": 384
        },
        "outputId": "fbb010be-1e03-468d-bfc3-e14ce58ffb92"
      },
      "execution_count": null,
      "outputs": [
        {
          "output_type": "stream",
          "name": "stderr",
          "text": [
            "<ipython-input-9-a735b0c2c53a>:29: UserWarning: No artists with labels found to put in legend.  Note that artists whose label start with an underscore are ignored when legend() is called with no argument.\n",
            "  plt.legend(fontsize=8)\n"
          ]
        },
        {
          "output_type": "display_data",
          "data": {
            "text/plain": [
              "<Figure size 1200x600 with 2 Axes>"
            ],
            "image/png": "[encoded data removed]"
          },
          "metadata": {}
        }
      ]
    },
    {
      "cell_type": "markdown",
      "metadata": {
        "id": "73eya8JhhaFq"
      },
      "source": [
        "###Exercise 4: Synthetic Supernova Data\n",
        "Goal: Work with synthetic Type Ia supernova data.\n",
        "\n",
        "Use the toolkit to generate synthetic Type Ia supernova measurements.\n",
        "Explore how varying parameters like the Hubble constant or matter density changes the measurements.\n",
        "Write a function to plot the distance modulus vs. redshift for the generated data."
      ]
    },
    {
      "cell_type": "code",
      "source": [
        "#this creates a function called plot_distance_modulu_vs_redshift, it takes in arguments in the Astronomy Calc library\n",
        "def plot_distance_modulus_vs_redshift(H0, Om0, Ode0, num_sne=50):\n",
        "  \"\"\"This makes fake exploding white stars in binary systems called supernova (Ia = exploding stars)\n",
        "  they are fake so that scientist can control the variables and parameters and compare them to real supernovas\n",
        "  it then plots the distance between them and compares it against their redshift values.\n",
        "\n",
        "  The info it takes in:\n",
        "    H0: Hubble constant.\n",
        "    Om0: Matter density parameter.\n",
        "    Ode0: Dark energy density parameter.\n",
        "    num_sne: Number of supernovae to generate.\n",
        "\n",
        "    I don't think it returns anything, just creates the data to plot it.\n",
        "  \"\"\"\n",
        "#this isn't in quotations bc if it were in quotations it would be like \"call this thing \"H0\" and make it equal to the value H0\"\n",
        "#here I am saying \"The variable H0 is equal to the value H0. You don't need to call it anything, but when I use it, assign it this value\"\n",
        "  cosmo = ac.LambdaCDM(H0=H0, Om0=Om0, Ode0=Ode0)\n",
        "  #this creates a random array, from 0.01 (the redshift value, where if lower its analysis would be complicated bc its too close)\n",
        "  #1.0 is the redshift value that is so far that if it were higher it'd become fainter\n",
        "  #it is random to simulate the natural randomness of redshifts with supernova in the universe.\n",
        "  # this basically says choose random values between 0.01, and 1.0, and choose 50 of them (since num_sne is 50)\n",
        "  #.uniform makes sure that each value within the range has an equal chance of being chosen\n",
        "  z = np.random.uniform(0.01, 1.0, num_sne)\n",
        "  #this calculates the energetic distances between the supernova using the previous cosmological models\n",
        "  #and used the previous random distances in terms of its distance. this is usually reffered to as the dL (distance luminosity) value\n",
        "  luminosity_distances = cosmo.luminosity_distance(z)\n",
        "#the original equation for luminosity diatance modulus is m - M = 5 * log10(dL) - 5, this is in parsecs, but we want miliparsecs\n",
        "#due to unit conversion and something called the logarithm rule we get a plus 30.\n",
        "#this number 30 comes from 10^6 power in the conversion times 5.\n",
        "#so 5log(dl* 10^6)-5 = (5log(dl) + 5log(10^6)) - 5\n",
        "#this then becomes 5log(dl) + (5*6 (log 10^6 is 6)) - 5\n",
        "# 5log(dl) +30-5 = 5log(dl) +25\n",
        "#what the .to_value()does is it takes the numbers of luminosity distances (in megaparsecs) and\n",
        "#then it gets rid of those Mpc, this is bc np needs a unitless thing to work with, it extracts the value only\n",
        "  distance_modulus = 5 * np.log10(luminosity_distances.to_value()) + 25\n",
        "\n",
        "  plt.figure(figsize=(8, 6))\n",
        "  #marker marks the data points with circles, linestyle makes sure that no scatterplot line is drawn through them\n",
        "  plt.plot(z, distance_modulus , marker='o', linestyle='none')\n",
        "  plt.xlabel(\"Redshift (z)\")\n",
        "  plt.ylabel(\"Distance Modulus (μ)\")\n",
        "  plt.title(f\"Distance Modulus vs. Redshift (H0={H0}, Om0={Om0}, Ode0={Ode0})\")\n",
        "  plt.grid(True)\n",
        "  plt.show()\n",
        "\n",
        "#if I wanted to make this an input t\n",
        "# ... (rest of the function definition) ...\n",
        "\n",
        "plot_distance_modulus_vs_redshift(H0=70, Om0=0.3, Ode0=0.7)\n",
        "plot_distance_modulus_vs_redshift(H0=74, Om0=0.25, Ode0=0.75)\n",
        "\n",
        "#one thing we can also do is make this an input, but if I am honest I don't feel like it\n",
        "#we'd use this below and put in range values.\n",
        "\n",
        "# Get user input for cosmological parameters and number of supernovae\n",
        "#H0 = float(input(\"Enter the Hubble constant (H0): \"))\n",
        "#Om0 = float(input(\"Enter the matter density parameter (Om0): \"))\n",
        "#Ode0 = float(input(\"Enter the dark energy density parameter (Ode0): \"))\n",
        "#num_sne = int(input(\"Enter the number of supernovae to generate: \"))\n",
        "\n",
        "# Call the function with user-provided values\n",
        "#plot_distance_modulus_vs_redshift(H0=H0, Om0=Om0, Ode0=Ode0, num_sne=num_sne)"
      ],
      "metadata": {
        "colab": {
          "base_uri": "https://localhost:8080/",
          "height": 994
        },
        "id": "MN8JiOPOBaUu",
        "outputId": "14ed8544-1e84-402e-dc67-0bdb4dfc0d0d"
      },
      "execution_count": null,
      "outputs": [
        {
          "output_type": "display_data",
          "data": {
            "text/plain": [
              "<Figure size 800x600 with 1 Axes>"
            ],
            "image/png": "[encoded data removed]"
          },
          "metadata": {}
        },
        {
          "output_type": "display_data",
          "data": {
            "text/plain": [
              "<Figure size 800x600 with 1 Axes>"
            ],
            "image/png": "[encoded data removed]"
          },
          "metadata": {}
        }
      ]
    },
    {
      "cell_type": "markdown",
      "metadata": {
        "id": "BXefgsU_hhFT"
      },
      "source": [
        "###Exercise 5: Analyze Public Datasets\n",
        "Goal: Access and analyze real astronomical data.\n",
        "\n",
        "Download and load the Pantheon+ or SPARC datasets using the toolkit.\n",
        "Perform basic exploratory data analysis:\n",
        "Inspect the dataset structure.\n",
        "Plot key variables (e.g., redshift vs. distance modulus for Pantheon+ or radius vs. velocity for SPARC).\n",
        "Write a function to summarize key statistics (mean, median, etc.) of the dataset."
      ]
    },
    {
      "cell_type": "code",
      "source": [
        "#!git clone https://github.com/PantheonPlusSH0ES/DataRelease.git\n",
        "#%cd DataRelease/Pantheon+_Data/1_DATA\n",
        "#!ls\n",
        "import pandas as pd\n",
        "#how I did this was I pasted the url, in the git clone and then from that I went to it, clicked the file I wanted, then opened a file within that file, then pressed \"raw\" and then copy and pasted the URL\n",
        "# Load the light curve data\n",
        "# https://youtu.be/sTXr73fqybc?si=dpV7gAd8RWu--bf0\n",
        "df_url = pd.read_csv('https://raw.githubusercontent.com/PantheonPlusSH0ES/DataRelease/45323ff8fb3152d6946916381f2d1d03721f6b3d/Pantheon%2B_Data/1_DATA/all_redshifts_PVs.csv')\n",
        "df_url.head()\n"
      ],
      "metadata": {
        "colab": {
          "base_uri": "https://localhost:8080/",
          "height": 342
        },
        "id": "tmlMRpKSpHvW",
        "outputId": "5dfad5ac-42c8-49c3-9ddb-bc2104a438de"
      },
      "execution_count": null,
      "outputs": [
        {
          "output_type": "execute_result",
          "data": {
            "text/plain": [
              "     SNID    IAUC       host         RA       Dec    RA_host  Dec_host  \\\n",
              "0  2001ah  2001ah  UGC 06211  167.62425  55.16083  167.62646  55.16983   \n",
              "1  2001az  2001az  UGC 10483  248.61546  76.02967  248.62017  76.02972   \n",
              "2  2001da  2001da   NGC 7780  358.38658   8.11739  358.38404   8.11814   \n",
              "3  2001en  2001en   NGC 0523   21.34542  34.02514   21.33637  34.02494   \n",
              "4  2001fe  2001fe  UGC 05129  144.48792  25.49481  144.49167  25.49478   \n",
              "\n",
              "       zhel      zcmb   zhelerr  ...  vpecerr    RA_group  Dec_group  \\\n",
              "0  0.057763  0.058373  0.000015  ...      250         NaN        NaN   \n",
              "1  0.040695  0.040593  0.000090  ...      250         NaN        NaN   \n",
              "2  0.017381  0.016148  0.000007  ...      250  358.404510   7.930666   \n",
              "3  0.015881  0.014937  0.000007  ...      250   21.041921  33.581505   \n",
              "4  0.013514  0.014478  0.000008  ...      250         NaN        NaN   \n",
              "\n",
              "   zhel_group  zcmb_group  zHD_group  PV_group  in_group  has_host  is_SNz  \n",
              "0         NaN         NaN        NaN       NaN         0         1       0  \n",
              "1         NaN         NaN        NaN       NaN         0         1       0  \n",
              "2    0.017816    0.016583    0.01702    -176.0         1         1       0  \n",
              "3    0.016294    0.015343    0.01550     -46.0         1         1       0  \n",
              "4         NaN         NaN        NaN       NaN         0         1       0  \n",
              "\n",
              "[5 rows x 23 columns]"
            ],
            "text/html": [
              "\n",
              "  <div id=\"df-dba3f946-4a73-4448-ae94-952bbec9e6e0\" class=\"colab-df-container\">\n",
              "    <div>\n",
              "<style scoped>\n",
              "    .dataframe tbody tr th:only-of-type {\n",
              "        vertical-align: middle;\n",
              "    }\n",
              "\n",
              "    .dataframe tbody tr th {\n",
              "        vertical-align: top;\n",
              "    }\n",
              "\n",
              "    .dataframe thead th {\n",
              "        text-align: right;\n",
              "    }\n",
              "</style>\n",
              "<table border=\"1\" class=\"dataframe\">\n",
              "  <thead>\n",
              "    <tr style=\"text-align: right;\">\n",
              "      <th></th>\n",
              "      <th>SNID</th>\n",
              "      <th>IAUC</th>\n",
              "      <th>host</th>\n",
              "      <th>RA</th>\n",
              "      <th>Dec</th>\n",
              "      <th>RA_host</th>\n",
              "      <th>Dec_host</th>\n",
              "      <th>zhel</th>\n",
              "      <th>zcmb</th>\n",
              "      <th>zhelerr</th>\n",
              "      <th>...</th>\n",
              "      <th>vpecerr</th>\n",
              "      <th>RA_group</th>\n",
              "      <th>Dec_group</th>\n",
              "      <th>zhel_group</th>\n",
              "      <th>zcmb_group</th>\n",
              "      <th>zHD_group</th>\n",
              "      <th>PV_group</th>\n",
              "      <th>in_group</th>\n",
              "      <th>has_host</th>\n",
              "      <th>is_SNz</th>\n",
              "    </tr>\n",
              "  </thead>\n",
              "  <tbody>\n",
              "    <tr>\n",
              "      <th>0</th>\n",
              "      <td>2001ah</td>\n",
              "      <td>2001ah</td>\n",
              "      <td>UGC 06211</td>\n",
              "      <td>167.62425</td>\n",
              "      <td>55.16083</td>\n",
              "      <td>167.62646</td>\n",
              "      <td>55.16983</td>\n",
              "      <td>0.057763</td>\n",
              "      <td>0.058373</td>\n",
              "      <td>0.000015</td>\n",
              "      <td>...</td>\n",
              "      <td>250</td>\n",
              "      <td>NaN</td>\n",
              "      <td>NaN</td>\n",
              "      <td>NaN</td>\n",
              "      <td>NaN</td>\n",
              "      <td>NaN</td>\n",
              "      <td>NaN</td>\n",
              "      <td>0</td>\n",
              "      <td>1</td>\n",
              "      <td>0</td>\n",
              "    </tr>\n",
              "    <tr>\n",
              "      <th>1</th>\n",
              "      <td>2001az</td>\n",
              "      <td>2001az</td>\n",
              "      <td>UGC 10483</td>\n",
              "      <td>248.61546</td>\n",
              "      <td>76.02967</td>\n",
              "      <td>248.62017</td>\n",
              "      <td>76.02972</td>\n",
              "      <td>0.040695</td>\n",
              "      <td>0.040593</td>\n",
              "      <td>0.000090</td>\n",
              "      <td>...</td>\n",
              "      <td>250</td>\n",
              "      <td>NaN</td>\n",
              "      <td>NaN</td>\n",
              "      <td>NaN</td>\n",
              "      <td>NaN</td>\n",
              "      <td>NaN</td>\n",
              "      <td>NaN</td>\n",
              "      <td>0</td>\n",
              "      <td>1</td>\n",
              "      <td>0</td>\n",
              "    </tr>\n",
              "    <tr>\n",
              "      <th>2</th>\n",
              "      <td>2001da</td>\n",
              "      <td>2001da</td>\n",
              "      <td>NGC 7780</td>\n",
              "      <td>358.38658</td>\n",
              "      <td>8.11739</td>\n",
              "      <td>358.38404</td>\n",
              "      <td>8.11814</td>\n",
              "      <td>0.017381</td>\n",
              "      <td>0.016148</td>\n",
              "      <td>0.000007</td>\n",
              "      <td>...</td>\n",
              "      <td>250</td>\n",
              "      <td>358.404510</td>\n",
              "      <td>7.930666</td>\n",
              "      <td>0.017816</td>\n",
              "      <td>0.016583</td>\n",
              "      <td>0.01702</td>\n",
              "      <td>-176.0</td>\n",
              "      <td>1</td>\n",
              "      <td>1</td>\n",
              "      <td>0</td>\n",
              "    </tr>\n",
              "    <tr>\n",
              "      <th>3</th>\n",
              "      <td>2001en</td>\n",
              "      <td>2001en</td>\n",
              "      <td>NGC 0523</td>\n",
              "      <td>21.34542</td>\n",
              "      <td>34.02514</td>\n",
              "      <td>21.33637</td>\n",
              "      <td>34.02494</td>\n",
              "      <td>0.015881</td>\n",
              "      <td>0.014937</td>\n",
              "      <td>0.000007</td>\n",
              "      <td>...</td>\n",
              "      <td>250</td>\n",
              "      <td>21.041921</td>\n",
              "      <td>33.581505</td>\n",
              "      <td>0.016294</td>\n",
              "      <td>0.015343</td>\n",
              "      <td>0.01550</td>\n",
              "      <td>-46.0</td>\n",
              "      <td>1</td>\n",
              "      <td>1</td>\n",
              "      <td>0</td>\n",
              "    </tr>\n",
              "    <tr>\n",
              "      <th>4</th>\n",
              "      <td>2001fe</td>\n",
              "      <td>2001fe</td>\n",
              "      <td>UGC 05129</td>\n",
              "      <td>144.48792</td>\n",
              "      <td>25.49481</td>\n",
              "      <td>144.49167</td>\n",
              "      <td>25.49478</td>\n",
              "      <td>0.013514</td>\n",
              "      <td>0.014478</td>\n",
              "      <td>0.000008</td>\n",
              "      <td>...</td>\n",
              "      <td>250</td>\n",
              "      <td>NaN</td>\n",
              "      <td>NaN</td>\n",
              "      <td>NaN</td>\n",
              "      <td>NaN</td>\n",
              "      <td>NaN</td>\n",
              "      <td>NaN</td>\n",
              "      <td>0</td>\n",
              "      <td>1</td>\n",
              "      <td>0</td>\n",
              "    </tr>\n",
              "  </tbody>\n",
              "</table>\n",
              "<p>5 rows × 23 columns</p>\n",
              "</div>\n",
              "    <div class=\"colab-df-buttons\">\n",
              "\n",
              "  <div class=\"colab-df-container\">\n",
              "    <button class=\"colab-df-convert\" onclick=\"convertToInteractive('df-dba3f946-4a73-4448-ae94-952bbec9e6e0')\"\n",
              "            title=\"Convert this dataframe to an interactive table.\"\n",
              "            style=\"display:none;\">\n",
              "\n",
              "  <svg xmlns=\"http://www.w3.org/2000/svg\" height=\"24px\" viewBox=\"0 -960 960 960\">\n",
              "    <path d=\"M120-120v-720h720v720H120Zm60-500h600v-160H180v160Zm220 220h160v-160H400v160Zm0 220h160v-160H400v160ZM180-400h160v-160H180v160Zm440 0h160v-160H620v160ZM180-180h160v-160H180v160Zm440 0h160v-160H620v160Z\"/>\n",
              "  </svg>\n",
              "    </button>\n",
              "\n",
              "  <style>\n",
              "    .colab-df-container {\n",
              "      display:flex;\n",
              "      gap: 12px;\n",
              "    }\n",
              "\n",
              "    .colab-df-convert {\n",
              "      background-color: #E8F0FE;\n",
              "      border: none;\n",
              "      border-radius: 50%;\n",
              "      cursor: pointer;\n",
              "      display: none;\n",
              "      fill: #1967D2;\n",
              "      height: 32px;\n",
              "      padding: 0 0 0 0;\n",
              "      width: 32px;\n",
              "    }\n",
              "\n",
              "    .colab-df-convert:hover {\n",
              "      background-color: #E2EBFA;\n",
              "      box-shadow: 0px 1px 2px rgba(60, 64, 67, 0.3), 0px 1px 3px 1px rgba(60, 64, 67, 0.15);\n",
              "      fill: #174EA6;\n",
              "    }\n",
              "\n",
              "    .colab-df-buttons div {\n",
              "      margin-bottom: 4px;\n",
              "    }\n",
              "\n",
              "    [theme=dark] .colab-df-convert {\n",
              "      background-color: #3B4455;\n",
              "      fill: #D2E3FC;\n",
              "    }\n",
              "\n",
              "    [theme=dark] .colab-df-convert:hover {\n",
              "      background-color: #434B5C;\n",
              "      box-shadow: 0px 1px 3px 1px rgba(0, 0, 0, 0.15);\n",
              "      filter: drop-shadow(0px 1px 2px rgba(0, 0, 0, 0.3));\n",
              "      fill: #FFFFFF;\n",
              "    }\n",
              "  </style>\n",
              "\n",
              "    <script>\n",
              "      const buttonEl =\n",
              "        document.querySelector('#df-dba3f946-4a73-4448-ae94-952bbec9e6e0 button.colab-df-convert');\n",
              "      buttonEl.style.display =\n",
              "        google.colab.kernel.accessAllowed ? 'block' : 'none';\n",
              "\n",
              "      async function convertToInteractive(key) {\n",
              "        const element = document.querySelector('#df-dba3f946-4a73-4448-ae94-952bbec9e6e0');\n",
              "        const dataTable =\n",
              "          await google.colab.kernel.invokeFunction('convertToInteractive',\n",
              "                                                    [key], {});\n",
              "        if (!dataTable) return;\n",
              "\n",
              "        const docLinkHtml = 'Like what you see? Visit the ' +\n",
              "          '<a target=\"_blank\" href=https://colab.research.google.com/notebooks/data_table.ipynb>data table notebook</a>'\n",
              "          + ' to learn more about interactive tables.';\n",
              "        element.innerHTML = '';\n",
              "        dataTable['output_type'] = 'display_data';\n",
              "        await google.colab.output.renderOutput(dataTable, element);\n",
              "        const docLink = document.createElement('div');\n",
              "        docLink.innerHTML = docLinkHtml;\n",
              "        element.appendChild(docLink);\n",
              "      }\n",
              "    </script>\n",
              "  </div>\n",
              "\n",
              "\n",
              "<div id=\"df-5b2d9b5e-cbeb-4f2d-a690-ea18699a8452\">\n",
              "  <button class=\"colab-df-quickchart\" onclick=\"quickchart('df-5b2d9b5e-cbeb-4f2d-a690-ea18699a8452')\"\n",
              "            title=\"Suggest charts\"\n",
              "            style=\"display:none;\">\n",
              "\n",
              "<svg xmlns=\"http://www.w3.org/2000/svg\" height=\"24px\"viewBox=\"0 0 24 24\"\n",
              "     width=\"24px\">\n",
              "    <g>\n",
              "        <path d=\"M19 3H5c-1.1 0-2 .9-2 2v14c0 1.1.9 2 2 2h14c1.1 0 2-.9 2-2V5c0-1.1-.9-2-2-2zM9 17H7v-7h2v7zm4 0h-2V7h2v10zm4 0h-2v-4h2v4z\"/>\n",
              "    </g>\n",
              "</svg>\n",
              "  </button>\n",
              "\n",
              "<style>\n",
              "  .colab-df-quickchart {\n",
              "      --bg-color: #E8F0FE;\n",
              "      --fill-color: #1967D2;\n",
              "      --hover-bg-color: #E2EBFA;\n",
              "      --hover-fill-color: #174EA6;\n",
              "      --disabled-fill-color: #AAA;\n",
              "      --disabled-bg-color: #DDD;\n",
              "  }\n",
              "\n",
              "  [theme=dark] .colab-df-quickchart {\n",
              "      --bg-color: #3B4455;\n",
              "      --fill-color: #D2E3FC;\n",
              "      --hover-bg-color: #434B5C;\n",
              "      --hover-fill-color: #FFFFFF;\n",
              "      --disabled-bg-color: #3B4455;\n",
              "      --disabled-fill-color: #666;\n",
              "  }\n",
              "\n",
              "  .colab-df-quickchart {\n",
              "    background-color: var(--bg-color);\n",
              "    border: none;\n",
              "    border-radius: 50%;\n",
              "    cursor: pointer;\n",
              "    display: none;\n",
              "    fill: var(--fill-color);\n",
              "    height: 32px;\n",
              "    padding: 0;\n",
              "    width: 32px;\n",
              "  }\n",
              "\n",
              "  .colab-df-quickchart:hover {\n",
              "    background-color: var(--hover-bg-color);\n",
              "    box-shadow: 0 1px 2px rgba(60, 64, 67, 0.3), 0 1px 3px 1px rgba(60, 64, 67, 0.15);\n",
              "    fill: var(--button-hover-fill-color);\n",
              "  }\n",
              "\n",
              "  .colab-df-quickchart-complete:disabled,\n",
              "  .colab-df-quickchart-complete:disabled:hover {\n",
              "    background-color: var(--disabled-bg-color);\n",
              "    fill: var(--disabled-fill-color);\n",
              "    box-shadow: none;\n",
              "  }\n",
              "\n",
              "  .colab-df-spinner {\n",
              "    border: 2px solid var(--fill-color);\n",
              "    border-color: transparent;\n",
              "    border-bottom-color: var(--fill-color);\n",
              "    animation:\n",
              "      spin 1s steps(1) infinite;\n",
              "  }\n",
              "\n",
              "  @keyframes spin {\n",
              "    0% {\n",
              "      border-color: transparent;\n",
              "      border-bottom-color: var(--fill-color);\n",
              "      border-left-color: var(--fill-color);\n",
              "    }\n",
              "    20% {\n",
              "      border-color: transparent;\n",
              "      border-left-color: var(--fill-color);\n",
              "      border-top-color: var(--fill-color);\n",
              "    }\n",
              "    30% {\n",
              "      border-color: transparent;\n",
              "      border-left-color: var(--fill-color);\n",
              "      border-top-color: var(--fill-color);\n",
              "      border-right-color: var(--fill-color);\n",
              "    }\n",
              "    40% {\n",
              "      border-color: transparent;\n",
              "      border-right-color: var(--fill-color);\n",
              "      border-top-color: var(--fill-color);\n",
              "    }\n",
              "    60% {\n",
              "      border-color: transparent;\n",
              "      border-right-color: var(--fill-color);\n",
              "    }\n",
              "    80% {\n",
              "      border-color: transparent;\n",
              "      border-right-color: var(--fill-color);\n",
              "      border-bottom-color: var(--fill-color);\n",
              "    }\n",
              "    90% {\n",
              "      border-color: transparent;\n",
              "      border-bottom-color: var(--fill-color);\n",
              "    }\n",
              "  }\n",
              "</style>\n",
              "\n",
              "  <script>\n",
              "    async function quickchart(key) {\n",
              "      const quickchartButtonEl =\n",
              "        document.querySelector('#' + key + ' button');\n",
              "      quickchartButtonEl.disabled = true;  // To prevent multiple clicks.\n",
              "      quickchartButtonEl.classList.add('colab-df-spinner');\n",
              "      try {\n",
              "        const charts = await google.colab.kernel.invokeFunction(\n",
              "            'suggestCharts', [key], {});\n",
              "      } catch (error) {\n",
              "        console.error('Error during call to suggestCharts:', error);\n",
              "      }\n",
              "      quickchartButtonEl.classList.remove('colab-df-spinner');\n",
              "      quickchartButtonEl.classList.add('colab-df-quickchart-complete');\n",
              "    }\n",
              "    (() => {\n",
              "      let quickchartButtonEl =\n",
              "        document.querySelector('#df-5b2d9b5e-cbeb-4f2d-a690-ea18699a8452 button');\n",
              "      quickchartButtonEl.style.display =\n",
              "        google.colab.kernel.accessAllowed ? 'block' : 'none';\n",
              "    })();\n",
              "  </script>\n",
              "</div>\n",
              "\n",
              "    </div>\n",
              "  </div>\n"
            ],
            "application/vnd.google.colaboratory.intrinsic+json": {
              "type": "dataframe",
              "variable_name": "df_url"
            }
          },
          "metadata": {},
          "execution_count": 11
        }
      ]
    },
    {
      "cell_type": "code",
      "source": [
        "#what this does is it prints out all the names of the values of the data set so that we know what to call what\n",
        "print(df_url.columns)"
      ],
      "metadata": {
        "colab": {
          "base_uri": "https://localhost:8080/"
        },
        "id": "otSTLheysJ3p",
        "outputId": "b075ca8e-2e9a-4124-e60b-e83d73d10bed"
      },
      "execution_count": null,
      "outputs": [
        {
          "output_type": "stream",
          "name": "stdout",
          "text": [
            "Index(['SNID', 'IAUC', 'host', 'RA', 'Dec', 'RA_host', 'Dec_host', 'zhel',\n",
            "       'zcmb', 'zhelerr', 'zHD', 'zHDerr', 'PV', 'vpecerr', 'RA_group',\n",
            "       'Dec_group', 'zhel_group', 'zcmb_group', 'zHD_group', 'PV_group',\n",
            "       'in_group', 'has_host', 'is_SNz'],\n",
            "      dtype='object')\n"
          ]
        }
      ]
    },
    {
      "cell_type": "code",
      "source": [
        "import matplotlib.pyplot as plt\n",
        "#we already know it calls a canvas that is 8x6, then creates a scatter with the according things, After that it uses circles instead of x's to plot data\n",
        "\n",
        "plt.figure(figsize=(8, 6))\n",
        "#zcmb is redshift it is the cosmic microwave background which is used to reference the universes expansion. the z is the redshift cmb is of the cmb\n",
        "#so zcmb means taking the redshift values from the cmb\n",
        "#PV stands for peculiar velocity it is like the extra distance not gathered in the CMB data, it can ve caused by gravitational interactions with galaxies and clusters, and help to provide insight into the distribution of matter\n",
        "#it doesn't exactly replace the distance modulus but the distance modulus is apart of the PV\n",
        "#s=10 shows how big to make the points, it is size 10\n",
        "plt.scatter(df_url['zcmb'], df_url['PV'], marker='o', s=10)\n",
        "plt.xlabel('Redshift(zCMB)')\n",
        "plt.ylabel('Distance Modulus (PV)')\n",
        "plt.title('Hubble Diagram')\n",
        "plt.grid(True)\n",
        "plt.show()"
      ],
      "metadata": {
        "colab": {
          "base_uri": "https://localhost:8080/",
          "height": 504
        },
        "id": "z0ReLa15ozaq",
        "outputId": "4c14a9b3-5b2c-4116-cb9f-c22b382830ef"
      },
      "execution_count": null,
      "outputs": [
        {
          "output_type": "display_data",
          "data": {
            "text/plain": [
              "<Figure size 800x600 with 1 Axes>"
            ],
            "image/png": "[encoded data removed]"
          },
          "metadata": {}
        }
      ]
    },
    {
      "cell_type": "markdown",
      "metadata": {
        "id": "E8R_HYCfhjHs"
      },
      "source": [
        "###Exercise 6: Monte Carlo Markov Chains\n",
        "Goal: Learn simplified MCMC for parameter estimation.\n",
        "\n",
        "Use the Metropolis-Hastings algorithm implementation in the package to estimate:\n",
        "The matter density parameter (\n",
        "Ω\n",
        "𝑚\n",
        "Ω\n",
        "m\n",
        "​\n",
        " ).\n",
        "The Hubble constant (\n",
        "ℎ\n",
        "h).\n",
        "Write a script that:\n",
        "Runs the MCMC for 10,000 iterations.\n",
        "Visualizes the parameter distributions (histograms or kernel density plots)."
      ]
    },
    {
      "source": [
        "import numpy as np\n",
        "import matplotlib.pyplot as plt\n",
        "import seaborn as sns\n",
        "import random\n",
        "\n",
        "# Placeholder for calculate_likelihood_ratio function (replace with your actual calculation)\n",
        "def calculate_likelihood_ratio(omega_m, h, data):\n",
        "  \"\"\"Calculates the likelihood ratio for the proposed parameters.\n",
        "\n",
        "  Args:\n",
        "    omega_m: Proposed value for omega_m.\n",
        "    h: Proposed value for h.\n",
        "    data: The data used for calculating the likelihood.\n",
        "\n",
        "  Returns:\n",
        "    The likelihood ratio.\n",
        "  \"\"\"\n",
        "  # Replace this with your actual likelihood calculation based on your model and data\n",
        "  # This is a simple example, and you'll need to adapt it to your specific problem\n",
        "  # For example, you might use a chi-squared statistic or another relevant metric\n",
        "  # Here, we're just returning a random value for demonstration purposes\n",
        "  return np.exp(-0.5 * ((omega_m - 0.3)**2 + (h - 70)**2))\n",
        "\n",
        "#This makes a function that can obviously be called, what it does is it runs the that many markov simulations.\n",
        "#so iteration=100 would mean that it would run 100 simulations\n",
        "def run_mcmc(iterations=10000, target_acceptance_rate=0.35, data=None): # Add data parameter\n",
        "  #we have to guess values for H0 and omega M first. I think this is specific to this type of distributiom\n",
        "  current_omega_m = 0.5\n",
        "  current_h = 69\n",
        "\n",
        "  #then we need to create something to store the future data samples\n",
        "  omega_m_samples = []\n",
        "  h_samples = []\n",
        "\n",
        "  acceptance_count = 0  # Initialize acceptance count\n",
        "  proposal_width_omega_m = 0.01  # Initialize proposal width for omega_m\n",
        "  proposal_width_h = 1  # Initialize proposal width for h\n",
        "\n",
        "\n",
        "  #we are now going to create a for loop that will iterate the sequence multiple times (10,000)\n",
        "  #What happens here is it will take the likelihood of my guess and then other guesses and see which one is most likely\n",
        "  #if what I put in the guess has a higher liklihood of being right then it will be accepted, not they are accepted with a probability ratio\n",
        "  #ifthe parameters I proposed are acceptable the stored values will update\n",
        "  #the initial part of the MCMC is usually discarded and called the burn in period. I think we usually want this to converge\n",
        "  #the proposal width is in a bell shaped curve, if the probability is 20% or lower the width is too low, above 50% then too high\n",
        "  #you can make it do it automatically, which is what I am trying to do\n",
        "  for i in range(iterations):\n",
        "    #here we once again have to propose some shit for it\n",
        "    # Use random.gauss() or random.normalvariate() instead of random.normal()\n",
        "    proposed_omega_m = current_omega_m + random.gauss(0, proposal_width_omega_m)\n",
        "    proposed_h = current_h + random.gauss(0, proposal_width_h)\n",
        "\n",
        "    #now we need to calculate the liklihood, this will depend on the model data as well as the width used\n",
        "    # Replace 'calculate_likelihood_ratio' and 'data' with your actual function and data\n",
        "    likelihood_ratio = calculate_likelihood_ratio(proposed_omega_m, proposed_h, data) # Replace 'calculate_likelihood_ratio' and 'data'\n",
        "\n",
        "    #now we need to make it accept or deny that likelihood\n",
        "    #what this basically does is it says choose the minimum between 1(100) and the liklihood of the values\n",
        "    acceptance_probability = min(1, likelihood_ratio)\n",
        "    if np.random.uniform()< acceptance_probability:\n",
        "      current_h = proposed_h\n",
        "      current_omega_m = proposed_omega_m\n",
        "      acceptance_count += 1 #tracks how many were accepted\n",
        "\n",
        "      # Append accepted samples\n",
        "      omega_m_samples.append(current_omega_m)\n",
        "      h_samples.append(current_h)\n",
        "\n",
        "      #this very obviously takes the amount of times it was accepted and divides it by the iterations of the code to get a percent\n",
        "    acceptance_rate = acceptance_count / (i + 1)  # Calculate acceptance rate for current iteration\n",
        "    #this says if the acceptance rate is lower than 95% of target\n",
        "    if acceptance_rate < target_acceptance_rate - 0.05:\n",
        "      proposal_width_omega_m *=0.9 #this decreases the width by 10%\n",
        "      proposal_width_h *=0.9\n",
        "    elif acceptance_rate > target_acceptance_rate + 0.05:\n",
        "      proposal_width_omega_m *= 1.1 #increases width by 10%\n",
        "      proposal_width_h *= 1.1\n",
        "\n",
        "  return omega_m_samples, h_samples, proposal_width_omega_m, proposal_width_h\n",
        "\n",
        "# You'll need to define or load your 'data' here\n",
        "# For example:\n",
        "# data = np.loadtxt('your_data_file.txt')\n",
        "# or create a synthetic dataset if needed\n",
        "\n",
        "# Example usage:\n",
        "# Replace 'your_data' with your actual data\n",
        "omega_m_samples, h_samples, proposal_width_omega_m, proposal_width_h = run_mcmc(data=None) # Replace 'your_data' with your actual data\n",
        "\n",
        "print(\"omega_m_samples: \", omega_m_samples)\n",
        "print(\"h_samples: \", h_samples)\n",
        "print(\"proposal_width_omega_m\", proposal_width_omega_m)\n",
        "print(\"proposal_width_h\", proposal_width_h)"
      ],
      "cell_type": "code",
      "metadata": {
        "colab": {
          "base_uri": "https://localhost:8080/"
        },
        "id": "FI62D7W6TPiM",
        "outputId": "540d505e-0179-41a9-821c-6ec4bc98450c"
      },
      "execution_count": null,
      "outputs": [
        {
          "output_type": "stream",
          "name": "stdout",
          "text": [
            "omega_m_samples:  [0.5026727428092997, 0.5047096351013867, 0.4841160150120281, 0.4984016100338194, 0.4916001816391603, 0.5000147979674953, 0.49706705576003923, 0.5075853342028506, 0.5080408812752116, 0.5117514313996734, 0.514498513524596, 0.5199504320000916, 0.5239595744740378, 0.5259038971434067, 0.5178108036602406, 0.5113003796707886, 0.5219666748057324, 0.5023869145936243, 0.5117854660866687, 0.5289850838280116, 0.5200213896945676, 0.5153158871614899, 0.5163880056445921, 0.5364723763229434, 0.49831968412057404, 0.45750189027091637, 0.510843140280384, 0.4109518398933382, 0.31955316363589265, -0.00720635361018479, 0.08543825043250411, 0.046176950541667816, 0.068624216995573, 0.06710707584618307, 0.0636992828200488, 0.06624362736445992, 0.06012542057062547, 0.06413243042766445, 0.06627232449179277, 0.0689117667263828, 0.07049859796730634, 0.06763226805474669, 0.06734899002253303, 0.07013214235535277, 0.07003499300195919, 0.06929658368726005, 0.06997613568579562, 0.07155077274445558, 0.07108316118847235, 0.07176294765325407, 0.07446075694552712, 0.07647670696070549, 0.07686305361253981, 0.08090316888650305, 0.08305756294167722, 0.08448501754442495, 0.08255781472905671, 0.08115706060993128, 0.08019087056516928, 0.07929717666396804, 0.07935139605059259, 0.07874640310545142, 0.07695560646741617, 0.07265421137904707, 0.0728225722089488, 0.07480797142592006, 0.07441467426760372, 0.07463126359774516, 0.07240338197611935, 0.07258860789456512, 0.07184365416668805, 0.07244143215596408, 0.06879624937283794, 0.06712653421863207, 0.0666641929587467, 0.06652781529176201, 0.06630714334762905, 0.06696702107369051, 0.06134994495142493, 0.06699678159317803, 0.07476776935151755, 0.07530681386340994, 0.08855207492883092, 0.07416186224043132, 0.053702703914821, 0.05343287433682188, 0.0059500826955353955, -0.07355865182988622, -0.09085315431169892, -0.13767432357582932, -0.14241582024067062, -0.13119785518692845, -0.23763326796313206, -0.2767568727872248, -0.26589042633002485, -0.2627369399686957, -0.27995819266191146, -0.2707990152486975, -0.2592999294432615, -0.26543127560770924, -0.2556306122767171, -0.264625903590045, -0.26101939781117595, -0.2579284875711747, -0.2522244662123874, -0.2625857206032329, -0.272079786857452, -0.271750335474726, -0.2663824736686554, -0.2643830292566118, -0.2677796848735289, -0.26962983307381144, -0.2702656550172545, -0.2723198478948205, -0.28179111928349787, -0.282229009103982, -0.285965445254815, -0.28133685598296215, -0.2830980549661286, -0.27486963786110497, -0.27767793979297584, -0.27697775253747764, -0.27591516927703313, -0.27147466016908267, -0.26938919476781326, -0.2736964741650583, -0.2745596501437903, -0.26792099985679063, -0.27041545790032867, -0.27427561859252, -0.27097943396997615, -0.2703733477069542, -0.2660132038922952, -0.2709271900748444, -0.27537226247194263, -0.2789160470218482, -0.2746204572534303, -0.2730274846252155, -0.27395969385626084, -0.27921432214697256, -0.27111099737792915, -0.2701002638747332, -0.2728924775232629, -0.26654282771528565, -0.26081143463396883, -0.2615157351176467, -0.258961953585618, -0.2549687327398833, -0.2579640734440256, -0.26613883445524955, -0.2658755587646088, -0.2656832139527935, -0.2568796690268892, -0.24882105783387812, -0.2484776395717697, -0.2502496819623432, -0.25201575064131165, -0.2568650647309127, -0.2656318960819125, -0.27233036570426855, -0.27404051831331894, -0.2698501573459707, -0.2676257559382742, -0.26296449874267563, -0.26595921199437356, -0.265212413281756, -0.25654382377756374, -0.2601277753507081, -0.24816149475993052, -0.2510678484043556, -0.25083786260642166, -0.25918272403018167, -0.2615760343118769, -0.25427949255833315, -0.25193062545213496, -0.25199825633417083, -0.24969473826183686, -0.26050650320897545, -0.25710999308066396, -0.2529890673039559, -0.2579301328216858, -0.26572800868359714, -0.2713322614477712, -0.2754867955942318, -0.28175754368832284, -0.2946148132719423, -0.289377663860202, -0.2839414271167433, -0.2813002612455042, -0.286724873467635, -0.28869720249584574, -0.2883034258388267, -0.2928980036738611, -0.29207869253814345, -0.28485556303967835, -0.27434376235720076, -0.2697124144176806, -0.27602135114489706, -0.27311121717303694, -0.26866417499025397, -0.26521710446161745, -0.26503976038036564, -0.2591145163527236, -0.2590084762147754, -0.2562421420121933, -0.2598035166984712, -0.2546422621981872, -0.2560411213633452, -0.25293049702483467, -0.26313338590414154, -0.2594582476293291, -0.2587063632142558, -0.2650324929554997, -0.26396148514113715, -0.2626573211326018, -0.2650477596532995, -0.2681290117213305, -0.27554315668463764, -0.26967413241099936, -0.2750545861867061, -0.2718050600412366, -0.27603413817746075, -0.28183330896877495, -0.2548814484212534, -0.25972913927727803, -0.25677005276142645, -0.2559729774261713, -0.29114863336954666, -0.2291391351327098, -0.4653064836487486, -0.2650925429092704, 0.018332744398465883, 0.006906764399825412, -0.12104197880914014, 0.15487924215517274, -0.002137623238192554, -0.061481189923078314, 0.09021508876341235, -0.032129121478288405, -0.27107221888310146, -0.39902441088405605, -0.40307585193804835, -0.3884101562906742, -0.41443616600607264, -0.4181274942130867, -0.4150421995550275, -0.41817093613583306, -0.41673992784599073, -0.41412051394568156, -0.41459477769470965, -0.41376517253772127, -0.4171424079983032, -0.4226284610567205, -0.4250485130461594, -0.43190465260917293, -0.4326737008624079, -0.43465037952462193, -0.4343287313530664, -0.4440174999322753, -0.44260768903674713, -0.44488694513601207, -0.43802220484816023, -0.4358402137736069, -0.44051796553244155, -0.4345656300589937, -0.42913676077390456, -0.4250587628307037, -0.4297837370450335, -0.42589662564798897, -0.42874838417257244, -0.42829314434066285, -0.42970177432027945, -0.43564845733131335, -0.433474223041545, -0.4355767900017376, -0.43254798542004874, -0.4306425702679267, -0.4359143142524693, -0.44145512646926094, -0.4405080104791753, -0.44086401457631413, -0.4376727398417919, -0.43509852512102426, -0.43782916292683804, -0.43419651027787015, -0.4341381957868627, -0.4294818786953853, -0.43250679490834276, -0.4328763591545774, -0.4329000323845636, -0.4254865583792331, -0.42272115414736555, -0.4153450561072349, -0.4162234445422517, -0.4167955031228638, -0.41926365376913927, -0.4163274385337665, -0.42249980936917786, -0.42013230646041677, -0.41761464396611, -0.41398006922712094, -0.41506155770030884, -0.40773633928085057, -0.40383821150404475, -0.4039180083908527, -0.4065630518420975, -0.4046682328807368, -0.4095176640566097, -0.40927524204297644, -0.4074656949742756, -0.4074332287764029, -0.408851756147941, -0.4105316940647772, -0.4158443566492104, -0.41409663178350753, -0.41239105043341323, -0.4197852021539222, -0.4196917690308492, -0.4177006752093212, -0.4239941971801369, -0.4156391069907258, -0.4152309884563496, -0.41247872594336343, -0.40795446635551846, -0.40625905204197715, -0.4060397290498869, -0.40377603726156164, -0.40267479216491897, -0.40456232316216373, -0.3965431698167849, -0.3950439087709916, -0.3945004537480813, -0.39642661994002015, -0.3965661334091846, -0.39302341059573537, -0.39047769851983816, -0.3890811778946505, -0.3870202312481676, -0.38294444895503904, -0.38420255481840243, -0.3801358539317249, -0.37511655182289455, -0.3754364090537598, -0.37405945063700624, -0.3767686709049353, -0.37487904797587174, -0.3707087620114436, -0.371142630376815, -0.36682353383818717, -0.3568577721636602, -0.3510022531446126, -0.3515444037923713, -0.3571793063061481, -0.3552400233402394, -0.3526097656529995, -0.3542815191187195, -0.3589037477791684, -0.35741112411969794, -0.35937443330361346, -0.3586438309845663, -0.3626358999898061, -0.3600541233595888, -0.3643497725695463, -0.36811558360143887, -0.37403735833802293, -0.37895251693823756, -0.37695184050390407, -0.37999764062614816, -0.3778852818072776, -0.37364656119179346, -0.36808366991052505, -0.37193546526334903, -0.37037479006737717, -0.3635541233779453, -0.3732218328760178, -0.37048115570098517, -0.3660914435380038, -0.36606799548595087, -0.36981779240703294, -0.37220840649603415, -0.3798871592334031, -0.37975232706810724, -0.3812235634058071, -0.38031939329382763, -0.38248862553724455, -0.388191520089962, -0.3856230275755039, -0.3853504795168356, -0.386528509030508, -0.3883378368131786, -0.3819386608951405, -0.3797173924446044, -0.37400590813812845, -0.3720619692820042, -0.3788847247982655, -0.37730165719493847, -0.377888968788446, -0.38422818158320865, -0.37904297313317264, -0.37971818693354314, -0.3825826630206431, -0.3821410885256865, -0.3814371007086719, -0.3829578514861244, -0.38885323897537644, -0.39031251556425667, -0.38702517735383857, -0.38750196594535596, -0.38823068847848796, -0.3905154411055924, -0.3883248300414475, -0.3954872592839715, -0.3962690497400394, -0.3929544142808631, -0.3926414263416911, -0.39448681652009243, -0.39262959087441324, -0.39735384605054436, -0.3951104604355748, -0.3960532022091853, -0.3991510407960524, -0.4023131014320861, -0.40552885554617435, -0.40160907295525095, -0.4129847649678946, -0.41265022523634154, -0.4127768071086416, -0.41234217466966805, -0.4151853973803427, -0.414154319292141, -0.41650959943646704, -0.40994236834926157, -0.4128871716381386, -0.40946438141952196, -0.40849471569158746, -0.4083250590149396, -0.4109147614823341, -0.40827416147741685, -0.4093781076710303, -0.4101008887642685, -0.4136609790954731, -0.41835712040030354, -0.4155545052937105, -0.4152709826755591, -0.4120977513880939, -0.41569571718401477, -0.41376308320336613, -0.41216766856222803, -0.41040762816319926, -0.4074055598587547, -0.4072147117518684, -0.4078523079154892, -0.41001875926601156, -0.409072821924723, -0.4051963760702549, -0.411199756559357, -0.4166702633608031, -0.4114450201083133, -0.4087714983787282, -0.40342276778922903, -0.404725322520781, -0.40813431173675246, -0.4027123611508962, -0.4077047566297663, -0.39895385529492283, -0.3988880212192235, -0.4023534411368175, -0.40255601570850813, -0.4016576542290255, -0.40338335110150825, -0.40287467897945717, -0.402716657208919, -0.39920148659402194, -0.3966395042308497, -0.39497655586737873, -0.3955901226493539, -0.39312800778768675, -0.38957083162450845, -0.38960739482154544, -0.39103096435994866, -0.38713259163525043, -0.38553797555083696, -0.3857600517769405, -0.3848623073979275, -0.3873470288124686, -0.3870847018446141, -0.38293559463579746, -0.3916283108620594, -0.39220733604937325, -0.3862371284206018, -0.38778625650347376, -0.3929189896577508, -0.38724266095700977, -0.3862104349753554, -0.3859069518632762, -0.3851458720974067, -0.3842270520588127, -0.38337690259003554, -0.37940149768739784, -0.3766392640022391, -0.38027091687790987, -0.3749046171898677, -0.3781051163675528, -0.3722813180060502, -0.3671211510205133, -0.37136699078569496, -0.37314240904155016, -0.3800112287401865, -0.36849047834333565, -0.33811738305419325, -0.3329190724547611, -0.34448491768828154, -0.35622575302307724, -0.4276206480161583, -0.44450971904154973, -0.5159907984836467, -0.5266293325967583, -0.4915096328372759, -0.3415881043926127, -0.25726173593070295, -0.00013439021194916467, -0.1703749183206463, -0.09341056274379991, -0.11870249633425546, -0.20308584861899126, -0.32406028841225354, -0.21856873542121458, 0.2573038298092633, -0.06121232154876244, -0.376314837306965, -0.12470560445788903, 0.0036791230060365387, 0.21988408977627133, 0.6458810580504657, 0.8554260075501188, 0.8317441348300012, 0.9404360291934122, 0.9347733856553843, 0.7516283128713217, 0.9405270474666189, 1.0274556564403134, 0.8302732376749948, 0.7476589290963475, 0.8876540832245612, 0.8614372738170918, 0.47681229060822006, 0.6625298064566434, 0.6862864655114972, 0.7711667216996443, 0.6443497667851257, 0.4630667846423268, 0.13373061085679255, 0.26658842860184645, 0.21640841183632045, 0.28664129748416317, 0.22683930382032613, 0.2401486839502393, 0.2402283032109154, 0.21683336101515677, 0.22259394887688125, 0.22306199217872485, 0.20036910526011198, 0.17070289510131467, 0.1435161797378451, 0.15582468631639626, 0.14548569331937114, 0.1392991546865139, 0.16025523507578637, 0.16192845667147832, 0.16263113281096955, 0.16062185461236153, 0.16895269166785898, 0.15601796402340998, 0.16114113786343695, 0.14728794367798362, 0.15918968396649438, 0.14496659973755394, 0.1530788087879643, 0.15652784997925884, 0.15312903965093602, 0.16611861493090208, 0.17865523562811997, 0.17711548203718674, 0.1875974821517812, 0.17937785668575099, 0.19186488611330035, 0.1861305446166864, 0.18075262604196365, 0.18504562444887432, 0.19285786027527949, 0.21303470330057167, 0.20356815933432085, 0.1980050577255639, 0.18908229905957008, 0.19442178071245983, 0.17438570006350657, 0.1658199339515048, 0.17055600826190684, 0.18049943031124432, 0.18034035184468897, 0.1679977221908484, 0.17334316292941515, 0.1723204355101742, 0.17683122045095592, 0.21182424711662245, 0.18931947527188644, 0.18608985970121344, 0.18260552520878892, 0.1727550692714366, 0.1729984839416944, 0.18826046734001156, 0.18200768884846813, 0.18341159242192426, 0.1755943715359954, 0.19017711218665775, 0.18720857096956203, 0.20489563503901792, 0.21309921464864084, 0.2159056623495244, 0.20782465292963434, 0.20444693658799123, 0.205110986195797, 0.20930156031650574, 0.21114734331779256, 0.20494225916018075, 0.19063699518448338, 0.1771822068637289, 0.18513692793765948, 0.18240611682555127, 0.1861621775937923, 0.18562517790016736, 0.16853286424233618, 0.16014920454506698, 0.1515454391113294, 0.15698248119861175, 0.1490713730134611, 0.14116231853437256, 0.15941475324108503, 0.1498716828078814, 0.1584166836929445, 0.15118263249551925, 0.15545398577025757, 0.16814638675739993, 0.17911790198681768, 0.1835257777156845, 0.19021272742513953, 0.18261094003149697, 0.18677155119113825, 0.18276056521750725, 0.1790915740650205, 0.19883296150138316, 0.19785007167768864, 0.20227689465267107, 0.1966636331557911, 0.2064152865658316, 0.17127207997665161, 0.173559142402948, 0.17031804289038605, 0.16588030141845386, 0.16355961339614572, 0.15782643926123666, 0.17161325833472044, 0.1713778422391903, 0.1767315373915839, 0.164876885300212, 0.16119861369942518, 0.16019767271015753, 0.16424218466022103, 0.17773700292142744, 0.163344515445909, 0.18284253710720244, 0.17997270790927386, 0.17602053073715412, 0.16477436591338931, 0.16191086266990032, 0.15818475721091926, 0.1454947926317846, 0.14863089485809997, 0.13508635133406796, 0.1325547674777987, 0.1504907337325232, 0.14199564418441818, 0.12509687401934583, 0.10955381592199394, 0.09029251268003187, 0.08395362078485362, 0.08141575415993946, 0.08451711158755577, 0.08330490455321336, 0.08209100048844596, 0.07067140284474589, 0.08668382684059028, 0.04960945948739554, 0.06188167204786915, 0.05136300128154524, 0.047966603665619154, 0.035830228857903365, 0.0464408386968061, 0.03153075811459718, 0.014465414925710247, 0.014125331645341261, 0.009397595510636111, 0.00042998921486391006, -0.010745601569808121, -0.00963882211360678, -0.00026314567718248826, -0.0009297448951707125, 0.009616760702892996, 0.007569464060562913, -0.00046628645215279155, 0.00268680738050092, 0.0047381189007678105, 0.0058142805522943385, -0.0023132043745411543, -0.004643124519551432, 0.0077846483115823, 0.005514137931606648, -0.00755535308296474, -0.00566875438194914, 0.013061910436909348, 0.02749779369974393, 0.03826916454334005, 0.034237415707057656, 0.039014096051744204, 0.023442852024310245, 0.027394015978300133, 0.02353405855234673, 0.011158016480295341, 0.005334248235376441, 0.005095894822554649, 0.0019415364025423421, 0.011109988032009313, -0.0023627216774315916, -0.011608865595539001, -0.004312601140635066, -0.006433643591001802, -0.02023254968354874, -0.015960669204763626, -0.026029823194856576, -0.022590640228581312, -0.025241226756491646, -0.010786481381980299, -0.0212180219377969, -0.025679456339281006, -0.018110408601472238, 0.009384898942796704, 0.003097851073981318, -0.00658505577350401, -0.02488887618917663, -0.02400007695293973, -0.03169613143803584, -0.035360196966545764, -0.034245602514038596, -0.03909598737267275, -0.032798713054259014, -0.0289237439241212, -0.03915376814082604, -0.02604483924496716, -0.02451019852768449, 0.0028467340669860175, 0.010563559021396766, 0.041205974756757344, 0.04273731136905905, 0.083675252817842, 0.07727702419863063, 0.06839439149141914, 0.06817000939182541, 0.08184758688739957, 0.08380610862133578, 0.08636559446459972, 0.09089066487626694, 0.07919946805528455, 0.057741478905645585, 0.07572373809844161, 0.07315356136869869, 0.08074869659028307, 0.07685799705040522, 0.0893235785901993, 0.10101777237142064, 0.1211736649516516, 0.1200216556454618, 0.12418801530177526, 0.12203543982248036, 0.12697267689396063, 0.11625288171310065, 0.10825410765158071, 0.11827210421263393, 0.11571572491134563, 0.12030030182516115, 0.1261203241372665, 0.11397934132875465, 0.10101253360460749, 0.08483495898312442, 0.08092952539478626, 0.0681247966548869, 0.07231619765495548, 0.0633627721750713, 0.0823600505812187, 0.08344797058061289, 0.0928919286400205, 0.0843240583447891, 0.0835535003923416, 0.07250419459960453, 0.09347643092045026, 0.09636616437905587, 0.08660839452062676, 0.08331449398993296, 0.10097863072588795, 0.11518202067130363, 0.11104537639055946, 0.10785711963375605, 0.12477984287204592, 0.12631361080781917, 0.11101342409166563, 0.10932127636176309, 0.11848733757663193, 0.10936687540731233, 0.10354594741685032, 0.11858677815934718, 0.10871480525859235, 0.06884628023391859, 0.08621377923997887, 0.09177227160505742, 0.08155757520259496, 0.09680175458444161, 0.10492401219606227, 0.10481778586688908, 0.08801172337989877, 0.08170744926580266, 0.05106359787251319, 0.05632801273763986, 0.0463601453282156, 0.04467711230264219, 0.06302582452377922, 0.07975290246603949, 0.08766595137025629, 0.09435493643821438, 0.10575319975719048, 0.11406560379522614, 0.09821128049880945, 0.08736930685660586, 0.08206333415606046, 0.0980078880407235, 0.09020767642913625, 0.0919590366926611, 0.08091020927499956, 0.09718768322024766, 0.10164431360715005, 0.10852973750301739, 0.11702753315073505, 0.11348974395560431, 0.12246977667620133, 0.13809864558419074, 0.13683315988798755, 0.14582108593427542, 0.1532584364901624, 0.1278712682636384, 0.12533979876567364, 0.13350326515968436, 0.12027980023496941, 0.13928719716781876, 0.1401233671594951, 0.12168386738896504, 0.1299408786022369, 0.12898241681903777, 0.12268462823264496, 0.13735477726112796, 0.1255745232316831, 0.1221135096523697, 0.12607911206457967, 0.13590236251952117, 0.13822123298051012, 0.14714019335977174, 0.15207981440227808, 0.14779733145954463, 0.1604166305850182, 0.1550637772828248, 0.17750689840823328, 0.17366772642781408, 0.1724838791446371, 0.18404473638916508, 0.19396073241484887, 0.20208922082541736, 0.19823364108954214, 0.19800330352212847, 0.2223412229227764, 0.23668097246568923, 0.22814856361128452, 0.23369161467898025, 0.20205476827249846, 0.20710662134634122, 0.19528863411280917, 0.1942216706319347, 0.200590987898126, 0.20925253649041184, 0.20529505247438312, 0.22169190412919398, 0.21782907229886062, 0.22608376047283119, 0.22391601969620634, 0.2168189453636303, 0.19615287635232498, 0.18199190560964468, 0.18011332780831987, 0.17585414233297633, 0.1661844555017235, 0.1699994491956345, 0.17791880915367297, 0.16659940773504212, 0.17376716713785698, 0.18100390635930477, 0.16892237809170638, 0.18305433461009585, 0.192372228605847, 0.1971301277799764, 0.1984152083152688, 0.18487646561154772, 0.1812757408149029, 0.17492124170430703, 0.17502897785354812, 0.16630846026415239, 0.18249540745772777, 0.18997527125313035, 0.20413666574379194, 0.2121412429019761, 0.24556269124016722, 0.25718298827097985, 0.25876889492835986, 0.2625031252042094, 0.2692710068138896, 0.28273970093127954, 0.25790528597388324, 0.2720241807358759, 0.270785232026656, 0.26705221480566466, 0.2752801223830451, 0.27959766039328515, 0.2782618193591608, 0.272334919248791, 0.2817486054542908, 0.2993380422332548, 0.2912053181818327, 0.28058686427043694, 0.2892058363816905, 0.30813804208943685, 0.2959421123558241, 0.2895461862616711, 0.2898627408427027, 0.2892619088919086, 0.29342453627058657, 0.28613784950915194, 0.29306688259271524, 0.2893993818179189, 0.29125441270783614, 0.27917604387008527, 0.28181352012272143, 0.30147696936944807, 0.3092576173438273, 0.2984400938618833, 0.29553202597605027, 0.2589121434032191, 0.25364627211402746, 0.24369332869258184, 0.24210628228301911, 0.23430002478098108, 0.2225553093756925, 0.22945799136115277, 0.21711188073600077, 0.20144709458777865, 0.19508203573624505, 0.2060265375163119, 0.21730845180727315, 0.21486305071772052, 0.20683822874127036, 0.2065918510031871, 0.2128483248080881, 0.1863330461992486, 0.1842074826754842, 0.19416204423945654, 0.21210619576730672, 0.1910661554788222, 0.19039793695059679, 0.18348565320260596, 0.18450218860182324, 0.187081074145347, 0.1640737183097612, 0.16590938518303125, 0.18072929674957858, 0.17679923108962756, 0.1910416876758057, 0.17750953970484987, 0.19056394948744698, 0.1822821542811598, 0.19380135307504273, 0.20638432089043118, 0.20300806675823657, 0.18836557745034738, 0.17721519183932058, 0.1938938341711197, 0.17914156248845936, 0.18822688110604682, 0.1881085990038179, 0.19153044500383937, 0.19797398868020527, 0.20999862719422005, 0.2257131877941814, 0.22133709397827483, 0.2065156979863769, 0.20554773285368863, 0.20481282768050302, 0.19381758464056423, 0.2214432310245546, 0.22435501750040837, 0.24316680662027412, 0.2498230736191535, 0.25317782226207475, 0.24473620740546856, 0.25522089589576874, 0.2633144124467976, 0.24704525881709247, 0.23873278254433966, 0.25513532021041374, 0.2605093323352328, 0.2657635268501556, 0.2548518967946043, 0.24302278767352448, 0.24357724364738287, 0.25141932388343413, 0.2179528315295916, 0.21815549218764538, 0.19861755861243272, 0.22575837236069157, 0.21407075161517566, 0.2145233169586738, 0.2407248522224886, 0.24802075298806858, 0.25347211648020285, 0.2633725497011908, 0.25910054744515326, 0.26896662399633425, 0.25180946102577495, 0.24138792379735055, 0.2489706871267694, 0.22190296928792203, 0.21682038416418373, 0.21495370045492304, 0.23989162578811102, 0.21969859249788665, 0.20434898285640601, 0.20225907950978078, 0.19437201912440816, 0.19291472396046033, 0.19625435580619294, 0.19438168246515142, 0.20441312305799714, 0.19396747690378163, 0.19563359705313715, 0.20413768741153798, 0.20712530804480048, 0.22139795873456472, 0.21616640166905499, 0.21632337543595156, 0.2134285636350001, 0.21812511243981456, 0.21084729619162443, 0.24662391859516059, 0.24437811125145625, 0.2575759847786372, 0.2578955367371227, 0.25852996184096705, 0.27024016147743574, 0.28217055339324065, 0.29492626495906865, 0.29919799088056914, 0.2953438902788893, 0.2855761905301151, 0.2912799849830404, 0.2845185612014546, 0.28288131966367985, 0.2841646427877581, 0.28366812205105124, 0.2938449278016152, 0.2860754960720046, 0.2894972805192874, 0.29463027531494473, 0.3088305552988638, 0.3169813093721568, 0.32543624655988296, 0.30725462848216706, 0.2993027655222869, 0.2902288009647998, 0.2668373158267896, 0.25940002827763475, 0.2617619297166339, 0.24460092752019744, 0.23525344764238773, 0.22815057029915473, 0.24466042706811147, 0.24658342705635192, 0.230012214958832, 0.22044584571597836, 0.21142898179663774, 0.19237505738016547, 0.20501749152520152, 0.21329096319745736, 0.2179830316711192, 0.22075391032821384, 0.21471729942234935, 0.21704856784178447, 0.21265666793356292, 0.23330924288858007, 0.25500176867139435, 0.24973723838253414, 0.24681130584296845, 0.25200189251363947, 0.26881939134978466, 0.2985745043167133, 0.29747101968860024, 0.3024716430593009, 0.30385432450393524, 0.30710164889580854, 0.32335743489709723, 0.3306695852141298, 0.3307433141408939, 0.3288401941897859, 0.3183068125031346, 0.31776772049425345, 0.3261807852153577, 0.32612426166991176, 0.3205415825487232, 0.31202415176431464, 0.31327669930423174, 0.3070777222584058, 0.29738208003648936, 0.28218426406151986, 0.29091465407415257, 0.2769494772676432, 0.2607565429493048, 0.25432998573879073, 0.24767900475658244, 0.2592774316450906, 0.24644050227114922, 0.25502193752376073, 0.25867738805179824, 0.26480027513063914, 0.26997809763067115, 0.2642398237169908, 0.26589509039156545, 0.27518504003753363, 0.25907366251476815, 0.25315075967737904, 0.23222707081393212, 0.22734230976003053, 0.22788650296485746, 0.21901375198305947, 0.212367272633348, 0.2209281294361434, 0.20956799741166746, 0.2088057800379502, 0.18675238799484506, 0.1978769491475285, 0.1935273386323888, 0.19940970448637793, 0.19692935364245717, 0.1829672288479491, 0.16945340659376654, 0.18576915983476083, 0.1968987022978704, 0.21589486090515067, 0.22713949958810212, 0.21761838484053342, 0.20838442775036578, 0.20222136039786698, 0.20775873244850132, 0.22212144416394256, 0.1969286686853809, 0.18595560851220366, 0.196257343339576, 0.19227568930270425, 0.19395688169554715, 0.19301373767477026, 0.1855816359325342, 0.19021278747370252, 0.19933350161104443, 0.196674905633479, 0.20067435149762103, 0.21683061966602699, 0.21778207867986907, 0.22941153323694638, 0.23830158279905397, 0.24028648741686534, 0.2432974548497211, 0.24776621885976752, 0.25544621494671305, 0.2439556912907598, 0.2369580464200963, 0.22102112560059492, 0.20927226598482512, 0.20363349059673713, 0.20577844699487932, 0.20876965277758505, 0.20968601019153763, 0.2098229081474859, 0.20921757183503284, 0.22657650976546695, 0.20378002889381944, 0.19276353983712097, 0.1979495446174313, 0.21378913107255582, 0.22028428596136854, 0.21092905698057754, 0.2216826606057666, 0.2367306531921615, 0.23740419659055, 0.22795810312733109, 0.24713384718794537, 0.23795517066304991, 0.23877661098306194, 0.2473010845566545, 0.2633766681227356, 0.2886809012176394, 0.29927640565353497, 0.30879883370094546, 0.3143459659809632, 0.3108943745252236, 0.3053831451638197, 0.30730845638843485, 0.28134056958017695, 0.2875991786800026, 0.31309594749005154, 0.33257551365452537, 0.32177860207819226, 0.30754546992196646, 0.31802595996151667, 0.3139555358061233, 0.32059592892306793, 0.32586861067117545, 0.31605987120659385, 0.2997129126158293, 0.2770880818054128, 0.27968276726676283, 0.2700522880667929, 0.250363717591999, 0.2535987306653419, 0.24582731389265933, 0.23871848395189185, 0.24155849054609088, 0.2537622576046472, 0.25429618947580757, 0.25426783792661173, 0.26149029879577507, 0.2613804867523191, 0.260504576370683, 0.2562036147690038, 0.25474693800865283, 0.2658696508303528, 0.2648090263668547, 0.2666508905613136, 0.2501724143991891, 0.24328887234692348, 0.2397591018035842, 0.2400361586005859, 0.22312326022196122, 0.2277012569913283, 0.25142955575265885, 0.26157735313032116, 0.26714964752222403, 0.25941584897334924, 0.2678841470282955, 0.26780174177786165, 0.2509148262196708, 0.2618421368349207, 0.2472868846168537, 0.2538855742989284, 0.2753526764892055, 0.2725420908506837, 0.2522703724425106, 0.24492166280365907, 0.2666385252788373, 0.25658311651601884, 0.25228183009191973, 0.2640501036617229, 0.26743180966499663, 0.2715527669653079, 0.2667616313793399, 0.2817974359225536, 0.2865482758265884, 0.28526087071598294, 0.29026878300130815, 0.308456277468138, 0.30291540091107055, 0.3141960498685471, 0.33066590807031593, 0.3231789031084205, 0.333507534132788, 0.3186285888731231, 0.30230156350364534, 0.2993510414757789, 0.30071044431434585, 0.2964248821333672, 0.2958282199850567, 0.3051108566377166, 0.31186376950602285, 0.3050057197091897, 0.3077589671089987, 0.31844390198594485, 0.30830302809964244, 0.30326418729567467, 0.3133048888009737, 0.2897664407610891, 0.2873333775447995, 0.2940013285212603, 0.26741773788533124, 0.2705601311703899, 0.2719611303718176, 0.26285482693423423, 0.27164677620604055, 0.27381181873804794, 0.26749217305615314, 0.24890539547721666, 0.24705429507575888, 0.26068246600483325, 0.27065933197274666, 0.27380547662334115, 0.27020390381924325, 0.26693216304422074, 0.26687796363555394, 0.2697877811991249, 0.2670556029042259, 0.2775526160927866, 0.2739324015488748, 0.2743071691154669, 0.279125969861655, 0.2817043542575856, 0.2927342951423569, 0.29809154036164326, 0.2964904223573354, 0.3052597629556081, 0.3126732739954789, 0.3248674856998428, 0.32521894297934795, 0.3295772714695648, 0.3338240390002937, 0.3411179405697255, 0.3175356762000259, 0.3155969014541556, 0.3354857837202953, 0.3434387781070649, 0.37575004795453204, 0.37395464991530475, 0.3818922021921215, 0.3598565629979833, 0.3510177142348286, 0.3291868763351778, 0.3358632867845154, 0.3404597357677136, 0.3259211245877553, 0.32801822941371883, 0.3093509988373588, 0.31526591550781574, 0.3207327887833422, 0.3370536572325697, 0.3093162015432555, 0.312374081176006, 0.30928939521383847, 0.31904013492430067, 0.29684137352320755, 0.2909814055291697, 0.30294614736965403, 0.29903672494145694, 0.2892284644344367, 0.29248572881114876, 0.27805702832611734, 0.2766686856348899, 0.2792865974888825, 0.25996156500370365, 0.24254231551220917, 0.2299167686433033, 0.20921017654586216, 0.2176361407527471, 0.2126574446127436, 0.21488144084794314, 0.22592981479072116, 0.21923117634716405, 0.22386991087318245, 0.20871434938956968, 0.2142832801761463, 0.22847258763008127, 0.21822781849656556, 0.2320441834458768, 0.23081105421435374, 0.20166813108278292, 0.2074889669904802, 0.18440348249373242, 0.18483839540701266, 0.19956887276553206, 0.19985616603158335, 0.2054490605123813, 0.20997747033613312, 0.2306854523901727, 0.23186350680594828, 0.22786542038436047, 0.2206239909116101, 0.21668293117061982, 0.21321601874934193, 0.20967343020120283, 0.2056197304429167, 0.21061976687083703, 0.21933922770310316, 0.22678649011702262, 0.23399700676626056, 0.21308713996967846, 0.2020221419391172, 0.19903737910293404, 0.20608728016309635, 0.20750662361851613, 0.19922864132079843, 0.19483993390683627, 0.19387486518396102, 0.1891120473075891, 0.19500253352250044, 0.18473538597711428, 0.1902319612313209, 0.18248237922206756, 0.19992754607606328, 0.20720319469984652, 0.20351383222517805, 0.21381757839375695, 0.19029246062599559, 0.17634117032558053, 0.16343156197770073, 0.15003112836165797, 0.1655087221016158, 0.1849615789575071, 0.19326498557566685, 0.20139604120008636, 0.18865635872128061, 0.1823208635525277, 0.17029327629605148, 0.18173467582478725, 0.17783557689843474, 0.16692673355371954, 0.15710489273753134, 0.1513206388924719, 0.14930449858721914, 0.17826627618033516, 0.1804764434191302, 0.2092452664052095, 0.20206843159265525, 0.21006837590501415, 0.2202301044216904, 0.20142774476229103, 0.17445493343305896, 0.03550291032269587, -0.02507496953389593, 0.0268574971544549, -0.04122475999738251, -0.0015934059828810188, 0.0512424799912645, -0.061358065980822905, -0.0694245329617161, -0.03672933319535684, -0.046055485748109505, -0.13209434381005636, -0.03225056131863738, -0.06438614828743221, -0.09197245428389411, -0.05723808429947581, -0.0016583651291547583, -0.05875921136223975, -0.06793486637697671, -0.10472152199019807, -0.11046794746465978, -0.07919658403582147, -0.08034095251219366, -0.032748671882794365, -0.0520724965666443, 0.04969780417364533, -0.03708612772059798, -0.1692766775456876, -0.21983833682270837, -0.14630658671788027, -0.15701123401726907, -0.25177284951727547, -0.2921798858505367, -0.3590961814177579, -0.36972234819525285, -0.41297517997041977, -0.4189612841071564, -0.46533980774471195, -0.5087170460125041, -0.556645911305673, -0.49692511521001925, -0.5689248531031093, -0.6634820546377931, -0.6956200204943395, -0.4723181760774052, -0.40568623672727167, -0.31941907554843485, -0.30593854674215537, -0.2738420148141477, -0.17804343219914354, -0.13192909478690024, -0.06105574804235031, 0.039862562602296994, 0.04292241505971249, 0.06277692880937046, 0.04922188717373101, 0.08186744829394856, 0.2005975045007152, 0.2555554733280419, 0.28584210028067325, 0.2188315284471427, 0.3323438936989399, 0.41991145433855553, 0.3933074763229116, 0.36212968811428453, 0.3916527028251045, 0.4427007515764617, 0.5374514816714674, 0.5631035906802697, 0.531821462450782, 0.5772814895206857, 0.5657663937369759, 0.4418210537962861, 0.3939746358445563, 0.5394520333764048, 0.5949014850605242, 0.5686509562624773, 0.574680312049573, 0.6040712184765021, 0.6334496589740117, 0.5081128660439753, 0.41597565352458843, 0.44638741633633344, 0.46189804555390057, 0.5031857724847513, 0.47334420689905543, 0.4381273567835426, 0.5276629193718174, 0.6271999412599194, 0.6372984952831968, 0.6240013903669372, 0.6653034703914615, 0.7134792197508071, 0.7870890441029977, 0.7296484529595408, 0.6845151779525537, 0.6758059330401857, 0.8297444951352, 0.966382642259648, 1.0207832546501947, 1.1311015909868498, 1.1435044460173587, 1.120688778952173, 1.1398097966700962, 1.1019925924445704, 1.1189092505150449, 1.0816495748927641, 1.0306083620751323, 0.9818263810813372, 0.8307781568763983, 0.9279407643795741, 0.9060085602593643, 0.9804867476116457, 0.976707937694436, 0.989185671469047, 0.9928991517065562, 1.0807803066290145, 0.980145839702349, 0.8978467904810227, 1.0007544849466556, 1.0439167754353482, 1.1151947586576245, 1.1420032926063604, 1.0855882158779993, 0.9568424468014104, 1.010914792153704, 1.0685937823701277, 1.0191913328312665, 0.9602978211599451, 0.9613955826150633, 0.8910675423055016, 0.8366500844221146, 0.9000625571079865, 0.9350093736192102, 0.9238696147064515, 0.8633340208149802, 0.8912141741330611, 0.8829588304925152, 0.9448417385068323, 0.9329506261978509, 0.9241002637501599, 0.9133213265431714, 0.7398235775332764, 0.751579774432812, 0.7598474627680826, 0.7694150745962581, 0.781247183674363, 0.8507361754509732, 0.8932426022891223, 0.8735139597964692, 0.7966001723884385, 0.9217256139959672, 0.9233985828965713, 0.9610342366416116, 1.0471293256726857, 1.0379676917463798, 1.175869726343946, 1.157374948225337, 0.9846380242751799, 0.9827028505139042, 0.7932802503272082, 0.927256993150838, 0.8310695047291792, 0.9526028492075124, 0.9742370011677278, 1.1154197500161585, 1.089417128537472, 1.2095864433018944, 1.1257697635874304, 1.186871795266282, 1.1696728543968014, 1.2743845785306465, 1.3162516928544636, 1.351816705795962, 1.3730804810656714, 1.3036880276457192, 1.2806584799507676, 1.3652182708511449, 1.3142568352919515, 1.3252976629819408, 1.3649371827817096, 1.3792395084670654, 1.4366578007081712, 1.3989480593876515, 1.4133729826703285, 1.3351007174880338, 1.376657786388239, 1.328962587851534, 1.4094322591492723, 1.4406641047102822, 1.4603205195840336, 1.43741160262578, 1.3362029452020405, 1.2851163229692342, 1.3775507629192691, 1.3565108263616088, 1.270628695141578, 1.3137817062467103, 1.322308303231263, 1.3885838923563525, 1.3999702283931506, 1.3897499600083565, 1.3517829004033712, 1.4728085547767513, 1.4526797462092285, 1.4300093921583712, 1.4038890216697992, 1.306329726560627, 1.2865140016570642, 1.2888858071618519, 1.2986645111836481, 1.295147194891223, 1.2968191608403679, 1.2952815850653985, 1.2906495379704963, 1.289904176056745, 1.2908747493536086, 1.2914118971025532, 1.2931358940151834, 1.292579939212027, 1.2925862670139754, 1.2937258821848583, 1.2938615951482535, 1.2928987872030537, 1.2929651344784414, 1.2937905319169425, 1.2931999128383536, 1.2949327947305154, 1.2950844509075534, 1.294838955105559, 1.2954805410314367, 1.295169646865306, 1.2950153744676998, 1.2948883586320605, 1.2952867216127757, 1.2948969558903578, 1.2952908689599059, 1.295154651301896, 1.2945659683763882, 1.2934675135642997, 1.2931568840964445, 1.2923373321965397, 1.2925865323685954, 1.2923361922673482, 1.2921039057963906, 1.2916622754660196, 1.2910688048425827, 1.2917349603769168, 1.292261400609231, 1.292997166172702, 1.2926729103269818, 1.2924026575176386, 1.292470266493543, 1.293121965302184, 1.2915001200029934, 1.2918446506749182, 1.291851970301128, 1.2915491811229542, 1.2914211862150429, 1.2907484807930019, 1.290508457015318, 1.2906686547378594, 1.2900259443247202, 1.2893093266413462, 1.2896351196979998, 1.2891817245226187, 1.2882049846280144, 1.2879554718476118, 1.289019717177793, 1.2885887459206997, 1.289230235005805, 1.2882780508407392, 1.2879969227214985, 1.2868759471060924, 1.286669800047157, 1.2866204200991909, 1.2868920832659136, 1.2868043239209803, 1.286759642512152, 1.287140244746238, 1.2866163747788166, 1.2864403187586535, 1.285895936715212, 1.2859658032879917, 1.2861008314602582, 1.2857260045110133, 1.2862378636498892, 1.2862816567627584, 1.2865863492943785, 1.2865701587462075, 1.285521114700566, 1.2855106696653547, 1.2850701301182403, 1.2844142011785717, 1.284571901627952, 1.2857240288493634, 1.2852345833192667, 1.2856207223033156, 1.2854844495794644, 1.2862138963319032, 1.2867677415463221, 1.2868370447931377, 1.2865857734814483, 1.2862173157677972, 1.2861169868641678, 1.2868348923122745, 1.2862588480551904, 1.2856723213018677, 1.2851139554859325, 1.2851859908036911, 1.28402817141229, 1.2833940244844109, 1.282967396652312, 1.2830451992503555, 1.282578500651644, 1.282993559197391, 1.2834725191946468, 1.2827021427759526, 1.282363580389252, 1.281966424952196, 1.2821996722122386, 1.282018825929969, 1.282490411616451, 1.2828052799763985, 1.2826287703395938, 1.2815922563002298, 1.281183799525698, 1.280342348984594, 1.2799122656407824, 1.2802684925221044, 1.2807335251551488, 1.2800220675745582, 1.2795076088044546, 1.2789847563487444, 1.2799252582005967, 1.2804916257433958, 1.2804725393695289, 1.279693123994909, 1.2791918756182885, 1.2792904590934493, 1.2794082211214777, 1.2797319825133004, 1.2799322452202664, 1.2813038625781539, 1.2811758619347495, 1.2815495243324393, 1.282252129723434, 1.2828542335040043, 1.2830462030054819, 1.2842783768784867, 1.283772785734158, 1.284202083832501, 1.2830868194176426, 1.2824061345773428, 1.2830162348763425, 1.282912665374879, 1.2833262961367495, 1.2838002843791512, 1.2836833321747305, 1.2832398031921834, 1.2830300282668001, 1.2835939981779594, 1.2842514205936204, 1.2844432919377973, 1.2844538981873814, 1.2851377284843324, 1.2850890767754255, 1.2844226770474816, 1.284153326025368, 1.2852426507517125, 1.2854600835412324, 1.285160453181079, 1.2846535093120093, 1.2841177295484236, 1.2842634952354053, 1.2840132911798334, 1.2832270903512344, 1.2837778970791158, 1.2839342897906292, 1.284313714884433, 1.2841847253281635, 1.2849771521305255, 1.285859291341306, 1.2852044140821346, 1.285021990609206, 1.2851291638383628, 1.2855943862666075, 1.2854508372932099, 1.2864836548457523, 1.2858718200306007, 1.2859952235951597, 1.2855498101726355, 1.285732027974691, 1.2856832761040273, 1.2842042575539079, 1.283178407150343, 1.2823523846343692, 1.282222363537364, 1.2821081188699621, 1.2814904913729512, 1.2814454866270755, 1.2801927981510934, 1.2797189258758894, 1.2804979128878762, 1.2815284341881805, 1.2819701592832613, 1.2821304060892027, 1.2820631929445232, 1.281670213733105, 1.2811734826743504, 1.281793726429757, 1.2819766548908837, 1.2829527956823064, 1.2838186587091094, 1.283114461885436, 1.2836542456200222, 1.2837274346907208, 1.2842193853601989, 1.2832472676662716, 1.2819366709786644, 1.282105289472053, 1.2820108148387177, 1.281573787557193, 1.281850804305991, 1.2823091371992574, 1.2816432265260274, 1.280971041815187, 1.2809539854731888, 1.2803852897295505, 1.2805713577527034, 1.2805337665263092, 1.280259312037556, 1.281554444627329, 1.2807768641304726, 1.2809683569397168, 1.2804262840393956, 1.2802713697995256, 1.2807277103858465, 1.2809612374493762, 1.2805268886562784, 1.2798005193811386, 1.2797288285113544, 1.2805543054589386, 1.2801032971250486, 1.2799758233239467, 1.2801960753772825, 1.2793998231183874, 1.2789055105218186, 1.2793896955677195, 1.2795414648186374, 1.2788500061491075, 1.2784964693510439, 1.278329469912484, 1.2782327027085147, 1.2771684959160716, 1.2771920283609217, 1.2774849398574943, 1.2787094731297026, 1.278415800721663, 1.2790361540005786, 1.2797800939617108, 1.2799795055513992, 1.2800670727915322, 1.2799311454311832, 1.2800046917335701, 1.2795226497315355, 1.2791416092599208, 1.2798184340014693, 1.2798105880328925, 1.2793755361481816, 1.279433110949389, 1.2801000045608613, 1.2799110665732487, 1.2795296965352552, 1.2789585553809752, 1.2784941437990758, 1.2801269249098972, 1.279466746917728, 1.2796779764700146, 1.2802434669842286, 1.2812385819664518, 1.2811756514081485, 1.2815385770138303, 1.2827218302509473, 1.2829376441339813, 1.2835373690345793, 1.2828008320983657, 1.283222548793699, 1.283182094952427, 1.2831476166379425, 1.2824958612172945, 1.282495492185674, 1.2826000731237657, 1.2831066592592828, 1.2830601997759856, 1.2828510417287824, 1.2831163571863085, 1.2829355405136107, 1.2832323954876181, 1.2841386916337965, 1.2836028081677167, 1.2835418030168386, 1.2837640157423662, 1.2845287836335813, 1.2839936098955642, 1.2839128443048518, 1.2838885220200456, 1.2826431716417626, 1.2827204019529148, 1.2829787576415164, 1.2836047947992666, 1.2837197698209486, 1.2830909575486442, 1.2837295565501916, 1.2841552497759254, 1.2833149261092875, 1.2836064990211475, 1.2843190903626092, 1.2840819638055132, 1.2850108778347555, 1.285390869531774, 1.2854062754114868, 1.2860846855866084, 1.2864606868034636, 1.2869886504344463, 1.2865593832757538, 1.287225522460302, 1.2876549408883682, 1.286432033042944, 1.2856349093324941, 1.2852435977513228, 1.2867812756140928, 1.2868748304018434, 1.2860895116039173, 1.286102941900979, 1.286619928012989, 1.2863903054330765, 1.2860939497057402, 1.285370278969914, 1.286229728621909, 1.2867397780032346, 1.2872638055136472, 1.2868603507769845, 1.2865101411590447, 1.286561060865226, 1.2867407001763425, 1.286138416561843, 1.2858945812070135, 1.2859036674304962, 1.285740135938394, 1.285309148927754, 1.2853425549462545, 1.2848480635743933, 1.2849562686640703, 1.2850732796669977, 1.286261033942314, 1.2861747427826544, 1.286549947885514, 1.2869148060012117, 1.2865265508350094, 1.2872400624194933, 1.2877167451883462, 1.288126439174947, 1.2880709511125024, 1.2891318321906169, 1.2894807975088154, 1.2890959943568026, 1.2892655355330613, 1.2897320350133472, 1.28974385538724, 1.2897908567141343, 1.2902677684098978, 1.2915976241668932, 1.2912071192500925, 1.2901203196877946, 1.2897235541398795, 1.2910848536411548, 1.29075704529592, 1.290793770586037, 1.29131139809194, 1.291980370509985, 1.2915451398080078, 1.2916771748893896, 1.2912573003118661, 1.2903433215928586, 1.2906897258361412, 1.2910166230525901, 1.2913503882744746, 1.289939800530922, 1.289832981174976, 1.2897997402563766, 1.2892747875840915, 1.2889206928710562, 1.2895432099255837, 1.2901921941624634, 1.2904248003871772, 1.2905021346474417, 1.291571211377679, 1.2912301774420543, 1.2911698871453885, 1.290956895424686, 1.290953686386085, 1.2919042587761422, 1.2926576731151553, 1.2921539097644854, 1.2930293265334984, 1.2934418236668723, 1.29354002000035, 1.2935842069623624, 1.2935642602551867, 1.2946254955752572, 1.2948823561176803, 1.2949570048124885, 1.295152046123305, 1.2955448631654571, 1.2960918930438063, 1.2957939550173052, 1.2961951310351576, 1.2955073106331154, 1.2949044594375587, 1.2948367066323567, 1.2954742850382, 1.2957699102810483, 1.2960167570783159, 1.295767380777132, 1.2952932108972883, 1.2950410928573353, 1.2944435115068178, 1.2937811473272043, 1.2938152893024062, 1.2937147505129067, 1.293416354573965, 1.2930884206315632, 1.2929169436666514, 1.2927140642755723, 1.2922283679489701, 1.2913709673732052, 1.2918079480385924, 1.2927435400386418, 1.2935210839574252, 1.2938708172641928, 1.2941628291135592, 1.2934006565964071, 1.2937143594421445, 1.2944157922048982, 1.2928860356981986, 1.2938690934239578, 1.2937131689923689, 1.2946369625976306, 1.295776332683537, 1.2966432239083188, 1.2968850711798237, 1.2972843913908862, 1.2974756401109526, 1.2979129080619731, 1.298290429959391, 1.2973596457587753, 1.2977281452099658, 1.297990515012454, 1.2979099896693052, 1.2978481036926655, 1.2973236226466394, 1.2963150493414253, 1.2967809999675477, 1.2978420637179522, 1.298445263018847, 1.2977477445509003, 1.297815984633139, 1.2974668496973072, 1.2979375989266095, 1.2973064776376801, 1.2969973817673763, 1.297231724160362, 1.2968056285872314, 1.297124673793375, 1.2956547354547274, 1.29648504878389, 1.2969446038590977, 1.2964624010814363, 1.2966581425150294, 1.296763232063353, 1.296169651149181, 1.2969028068693549, 1.2964517519028134, 1.2963757380159888, 1.29655460945366, 1.2964071346087456, 1.2964695845498442, 1.2964312422146846, 1.2968688570652425, 1.2961720998337636, 1.2961250545978764, 1.2959030429968792, 1.296118131479026, 1.2965251020955832, 1.2966069814275005, 1.2973911589365779, 1.296807359461307, 1.2969130029579368, 1.2978871575084343, 1.298778587741543, 1.2991399843404754, 1.2993234539453409, 1.2981646425461177, 1.2978864468332285, 1.2977827082736797, 1.298870985941488, 1.2985361481609325, 1.2972666026346398, 1.2968198054674624, 1.2963128341534853, 1.2957897319165321, 1.2957839893767307, 1.29619926743622, 1.2974075479649891, 1.2979149650780528, 1.2986474706964954, 1.298855425255058, 1.2979506931819358, 1.2979028344537873, 1.2983915080766812, 1.2982847767622212, 1.2981941018431273, 1.2986024418876976, 1.2991492106910794, 1.2988871139262934, 1.2992122047902341, 1.2988435150177353, 1.2997635342463736, 1.3005484346514198, 1.3002848117960222, 1.2998832043849085, 1.3002815785145083, 1.3003931165457432, 1.3011238200803157, 1.3005087285599282, 1.3006379296904258, 1.301059728404157, 1.301550054586232, 1.3010205754291349, 1.3012592737942719, 1.3016372788291335, 1.3019853316608994, 1.3019929153352199, 1.3023836866010012, 1.3023380244127762, 1.3023647151100126, 1.3029403011048135, 1.3026061718852062, 1.3029008105934947, 1.3020044628291676, 1.3024365547166614, 1.302389610155038, 1.3031522043603114, 1.3039914923556215, 1.3044216767571308, 1.3040680390770898, 1.3047077086287562, 1.3041955045002758, 1.3041619631353756, 1.3039973706445713, 1.304781060110306, 1.3051563467513803, 1.3049128988567371, 1.30466438161523, 1.3047598463914867, 1.305033169142133, 1.3054373522929996, 1.305051983673512, 1.3037012932159031, 1.304448676680912, 1.3043966489920589, 1.3038528292802043, 1.303876421135295, 1.3031143988058955, 1.3029940637738628, 1.3017006705826004, 1.3029601500561285, 1.3027543296702822, 1.302385288779273, 1.302669344675909, 1.3026666696182057, 1.3022992395323347, 1.3014609243850908, 1.3016740449649313, 1.3022014715023649, 1.3024199221702166, 1.3033124935993738, 1.303447284587233, 1.3032554741687739, 1.3026494735938814, 1.3026321135826695, 1.3028546242069676, 1.3027146460798795, 1.3023783219663774, 1.3006432357285138, 1.2998918473108374, 1.3002694585296475, 1.30128709874087, 1.3008568326204033, 1.3001561093813847, 1.2990591312022024, 1.2995112161311915, 1.3003451671560857, 1.3008510043567143, 1.300975556077394, 1.3010579433000353, 1.300475117946992, 1.3005595014009925, 1.3008740667302778, 1.3014738668410142, 1.301801333541143, 1.3016126248370905, 1.3017216654151336, 1.3008459452298602, 1.3007656542199153, 1.3004255202559776, 1.300323205178128, 1.3007095230267975, 1.3017110956197824, 1.3014370511808573, 1.3009033982768547, 1.3012211238421638, 1.3016578333639381, 1.3026251558710877, 1.3017976137952858, 1.3020442991620083, 1.302317893155418, 1.3019618743248507, 1.3015581638698588, 1.3022474911078017, 1.3026774611514187, 1.303036374166359, 1.303403580183356, 1.3040575803753067, 1.3046513388580363, 1.3044239319194708, 1.3032710135398915, 1.30248545455871, 1.303277878221656, 1.3034844385710056, 1.3038573290487592, 1.3038706365448898, 1.3038524847056239, 1.3032474979195552, 1.3036692623058346, 1.3047536364235517, 1.3051258544807145, 1.3051202479527415, 1.3049327572884852, 1.3043778086415199, 1.3047691914165875, 1.3046392297363505, 1.3048188461405459, 1.304035739775554, 1.3038424099862038, 1.3038729547930668, 1.3039759240110456, 1.304316806415202, 1.304383225246076, 1.305103757793338, 1.303925179522389, 1.3043584591718436, 1.3046022939659907, 1.3054853304533414, 1.3060601215696361, 1.3068848854123725, 1.3065759192343678, 1.3053065128634591, 1.3059822220605093, 1.306087200386346, 1.3057551499879516, 1.3066524366672514, 1.3066174170581737, 1.3064312548180603, 1.3069868082612583, 1.306547555694243, 1.306216085051983, 1.306717624472044, 1.3077227272093932, 1.3072137314650223, 1.3069711332837348, 1.3072375051489387, 1.307664647513018, 1.3081933533865937, 1.3082071049203574, 1.3076822003059927, 1.3074405181409563, 1.3072177080666336, 1.3072060074505365, 1.3070015098972665, 1.3070826589516507, 1.3070643176621974, 1.3069165549559585, 1.3068361737333016, 1.3073952795701136, 1.307944583965359, 1.3086423890564811, 1.3091093042471942, 1.3084270207377544, 1.30796273793846, 1.3080340457196094, 1.308141113194889, 1.3084759995870874, 1.3079119213257195, 1.3076333574570245, 1.307310500106818, 1.3078845728948236, 1.3076872037701872, 1.307713173785772, 1.3071993185323754, 1.3071977146609979, 1.3069129368647903, 1.3077082386555845, 1.30795546198953, 1.3083788567403967, 1.3087462734831488, 1.309903921566582, 1.3100140453872413, 1.308806898883523, 1.3081269883681972, 1.3079112828067565, 1.307916845580393, 1.3079535208842248, 1.3082406240835478, 1.3086820172603961, 1.3091495915487616, 1.3080661772838773, 1.3073764750648695, 1.3079444465103152, 1.3075976077791012, 1.306836673214388, 1.3065191486676284, 1.3061225281610471, 1.3058007426064717, 1.3048557637628058, 1.3049114862410895, 1.3048696215116637, 1.3044291255268148, 1.3047645489845041, 1.3052497310612976, 1.3056763749430682, 1.3053923649865133, 1.3044483578255124, 1.304650458293684, 1.3040168830767904, 1.3037597478361682, 1.3040893212491356, 1.3045523588213606, 1.303967852342178, 1.303549372152149, 1.30406845359265, 1.303935971106322, 1.3039842588398523, 1.3040795631435982, 1.3039902444708662, 1.3034696796578153, 1.3040698197589193, 1.3044378704205382, 1.304092311377411, 1.303463589529976, 1.3033535832594947, 1.3039499322199468, 1.3039857207116758, 1.3042054743626832, 1.3038917265762795, 1.3044839384325793, 1.3047574974315546, 1.3047390584461456, 1.305771504497108, 1.3063165327163606, 1.3058620252019735, 1.3047602449306055, 1.3040091180783449, 1.30441768619336, 1.305008156429609, 1.3053449311157292, 1.3062082858401969, 1.307203972081721, 1.3077028313503862, 1.3069205164440727, 1.3065562471107468, 1.307147345900907, 1.3078036958085038, 1.3069435159269118, 1.3069554777289711, 1.3068482426619925, 1.307046486005586, 1.3064700637700746, 1.3070194396695811, 1.3062943752464897, 1.3062828164662714, 1.3070213005463203, 1.3088063403302617, 1.3084132670861566, 1.3082985621576764, 1.3068361338214776, 1.3063702533684731, 1.3057790005470418, 1.3047078221033546, 1.3041599775036066, 1.303592565823907, 1.3032087602184272, 1.3031041626744517, 1.302336480448312, 1.3027955361962449, 1.3020599143259952, 1.3029560791763002, 1.3032643910311474, 1.3024447995695148, 1.302037609869254, 1.3027300526634855, 1.3027847713598675, 1.3026228612609216, 1.3026935904933556, 1.302636077046556, 1.3029363241994427, 1.302878811555778, 1.302178621169314, 1.3016190231319873, 1.3019946328787504, 1.3015199141061298, 1.3015350387126245, 1.30178642233459, 1.3009265123896223, 1.3012670172961733, 1.3011010244910626, 1.3002696763477957, 1.3000534885044142, 1.3005931530485422, 1.3005529779631806, 1.3000514768473004, 1.3009311159536248, 1.3007738333219099, 1.300874780229174, 1.301996083499683, 1.301700166765184, 1.3023999129552963, 1.3015198076671186, 1.302422344638777, 1.302712557722952, 1.3025800608832985, 1.3023802384202738, 1.3014504911066547, 1.3017680042330022, 1.3013444228005757, 1.301744535941187, 1.3027572461062258, 1.303208290580218, 1.3031766877066002, 1.303176017996481, 1.3029123343800277, 1.3028993386079095, 1.3034266521277118, 1.3024768242245455, 1.302268630944756, 1.3020500033422466, 1.3019265628617753, 1.302739674885924, 1.3026880776907426, 1.3034089018797332, 1.3034793472799582, 1.3036162165883296, 1.3032429434311714, 1.3029658573938099, 1.3027799844131727, 1.3023149776907776, 1.3020729786723662, 1.3025550079114756, 1.3027015929872119, 1.303668044252596, 1.3044600837548797, 1.3049330001329604, 1.3036997440478562, 1.3040905475209241, 1.303867510040795, 1.3044523137604345, 1.303751375668666, 1.3031656100004048, 1.3026475358254679, 1.3025160986208943, 1.3027340943305354, 1.3033236875792558, 1.303078449456832, 1.303023137142059, 1.3021184822033152, 1.302806718464369, 1.3031337176653224, 1.3036542272882214, 1.303914920963985, 1.3038818328485346, 1.3042329122424452, 1.304048516766616, 1.3054344834194211, 1.3051768191750506, 1.303771454694553, 1.3028427449242383, 1.303167197200184, 1.3030794205701097, 1.3040642690580249, 1.3038598247786923, 1.3044863038061245, 1.3047681636488524, 1.3039876735267426, 1.3046497212872432, 1.3047253210246825, 1.3050187979078307, 1.304308891982797, 1.3040632815010753, 1.3048354863803382, 1.3035471123303237, 1.3038003911257585, 1.3041607907262425, 1.3034136223082258, 1.3034652729741716, 1.3031785760248185, 1.3023651110838765, 1.3018303005738112, 1.3019592691266348, 1.3011616396796537, 1.3010959288510742, 1.3012143914308665, 1.3019627118857005, 1.3027976124134386, 1.3011138233961226, 1.3008791230959111, 1.301753603401279, 1.3014010574229082, 1.3015033839305392, 1.3027044413414355, 1.3029098124145502, 1.302862141116395, 1.3023662436371495, 1.3030615367521623, 1.3030448103797743, 1.3020943872083006, 1.3012965654680648, 1.300865998939966, 1.3007826412892816, 1.3010503923895194, 1.3013494666845111, 1.3015098639336853, 1.3015503843735428, 1.3019180476503287, 1.301631833759132, 1.3019180272009998, 1.3020363586390877, 1.3018370382794422, 1.3021206647284282, 1.3021607040970835, 1.3031855750324515, 1.301725443928905, 1.3022801805241349, 1.3018783407511085, 1.300537085622057, 1.3006812965468026, 1.3007751895344202, 1.3011870715572373, 1.3006826255246, 1.3005974346701281, 1.3008651330887586, 1.301413972334083, 1.3023928805860607, 1.3019976445802703, 1.301512641667684, 1.3019672451349649, 1.301517313057476, 1.303129512172599, 1.3033238605623783, 1.3027744972060304, 1.3025591031806265, 1.301921977527896, 1.3025941705662372, 1.3042422189622755, 1.3039894134413466, 1.3052590966937865, 1.3044722346293118, 1.3049762494493764, 1.3055952534856083, 1.3048160449249329, 1.304540084671857, 1.3037734743855907, 1.3034652457781088, 1.304293936973458, 1.3053310950267731, 1.3050208582114318, 1.3054244128400518, 1.3044132399050425, 1.3043309177671636, 1.304365686843302, 1.304929615773458, 1.30449952904705, 1.3045607790425942, 1.3059426404576806, 1.305802172525393, 1.306127026373591, 1.306625994558382, 1.306849853840022, 1.3065140980341101, 1.3063558494516725, 1.3072916269490442, 1.3077035376595716, 1.3086252742969344, 1.308876393397034, 1.3094018528176807, 1.3092083249041138, 1.3078908823822168, 1.3078922509277386, 1.3077555136132035, 1.308382752494249, 1.3096035063633527, 1.309964173549553, 1.310910442233053, 1.3112341299578518, 1.31101783781044, 1.3113698472819209, 1.3102668721585862, 1.30977432968016, 1.3091056138145587, 1.3088134043955324, 1.308180395041468, 1.3082168899809183, 1.3079322348997204, 1.3082869521455018, 1.306738257268949, 1.3051566682324778, 1.3044138819234905, 1.3034107344677774, 1.3021321574332274, 1.3014159186551797, 1.3011297834408713, 1.301268722473184, 1.300717533666208, 1.3017267319490036, 1.302642969596705, 1.3026083887695774, 1.3033962713326992, 1.3034925876086554, 1.303685615104366, 1.3042058903819929, 1.30421816361055, 1.3034706751220366, 1.303361925885887, 1.303943621945614, 1.3039611319040985, 1.3044374783415749, 1.3038616261100742, 1.3039926296495905, 1.3039615017760977, 1.3046005113259977, 1.3036885936907339, 1.3039014758735217, 1.3023345587944906, 1.301267357379026, 1.30100016562451, 1.3006808950552846, 1.3005584974901534, 1.3000990278023679, 1.3000557755800983, 1.3003389873686078, 1.3007694769837943, 1.301357704156009, 1.3023079319668514, 1.3026259093498702, 1.3026002742850606, 1.3025955357422134, 1.303258491297354, 1.303312017233648, 1.3030623159423051, 1.3024658057158804, 1.3029339969411895, 1.3026131627579183, 1.303006517509826, 1.303371951759471, 1.3031166377021746, 1.3026850018277396, 1.3044315452370379, 1.3047403575202965, 1.3052699881387653, 1.3052657510392383, 1.3059892329854488, 1.3056067476722482, 1.3046769073042634, 1.304853988981408, 1.3050551771685552, 1.3044410050264934, 1.3037206194664912, 1.3037285549717295, 1.3031284099962916, 1.3031767663163378, 1.3039691609084967, 1.3033729542024863, 1.3033539626283168, 1.3035370024321224, 1.30340016305726, 1.303257019770862, 1.3032634100226126, 1.3031082450969, 1.3037107845746738, 1.3037139332488141, 1.3034234311551376, 1.3033634869981139, 1.302226685574026, 1.30291231644179, 1.3039676784270768, 1.3034177191913228, 1.3033215854614746, 1.3033532687761906, 1.3040299254715482, 1.303749317914997, 1.3035333336394814, 1.3035382534280684, 1.3035882838157755, 1.3033473849633028, 1.3033807342049735, 1.3033700792795406, 1.3036549114127565, 1.3035657284711262, 1.3026308904698811, 1.302411323075715, 1.30116673721737, 1.3004656994703199, 1.2995964257276538, 1.2996334261701414, 1.2996383041282427, 1.30097700875704, 1.301303261347449, 1.3006972971506758, 1.3010394726681664, 1.3014682526229577, 1.3007244703786498, 1.3011502432369642, 1.3015489885647242, 1.3011042891302753, 1.3013309735126164, 1.30101883057477, 1.3017835228057986, 1.302252685706132, 1.3009834713018769, 1.3014013215712321, 1.3015962921638007, 1.3020344443273695, 1.30223391475491, 1.302106220036933, 1.301719915945579, 1.3014737678567927, 1.3020485284068233, 1.301574711340235, 1.3014118283819238, 1.3013679425139342, 1.3009346281280545, 1.299978153908216, 1.3005353606046937, 1.3001869630472582, 1.3004394473828862, 1.300884297128624, 1.3010221635960333, 1.3016864151995453, 1.3017017311389025, 1.3015746030202342, 1.3012334984286205, 1.3001923145045744, 1.3012100895775887, 1.3009408701049365, 1.3007839599758444, 1.3008650933006405, 1.3007645457651404, 1.300478769985087, 1.3005795401834477, 1.3007889395278396, 1.3009150680096035, 1.3013710797845066, 1.3003504661105483, 1.300215179290266, 1.299701600042846, 1.2997105537611773, 1.2999163308055843, 1.3000708061363713, 1.3006960790973978, 1.3001463112149996, 1.3008170190810293, 1.3008072251602187, 1.3011312624730187, 1.3010127498577249, 1.3014525104983017, 1.3010783585854004, 1.3021326350046294, 1.3017161996878923, 1.3018145979506273, 1.3020133521726271, 1.302269472661908, 1.302881406986365, 1.3027035290099849, 1.3039662261449247, 1.3040574339810316, 1.3039513642831162, 1.302998298896179, 1.3031049448322356, 1.3031123236602562, 1.302816648509321, 1.3026450821866735, 1.302200792707619, 1.302228615077531, 1.302162266533015, 1.301788798952638, 1.3022505644868088, 1.3028557281489461, 1.3026373167306402, 1.3016900188595437, 1.3009213971982196, 1.3008326564284205, 1.3016558858885594, 1.3012004379904427, 1.3013402102040628, 1.3027612897562932, 1.302631102193981, 1.3016977375445782, 1.3011370969942049, 1.3010484557195054, 1.3003791251625128, 1.300906454974176, 1.2999680996700496, 1.299940776857246, 1.299762714008775, 1.29907128833653, 1.2993740371208264, 1.3008794523575342, 1.3000369913870018, 1.2995010547761736, 1.299245565623945, 1.29930566681792, 1.2989210055087288, 1.2985343641139906, 1.2993547083582593, 1.299524990068018, 1.2991454755196468, 1.2997162845754502, 1.299211436670314, 1.2994675493947945, 1.2997458951138177, 1.2997484230142748, 1.2998297085269195, 1.3002933102069152, 1.3001133682312898, 1.300540684110249, 1.3004785438232653, 1.3004745228153716, 1.300384153498787, 1.3007472654155525, 1.3006442707322012, 1.3012220595451338, 1.300868178838631, 1.3011953200255277, 1.3016459031396557, 1.3003529425060671, 1.299902159275513, 1.2996520391931043, 1.3003679313290917, 1.299394192403141, 1.2998544861361225, 1.2986918669096945, 1.2990952601213315, 1.2992385775184268, 1.2995179240137855, 1.2990639811047175, 1.2991752650908364, 1.2989410404840394, 1.2985002173128102, 1.298485211342467, 1.2985931452740536, 1.2996711648547463, 1.2997052943974732, 1.2997635828592105, 1.2997857224825684, 1.29913056085622, 1.298976176807229, 1.299289644790598, 1.2995091807317112, 1.299848466613938, 1.2992987329464172, 1.2993902286988435, 1.2989903927779467, 1.2991043360881669, 1.2987375254472282, 1.2989454985433126, 1.2978644345446755, 1.298255967893051, 1.2968261848869735, 1.2964337930932528, 1.296477414221494, 1.2963210135079517, 1.2959035606208222, 1.2962950421663264, 1.2960511293979389, 1.2970117203869964, 1.2990119859887281, 1.2989926718334288, 1.2992057273716533, 1.2995745092817856, 1.2992754933797825, 1.2986962910888287, 1.2980809148713044, 1.2986599800650185, 1.2986847618944757, 1.2984631965037563, 1.2991344525450057, 1.299562499739524, 1.3001213409276038, 1.2995032665135455, 1.2994748954432582, 1.2996474934521804, 1.2997760694933687, 1.2994765298180653, 1.2994007099915157, 1.2995234183731432, 1.3003077758523247, 1.3010012334422827, 1.3005774634432634, 1.3007275516484762, 1.3003910339277693, 1.2999257517424823, 1.2996296214508727, 1.2993957344717373, 1.2990586192208016, 1.2991181000326173, 1.2993285025452344, 1.299345846092939, 1.2995080749621097, 1.2999697675552573, 1.2997449004855441, 1.29938400966117, 1.2994812943507184, 1.2998761232186948, 1.2999435923171636, 1.2995626059227485, 1.2998832758634877, 1.3005016919525485, 1.3010215942215482, 1.3003026111556966, 1.3001880929649856, 1.2994653368876592, 1.299402463896815, 1.2992199189399602, 1.2996336183493338, 1.299574889529705, 1.300496195613907, 1.2998653726457425, 1.300427664148031, 1.3000974769918536, 1.3005257027252055, 1.3001338931236244, 1.3000925056832968, 1.299959554618175, 1.3004378017833143, 1.3008985117548022, 1.3020557463277747, 1.3023961814822607, 1.3024421646006463, 1.3028159357523836, 1.3024289374245477, 1.3021081374927306, 1.301468247157572, 1.3010947477671115, 1.3013412842756893, 1.3011555057700255, 1.301434892648364, 1.3012294174249857, 1.3007352257756533, 1.3013954756969268, 1.3016312811566426, 1.301725146773003, 1.3015050715290435, 1.3014612104065237, 1.301087647471128, 1.3019009995881432, 1.3011571789129162, 1.3002159795746493, 1.3012074328023704, 1.3012708500093213, 1.3010773173880361, 1.3018696609229479, 1.3023994813230155, 1.3029750134896236, 1.3026765446108388, 1.3028808299230878, 1.3033083817387383, 1.3027084923596657, 1.3019635472298874, 1.302537163590767, 1.3028412367460955, 1.3039130724137693, 1.3047545810588388, 1.3048050534768498, 1.3055712482483643, 1.3060066969649113, 1.305647618029889, 1.3061734334234534, 1.3062629072000809, 1.3067075970934818, 1.307331787728519, 1.306434787675723, 1.3058839220049214, 1.3065594711120636, 1.3067902494611867, 1.3066640415153963, 1.3059414252826511, 1.3056102399662175, 1.3055008414109364, 1.3061483695408451, 1.3063633962692742, 1.3055577873097062, 1.3055696874853577, 1.3052857063557135, 1.3043579996954242, 1.3048057680999114, 1.3043908260110197, 1.304438032344136, 1.3038403722831913, 1.3048165206508353, 1.3041222006256021, 1.3041015894680583, 1.304739372441271, 1.3047093553903502, 1.3039259961302483, 1.3042613966231729, 1.3051052267345316, 1.3046919203048295, 1.3050785657518702, 1.305327181257138, 1.305407185512934, 1.3054831380564398, 1.305965650612895, 1.306302067412927, 1.3068863043085213, 1.3078012534607117, 1.308522681348287, 1.3097394424502913, 1.3093929484360591, 1.3088406411571538, 1.308568223227282, 1.3095877676720487, 1.3090506583623644, 1.3096947378916972, 1.3097848856435732, 1.3108539089571642, 1.3107105961800711, 1.310789342267699, 1.3113300590577623, 1.311124687009422, 1.3117198661842469, 1.3110226696136675, 1.3111515885631386, 1.31073904974516, 1.3108126660960504, 1.3111870882732097, 1.3106953739701095, 1.310876044887464, 1.3101587561186698, 1.3099436578198165, 1.310943851204942, 1.311209539768704, 1.3113322890223773, 1.3103619425995454, 1.3105685000019902, 1.3105787035245369, 1.3112002118966573, 1.3113876881841882, 1.3106956410603112, 1.311482592546034, 1.3115224082190653, 1.3116196911762805, 1.3117112927304946, 1.3115654210432186, 1.3120796935409555, 1.3124138019892637, 1.312096918394227, 1.3114474698685394, 1.311114942500305, 1.3108958689235664, 1.310909483405599, 1.310947322918195, 1.3116107213792807, 1.3113387961752339, 1.3109098455321344, 1.310147630125884, 1.3101927895264476, 1.3100783822599247, 1.3095298130962842, 1.3089177249071515, 1.3089351146862098, 1.3094874730352541, 1.3092376006992168, 1.3084779937633404, 1.3086318891890463, 1.308266833514889, 1.3082391875683252, 1.30793952092902, 1.3079985091218584, 1.3088184551338937, 1.3078905731415154, 1.3082881653637974, 1.3086107621620684, 1.3079722926174873, 1.3084527503254333, 1.3086484150126678, 1.3081061230626765, 1.308730152212326, 1.3088374752802656, 1.3095767359113124, 1.3112931085090087, 1.3112878923586142, 1.3114649270946535, 1.31092420630398, 1.3109834649607288, 1.3098042716013454, 1.3101365517186971, 1.3103570484406646, 1.3097954552981625, 1.3096677336567146, 1.3085232410852918, 1.3086450387767259, 1.3091383896003195, 1.3096980392867195, 1.309976187223688, 1.3095698746947118, 1.3103354321244165, 1.3106905112461689, 1.3098963178566314, 1.3099756075365445, 1.3103164730177839, 1.310056069442144, 1.3097026685507442, 1.3103475039416101, 1.3103620021805522, 1.310621934854259, 1.310266772635469, 1.31013542713865, 1.3103802605563961, 1.3108409006859574, 1.3092912819382199, 1.3091742681798437, 1.3097229140122668, 1.3091916917363209, 1.308902510819126, 1.3090579234100954, 1.307864258579352, 1.306912266869693, 1.3071637946061072, 1.3082643693128477, 1.3086605427395994, 1.307224922740673, 1.3068757948407768, 1.3070132481456216, 1.306805733004381, 1.3070735035910808, 1.3082952823440432, 1.3084310707779552, 1.3084939875663482, 1.3093092093165117, 1.308437045017281, 1.3081352848715573, 1.3077158190027816, 1.3069553587801948, 1.3076985763086821, 1.3092299149906077, 1.309863920652435, 1.309630126379588, 1.309922417399454, 1.3100603805008861, 1.3101937732159272, 1.3107593723813669, 1.3108837584668904, 1.3103114419863064, 1.309822112997189, 1.310591878032005, 1.310711849201009, 1.3104136966837001, 1.3111244565221258, 1.3103779860246274, 1.3116252561514512, 1.3125269076037915, 1.3126636056937557, 1.3122916910828217, 1.312905612309348, 1.311576228008257, 1.310964038732301, 1.3108571653184697, 1.3111624603610001, 1.311364053861704, 1.3109480907959237, 1.311820015123029, 1.3120118295058065, 1.3120466958403572, 1.3124243017930426, 1.3135938632147863, 1.3126883051810379, 1.3121706148317527, 1.3117427987467023, 1.3120774371033896, 1.3117769681409568, 1.311359122851501, 1.3111815844161205, 1.3110546810181951, 1.3113710218991894, 1.311449357950297, 1.3117807375449146, 1.3116899775797288, 1.3119782432101774, 1.3127031910321827, 1.3138433845466482, 1.3143140185095123, 1.3149400124915287, 1.3146922597854533, 1.3149928350355207, 1.3167227030323023, 1.3162387328558622, 1.3163817373514404, 1.3175602781992612, 1.3184055884515822, 1.3182227465039194, 1.3182190676384913, 1.3180909206346925, 1.3176548601634912, 1.3181038113601589, 1.3193664645286989, 1.3188383289395664, 1.3180390650582876, 1.3176624287106482, 1.318023378568577, 1.317764554915983, 1.3173650898578746, 1.3170229699244465, 1.3163394117812994, 1.3154903844376633, 1.3159545774851535, 1.315055521067254, 1.3151523860287662, 1.3148002102444107, 1.3142379930258206, 1.3143504558985963, 1.315086285449678, 1.3152572446278084, 1.315512005827605, 1.3154213605121408, 1.3153796490689333, 1.3163789764562666, 1.31715591412698, 1.317993987454783, 1.3185873299377766, 1.3190129603682637, 1.3190866355658395, 1.3193549522612968, 1.3185199986843583, 1.3187070360807542, 1.3194019772480863, 1.3195919783636747, 1.3201659629823947, 1.3209719854333974, 1.320556431968857, 1.3211189246227115, 1.321460168081485, 1.3217112933235007, 1.3222121067852226, 1.3215046522231488, 1.3212179394748016, 1.3208724135563996, 1.3207861746155167, 1.3202847335961372, 1.3199787717151101, 1.3197515097467885, 1.3200108257419507, 1.3196022934103055, 1.3194969300446793, 1.3197217878397454, 1.3201143644571687, 1.3196145759383016, 1.319084108570132, 1.319134969031969, 1.31951603597645, 1.3179510293962484, 1.3182745227125525, 1.318110469497149, 1.3177031474832253, 1.316994690246091, 1.317354888456842, 1.317572927722736, 1.3171634151955625, 1.3174436218603907, 1.3170872428449358, 1.3171509263876935, 1.3175120366577997, 1.3173523520940602, 1.3177465486776425, 1.3177382822173862, 1.3180900413865912, 1.3180854964202493, 1.3179252990871668, 1.3174735956938701, 1.3188711899322785, 1.3184564490190458, 1.318693122302458, 1.3188353377704816, 1.3185533781993244, 1.3179947232435187, 1.3182008302379333, 1.3187292094175243, 1.318190129956316, 1.3180248434848518, 1.3174390372336133, 1.3179315599967514, 1.3174644536088103, 1.3167088788339167, 1.3163734333990724, 1.316123449139747, 1.3168280635984912, 1.3176419067742065, 1.3173559068481588, 1.317819009448884, 1.319497009921186, 1.320049988465408, 1.3194375224965154, 1.3200766124913994, 1.3201904138077025, 1.3192374096764528, 1.3194730743833043, 1.3196945281730288, 1.3195877896973238, 1.3190344586476765, 1.3195591273448124, 1.3203718940385663, 1.3200595442262695, 1.3205496985262264, 1.3213306295947318, 1.3204952152744789, 1.321312030954216, 1.3208585513927162, 1.321074724069634, 1.3208250775890866, 1.3209362645555993, 1.3206293572953083, 1.3198634875589275, 1.3194257969204528, 1.3201935991699483, 1.320573555495302, 1.320779473690821, 1.320802357127267, 1.3206666702958278, 1.3208294476624265, 1.3215581413246065, 1.3214812206058808, 1.3208823017045852, 1.3210682815916532, 1.321066688575989, 1.3206410922382696, 1.3193194470281908, 1.3178483830989942, 1.3174030295826065, 1.3170060391787777, 1.3175796230837706, 1.317537990074246, 1.3172108140916468, 1.3168539433511057, 1.3167733615152017, 1.317018790020233, 1.3167200025434762, 1.317409480291841, 1.3180963144526352, 1.3183097792324974, 1.3198641072306274, 1.318832506660786, 1.318575150682125, 1.3183415250281327, 1.3180396912207681, 1.317662237296063, 1.3175095564126176, 1.3173380766516836, 1.317439912416512, 1.3167408057133885, 1.316000422638165, 1.3156833000818842, 1.3160865461115692, 1.3150453884054056, 1.3147239950395218, 1.3147024688332192, 1.314768233430474, 1.314555247262533, 1.3150550374329735, 1.3140255927608095, 1.3133620229688627, 1.3131491465633478, 1.3138482800256894, 1.3131877124417561, 1.3130994862485181, 1.3123339921529873, 1.3130585375863089, 1.3125152029494325, 1.312731179089252, 1.3117394498201422, 1.3112066262288857, 1.3110233092769201, 1.3103676826732544, 1.3102559612824634, 1.310559813440449, 1.3106116548611486, 1.3100468698175753, 1.3091123541025589, 1.3087585021694077, 1.308457458548992, 1.3081725679581893, 1.3079413153524169, 1.307949653657179, 1.3080892680989102, 1.307667532881982, 1.3073520810296824, 1.3086532083975477, 1.3096600984003917, 1.3094690694124678, 1.3098831745407098, 1.3112107770256023, 1.3114699807705994, 1.3113239183868075, 1.311680032460092, 1.3122858093575385, 1.3122102454686355, 1.313057528186944, 1.3134073278756677, 1.3147886833251368, 1.3136230035561751, 1.3136007056450811, 1.313112564685422, 1.313031158845492, 1.313443468078732, 1.3143202402645526, 1.3144188495885116, 1.3139434527573821, 1.3133703094780753, 1.3150781815213082, 1.3145266515139549, 1.3141430986021285, 1.3138409244986797, 1.3134259342674883, 1.3134318519036694, 1.3133164929969274, 1.3143356148407481, 1.3144686146916507, 1.3134441357394284, 1.313320230659256, 1.3138021338548453, 1.313851024022443, 1.3145369083194396, 1.3144221216004126, 1.314757002243987, 1.3147554415770437, 1.3146178537778719, 1.3151710345071321, 1.3158572969395739, 1.3155234899142974, 1.3154568588364455, 1.3156199925326928, 1.3149772809608204, 1.3157407632342117, 1.3155726325553183, 1.3152072935159165, 1.3144517663931727, 1.3156675207880761, 1.315991374088788, 1.315446631018894, 1.316251634535524, 1.3174245106746538, 1.317124983871865, 1.316809690364422, 1.317636724215369, 1.3181675019868693, 1.3184520618372981, 1.3190470050539467, 1.3191863999877662, 1.3192306941899734, 1.3184206322746896, 1.3185375046038574, 1.3173318557200968, 1.317239966162204, 1.3170133336191192, 1.3160434447102831, 1.3157816197833954, 1.3151288950169322, 1.315535264649187, 1.3152414147854465, 1.3150326872570728, 1.315552409351563, 1.3160392464831585, 1.3158116145446277, 1.3158850382269593, 1.3163348332551763, 1.315853460024249, 1.3154209274655548, 1.3161637089320952, 1.3159276064592722, 1.316001580281363, 1.3157759954014465, 1.3160666458133368, 1.3153363682186705, 1.3149920012586578, 1.3151347302876042, 1.3144949746701655, 1.3152794671935542, 1.3156411912585493, 1.3169104509606377, 1.3165597981748491, 1.3182605380125474, 1.3178845420937586, 1.3187140325688194, 1.318760337881617, 1.3187326203632632, 1.3191826148881016, 1.3192908164669193, 1.3196236977369038, 1.3197479363656341, 1.3195151219901793, 1.3201522864418835, 1.319672123071324, 1.3201948270739932, 1.3195773694522326, 1.3195212703253882, 1.3197481042384271, 1.3196168607286713, 1.3195387476439582, 1.3195446548978962, 1.318335082445584, 1.3189307867595217, 1.3186127620759893, 1.3197419567930968, 1.319729896349672, 1.3200028024418855, 1.3197276315899755, 1.319685672521297, 1.3193184452549238, 1.3185277953943377, 1.3191437317476438, 1.3192740265329137, 1.3215360407431194, 1.3224928651745895, 1.3230345668011778, 1.3228049402129904, 1.3215558574516892, 1.3213225233170443, 1.3201990782061654, 1.3193114563804944, 1.3202662093765636, 1.3200560345233063, 1.3196393800007618, 1.3195520956197333, 1.3188992410393776, 1.3186100835032208, 1.3181534614537442, 1.3174550545787467, 1.3180399010845356, 1.3179807333001756, 1.3188062788153552, 1.3192327966983592, 1.3206098775542772, 1.3203461378212797, 1.3202289692903255, 1.320552731771002, 1.3193998496832537, 1.319475523690064, 1.3188285229669985, 1.319653971841304, 1.3196824187816354, 1.3193122261648922, 1.3202912745629403, 1.3202994673956383, 1.320636129875304, 1.320485931052651, 1.3192305812434078, 1.318497328321446, 1.3183238711084309, 1.3191746754565759, 1.319658645219783, 1.3196941332868757, 1.3196401283538768, 1.3192340313454278, 1.3186863994329205, 1.318014023353315, 1.317886078890903, 1.317858200726591, 1.31897765209717, 1.319094695075611, 1.3200196462927831, 1.3205221417303805, 1.321327020922413, 1.3219746448908016, 1.3225419857759153, 1.3217162342803073, 1.3213831311331472, 1.321909447498866, 1.321924418473811, 1.3215906379646503, 1.3219249680152878, 1.3221378131990231, 1.3218984750125253, 1.3214692750607997, 1.3216014792888708, 1.3216460265059506, 1.3214956844796408, 1.3215036392097552, 1.3211018842868139, 1.3208076373119235, 1.3200714855818856, 1.3200801152715278, 1.3197912570993144, 1.3200799742701599, 1.3192088781502709, 1.3198405372846163, 1.3196149730037918, 1.3204756342712867, 1.3196949757106227, 1.320394620943589, 1.320866559118239, 1.3206951676999585, 1.3211856180324226, 1.3213748956599054, 1.3206657886167399, 1.3207218858259275, 1.321329189518256, 1.3219590352929749, 1.3213611394576472, 1.3213683807994876, 1.3198173908044013, 1.3199838573163452, 1.3208682010038502, 1.3211536577809708]\n",
            "h_samples:  [69.69474283120273, 70.39008844018988, 69.60867983862083, 70.98136255627887, 70.37734075231843, 70.05683596847106, 70.45977326632782, 70.39991649501198, 70.10007642568907, 70.33139238784507, 70.62662314268546, 70.7023518125751, 70.19641097106579, 70.28893150642232, 69.69869164050881, 70.2153169232778, 68.89907044727333, 68.61623014152268, 68.63747800557013, 69.513273238498, 70.11339038520357, 69.43641827964879, 69.95089669084847, 69.63201801762528, 68.6220618969527, 70.72918615212448, 67.67670407504023, 69.70152610675412, 68.95328916521505, 70.2949068597464, 70.62585364492006, 70.34555033742971, 71.46064207867013, 70.62062825884746, 70.84585391556769, 70.22143048257506, 70.30225381767792, 70.18949300176166, 70.08402795568576, 70.63652870613423, 70.39141697746507, 70.09676651200957, 69.79674587345093, 69.73698809499876, 69.76399736655543, 70.15819642057258, 69.93889529414966, 70.25826072171533, 70.06200238392252, 70.21759924275958, 70.26599435340634, 70.23216607538022, 70.26908001579982, 70.13539146106068, 69.97025532383667, 70.03163075979134, 69.88536415257163, 69.90165445304683, 69.81620905441015, 69.71854540846206, 69.68622762470804, 69.92267203208173, 69.95171458843518, 70.0391080381386, 70.07628202520785, 69.89871943870912, 69.92881189259356, 69.94458374788127, 69.78065046624913, 70.11424406740123, 70.17533163621388, 70.40585658454135, 70.43899451969229, 70.62504429344024, 70.84454015145388, 71.05104961147838, 71.16679462689547, 71.44657403380445, 70.86476980498777, 69.76964072115376, 69.47217636783958, 69.70347637857185, 69.387040443977, 70.66826349096462, 70.80005187082894, 70.22851548650073, 70.52906433326817, 69.65482849243814, 70.19126449851731, 70.39815327487102, 68.56161717083812, 70.58025107291166, 70.62036073884141, 70.87357387111224, 70.01479658107088, 69.35641310056003, 69.57021788667014, 70.00778509296143, 70.77089015471121, 70.7854996468647, 70.93399919175968, 70.08929342785225, 69.93025099164043, 69.08958741088608, 69.24601636668714, 69.22375219907869, 69.03866557171659, 69.14745647862313, 69.80068006834794, 70.33270742118826, 70.56417121348238, 70.64997894305465, 70.68118171803145, 70.85922118655583, 71.0800757567646, 70.49521144049046, 70.75606711191149, 70.34075467130091, 69.9259836971834, 69.08666649004046, 69.63821389904778, 68.61121650266548, 68.40074949840648, 68.29512511124385, 69.36785613322597, 69.42107258187542, 70.62686872933446, 69.63140697319828, 69.7045357522673, 69.53365454806978, 69.22479372929307, 69.53403199673899, 69.1471942468285, 69.11744451799038, 69.96854305301335, 69.99226227519719, 70.29830720833073, 70.00349599673766, 70.26174650072659, 69.63394695893541, 69.95541182462671, 69.76277951150803, 69.92317204742001, 70.05227779050607, 69.43577803667277, 69.78699656051718, 69.94613344248033, 69.95106590576505, 69.77167660045136, 69.8649812367818, 70.30966797964183, 70.19294656072134, 70.14512457495486, 70.81748085916769, 70.55511653849794, 70.80318711481729, 70.64862368498561, 70.28097937020699, 70.29018237293702, 70.0533306716195, 70.0208448802099, 69.83431728770769, 69.86209819061953, 69.59947863517989, 69.65662382361133, 69.20642437601694, 68.79420397265484, 68.21844104044808, 68.63478982588211, 69.529112161117, 69.70080659848061, 70.7774524817512, 70.29250711302335, 70.93224327251787, 70.47193436095726, 70.30365644223957, 69.96335075784303, 70.56249778520872, 70.59852704008227, 70.63113028930749, 70.21407263153279, 70.03049688108025, 69.92218172504073, 70.37599850151477, 70.2829868065831, 70.40296040434436, 71.33796473458936, 71.14850658639303, 71.13851364476997, 71.00425802573382, 70.47374055365208, 70.10032715437879, 70.13319319123293, 69.51270920339192, 69.79416298387724, 69.48597346843066, 68.83945347231638, 69.49664418710978, 69.39313835234547, 69.01959350162961, 69.55963762022452, 68.95919210605179, 69.37144644056112, 68.69200893765955, 68.21006913977509, 68.42390332061125, 69.11037728916999, 68.74575601518694, 69.55785545030173, 69.44965677360648, 69.17961418152944, 69.10075706550803, 69.26362386970416, 69.66205594231302, 70.64110149686299, 70.28967433068044, 70.83852654067239, 70.35454057590746, 70.33691930102388, 70.17490348450276, 69.291166396448, 70.25995093184552, 68.75718824312244, 70.5697451930927, 70.4387782970142, 68.89642414431526, 67.19680496581792, 70.1272271079853, 69.38594226379122, 71.72215097417127, 70.09466574630495, 69.21053397589262, 70.712111141658, 68.30873890893835, 69.80876513892308, 69.52944857843767, 69.514760707896, 70.4376951804379, 70.86929212416146, 70.50508027814665, 69.70431489891934, 69.36145111243052, 70.8005324745102, 72.64008589286337, 71.08008962374583, 71.65295858906873, 71.80131721380593, 71.71288049103129, 70.65694925125013, 70.40892616934926, 70.92733747940437, 70.27906165481367, 70.29903308765358, 70.43934566785133, 71.0591723336484, 70.90215075307336, 70.60644684136034, 70.30216978907055, 69.91408718934204, 69.89079600984722, 69.36271683814287, 69.81241427350284, 69.75555009674933, 69.82759753606815, 69.84248827065706, 70.14529805714068, 70.29304952816173, 69.60568670218123, 69.24528209455487, 69.0690053475604, 68.82523892545726, 69.48655469140648, 69.94589691311131, 70.01420984824718, 69.52765441615017, 69.22518049469865, 69.74112265230491, 70.11716332998186, 69.39887497229367, 69.1827534065235, 69.12314936624847, 68.99188808652673, 69.06746503185643, 69.3789819648924, 69.60808199083336, 69.68417573594208, 69.48149205922115, 69.76573699646201, 69.36315197432698, 69.7476302733528, 69.48632346309566, 69.53884237904515, 70.03282152537348, 69.68872729223968, 69.70980451717877, 69.39163924285, 68.8466048352781, 68.79423599887133, 69.02401339745646, 69.1891515965499, 69.32499585345705, 69.0608294078272, 69.1111667165486, 68.97987821528484, 69.07566034767883, 69.799827678336, 69.16783046669731, 69.50854928275784, 68.97036437377182, 68.7069417952276, 68.53733326416436, 68.62151915019042, 68.6354077992783, 68.35891538723806, 69.07976031123926, 69.60319894590533, 69.50851917544199, 69.99498589683476, 70.57444689585336, 70.37179030443555, 70.44940874933587, 70.38810429299254, 70.67860074348704, 70.60151118908269, 71.10862554278778, 70.73845975645992, 71.11544794663126, 70.93878829118975, 70.55187469006798, 70.10002904221639, 70.03858813091126, 70.06237542633008, 70.01545808995867, 70.0261713184662, 70.30788959064557, 70.3005044313474, 69.79294731290382, 70.08324977822083, 70.27366763665532, 69.49841099037968, 69.26956005931751, 68.78593580580667, 68.71962783977688, 68.63332367116608, 68.6512448804778, 68.76623771072018, 69.11350554897743, 68.81151020973826, 68.43824106602486, 68.39699953317384, 68.65368808326134, 69.7053329931168, 69.24509701424833, 69.07755928573525, 69.42835910943283, 69.34583394790378, 69.78230031002023, 69.76872141640185, 69.62768897293724, 70.01863639787771, 69.83382306836839, 69.43695249630706, 69.04728304981923, 69.09090507287551, 68.74071613794072, 68.65080786714434, 68.21381356505479, 68.10593654919131, 68.2855171951166, 68.31831866937694, 68.60874881672859, 68.17928146574594, 68.42437099943761, 68.49928741137927, 68.41093240596724, 68.96415177308768, 68.85827527774909, 69.10153494391375, 70.32372157895556, 70.33153743252822, 69.88230842998023, 69.35803419361811, 69.63985399418657, 69.50778604980478, 69.31365022400948, 69.28898119116742, 68.85705451187876, 68.3284000216663, 68.7418669663881, 68.94735402634852, 68.60280132149663, 69.10661594639893, 69.14162979442052, 69.12849260178864, 69.58211807853428, 69.5066188154055, 70.05796922591287, 69.72115609602024, 69.37558271592127, 69.74908627341172, 70.6362525984, 70.37277809903128, 70.52789742208195, 70.30248182304702, 70.3168716779329, 70.62106930394813, 70.17334847152789, 69.67168080075565, 69.82069067359518, 69.94839321307126, 69.56641430973336, 69.97962569490373, 70.75592279032583, 70.15725492518202, 69.73193468887389, 70.24989086775001, 69.95848794807819, 69.93075096275435, 70.08442603307763, 70.38394778062428, 70.47068839632688, 70.97088916785613, 70.60999633141988, 70.76430668750244, 70.69599810823847, 70.41994262879335, 70.33687171427674, 70.44880729362514, 69.78203164197951, 70.03045199906386, 70.29870580818198, 69.9300889599751, 69.81094940498635, 69.7214905304548, 69.65072728015481, 69.98213697068456, 69.6568001679452, 69.18130683588113, 69.42603436972729, 69.3745777511164, 69.15334082424455, 69.28184929369932, 69.30139128962354, 69.57690595160149, 69.93017702412733, 69.61603226505055, 69.40931098090937, 69.27894502642985, 69.2607457717785, 68.91122900160836, 69.43766145723568, 69.72273186113831, 70.51760553233669, 70.59803901754192, 70.57696493494319, 70.10331455032528, 70.33515840455745, 70.33483249702844, 70.77250483059414, 70.33007614320712, 70.15966350978047, 69.90657729812033, 69.34916844509797, 69.35289365729896, 69.21595036274203, 69.57158375343832, 69.48330587246338, 69.33351445696438, 69.45391149057008, 69.10916250248185, 69.41368664683286, 69.27162099800539, 69.66862436406159, 69.8742093881414, 70.13623937141924, 70.3588246883493, 69.85787916911003, 69.75825602404791, 70.1020333916388, 70.91175407064758, 71.04806574467929, 70.78902245345184, 70.88562141286933, 70.69834804291308, 70.86214285900128, 71.06993925781684, 70.77350001617106, 70.58888935235048, 70.4218772155127, 70.45358226578404, 69.82230021239144, 69.38426739822107, 69.17160538878667, 69.65589656764465, 70.09743204906039, 70.35574792499159, 70.07104151476348, 69.8621902500415, 70.07170980603843, 69.76767160216704, 69.84992579488551, 69.81214867519462, 70.05206353411621, 69.90182770247054, 69.5896438957471, 69.90523031600667, 69.96716419112053, 69.84150537532607, 70.80202829620663, 68.7100557209044, 68.85896794996486, 68.07542748473392, 69.80135102050069, 70.78603021368984, 68.22785364240214, 71.33318770608709, 70.36272611378092, 69.95262959011352, 70.49245319971322, 71.2421215229387, 70.06790994620732, 69.13623320112859, 68.56400542488068, 70.41602508686846, 71.96331568453522, 70.156363666176, 70.41647869760456, 69.2058761685387, 71.29354716650992, 70.51982761531626, 69.17364093522492, 68.69376186762642, 69.43671279219815, 69.16954306174173, 70.77424911030724, 68.83132693637522, 70.77080542210705, 70.40577316173298, 71.74316070783144, 68.05451731825217, 70.5037528955522, 70.37068110899233, 70.84638520640283, 71.03863957973134, 69.12272188360717, 70.75606160556981, 71.36306109475476, 68.26409923730783, 69.7045022910563, 70.0217637788718, 70.61168024514711, 68.00602558418528, 70.1206234358241, 69.98639134525405, 70.70839087638305, 69.83267064207958, 69.62052155925943, 69.58449622909949, 69.3484818643317, 70.05405303693834, 71.3216238350111, 70.09583355724462, 68.9714056198389, 69.16106119502889, 70.52218515493772, 69.2596967543897, 68.43478789970295, 70.54581600137274, 69.87259631525818, 70.52169925246135, 71.14802570322112, 70.209756591523, 70.3397590761712, 71.27591656125914, 70.77786997071941, 69.67601035207714, 71.18291753088418, 71.1118278367254, 71.58092944361702, 69.91226616735379, 70.10489843987355, 70.37131173452188, 71.56655503937793, 71.7652465232944, 70.48188303424654, 69.22787307480802, 70.40009409028497, 70.71769729171628, 70.44122773603841, 71.12700775948186, 70.8326444379906, 69.44063715450854, 70.66438727900504, 70.65654034468201, 70.3336561592099, 69.41041052988597, 70.35302397783684, 69.59383280832219, 70.9575534518601, 70.1058426758604, 68.98626755222699, 69.217181633585, 70.40403230953112, 69.3910217193207, 70.44092496828551, 69.27402885037597, 69.65635571760482, 69.07416887793089, 70.31689167616219, 69.24473074963517, 68.24510099805693, 69.36362724388927, 69.1229115664664, 69.72398438377253, 69.5322742659188, 68.70926639207994, 69.91085931396749, 69.79426818214321, 68.71958588852348, 69.7769482446405, 69.7082874089827, 69.90745411433275, 71.18470875191397, 70.47076659964948, 71.2152052049597, 69.24675795334488, 68.29453762638805, 68.07432715593143, 68.83315114370538, 68.56063836624394, 69.43783130323006, 70.18872362609275, 69.24899461643929, 69.33974063896407, 69.26822916388677, 70.3574423897514, 71.56970140509026, 69.78353949842975, 69.96622384836714, 69.84479482902015, 70.64517580634234, 71.99466445112739, 71.34508940838579, 70.52028186216994, 70.62913323377242, 70.36391740263144, 68.84682722588525, 70.33396397376244, 70.10155596421839, 69.84797911762236, 71.42824907470421, 69.78254033167376, 69.3293499526782, 70.05867869499764, 69.67827413721294, 70.66892850100734, 70.20003222630167, 69.5138107899068, 68.99445287491247, 69.63636748356554, 69.17281806796193, 69.18184368556437, 69.19927397751114, 69.47591911097481, 70.72153591348952, 70.68836165141083, 69.23424418547918, 70.05773110609701, 70.81102890286712, 70.85899581764922, 71.18554213472319, 69.85166096372139, 68.86046861044848, 67.57795490864893, 66.91676029920993, 68.44710846461767, 69.33908086411988, 69.30800921334041, 69.4241119433271, 70.8080288611199, 70.15401589579272, 70.15537978540715, 70.82723666002255, 70.40292095785442, 70.15523134060957, 70.63246002749317, 70.71767660210536, 71.2508561314398, 71.08869060192322, 70.20739466357654, 70.29791104467574, 69.24822248487034, 71.1728925004533, 70.2409710366671, 67.94063398569807, 68.12559141399011, 69.18267156583016, 70.66270602923728, 70.51460957190986, 69.91990623178586, 70.26127617858629, 70.51280356961999, 70.69850907382587, 69.44815174753998, 68.2628246175348, 68.83846462559883, 69.49873134103247, 70.58009164477888, 70.01176573169843, 69.60686908051554, 69.46786307281683, 70.01965212647102, 69.44258883651325, 68.6839993837926, 69.34094229846171, 69.1281493712131, 68.8059782049821, 69.30460253187717, 69.87341115715435, 69.41302271421347, 69.73320517708312, 70.17527172153827, 68.58753363841292, 70.32313503857925, 70.63449852679857, 71.21209671906296, 69.98174363662352, 69.70716205325046, 70.08390085486663, 70.17201312380578, 68.46850987818047, 69.11683283682535, 70.15345663076772, 69.62644692281476, 71.08434365058578, 69.89482042910079, 69.69404847081005, 70.00920635877192, 69.86295905309346, 69.04903354522902, 69.68746795318687, 71.41147015128986, 69.78586577779188, 69.3992327304157, 69.14593057067331, 69.90289377778699, 70.06122326867667, 70.02630330663163, 71.4616694130772, 69.7356835207797, 67.57040476270167, 69.64799396298132, 71.51132958081969, 69.90841041161657, 70.03484232722445, 70.15163616224557, 71.25152174959311, 70.25721376473757, 71.33217987933484, 70.19133275597684, 69.79072872548392, 70.46500723310129, 69.91710463952036, 68.76575572895928, 69.22844696579254, 69.39331877940454, 68.54181398514638, 68.87240392736503, 69.19561022342778, 68.64442919424128, 69.60264457033247, 68.79194989348832, 69.41760496842252, 69.59239807103926, 69.2414866159041, 68.90504124401929, 69.97439834494844, 69.75445694902267, 70.58337395859608, 69.53676472632337, 71.31219983778092, 70.00643723288805, 71.02730419273146, 70.92783451622708, 70.85536862726845, 70.86386339770824, 68.73898700648557, 67.93366100200248, 69.19548564101798, 70.39862823283569, 70.5417792659902, 70.19467225950358, 70.69567081895461, 70.5871760982335, 70.30703000497235, 68.62511891777966, 70.29249457056056, 70.90110379221066, 71.25450300828078, 70.17726863786372, 70.00953779418397, 70.96365025735976, 70.81872791657362, 69.97473264766371, 70.49406612970883, 69.48475926851408, 70.42254332035958, 69.33596985652437, 68.56284780293208, 68.93513665572594, 69.44858227697236, 71.12893020610657, 70.76992999223722, 70.01611039001168, 70.72633299038633, 70.05729389392056, 69.2114680173164, 69.77659438965365, 70.19972873401355, 69.45080967486173, 69.62501448519345, 70.60634485389676, 71.02020185034695, 69.8577537910918, 69.36098740939931, 69.84604672832187, 69.88648903282515, 69.65431847670082, 70.21282571636469, 71.26154821228782, 71.59197803682585, 71.17293313001201, 71.93817259420682, 71.03401514506912, 69.89333010857642, 69.56830108930019, 71.289548376781, 70.60792407494671, 70.02505007848846, 70.78692898181916, 70.70046566015255, 70.59635627303305, 71.11777417864191, 70.90344784125234, 70.50675517774022, 69.510134802549, 69.72153093048796, 69.99679088162353, 68.95460721077976, 68.86110612549106, 70.03978620888955, 69.16151045223208, 70.51916442972394, 69.92095087164415, 68.8531254226613, 70.2434794114603, 70.41179356269217, 70.77046892532572, 70.22397246943662, 70.81565316489727, 71.35931303341383, 70.97401545172647, 70.71941699692863, 70.74868664717003, 70.6732124404935, 69.39305352891796, 70.01741984877158, 70.89660926958827, 69.62034384556455, 68.9702102577422, 71.62831930973762, 71.62700680803022, 70.72023488419714, 69.66487217633535, 70.4906617793428, 69.50556470792915, 69.67603294905797, 68.57396963317423, 70.36472957276372, 69.2782770727365, 71.38024488999537, 70.58206418548382, 69.80684124644586, 70.03177138316035, 69.78227878389322, 70.28480947061283, 69.95665867989143, 69.72707705615166, 70.35559983806527, 70.6539395968971, 70.44951364762174, 69.53473239041708, 70.60770728027035, 71.37908883907939, 70.41387269507032, 70.94283370957528, 70.07648476092382, 69.78693396462637, 69.19019847779569, 71.19454691077996, 71.68671111181746, 70.19977258166055, 69.57044186333911, 69.80734668042747, 69.1112307550563, 70.06433163891039, 69.2594505407682, 69.64308699183381, 69.10166906325483, 70.31693720373073, 70.95506523508661, 71.64347488298252, 70.24898549687782, 70.86418003716884, 69.92292225563554, 71.59199239035895, 71.32481561617536, 71.32353183067642, 70.92002827393051, 70.21953620614627, 69.92438134800376, 70.15683502798584, 69.89808238636678, 69.57425720899163, 69.50686469216429, 69.90168779503492, 70.43362305647484, 68.86507276482705, 68.80173062079992, 68.99123855842777, 67.53905383531175, 68.66551604347883, 70.33189966069283, 68.6480455570805, 69.58282835085025, 70.87757787913739, 71.79408042743212, 71.7148417757353, 70.36640830609142, 70.69763009716364, 71.74507225980558, 70.74906896911338, 70.19004305506047, 70.07270337203937, 70.20585993829995, 69.59991511438403, 70.27007511168655, 70.73793126931525, 70.37486156744805, 70.07285073190009, 70.18421084984604, 70.44820718517751, 70.4193067602036, 69.85922779997234, 69.18031969150255, 69.45121239682733, 70.34289754374626, 68.9582152409128, 71.05271960711516, 69.24385407422129, 69.45731389009522, 68.62665913126433, 69.7347819088725, 70.33526426463762, 70.61823309382042, 70.48590510383356, 71.15928352607156, 70.11032002592131, 71.06123724535209, 70.55169560523684, 70.32766807775178, 70.67836449666929, 70.4251471463482, 70.64791869117448, 70.39972713782265, 70.93482007938954, 69.55376594712915, 70.43385969876755, 69.99986958028174, 68.64532446830245, 69.28543340652885, 69.25779469052488, 69.58120667436876, 70.15534394454444, 69.02466808391321, 69.82460252108639, 69.68077075308831, 69.14492765430626, 70.59290532156034, 69.1463326799838, 70.12485990203743, 70.24463948865139, 69.75490248809668, 69.71110835453071, 70.96075060656024, 70.22296063417713, 69.76544538093314, 69.84069830633486, 69.97212839415586, 69.89202427390354, 71.13149245495555, 69.64394233455806, 69.3752730529394, 70.09192981718282, 70.1845212919578, 70.33103279502177, 71.51071081236917, 69.45863681282871, 69.33887512846573, 69.82898228391447, 68.90768162945842, 68.78757993684869, 67.75089280875298, 69.22122120858981, 69.23680401911697, 68.96192135667603, 69.13823725430201, 69.19469092548836, 70.01624151378196, 69.50578253460084, 69.45642353643146, 69.99696166597339, 69.71332157794305, 69.40610254837105, 70.11584684172101, 70.48809818476971, 70.90095239901522, 71.30542715174322, 69.26072518240069, 69.23195668156679, 69.486590079399, 69.10689112847109, 69.74114893874187, 69.56723469633332, 68.82134120779622, 70.21183239198206, 71.64864849621884, 70.45988401024093, 69.67243730840954, 69.80131359918333, 69.69656924146639, 69.65914277345344, 69.44828002287018, 68.8961393070415, 68.36162003939778, 69.41859366634218, 68.40443951820765, 69.50028101321085, 69.0095289064891, 70.03282815932542, 70.90593328942943, 70.43157957356273, 69.99215503208278, 70.66973702656166, 69.95326582187093, 68.57597264850922, 69.35496503097065, 69.34028456480762, 70.26612280043692, 71.04917701045355, 70.22333040916571, 70.09616882084094, 70.19042966980395, 70.90800333639865, 70.40176140528575, 69.67812791973185, 69.59094408740984, 70.1263915250937, 69.94940546291953, 70.2257271953214, 69.46867855638537, 69.50406609133232, 69.9284633638282, 69.94873258881161, 69.74363648374036, 69.988939935619, 69.37985874489428, 69.68477406903855, 69.7366723017603, 70.54832447681079, 71.71255258922355, 70.21516792506763, 71.06225884754127, 70.22542142890175, 71.4193493399828, 71.58358552183107, 70.42990534739758, 70.90582361770417, 69.42221005582813, 70.63062221160067, 70.67346207150754, 71.04937406963101, 70.23008009713146, 70.12024893559575, 69.4111130116771, 68.69620969876281, 69.03456004712763, 70.19295327715368, 70.09189906725109, 70.42187551991373, 69.18248394081226, 71.06609168606316, 69.99459847388577, 70.51694135468848, 70.63617667861497, 72.0957283532653, 70.47913482916717, 69.388873627174, 70.08423030646249, 71.0437460991304, 69.82908905685976, 71.80260053752032, 71.32932820649694, 71.77716949205872, 71.00422778498552, 70.54548469452726, 68.51751183583708, 68.85300253248245, 70.38292271236149, 69.37670700194204, 70.19756555705646, 70.8876967149109, 71.60376608379207, 70.07976528735323, 70.54024053522627, 71.29243639214056, 70.12676969261547, 70.27831403156284, 69.10889006691464, 69.08600000269988, 69.70878605815173, 69.58108172900576, 70.0153381972898, 70.12380155478328, 69.46399782671665, 70.50974990876612, 70.58289976794288, 69.44947386305877, 69.15461972989668, 70.51709298860287, 69.62880903050447, 70.1881071787406, 69.8721955826084, 71.23036350383182, 71.49841543411618, 70.44144539463514, 70.34992455749014, 72.70935576091044, 71.47181121861435, 70.68143826234666, 69.61339166318356, 69.39831038491194, 68.94148363544524, 67.7650001141501, 67.87130218986312, 70.6510817816769, 68.65876671172408, 69.780411760781, 69.93602859604782, 68.7984349841097, 68.74945308327035, 69.80156048307967, 69.7192928266734, 69.47062677895, 68.56078805648369, 69.26891347983833, 70.21924917833594, 69.55433143384425, 68.15435564464165, 69.28522812700545, 68.4066481807003, 69.49123410246013, 67.63068317190728, 69.56545277498408, 70.55872169754619, 69.6983178068239, 69.21863478845714, 70.5386581313885, 70.38323118975903, 68.7294019251586, 69.71045106533202, 69.00981657159808, 69.4813554542041, 69.43034091091316, 69.60608403617339, 67.792510532446, 68.45805380297067, 69.8926965121899, 70.25440654748712, 70.68249232679817, 70.60781746114453, 70.53973344941785, 70.39058612342448, 71.97542214251354, 69.24802565410295, 70.65719705222483, 70.51217006807228, 71.224853302203, 69.86586315361242, 70.58935778788509, 70.35176433130893, 70.46393778973324, 70.08937251618163, 71.11893629492663, 71.8719956109154, 71.70365751039635, 69.42389758301543, 70.45750799095515, 69.86997517148248, 69.5857562511763, 70.48148132463255, 69.63102791710173, 69.95485851351324, 69.947874517964, 71.83094929360705, 71.47276419218016, 70.8134474936897, 70.30604031561019, 70.0109877692889, 69.48724754524746, 69.91629812531157, 71.52484280464806, 70.93920321029869, 70.60718260119177, 71.59856183610694, 69.18378489234247, 70.12959477974259, 69.57257142297163, 71.17106219109141, 70.24617365952452, 69.35000681870197, 69.26809144236663, 69.0817138520001, 69.095799434249, 69.00154177990461, 70.18013347957523, 70.92395647925424, 69.82172792933723, 68.87664226507344, 69.66635651729027, 69.14193684323263, 70.19193692482105, 71.75751180135649, 70.19096722533716, 69.48450353763234, 69.08445681455431, 70.12243445362024, 70.22007428389072, 68.51960633488747, 67.93071139825254, 69.52443009527023, 70.51523103489522, 71.09723082652567, 70.1730590343783, 70.0227458304326, 69.81352977994153, 68.08329366325607, 69.53314935071006, 70.85133199033412, 71.30113649302147, 69.77011016895338, 69.2783274973712, 68.90828485783125, 68.86443381198475, 69.02695216163005, 69.35552572047456, 71.03857860536631, 70.85879097612705, 71.30092928253246, 70.86171176910706, 70.52963593328842, 68.59866981021332, 69.03664653847679, 68.12814099214621, 68.81482914436124, 69.27142000816607, 69.87138078784982, 67.98304740005366, 68.94431166346062, 68.13962545062991, 69.48692250535565, 71.07872105523865, 71.08398942713653, 70.72146568675461, 71.82010166723559, 69.82391804925685, 69.28498192163879, 70.93750865521754, 69.41380760544028, 68.85894870933394, 68.32996392570577, 69.06774296634505, 70.02026553437251, 70.8833139313237, 71.08499319893808, 71.5498101114276, 71.72271893459404, 69.9932308130564, 69.40880977295477, 70.34420156032564, 69.82679241224548, 69.97237247556416, 70.15986637550931, 70.05483192837255, 69.2771967426569, 69.44408232131265, 69.11082850807881, 71.10672208015744, 70.28862715638284, 70.84803146203647, 70.00158929837936, 68.88013865622905, 68.52382210607868, 68.85945804375645, 70.08114684003208, 70.99450573561337, 71.66751010354388, 70.8403993715182, 69.21420230102318, 69.83053582410018, 69.38585742382537, 69.66135559168791, 70.2962444484061, 70.17303470326763, 69.40168560013215, 70.32939628718513, 70.27057142568887, 69.50617363393077, 70.2472278367929, 68.9936907802624, 69.48077320270846, 70.21388623306147, 70.37641562057748, 69.16785015196297, 70.43063710418828, 70.06928343790747, 68.49809186560391, 69.71410644816487, 69.35612629110679, 70.66203288780262, 72.51437085549155, 73.04361924550125, 71.44159131896244, 70.98804666252259, 71.04985316006606, 71.1449455418272, 69.71876183610021, 69.88150265855799, 71.19230602809088, 69.85221621762628, 71.3603691319235, 71.5205740106329, 70.34785178509675, 70.5477030231052, 70.38041160811616, 70.35186181102073, 69.74592853432159, 70.5100330601449, 71.19938747151234, 72.9657481110794, 69.25981170882916, 70.11963405639601, 69.99312726907947, 69.59980006848147, 69.67402067922292, 68.86521345772775, 68.68432539100844, 70.84675350552808, 70.2674748630307, 68.83511139338546, 69.84294003706366, 70.45792480895628, 69.70427709167944, 68.71322313139933, 70.02245039068924, 70.15153155198828, 69.74035590873399, 69.52198365926273, 68.64134304024239, 68.31017024329486, 68.47105833200966, 69.11074781920671, 70.5988670440491, 69.42135136506792, 70.63921776287863, 70.41878243921737, 69.98320513273673, 70.36258341782552, 69.52204316048201, 69.88562350407713, 69.71861022673869, 69.40389150199994, 70.65588227739212, 70.22897205162172, 69.77998512352556, 71.59275347460009, 72.15825751442189, 69.82193701968136, 69.7732985048749, 70.92704224090564, 69.93009370595558, 70.4056343473426, 69.47443217902047, 70.74259435552487, 69.01059458818231, 70.13019390991892, 70.3988688343037, 69.80804859544185, 69.99261565074093, 70.49987908612292, 70.13248434830389, 70.24100698810429, 70.66170435919233, 69.78706752548074, 71.27753214550218, 72.06504995554081, 70.42971247229494, 71.02899383114988, 70.90190302647268, 70.14986170771874, 70.62874689965123, 71.23562099176202, 71.31015565953356, 70.43320327277974, 69.32994784868005, 70.06621466942764, 70.61053456157109, 69.87552338973099, 70.08303878663361, 71.66589934794429, 71.33201557956784, 70.77147610462175, 70.2909376811394, 70.01821497186481, 71.84178333770794, 69.85833657524341, 70.4310457325512, 70.65417640794121, 69.84930260064509, 68.95555062969076, 70.64132268353269, 71.0152142811065, 69.89498135754397, 69.97892788985358, 69.64996544972469, 70.77985113930312, 70.57117458238685, 70.19281991714591, 70.07549471980298, 70.58601986806555, 71.62787691786981, 71.16890442166249, 70.39881221900258, 69.65634699036892, 70.16291135323065, 69.8363228869947, 71.46696528019764, 70.61315107101305, 70.03533442747363, 69.15058971021172, 72.57673503172872, 71.05677288149406, 71.08024493929827, 71.01964295472915, 68.66236508149713, 70.5632432556981, 67.75987206779367, 70.50861564942296, 71.07920596788972, 70.92274425026322, 70.24593590580994, 69.49201340524672, 71.2209074807666, 71.23640532329617, 70.52066915492226, 71.71853389210892, 70.06158680495663, 70.13419888404844, 70.27364925259774, 70.55673342923694, 69.92516492952892, 70.88125199411469, 69.38860474788362, 69.86904011726514, 67.75853079688756, 69.35610806850919, 71.47010464530779, 71.56890141964503, 70.76430147090956, 70.01756302622863, 70.63853855955736, 68.9513033774155, 69.14411346483924, 67.85943388054909, 70.463650196282, 70.77269889393794, 71.55466893124688, 69.19586653194945, 69.10477861664184, 69.37525106037207, 68.39340613218167, 69.64196955099683, 69.6000623815723, 69.89050989093697, 69.80573920000865, 68.54364383713171, 68.46542574138779, 68.36346124056398, 69.28804166627752, 69.24373880970867, 70.50964006784187, 70.30715269373724, 70.54694087810954, 71.58562866921756, 69.75558568770329, 70.62846580063388, 70.12412695689194, 71.45484575223665, 71.0590300584334, 70.49398225271685, 69.73193336101703, 68.31341099966245, 69.19546389040778, 71.03480187222645, 68.53883052391434, 67.65828600838952, 71.7409060732153, 68.38466556084714, 70.18947209064999, 71.16776204505891, 69.52104951930315, 70.53025070664017, 70.3213968008592, 69.1865229013586, 71.59176540009709, 70.52103433862759, 70.67391880702874, 70.08924889903138, 68.82647152603984, 68.36703033748266, 70.59423233701938, 69.06391569363568, 69.78166154117189, 71.93102600740386, 69.66454930904109, 69.05658290066985, 69.6135361530839, 69.20957893776425, 70.41627183579605, 69.1380436830974, 69.96720587930184, 69.02216553221993, 69.93899143434002, 70.70144770922005, 72.08057113463089, 69.8813422238887, 66.58234729646743, 69.67683395729028, 70.45045368625708, 70.08590834012016, 70.13832883430905, 68.59497234582184, 69.81177908255857, 69.85887407801921, 70.68827976385028, 68.92833800591407, 70.92108924579483, 70.73345556243221, 68.74918302781346, 69.74609558395697, 69.01285355933337, 70.42652079161675, 68.46481632143922, 67.85569973197838, 71.18448174769561, 70.540586999393, 69.50588270133932, 68.6932298537323, 71.35607291807611, 72.09289527176017, 70.27036793009711, 70.1033094085809, 70.20028885379293, 69.96137866815988, 69.18473161726483, 71.93383622333775, 69.91148801064175, 69.2671343149061, 69.53045058826224, 69.52703832297581, 68.47345213407041, 69.58994146540427, 70.57390481911182, 68.83797950141324, 70.22312934341599, 70.49687050210481, 72.10064102302162, 69.41863791359877, 71.35993785331166, 69.41742035029225, 69.90030031896012, 70.24879455479545, 70.19780575457149, 69.7140714627308, 69.71340201172251, 68.57446781038021, 70.27217829885183, 71.4427474437862, 71.36413311676223, 70.70846857936553, 70.04541850169831, 68.64997125680571, 69.42192391508883, 69.99382040626357, 68.69540563792215, 70.5906027428467, 71.17115410429363, 70.10735641154179, 70.75311356447959, 70.87257907736748, 68.65295797394035, 70.08506867812534, 69.00482635350019, 69.07290063215324, 71.30152175824695, 70.51300248015494, 70.38657236910745, 68.24170605920719, 70.7003965418322, 70.65113460197345, 71.29637215420912, 73.25187545580597, 70.24028291085091, 70.06964496384796, 72.07374039682462, 68.27876394955686, 70.56258922857685, 70.22563778661997, 69.4744521301854, 68.98784439166874, 70.99780893451091, 69.6231863495453, 69.17894203278657, 69.33742350639446, 69.06651452886534, 70.24869718411318, 70.2403791386008, 70.36879236340988, 71.51062361603714, 70.13491125849386, 68.90813887485274, 70.64224330236668, 69.82723607554112, 68.89660495866386, 70.09320486517012, 70.10131328781338, 69.92617146469395, 69.1705339855399, 69.80542733484326, 69.69717313668674, 70.8500112687407, 69.25621784786313, 70.29581572471908, 70.21083770713136, 70.76028602047235, 70.63131646361984, 70.6212442224184, 70.65879392803012, 70.60720220319199, 70.68194321167982, 70.59804502600082, 70.6170433996111, 70.69610766540313, 70.59718176645855, 70.6391780976935, 70.49851449065389, 70.54139902844815, 70.57884243171874, 70.5753715796311, 70.53603645365072, 70.5190163986594, 70.42865125032391, 70.46399258328219, 70.41431920112042, 70.4571691712256, 70.48833980576065, 70.50983965544205, 70.51175068033315, 70.54160601531973, 70.56297921325924, 70.44861067938803, 70.41427233285464, 70.39600342013341, 70.45592173776312, 70.29700711425939, 70.27132308028028, 70.32194013395289, 70.29629655759155, 70.36876519286751, 70.34937405569013, 70.39674797487166, 70.33039856473393, 70.29058566726015, 70.23969405236711, 70.36054358347603, 70.42132019586904, 70.44554904800505, 70.37169965889473, 70.38152582152149, 70.38879310153851, 70.40005561620863, 70.42203370031031, 70.37409712487461, 70.33246342298256, 70.22678956847473, 70.22811195183235, 70.35404774239551, 70.25868014361022, 70.23440135671459, 70.286693459262, 70.31119263580781, 70.18037683061966, 70.11875117249505, 70.1148208887213, 70.11026550772017, 70.09803409181261, 69.99056933529769, 69.96746078877815, 69.95703567882164, 69.90556647632943, 69.97110568430091, 69.95567806064861, 69.89597978712808, 69.88597756278737, 69.8743729919696, 69.89929253952617, 69.92998296553503, 69.90503396491354, 70.01464806338151, 70.08908346578788, 70.14741214105058, 70.15555996589812, 70.22808947642176, 70.22202823484777, 70.19331062658505, 70.14670012004024, 70.13800388487854, 70.10078527886016, 70.1075213485957, 70.08427966170976, 70.12132554818135, 70.13887674775285, 70.13246532887474, 70.14847660425589, 70.07567244038411, 70.21171955547675, 70.22545047831255, 70.21291956828148, 70.21387575633547, 70.20013965483348, 70.21002294740197, 70.21338280040374, 70.2934330857296, 70.22115890056016, 70.22474660277821, 70.23611397038827, 70.20164124539191, 70.21860054466484, 70.21912192001884, 70.23456153940148, 70.23523407705964, 70.21548906761268, 70.20461291633117, 70.22530437289005, 70.09837564656179, 70.07198669652425, 70.11639123678061, 70.22625241339988, 70.23199109976912, 70.24769612375238, 70.24147752089634, 70.15374689814769, 70.17198329793352, 70.30075007739124, 70.30628183519443, 70.32727722023822, 70.24688916700204, 70.25383890693888, 70.2779517495175, 70.36172790700114, 70.45377263637224, 70.47770238601962, 70.55915693846393, 70.4897270700156, 70.49912325374343, 70.63764750609354, 70.64282314565166, 70.59860052627776, 70.63036435098932, 70.60445303127221, 70.64584042004488, 70.68788228164735, 70.67765067491432, 70.58986231378584, 70.58306673748218, 70.65585827197027, 70.65992933407654, 70.65625468483425, 70.63124316109504, 70.56207396494196, 70.530916603989, 70.5245302375942, 70.48716944992582, 70.50413818549904, 70.56634930063936, 70.54857262825315, 70.53407262557535, 70.5359782607441, 70.47935096165759, 70.4188916246467, 70.4192178496806, 70.38109171807982, 70.29303604444495, 70.33411802663761, 70.3788422060269, 70.40571997275454, 70.38781142281131, 70.46113198928677, 70.47341032635357, 70.44459286148215, 70.43578908490727, 70.45389855506932, 70.36392309960443, 70.4420628967954, 70.38233006065275, 70.39089461511684, 70.3306391748018, 70.35295163420177, 70.36113561227067, 70.4701770430218, 70.48832521600244, 70.48314877601518, 70.3811014916764, 70.30169165553454, 70.30194436407719, 70.42018856539896, 70.34174250303475, 70.35078005145381, 70.36988740302716, 70.3055056202446, 70.35713906747192, 70.37454204373026, 70.38092903507558, 70.35279321235733, 70.42959684662912, 70.40741316101752, 70.36812148732399, 70.3067501963536, 70.26594089396308, 70.33693424175725, 70.34035305137844, 70.2776182489411, 70.2077193367121, 70.22429306368478, 70.29895109218641, 70.15438241324932, 70.27293045152474, 70.31198954154483, 70.26690966770435, 70.28307986873652, 70.41043700742269, 70.39295693948768, 70.42786240684669, 70.40860112307921, 70.43513704138357, 70.49791786093228, 70.47941268202781, 70.48765149896985, 70.48956736798982, 70.46335517937362, 70.44621024460146, 70.47132823580418, 70.38400582716547, 70.32990726498512, 70.30383362472351, 70.29789773962275, 70.36260292826238, 70.22368432335874, 70.27501129099483, 70.38633022687479, 70.35439150438447, 70.4152732754342, 70.46044564018028, 70.50486374718332, 70.57653077432462, 70.51451220273047, 70.58677529244943, 70.56175135127901, 70.46902523592914, 70.5488686929908, 70.57060722561198, 70.59199080659782, 70.58295346242251, 70.543480299713, 70.44799737431133, 70.47629079888303, 70.46955238189788, 70.45826335001712, 70.44474382679445, 70.51403349537907, 70.5645509673606, 70.57624974721746, 70.64417802213849, 70.7313915101621, 70.64877284660233, 70.73755314393587, 70.64220330511088, 70.61693372840111, 70.5881513544258, 70.58238621181209, 70.5135877990471, 70.57150828267524, 70.4754735098631, 70.47086647308221, 70.49868949397606, 70.45982351685981, 70.3075750153859, 70.29621688447322, 70.20151593690836, 70.26479411058722, 70.22367920456057, 70.17133368477656, 70.05550168651658, 70.03806990749024, 70.02201065102413, 70.04322073576878, 69.99714890632912, 69.97077736713676, 70.08470358946818, 70.11747017771582, 70.09523446628019, 70.12695907370524, 70.21044353218912, 70.24088466926993, 70.08919785483816, 70.08785227680615, 70.11474503550566, 70.1704913411003, 70.145858678384, 70.13940632927394, 70.14334617806114, 70.07002957490582, 70.0335065478254, 70.11523456953846, 69.98195458283475, 69.97500396784983, 69.92802930442896, 69.95968096238191, 70.02294573547665, 70.12163460098408, 70.0272268262291, 70.07861192301823, 70.01926007408322, 70.06949734540369, 70.09935264010592, 70.10056150966274, 70.15711336962285, 70.18124490145983, 70.21675802819887, 70.08799368828927, 70.15010023485887, 70.12295929478827, 70.14827432943538, 70.19112080400232, 70.21213772953128, 70.14895731909347, 70.11146294198474, 70.13615824216195, 70.1101286576472, 69.96938564283518, 69.91673355772879, 69.85679517357177, 69.8661292760856, 69.75693802301768, 69.69842515812881, 69.66272226946676, 69.62102329355199, 69.7570611487916, 69.83700401204375, 69.89962222754144, 69.81026942616336, 69.86432876653915, 69.82357109483223, 69.75354700192568, 69.7668311421008, 69.83833941568565, 69.77842464857298, 69.79898361389381, 69.78939370622057, 69.82821557070837, 69.8377373465943, 69.86925084518441, 69.8016966244253, 69.72821522208196, 69.74064626356544, 69.74316072538717, 69.69946519701233, 69.78387228570216, 69.78915971395152, 69.87497155382322, 69.90250339217158, 69.94030981729426, 69.97406541297697, 69.92284708341256, 69.97323184167061, 69.91913335067721, 69.90936955793619, 69.81136115457278, 69.81688692751628, 69.88361240067263, 69.87067834072701, 69.75942904550878, 69.90686753912219, 69.8595081371187, 69.83631941361818, 69.8425178373245, 69.81833662219124, 69.74754998911457, 69.71502137269263, 69.73294547903761, 69.74299204844883, 69.72170674491167, 69.69514917504482, 69.6809868573357, 69.77091111920058, 69.79366875803468, 69.77644556665763, 69.81851590613614, 69.71812917489994, 69.70951290444275, 69.7112229257337, 69.78237264386638, 69.7785250467398, 69.82816850830474, 69.83952545361917, 69.85832732593134, 69.79625415617288, 69.74564936134047, 69.71663544291341, 69.66196721855425, 69.6129533858716, 69.64101490608405, 69.61535934413769, 69.59621885243943, 69.57748377126356, 69.49350369046961, 69.53765240262008, 69.56089189876194, 69.55860226359447, 69.54974780950626, 69.57801872186316, 69.5262726882538, 69.52568076565504, 69.36163929394317, 69.4117547988, 69.46760200387587, 69.50696985268566, 69.41226019275584, 69.44558973085937, 69.38049781373539, 69.30651992056931, 69.24348694006906, 69.18051906409484, 69.15520259359562, 69.14770524658095, 69.11390656811608, 69.21075317811072, 69.17661114202113, 69.11979290682987, 69.08546219631722, 69.03106039325804, 68.93619504960431, 68.9312464118088, 68.91104682612745, 68.8448967680212, 68.86665388231876, 68.82526835134995, 68.79341476790076, 68.79514691452617, 68.86935245996602, 68.91586659948274, 68.822130609685, 68.8188821077678, 68.85169925974657, 68.79428997937951, 68.85759148670911, 68.86842727789671, 68.96253500846424, 69.04997434587712, 69.03664937824227, 69.05322758722991, 68.98720539690808, 68.97460016539232, 69.06633361285144, 68.96734760736173, 69.06044095529187, 68.98667801213183, 68.93753793271163, 68.90327785618182, 68.87832898714991, 68.96836261900322, 68.93591115246596, 68.95724255520146, 68.91379317347082, 68.76422786535744, 68.71427303438523, 68.79024490440109, 68.8011489766883, 68.80188870897841, 68.76395908100633, 68.74644767893618, 68.85925311045528, 68.86926663007402, 68.86010737107853, 68.84804946405445, 68.90991025355595, 68.89145704450607, 68.99507757240255, 68.96776095869443, 68.99742329928577, 69.03428512829585, 68.98440745832684, 69.0066983017086, 69.00688700933898, 68.98060771069956, 69.03257265415962, 68.91774436813517, 68.90488577508154, 68.9285979674726, 68.87589173261985, 68.9039729532539, 68.92078655063956, 68.95204807414419, 68.92665742421941, 68.94236658768205, 68.87489840484255, 68.91843865556196, 68.89669415104049, 69.00585336338025, 68.98476282577879, 68.98595101016753, 69.00471550751986, 69.05850825419958, 68.9837587034486, 68.96464732285861, 68.98226816326243, 68.89609455826523, 68.89885283104823, 68.86061241605456, 68.79785155167312, 68.84289863125007, 68.86432952764699, 68.86025793786867, 68.8164961665714, 68.82290884982194, 68.81187182962819, 68.85599452084816, 68.78639144540823, 68.69578152026392, 68.75300840289847, 68.7907110185332, 68.7875646561176, 68.73759237724943, 68.87386036660493, 68.87497078314132, 68.96602487693382, 69.02208792677811, 69.03749005684305, 69.04197335862098, 68.9876871261506, 69.03426135225878, 69.06721273951665, 69.12081713065027, 69.07396092158938, 69.06870756270258, 69.09367285902387, 69.06009096532428, 69.1061623389077, 69.05495502308301, 69.0607274449076, 68.98677872404365, 68.96479982843732, 68.86868778287194, 68.89333258513685, 68.97441059065503, 68.90629109134461, 68.82614468090512, 68.86619097760017, 68.8810244626746, 68.89029964704713, 68.9329231572272, 68.9580495225822, 68.88039363313233, 68.88392783670072, 68.87303921905631, 68.90066143673405, 68.86318940831026, 68.90373317741478, 68.96124647570717, 68.94568087322568, 68.92628222585037, 68.92749428706789, 68.97330714228795, 69.03688715607284, 69.0568524785551, 69.11102080184708, 68.933882935364, 68.95442727288257, 68.88885962553611, 68.89742055337884, 68.90741376990555, 68.87902872679513, 68.88853113397613, 68.869724959167, 68.80105729489925, 68.72774252941622, 68.8535534294149, 68.85510843108003, 68.970756770329, 68.99931873644809, 69.05051653011964, 68.99795606460737, 69.04081686460975, 68.97062670928558, 69.01858544228928, 68.88846306210023, 68.88333397300187, 68.96929851417538, 68.94268209514162, 68.97518645456188, 68.93102168224858, 68.99124346492917, 68.99704674351382, 68.972869195206, 68.96345400267874, 68.95522555387072, 68.96973127200987, 69.0484849022154, 69.05044850832847, 69.04918416070812, 69.07388570823015, 69.03605405064053, 68.98939141159255, 68.98393672475136, 68.9484112891507, 68.98074055893687, 69.01592140624246, 69.03095853124248, 69.04815097183098, 69.13155709527777, 69.15168806490105, 69.14840887893828, 69.22549416555007, 69.26228564286107, 69.22549945555434, 69.19081225787073, 69.16369891963458, 69.23227231866534, 69.26882768041578, 69.29254729216477, 69.31175199032772, 69.2267757270097, 69.18854316153717, 69.17752915074175, 69.1782718191901, 69.22715765073681, 69.16948582999754, 69.15714319946511, 69.10030014409736, 69.07748024415548, 69.1189024482189, 69.10307872368135, 69.15827969032735, 69.17581296155876, 69.14042907782635, 69.24146121074419, 69.28403827369114, 69.26618095514337, 69.31189862397761, 69.22361274308346, 69.22281247007824, 69.18970308201328, 69.22192358331232, 69.2484810007957, 69.23159144021338, 69.18713947032022, 69.18399414205919, 69.22792368549142, 69.14030826274251, 69.25272599032236, 69.39085929625806, 69.30542622397225, 69.35156923476747, 69.34760210020997, 69.41865059709404, 69.54283662713166, 69.62700289367157, 69.59234076498412, 69.61049958440339, 69.52635312162455, 69.63966192175934, 69.6302991291972, 69.59132217449518, 69.67644086991672, 69.66070469575789, 69.72353851518547, 69.78880525368767, 69.78169131248946, 69.80484992039048, 69.85686864686002, 69.8237409463528, 69.89004793144647, 69.81309631109308, 69.77945724419195, 69.89820086155505, 69.82414897284107, 69.82995448004424, 69.76147207331312, 69.76233010687977, 69.76657621440351, 69.86844187575836, 69.7670031328251, 69.65830671640997, 69.63455834961886, 69.57469017719109, 69.59955864602391, 69.57702446085369, 69.58863477966906, 69.65512579195327, 69.66469196548448, 69.69326726237813, 69.75526997383625, 69.7161349001816, 69.74401913672384, 69.80429135751623, 69.71771168803947, 69.6202226641804, 69.62867972973886, 69.67080935376374, 69.6731117118877, 69.72946797442414, 69.72903290210158, 69.6960766963244, 69.66230922839586, 69.64554042403071, 69.51883529709077, 69.48754909396, 69.4231652832096, 69.48907935251498, 69.51891604845434, 69.41524496847539, 69.40197970138011, 69.48065990458538, 69.4989184691027, 69.4708295688051, 69.39977016827838, 69.46274257925008, 69.55166075828637, 69.48805274630959, 69.44437874606929, 69.47398041969976, 69.49796105885854, 69.46991121432687, 69.45865133291369, 69.33798363569888, 69.32894418627393, 69.25278247046185, 69.16020475070331, 69.21030098256826, 69.30741785272741, 69.27877727698299, 69.35261422128946, 69.2943647769906, 69.20207711582717, 69.1253159099754, 69.13452631829311, 69.19371660598145, 69.09290591809523, 69.156096472318, 69.16175225558044, 69.31005742691491, 69.3024904561203, 69.34016909157032, 69.44118136729728, 69.41499514203277, 69.43938952017038, 69.50081778166498, 69.49922164327889, 69.46682422553828, 69.44030443560206, 69.41191170503036, 69.44323335542686, 69.4716030721498, 69.45231565764858, 69.62644427017791, 69.66294667115521, 69.77802541931382, 69.8291983058726, 69.8245447774972, 69.94813054283046, 69.99133320301385, 70.00527415690813, 70.09109778732874, 69.98217949348881, 69.92363026230706, 69.87438037054841, 69.7254057269126, 69.74708971067665, 69.73733938811922, 69.76050105179276, 69.79491303775457, 69.81438727746995, 69.6808673859277, 69.65897320437341, 69.64357331766517, 69.65247599593259, 69.63941830597653, 69.76696579419092, 69.84405022834424, 69.81564433019038, 69.76576422838379, 69.85814650392906, 69.90393367577933, 69.97303090045916, 70.00658002716072, 69.98113169158007, 69.8788723154888, 69.91586082671093, 69.90007278656563, 69.82290292774057, 69.82016398079939, 69.89148621807192, 69.92806238782137, 69.88324387265743, 69.95984073597587, 70.09852675190459, 70.09997193540313, 70.09491679425885, 70.11419713113128, 70.14013252764045, 70.15787134517112, 70.25102903220646, 70.2617386562826, 70.28299527781725, 70.25807741681527, 70.30231154270437, 70.31497004667544, 70.22553490699765, 70.16821057962711, 70.17369966034408, 70.16290508398623, 70.18104225086454, 70.08218480798003, 70.06714213921704, 70.08698946544033, 70.1025125613258, 70.14316152146593, 70.04772268991418, 70.0307681909054, 70.05325466349849, 70.04553849054695, 70.07838709227556, 70.06725018062298, 70.16461057336605, 70.17533555318678, 70.19852423006286, 70.28801366340967, 70.32859258593511, 70.29616069529544, 70.31792744941684, 70.37673826709764, 70.32770998004156, 70.36035555640382, 70.47090742493195, 70.47782978701801, 70.39527222087682, 70.4017022968717, 70.53687086751202, 70.52039304018564, 70.45668627195431, 70.46976346988073, 70.39202850548382, 70.41003550875384, 70.36226538810628, 70.35542873245127, 70.3503999260415, 70.38796850342992, 70.31250073402681, 70.26172303905479, 70.22507166237229, 70.31168010186336, 70.36546020023702, 70.40259256640508, 70.37851298306605, 70.38214529861614, 70.42256985456733, 70.49824321137237, 70.51404234708447, 70.67283698231195, 70.67409829291522, 70.6591384735391, 70.65272119371707, 70.65713058423036, 70.59270975100252, 70.5561656435195, 70.49695979581679, 70.5129373472808, 70.54672836107687, 70.53720749768337, 70.57455468302612, 70.63277120439146, 70.5754115229027, 70.58307312177361, 70.53661760111324, 70.51207502285443, 70.5106296935095, 70.5270593361122, 70.40542467690916, 70.27624006514885, 70.34372995920552, 70.30790066796048, 70.21033522730835, 70.132694776602, 70.06435171813273, 70.06999169527144, 70.09736884161711, 70.07396624623227, 70.07149402785447, 70.1966718987615, 70.12295152614728, 70.10380844573893, 70.0749219557183, 70.14175745103526, 70.14932517908765, 70.23347712166489, 70.19704962282407, 70.12481248308247, 70.23224544204041, 70.20989451234207, 70.18306501794405, 70.2426028191745, 70.25596336119067, 70.2848892613914, 70.18665345998109, 70.12835110614247, 70.10414967170776, 70.08156444943944, 70.03622827296839, 70.09330808437228, 70.14250206644084, 70.16635793528422, 70.1752072876196, 70.23324669075535, 70.18499546561677, 70.10458618706585, 70.04383621322704, 70.03666642040679, 69.96476652609607, 70.06825720883032, 70.05278885602772, 70.1178557288441, 70.17117520679162, 70.18464845427408, 70.23068972901933, 70.19017594642673, 70.17031894668614, 70.10204892905072, 70.02222320872367, 70.03656422045349, 70.00212438983714, 70.03705398832413, 70.13306429922517, 70.06296240824172, 70.17876033426388, 70.08164333673548, 70.10321209813, 70.047824539691, 70.04179084455524, 70.05639612443247, 70.04677396290484, 70.05930902870129, 70.07385849046854, 70.1621241479269, 70.1012708342776, 70.02293630497513, 70.00745258193678, 70.1051978743326, 70.07107354646887, 70.06606757471494, 69.95873304163729, 70.06229165622034, 70.02733563298848, 69.95156598752271, 69.84018910414017, 69.82685100346765, 69.73186637314936, 69.69216445827777, 69.6693508581931, 69.64735576535811, 69.71574848025229, 69.66131743946619, 69.6427920909004, 69.69363833860854, 69.63651431557798, 69.62350465097414, 69.60059800791298, 69.55054700736967, 69.57270665176205, 69.64190636276696, 69.67011909942461, 69.6645208054498, 69.65213860507765, 69.7189177916877, 69.76527015152686, 69.69823901790771, 69.6263754330311, 69.58994900568555, 69.47471928462828, 69.58340675310308, 69.48390068576637, 69.56113342984005, 69.59142027819817, 69.5834965129089, 69.55064928555817, 69.48600856423631, 69.49932595846366, 69.57389008522186, 69.49394066655319, 69.43271114582497, 69.40520507107122, 69.43424956270094, 69.39682538555648, 69.29789750318403, 69.27285895513906, 69.27922604740763, 69.23578305525928, 69.22476207570202, 69.20796348025476, 69.27538372150937, 69.32850817733383, 69.37789554873056, 69.37396643460514, 69.23377557632311, 69.25974609459122, 69.26850750711888, 69.20089901939413, 69.12568937827814, 69.10379561053921, 69.13223324699774, 69.09569522646746, 69.12707749644855, 69.09918626269857, 69.06892204919858, 68.96788431299584, 68.96905117276981, 68.91660402913995, 68.81698728539611, 68.75965084185097, 68.72925114956244, 68.74034262977862, 68.71677162307334, 68.82080499053411, 68.86774625615568, 68.91722445825854, 68.83247878999167, 68.8122493419248, 68.89636330642833, 68.90181314271292, 68.9161767404499, 68.79038094380725, 68.79147672062547, 68.80984602505606, 68.71158860954999, 68.7243227419478, 68.67450014409492, 68.74731338650713, 68.75924247602065, 68.76477316519494, 68.7346103159919, 68.81750547077739, 68.82715373182927, 68.80380871168465, 68.81882301392315, 68.8322228891176, 68.86878185153236, 68.84833234494162, 68.8673995146716, 68.94935294552738, 69.01248015356326, 68.99378827635164, 68.94162016774065, 68.89858099668493, 68.9762292092694, 68.9737804176908, 68.99048568066578, 68.96596396721064, 68.89926630169548, 68.84322793185189, 68.88258509208869, 68.92311829418672, 68.9140263597945, 68.92740660605415, 68.94163233234345, 68.9418534271507, 68.9201420787511, 68.88395898181999, 68.93392615889482, 68.91123827679651, 68.95951347086853, 68.99136992045632, 69.05264530591485, 69.06931987511727, 69.07243820029622, 69.07629817360129, 69.16267668891223, 69.17816359709279, 69.08297256801819, 69.13823444514222, 69.14926699678024, 69.23324246231076, 69.23954445714502, 69.29436567012662, 69.21151766079272, 69.11146112683907, 69.21104150141703, 69.1846661660053, 69.30731167203912, 69.24310830323809, 69.19322737411538, 69.07242295045965, 68.98326388249043, 68.94360268333222, 69.0157681484836, 68.95407170809018, 68.90185250607749, 68.94462558941632, 68.81165666246972, 68.84393175392854, 68.79883434655439, 68.83661721438301, 68.81199060878431, 68.76350435649204, 68.87951317060498, 68.93239208923784, 68.96577965753333, 68.97475196393573, 68.94803484897841, 68.94359590325668, 68.87939208652065, 68.84929435835159, 68.94868676463021, 68.94195345326568, 68.94984686263147, 68.81298523767082, 68.86399862148801, 68.81561417663512, 68.85952146308615, 68.80451077363426, 68.79982193372597, 68.80692495888694, 68.84839205250196, 68.86361524558015, 68.88474002663477, 68.97740786602147, 68.87996329159485, 68.84556596342895, 68.88986329682879, 68.92678087159192, 68.91984121939369, 68.92702031346187, 69.00056009242051, 69.02899396306213, 69.01018397669655, 68.89497692829148, 68.89460290635306, 68.92222590825891, 68.8659412173695, 68.80699685327637, 68.77189858001016, 68.76317397102272, 68.6955453529716, 68.62051008749832, 68.62032376088462, 68.58921245739648, 68.54628593428338, 68.57314990567879, 68.68090994460931, 68.66532252906944, 68.59111049576849, 68.56541499477554, 68.59032714486979, 68.61409587127707, 68.57169743997848, 68.59377393951198, 68.53909826426867, 68.57981565112073, 68.59824792359842, 68.58583029151863, 68.5975673319263, 68.55822828821, 68.63718091552145, 68.55375608443241, 68.60614911201934, 68.66473273054294, 68.66296557112025, 68.64537123719876, 68.60840689823661, 68.69002549070782, 68.73356604166783, 68.74327520647057, 68.70691529768997, 68.69050825355949, 68.71868219396819, 68.84350006207654, 68.83338943598697, 68.77395158568699, 68.80158174996662, 68.83490378913736, 68.86865875302503, 68.94604635766167, 69.01989472081769, 69.03614324073604, 68.9653843248526, 68.96464525441655, 68.88846182073848, 68.81869151202628, 68.92186872432076, 68.97829841901373, 68.9813620577486, 68.98962815425666, 68.99506443341359, 68.92929639489341, 68.97903334142349, 68.91856501179682, 68.90420915482478, 68.96564564886637, 68.98225059529811, 69.00902207569817, 68.85380608257256, 68.78433955947884, 68.76645057570275, 68.71564855970222, 68.76924477119816, 68.71518839309192, 68.68557406930762, 68.67253193533803, 68.69501468251097, 68.59094582540577, 68.5790263894096, 68.6209877139432, 68.5521026659608, 68.53739629921077, 68.49140117670036, 68.47812874686558, 68.49322127369199, 68.50308097339376, 68.5833571939245, 68.55772945544767, 68.60743017567172, 68.52200980422666, 68.5369065210438, 68.49817743678454, 68.5390864906949, 68.50950962068858, 68.43448900799677, 68.46276669929493, 68.36090342494255, 68.34853951894135, 68.38789325689062, 68.42939423807603, 68.48270692976578, 68.55742897016671, 68.56704868197261, 68.61719317101411, 68.66805639681957, 68.73100549318448, 68.7525909917778, 68.78645275545108, 68.769692982988, 68.83915533119264, 68.86370128285596, 68.90070087915058, 68.85388946680003, 68.86967158319291, 68.82777546499385, 68.80767297433864, 68.78586231766646, 68.63341977866129, 68.69735544926252, 68.67982092965254, 68.71051596972706, 68.633949301784, 68.69095784124242, 68.60061457745401, 68.65043478450333, 68.66419200473437, 68.65738293836904, 68.68272464511742, 68.67345076187559, 68.67171160575798, 68.59906267059311, 68.48223364352133, 68.5270608323259, 68.60017405316293, 68.64732111176895, 68.6495050127026, 68.59361552935728, 68.58869482331698, 68.5944837110319, 68.56778154343498, 68.54600665791219, 68.59079604214246, 68.65656170490153, 68.63934432642775, 68.58814944363519, 68.61273018410462, 68.62974446101235, 68.6343734652608, 68.63408327129984, 68.73255275361483, 68.75122470135727, 68.64760801204694, 68.66917185602665, 68.64422711630112, 68.60743819968867, 68.69400792065463, 68.68951317485639, 68.64500199637135, 68.6022672522085, 68.55714486078097, 68.54289320759894, 68.55335198599198, 68.6136135167257, 68.62964875695855, 68.58424971568562, 68.68467749702677, 68.65009201096235, 68.64788562120458, 68.6607108468616, 68.64879788936162, 68.54502492803365, 68.53836734085594, 68.54179016931394, 68.58801389258169, 68.60090421515406, 68.5786324571232, 68.5496960231003, 68.53011807527028, 68.56773138562382, 68.63191885062275, 68.62450114275131, 68.56607980829513, 68.53291514393126, 68.50939618118987, 68.49355032005249, 68.44338819877599, 68.47418580259054, 68.45981444072503, 68.44712504273394, 68.34724651960094, 68.4276527953119, 68.49396024299482, 68.46787619977412, 68.50537575798045, 68.60074887303065, 68.68426821321967, 68.69628955083512, 68.74618580506711, 68.71169570175006, 68.74632185643341, 68.66770790144325, 68.73816920348631, 68.71758862176068, 68.67712459928514, 68.68602081129099, 68.61828552482913, 68.538670617813, 68.45246238451986, 68.49871402835238, 68.40415250272146, 68.48073256057937, 68.48314503942139, 68.47946604667366, 68.60768131397607, 68.60008444020893, 68.61958071995994, 68.57060272253355, 68.62532002446727, 68.70285747708185, 68.78819170971305, 68.90700840421462, 68.8400966373585, 68.82947524766927, 68.80367196103364, 68.76321915094465, 68.64092716940006, 68.5160376144577, 68.56515635625838, 68.65049759016712, 68.6871973919509, 68.73624815601103, 68.77864011141264, 68.75344903433728, 68.80418046980213, 68.8452369534903, 68.91907902876943, 68.81109128600808, 68.82572749320784, 68.85107861425139, 68.91945699883358, 68.94773084728361, 68.96727201596367, 68.96783416179346, 68.94706763063694, 69.00599126250175, 68.997452910425, 69.00878578577131, 69.06090531277621, 69.11643568341452, 69.05454082770055, 69.04455193909399, 69.06169387165154, 69.03435898164666, 69.02429721296477, 69.04995672468695, 69.0746925820224, 69.11101331220215, 69.07812190074829, 69.07144134913874, 69.20060050631893, 69.31207424359127, 69.35839083884429, 69.39997471619562, 69.31991620815201, 69.237163397427, 69.1275041242905, 69.22050032798379, 69.20078844199642, 69.16353844050946, 69.09339512138521, 69.07795204319316, 69.09890146367191, 69.146365560379, 69.11249484657048, 69.083030378886, 69.06032641499029, 68.99872821045152, 68.99160691689532, 68.99406036104871, 69.15457504799875, 69.16986811697598, 69.20700053730273, 69.32183758021911, 69.29011644268229, 69.36382956144263, 69.39866850995804, 69.41126006107537, 69.43316901548356, 69.53365210864582, 69.57639378623479, 69.53750975035202, 69.59772943564215, 69.63240262155357, 69.6762382340458, 69.78464359828192, 69.79384141472491, 69.79231104376352, 69.77969682147263, 69.76129583138315, 69.80392294487574, 69.83229318488426, 69.90996169595248, 69.86826157865804, 69.96083264686527, 69.90474185448056, 69.8943771408367, 69.92821229630516, 69.95381787183604, 70.01488946011179, 70.1326536354076, 70.22607469178132, 70.21911127229096, 70.22863095647944, 70.14311759151629, 70.11271126028672, 70.06144827579585, 70.18620814384514, 70.23285911507088, 70.22616923674482, 70.19521792796648, 70.08880992561663, 70.13068853565252, 69.99087842618658, 69.94666802505466, 69.9118689439531, 69.92101210026924, 69.85969048036853, 69.83541074553597, 69.7854352153732, 69.78521675451144, 69.76471184961105, 69.8892089144545, 69.93095886189644, 69.94033093178889, 69.89483518602914, 69.91498798178446, 69.89763439689135, 69.94163075224087, 69.98083381039649, 69.95626941817137, 69.90007871514918, 70.04047060555314, 70.02445553665454, 69.98134725000162, 69.96634267830231, 69.93852340254588, 69.93393305417335, 69.91977310206532, 69.93559258777243, 70.00601513331473, 70.0107164579347, 70.14328910151754, 70.13475157703841, 70.11431829642397, 70.09606800694024, 70.00068148737245, 69.84264862969505, 69.78811169668579, 69.86906637662624, 69.9024156376457, 69.94669241208649, 69.9289181233164, 69.87918421615578, 69.90579997934626, 69.92222313574311, 69.768978590366, 69.6927102488478, 69.78036503546181, 69.77470453302352, 69.73618565808333, 69.75046180302836, 69.70908765373761, 69.66797736838295, 69.72004788835545, 69.66324922531106, 69.69854815960507, 69.6857402788368, 69.71826917099114, 69.68734762518771, 69.69900491128914, 69.71094244593878, 69.71362953848006, 69.77606973815341, 69.85129663791321, 69.80186330418019, 69.8066017465569, 69.86850467921172, 69.87942123509067, 69.88684809170006, 69.88552164077836, 69.9728850296399, 69.96905991458966, 70.02844830635105, 70.04251422082596, 70.0848513191715, 70.17036854657485, 70.1371573126649, 70.21056753553923, 70.20837414800928, 70.25454261308543, 70.04571625921488, 70.12281274947001, 70.13568078016016, 70.0840772964886, 70.08581210655858, 70.0931682403786, 70.16186952044698, 70.16741997123776, 70.17917131936397, 70.2721663216266, 70.19975176528064, 70.16641620192847, 70.10396663020866, 70.12683558164171, 70.18807634128228, 70.18040575905695, 70.04200471415572, 69.97282909557873, 69.93876005897064, 69.86183945618005, 69.86810427570306, 69.84872101223321, 69.92222406903925, 69.94665402067345, 69.98031449201217, 69.9968419844524, 69.93630793574259, 69.93806425906979, 69.88307130675622, 69.90616271864515, 69.92281865500722, 69.88829720310899, 69.78982945655967, 69.71971807312896, 69.67705583288623, 69.62815882445344, 69.59590169102405, 69.57238756785833, 69.61272464117583, 69.5640964262774, 69.64727471699642, 69.58447285408907, 69.53324218060568, 69.58142406954826, 69.60844370060109, 69.62499407786738, 69.62889557111001, 69.69798104007432, 69.61699720970238, 69.51637426780734, 69.52369756582675, 69.62084926938563, 69.60641562270062, 69.75555640902616, 69.74403836121175, 69.79365363214889, 69.81140651321675, 69.85350077992379, 69.86165265999483, 69.87443294373759, 69.86848134713307, 69.9256103028649, 69.9233810304356, 69.94089679463328, 69.9417078520219, 69.90982012885787, 69.88622594234111, 69.92272497970235, 69.89131382787431, 69.88329321771369, 69.94171903356347, 69.96628564290482, 70.00775875607583, 69.93827314936075, 69.99079458198358, 70.00114494471487, 70.01814884559825, 70.02516574867775, 69.95000202109684, 69.96033027844342, 69.93034573572334, 69.97385777980897, 70.08473285962201, 70.07290627207166, 70.09346506844395, 69.97292881521699, 70.00658230934614, 69.9024569035932, 69.86374686132888, 69.8735375946571, 69.91204574867861, 69.97263914383679, 69.99700982072437, 70.03019152320255, 70.04159532327324, 70.04243801111005, 69.90443553883077, 69.93347313099414, 69.84142532744086, 69.95110123308265, 70.1057162170916, 70.04746628643579, 70.0461007139388, 70.14142446400787, 69.99634223391023, 69.9665717164263, 69.91456586348052, 69.87139881070506, 69.80388651031173, 69.80661594950287, 69.74308472605497, 69.75617504828854, 69.75216538219158, 69.79473509505745, 69.82043401113988, 69.79070797295681, 69.67776465600167, 69.7461140408779, 69.71833649800297, 69.75280661196844, 69.74070293822616, 69.72766018415146, 69.82033666734368, 69.84883945925219, 69.78815450959479, 69.80490878501757, 69.72789267868126, 69.87972083816507, 69.93539156796056, 69.93319534054481, 69.90382881031096, 69.92948076355235, 69.89790849608939, 69.9693732062478, 69.87549292892255, 69.83612012786097, 69.9287502809554, 69.98555251646076, 69.92458449654289, 70.01441831667168, 70.01290849909974, 70.01848393726101, 70.08952502882016, 70.05142415555329, 70.07574593417968, 70.07448918823397, 70.05603412789755, 70.11873381010086, 70.11503309253354, 70.00658469161444, 69.96591320935102, 70.16195293502197, 70.18996268672552, 70.19710188946853, 70.3274533974339, 70.361598859203, 70.37884999530927, 70.41889354250978, 70.37961562746203, 70.45043519380357, 70.33827671392756, 70.3429962879924, 70.27405641386999, 70.2282262259584, 70.10159770128583, 70.01010188743291, 70.05732379686117, 69.97844144319863, 70.02696830581598, 69.98037485973592, 69.75397099579048, 69.82072786489101, 69.78591416895888, 69.85435176018069, 69.7297585063308, 69.85412163352655, 69.89900853541023, 69.7805305635062, 69.67901487332549, 69.67038484140492, 69.72431593491544, 69.75731320619438, 69.784606298169, 69.75594231845709, 69.85619153352623, 69.8974187287918, 69.88935569395716, 69.87668778915736, 69.76136797791993, 69.91327054635471, 69.93460302183506, 70.0178427975246, 70.0284008421125, 70.17042581144673, 70.16310067426399, 70.16601142747625, 70.22166026310668, 70.19023350638466, 70.14803999003173, 70.03637422269652, 70.07778029447991, 70.0289336412287, 70.08369191772732, 70.07813069621474, 70.05819444571037, 69.98447980449038, 70.0165682256031, 70.05185204687805, 70.00985897958034, 69.9225698780208, 69.90676344904688, 69.85805974580819, 69.93464512016854, 70.02673910757521, 70.04202826573722, 70.00161886406597, 69.98742933711705, 69.93339049075963, 69.91209719753188, 69.89250632790805, 69.88480549305005, 69.9233085581979, 69.90728183562123, 69.89577711435254, 69.80856532422546, 69.85536676894142, 69.93530215839128, 69.90831257153225, 69.97682865973682, 69.9282471958502, 69.93180348665403, 69.88280991124603, 69.90441045829526, 69.95221134262998, 70.00896193244083, 70.031458472366, 70.04689628120828, 70.15714608882148, 70.1268658640858, 70.00052046362181, 69.97661173157229, 69.97857411976474, 69.91948655636565, 69.90584464624564, 69.95376177708877, 69.98685100176438, 70.12113438997349, 70.09946419328118, 70.12336916543379, 70.16688310926531, 70.09141943097805, 70.07111944410859, 70.13881023331388, 70.06627617465112, 70.02881639212346, 69.96819069273285, 69.98363098311135, 70.0666358441269, 70.03271979221878, 70.08657682526078, 70.05224366360115, 70.14558981669637, 70.24314078389438, 70.20669999998606, 70.20919095395497, 70.15593385090071, 70.16277303523604, 70.27678327004799, 70.23146957326122, 70.2358416382009, 70.2759274050476, 70.17684793064878, 70.05114720862423, 70.00406603799874, 70.0015190848698, 69.98177218558759, 70.0133807826247, 69.99805951616058, 69.92314483271956, 69.93707249222743, 70.04781588733766, 69.91979487633567, 69.931379646136, 69.84863136042473, 69.91818832752448, 69.93290172609069, 69.90012639639782, 69.88673728912275, 69.72395312611918, 69.79403942620185, 69.72500307671238, 69.71853342639302, 69.72216652114098, 69.68999199895761, 69.69619918813025, 69.73761254500347, 69.71772955217612, 69.67616485260912, 69.64951500888891, 69.55911015023565, 69.6561022603806, 69.55276815602826, 69.58190295985058, 69.50098364824903, 69.58971908895123, 69.57437344621152, 69.52386382289569, 69.52777699513818, 69.38913959453903, 69.36024280540592, 69.36383099828248, 69.36431523049926, 69.45750762251792, 69.40486941733933, 69.46825372152348, 69.44931279208026, 69.39826160800162, 69.4043969401134, 69.36482345476094, 69.4138523275513, 69.3329254705208, 69.31002255431555, 69.40959961318005, 69.41416880047977, 69.38007296361509, 69.42072647771818, 69.39032012228813, 69.3771971277975, 69.3589063340834, 69.30802995644585, 69.3828759405391, 69.36622314931766, 69.24654069573424, 69.09524275442698, 69.05685847414924, 69.08934004473362, 69.07454586228579, 69.10394936891136, 69.19557495803494, 69.15421458086557, 69.08744432674033, 69.11655032785093, 69.07876378650671, 69.11880891384477, 69.18317978202911, 69.22025326619318, 69.34717195638491, 69.24469486299778, 69.27170197826302, 69.29219075181213, 69.33473400810519, 69.3433542248242, 69.42212180093011, 69.40276610447575, 69.42830800566547, 69.43987694242155, 69.4815564571607, 69.44484733422563, 69.37348276302866, 69.3630282325784, 69.4192309240972, 69.61527069185031, 69.67434672338005, 69.67097314087714, 69.56236231591464, 69.57981324977827, 69.57147579857742, 69.5452970757301, 69.48941868400146, 69.48964352755998, 69.55656546515407, 69.5064809317047, 69.55193647578206, 69.63612717725634, 69.68066189559515, 69.69529284816495, 69.72471186312542, 69.71904033854528, 69.65952979656169, 69.6615880727286, 69.72095568572675, 69.57397099570392, 69.64541718657071, 69.65482004860903, 69.78765989002294, 69.83341564581269, 69.72478922400033, 69.73375884833887, 69.80339080444926, 69.7688747957984, 69.77972805479564, 69.76066694335609, 69.80205053583464, 69.89735499378419, 69.85392093214828, 69.89464175180763, 69.92454076996808, 69.96457698546358, 70.06238311488403, 70.09213515993703, 70.15428194157892, 70.10571978433389, 70.1238700352387, 70.05622098535983, 70.06300495439127, 70.08456604463201, 70.12289301319808, 70.15288545774581, 70.1834643823249, 70.15605172372526, 70.19439383748279, 70.1876213985957, 70.25620291609616, 70.20590429858376, 70.28307751922793, 70.39599503830483, 70.41354324833887, 70.46777575523926, 70.4423724805835, 70.4646784510011, 70.4841383484741, 70.47464743204377, 70.43246687203951, 70.49232130846346, 70.33821882839828, 70.40191525849633, 70.47090398366721, 70.40697728903571, 70.39967485751146, 70.35873156521897, 70.38401159171801, 70.47414927965654, 70.44738620023249, 70.36398685045776, 70.25357181268464, 70.24219325691578, 70.26970210759536, 70.28990172721831, 70.39940995994205, 70.4053191788111, 70.4369901383525, 70.37738020165523, 70.40444696520561, 70.41771784726797, 70.46597577015335, 70.44088796400321, 70.4415097459985, 70.38493814550671, 70.45352299596868, 70.48025834676874, 70.47399057545569, 70.36926407301969, 70.38111351899478, 70.39094870317221, 70.29431427288814, 70.23542406573404, 70.19345815352274, 70.24317496228755, 70.11968001679772, 70.0046687451226, 70.01526641967868, 69.94925137285014, 70.03034181771872, 69.993553499288, 69.95333990408177, 70.00182320996672, 70.12811495110412, 70.20179959390117, 70.20517639945261, 70.19671960358122, 70.19757653067397, 70.27525979665906, 70.28094482348021, 70.3326802801813, 70.37022705890081, 70.31635264371964, 70.2452645150566, 70.30524209691035, 70.37704704390418, 70.37361273519001, 70.2821466390304, 70.22030424832093, 70.30808527786944, 70.33195471013919, 70.41099283066188, 70.45609888231768, 70.33943662508396, 70.43188249169421, 70.51048744086374, 70.51206017705692, 70.51773366281401, 70.52400430502479, 70.52488298094545, 70.57624544697329, 70.60955687295667, 70.56353135082003, 70.4731580004813, 70.45326938444585, 70.40155795176918, 70.43510509424256, 70.36146851166438, 70.33712883957452, 70.39962482521204]\n",
            "proposal_width_omega_m 0.0005739440506826528\n",
            "proposal_width_h 0.05739440506826533\n"
          ]
        }
      ]
    },
    {
      "cell_type": "markdown",
      "metadata": {
        "id": "Nk_mc9t9hpX4"
      },
      "source": [
        "###Exercise 7: Experiment with Variations\n",
        "Goal: Explore how parameter variations affect cosmic dynamics.\n",
        "\n",
        "Create a function that allows the user to input values for key cosmological parameters:\n",
        "Matter density (\n",
        "Ω\n",
        "𝑚\n",
        "Ω\n",
        "m\n",
        "​\n",
        " ).\n",
        "Dark energy density (\n",
        "Ω\n",
        "Λ\n",
        "Ω\n",
        "Λ\n",
        "​\n",
        " ).\n",
        "Hubble constant (\n",
        "ℎ\n",
        "h).\n",
        "Compute and plot the comoving and proper distances for the user's custom model.\n",
        "Compare the user's model against the standard models."
      ]
    },
    {
      "cell_type": "code",
      "source": [
        "# prompt: Goal: Explore how parameter variations affect cosmic dynamics.\n",
        "# Create a function that allows the user to input values for key cosmological parameters: Matter density ( Ω 𝑚 Ω m​). Dark energy density ( Ω Λ Ω Λ​). Hubble constant ( ℎ h). Compute and plot the comoving and proper distances for the user's custom model. Compare the user's model against the standard models\n",
        "\n",
        "def custom_cosmological_model(omega_m, omega_lambda, h):\n",
        "    \"\"\"\n",
        "    Computes and plots comoving and proper distances for a custom cosmological model.\n",
        "\n",
        "    Args:\n",
        "        omega_m: Matter density parameter.\n",
        "        omega_lambda: Dark energy density parameter.\n",
        "        h: Hubble constant.\n",
        "    \"\"\"\n",
        "\n",
        "    zarr = np.linspace(0, 2, 100)  # Redshift values\n",
        "\n",
        "    # Create a LambdaCDM object for the custom model\n",
        "    custom_cosmo = ac.LambdaCDM(H0=h, Om0=omega_m, Ode0=omega_lambda)\n",
        "\n",
        "    # Calculate comoving and proper distances\n",
        "    comoving_distances_custom = custom_cosmo.comoving_distance(zarr)\n",
        "    proper_distances_custom = comoving_distances_custom / (1 + zarr)\n",
        "\n",
        "\n",
        "    # Plotting\n",
        "    plt.figure(figsize=(12, 6))\n",
        "\n",
        "    plt.subplot(1, 2, 1)\n",
        "    plt.plot(zarr, comoving_distances_custom, label='Custom Model')\n",
        "    # Add your standard model plots here for comparison\n",
        "    # Example:\n",
        "    # for model_name in models:\n",
        "    #     params = define_cosmological_parameters(model_name)\n",
        "    #     if params:\n",
        "    #         cosmo = ac.LambdaCDM(H0=params[\"H0\"], Om0=params[\"omega_m\"], Ode0=params[\"omega_lambda\"])\n",
        "    #         comoving_distances = cosmo.comoving_distance(zarr)\n",
        "    #         plt.plot(zarr, comoving_distances, label=model_name)\n",
        "    plt.title('Comoving Distances vs. Redshift', fontsize=12)\n",
        "    plt.xlabel('Redshift (z)', fontsize=10)\n",
        "    plt.ylabel('Comoving Distances (Mpc)', fontsize=10)\n",
        "    plt.legend(fontsize=8)\n",
        "\n",
        "\n",
        "    plt.subplot(1, 2, 2)\n",
        "    plt.plot(zarr, proper_distances_custom, label='Custom Model')\n",
        "    # Add your standard model plots here for comparison\n",
        "    plt.title('Proper Distances vs. Redshift', fontsize=12)\n",
        "    plt.xlabel('Redshift (z)', fontsize=10)\n",
        "    plt.ylabel('Proper Distances (Mpc)', fontsize=10)\n",
        "    plt.legend(fontsize=8)\n",
        "\n",
        "    plt.subplots_adjust(wspace=0.4, hspace=0.3)\n",
        "    plt.tight_layout()\n",
        "    plt.show()\n",
        "\n",
        "\n",
        "# Get user input\n",
        "omega_m = float(input(\"Enter the matter density parameter (Ω_m): \"))\n",
        "omega_lambda = float(input(\"Enter the dark energy density parameter (Ω_Λ): \"))\n",
        "h = float(input(\"Enter the Hubble constant (h): \"))\n",
        "\n",
        "\n",
        "custom_cosmological_model(omega_m, omega_lambda, h)\n"
      ],
      "metadata": {
        "id": "VpeAFqD_xbJJ"
      },
      "execution_count": null,
      "outputs": []
    },
    {
      "source": [
        "def custom_model(omega_m, omega_lambda, h):\n",
        "  \"\"\"Computes and plots the comoving and proper distances for a cosmological model that the user makes/inputs\n",
        "     Args:\n",
        "        omega_m: Matter density parameter.\n",
        "        omega_lambda: Dark energy density parameter.\n",
        "        h: Hubble constant.\n",
        "        \"\"\"\n",
        "  #I chose redshift values that mimic real life cosmology, and did 100 bc 100%\n",
        "  zarr = np.linspace(0, 13, 100) # Fixed: Removed unexpected indent\n",
        "\n",
        "  cosmo_custom = ac.LambdaCDM(H0=h, Om0=omega_m, Ode0=omega_lambda)\n",
        "  comoving_distances_custom = cosmo_custom.comoving_distances(zarr)\n",
        "  proper_distances_custom = comoving_distances / (1+zarr)\n",
        "  #Plancks model is considered the most accurate and comprehensive current model of the universe\n",
        "  ##there are baryon acoustic oscillations, which are regular patterns in the distribution of galaxies\n",
        "  #the planck18 model serves as a comparison model to see how well a new model fits within our current cosmological understanding\n",
        "  cosmo_planck = ac.Planck18()\n",
        "  comoving_distances_planck = cosmo_planck.comoving_distance(zarr)\n",
        "  proper_distances_plancks = comoving_distances_planck / (1+zarr)\n",
        "\n",
        "  plt.figure(figsize=(12, 6))\n",
        "\n",
        "  plt.subplot(1, 2, 1)\n",
        "  plt.plot(zarr, comoving_distances_custom, label=\"Custom Model\")\n",
        "  plt.plot(zarr, comoving_distances_planck, label=\"Planck18\")\n",
        "  plt.xlabel(\"Redshift (z)\")\n",
        "  plt.ylabel(\"Comoving Distances (Mpc)\")\n",
        "  plt.title(\"Comoving Distances vs. Redshift\")\n",
        "  plt.legend()\n",
        "\n",
        "  plt.subplot(1, 2, 2)\n",
        "  plt.plot(zarr, proper_distances_custom, label=\"Custom Model\")\n",
        "  plt.plot(zarr, proper_distances_plancks, label=\"Planck18\")\n",
        "  plt.xlabel(\"Redshift (z)\")\n",
        "  plt.ylabel(\"Proper Distances (Mpc)\")\n",
        "  plt.title(\"Proper Distances vs Redshift\")\n",
        "  plt.legend()\n",
        "\n",
        "  plt.tight_layout()\n",
        "  plt.show()\n",
        "\n",
        "  # Get user input\n",
        "omega_m = float(input(\"Enter the matter density parameter (Ω_m): \"))\n",
        "omega_lambda = float(input(\"Enter the dark energy density parameter (Ω_Λ): \"))\n",
        "h = float(input(\"Enter the Hubble constant (h): \"))\n",
        "\n",
        "\n",
        "custom_cosmological_model(omega_m, omega_lambda, h)"
      ],
      "cell_type": "code",
      "metadata": {
        "colab": {
          "base_uri": "https://localhost:8080/",
          "height": 228
        },
        "id": "rf2k8JzWxKRq",
        "outputId": "749724a1-58a2-4f5e-ac77-5a94fff5df0a"
      },
      "execution_count": null,
      "outputs": [
        {
          "name": "stdout",
          "output_type": "stream",
          "text": [
            "Enter the matter density parameter (Ω_m): 0.6\n",
            "Enter the dark energy density parameter (Ω_Λ): 0.2\n",
            "Enter the Hubble constant (h): 69.5\n"
          ]
        },
        {
          "output_type": "error",
          "ename": "NameError",
          "evalue": "name 'custom_cosmological_model' is not defined",
          "traceback": [
            "\u001b[0;31m---------------------------------------------------------------------------\u001b[0m",
            "\u001b[0;31mNameError\u001b[0m                                 Traceback (most recent call last)",
            "\u001b[0;32m<ipython-input-18-012cb0d717c0>\u001b[0m in \u001b[0;36m<cell line: 0>\u001b[0;34m()\u001b[0m\n\u001b[1;32m     46\u001b[0m \u001b[0;34m\u001b[0m\u001b[0m\n\u001b[1;32m     47\u001b[0m \u001b[0;34m\u001b[0m\u001b[0m\n\u001b[0;32m---> 48\u001b[0;31m \u001b[0mcustom_cosmological_model\u001b[0m\u001b[0;34m(\u001b[0m\u001b[0momega_m\u001b[0m\u001b[0;34m,\u001b[0m \u001b[0momega_lambda\u001b[0m\u001b[0;34m,\u001b[0m \u001b[0mh\u001b[0m\u001b[0;34m)\u001b[0m\u001b[0;34m\u001b[0m\u001b[0;34m\u001b[0m\u001b[0m\n\u001b[0m",
            "\u001b[0;31mNameError\u001b[0m: name 'custom_cosmological_model' is not defined"
          ]
        }
      ]
    },
    {
      "source": [
        "import numpy as np\n",
        "import astropy.cosmology as ac\n",
        "import matplotlib.pyplot as plt\n",
        "\n",
        "def custom_model(omega_m, omega_lambda, h):\n",
        "    \"\"\"\n",
        "    Computes and plots the comoving and proper distances for a cosmological model that the user makes/inputs\n",
        "    Args:\n",
        "        omega_m: Matter density parameter.\n",
        "        omega_lambda: Dark energy density parameter.\n",
        "        h: Hubble constant.\n",
        "    \"\"\"\n",
        "    zarr = np.linspace(0, 13, 100)  # Fixed: Removed unexpected indent\n",
        "\n",
        "    cosmo_custom = ac.LambdaCDM(H0=h, Om0=omega_m, Ode0=omega_lambda)\n",
        "    comoving_distances_custom = cosmo_custom.comoving_distance(zarr)  # Correct method name\n",
        "    proper_distances_custom = comoving_distances_custom / (1 + zarr)\n",
        "\n",
        "    # Plancks model is considered the most accurate and comprehensive current model of the universe\n",
        "    # There are baryon acoustic oscillations, which are regular patterns in the distribution of galaxies\n",
        "    # The planck18 model serves as a comparison model to see how well a new model fits within our current cosmological understanding\n",
        "    cosmo_planck = ac.Planck18()\n",
        "    comoving_distances_planck = cosmo_planck.comoving_distance(zarr)\n",
        "    proper_distances_plancks = comoving_distances_planck / (1 + zarr)\n",
        "\n",
        "    plt.figure(figsize=(12, 6))\n",
        "\n",
        "    plt.subplot(1, 2, 1)\n",
        "    plt.plot(zarr, comoving_distances_custom, label=\"Custom Model\")\n",
        "    plt.plot(zarr, comoving_distances_planck, label=\"Planck18\")\n",
        "    plt.xlabel(\"Redshift (z)\")\n",
        "    plt.ylabel(\"Comoving Distances (Mpc)\")\n",
        "    plt.title(\"Comoving Distances vs. Redshift\")\n",
        "    plt.legend()\n",
        "\n",
        "    plt.subplot(1, 2, 2)\n",
        "    plt.plot(zarr, proper_distances_custom, label=\"Custom Model\")\n",
        "    plt.plot(zarr, proper_distances_plancks, label=\"Planck18\")\n",
        "    plt.xlabel(\"Redshift (z)\")\n",
        "    plt.ylabel(\"Proper Distances (Mpc)\")\n",
        "    plt.title(\"Proper Distances vs Redshift\")\n",
        "    plt.legend()\n",
        "\n",
        "    plt.tight_layout()\n",
        "    plt.show()\n",
        "\n",
        "# Get user input\n",
        "omega_m = float(input(\"Enter the matter density parameter (Ω_m): \"))\n",
        "omega_lambda = float(input(\"Enter the dark energy density parameter (Ω_Λ): \"))\n",
        "h = float(input(\"Enter the Hubble constant (h): \"))\n",
        "\n",
        "# Call the 'custom_model' function (renamed from 'custom_cosmological_model')\n",
        "custom_model(omega_m, omega_lambda, h)  # Call the correct function name"
      ],
      "cell_type": "code",
      "metadata": {
        "colab": {
          "base_uri": "https://localhost:8080/",
          "height": 401
        },
        "id": "y6kAPa9N_pmt",
        "outputId": "03d27328-f4c1-4103-f302-8b53094c84d7"
      },
      "execution_count": null,
      "outputs": [
        {
          "name": "stdout",
          "output_type": "stream",
          "text": [
            "Enter the matter density parameter (Ω_m): 0.4\n",
            "Enter the dark energy density parameter (Ω_Λ): 0.2\n",
            "Enter the Hubble constant (h): 70\n"
          ]
        },
        {
          "output_type": "error",
          "ename": "TypeError",
          "evalue": "'FlatLambdaCDM' object is not callable",
          "traceback": [
            "\u001b[0;31m---------------------------------------------------------------------------\u001b[0m",
            "\u001b[0;31mTypeError\u001b[0m                                 Traceback (most recent call last)",
            "\u001b[0;32m<ipython-input-19-ffe87be9c323>\u001b[0m in \u001b[0;36m<cell line: 0>\u001b[0;34m()\u001b[0m\n\u001b[1;32m     51\u001b[0m \u001b[0;34m\u001b[0m\u001b[0m\n\u001b[1;32m     52\u001b[0m \u001b[0;31m# Call the 'custom_model' function (renamed from 'custom_cosmological_model')\u001b[0m\u001b[0;34m\u001b[0m\u001b[0;34m\u001b[0m\u001b[0m\n\u001b[0;32m---> 53\u001b[0;31m \u001b[0mcustom_model\u001b[0m\u001b[0;34m(\u001b[0m\u001b[0momega_m\u001b[0m\u001b[0;34m,\u001b[0m \u001b[0momega_lambda\u001b[0m\u001b[0;34m,\u001b[0m \u001b[0mh\u001b[0m\u001b[0;34m)\u001b[0m  \u001b[0;31m# Call the correct function name\u001b[0m\u001b[0;34m\u001b[0m\u001b[0;34m\u001b[0m\u001b[0m\n\u001b[0m",
            "\u001b[0;32m<ipython-input-19-ffe87be9c323>\u001b[0m in \u001b[0;36mcustom_model\u001b[0;34m(omega_m, omega_lambda, h)\u001b[0m\n\u001b[1;32m     20\u001b[0m     \u001b[0;31m# There are baryon acoustic oscillations, which are regular patterns in the distribution of galaxies\u001b[0m\u001b[0;34m\u001b[0m\u001b[0;34m\u001b[0m\u001b[0m\n\u001b[1;32m     21\u001b[0m     \u001b[0;31m# The planck18 model serves as a comparison model to see how well a new model fits within our current cosmological understanding\u001b[0m\u001b[0;34m\u001b[0m\u001b[0;34m\u001b[0m\u001b[0m\n\u001b[0;32m---> 22\u001b[0;31m     \u001b[0mcosmo_planck\u001b[0m \u001b[0;34m=\u001b[0m \u001b[0mac\u001b[0m\u001b[0;34m.\u001b[0m\u001b[0mPlanck18\u001b[0m\u001b[0;34m(\u001b[0m\u001b[0;34m)\u001b[0m\u001b[0;34m\u001b[0m\u001b[0;34m\u001b[0m\u001b[0m\n\u001b[0m\u001b[1;32m     23\u001b[0m     \u001b[0mcomoving_distances_planck\u001b[0m \u001b[0;34m=\u001b[0m \u001b[0mcosmo_planck\u001b[0m\u001b[0;34m.\u001b[0m\u001b[0mcomoving_distance\u001b[0m\u001b[0;34m(\u001b[0m\u001b[0mzarr\u001b[0m\u001b[0;34m)\u001b[0m\u001b[0;34m\u001b[0m\u001b[0;34m\u001b[0m\u001b[0m\n\u001b[1;32m     24\u001b[0m     \u001b[0mproper_distances_plancks\u001b[0m \u001b[0;34m=\u001b[0m \u001b[0mcomoving_distances_planck\u001b[0m \u001b[0;34m/\u001b[0m \u001b[0;34m(\u001b[0m\u001b[0;36m1\u001b[0m \u001b[0;34m+\u001b[0m \u001b[0mzarr\u001b[0m\u001b[0;34m)\u001b[0m\u001b[0;34m\u001b[0m\u001b[0;34m\u001b[0m\u001b[0m\n",
            "\u001b[0;31mTypeError\u001b[0m: 'FlatLambdaCDM' object is not callable"
          ]
        }
      ]
    },
    {
      "cell_type": "markdown",
      "metadata": {
        "id": "Nz0mpB_NiNe3"
      },
      "source": [
        "###Exercise 8: Automate Jupyter Workflows\n",
        "Goal: Build a user-friendly Jupyter Notebook for AstronomyCalc.\n",
        "\n",
        "Create a Jupyter Notebook that:\n",
        "Allows interactive parameter input (e.g., using widgets like ipywidgets).\n",
        "Dynamically computes and plots distances based on the input.\n",
        "Save the notebook as a template for future exercises.\n"
      ]
    },
    {
      "cell_type": "code",
      "execution_count": null,
      "metadata": {
        "id": "xfaTYJpYiR4q"
      },
      "outputs": [],
      "source": []
    },
    {
      "cell_type": "markdown",
      "metadata": {
        "id": "d4XzhcW9iSaa"
      },
      "source": [
        "###Bonus Challenges\n",
        "Cosmic Age Calculation: Extend the script to compute the age of the universe for different models.\n",
        "Galaxy Rotation Curves: Use the SPARC dataset to fit and plot galaxy rotation curves.\n",
        "Custom Algorithms: Implement a basic cosmological calculation (e.g., Hubble's Law) from scratch, then compare the results to those from AstronomyCalc.\n"
      ]
    },
    {
      "cell_type": "code",
      "execution_count": null,
      "metadata": {
        "id": "mow1_9cUii4p"
      },
      "outputs": [],
      "source": []
    },
    {
      "cell_type": "markdown",
      "source": [
        "#Matplotlib\n",
        "\n",
        "https://youtu.be/cTJBJH8hacc?si=Eo_cIGU-ozebzisy"
      ],
      "metadata": {
        "id": "GEYDEpHD3ID1"
      }
    }
  ],
  "metadata": {
    "colab": {
      "provenance": [],
      "mount_file_id": "1zbZc0687WHKTWISNBMXWsjJznbQ3i4De",
      "authorship_tag": "ABX9TyMvXx1RQdRIPT5Xt8/Sv4Ng",
      "include_colab_link": true
    },
    "kernelspec": {
      "display_name": "Python 3",
      "name": "python3"
    },
    "language_info": {
      "name": "python"
    }
  },
  "nbformat": 4,
  "nbformat_minor": 0
}